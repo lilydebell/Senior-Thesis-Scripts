{
 "cells": [
  {
   "cell_type": "code",
   "execution_count": 3,
   "id": "5d56b31d-7ab5-4714-bd57-9fff82b9e511",
   "metadata": {},
   "outputs": [
    {
     "data": {
      "text/html": [
       "<div class=\"bk-root\">\n",
       "        <a href=\"https://bokeh.org\" target=\"_blank\" class=\"bk-logo bk-logo-small bk-logo-notebook\"></a>\n",
       "        <span id=\"16395\">Loading BokehJS ...</span>\n",
       "    </div>\n"
      ]
     },
     "metadata": {},
     "output_type": "display_data"
    },
    {
     "data": {
      "application/javascript": [
       "(function(root) {\n",
       "  function now() {\n",
       "    return new Date();\n",
       "  }\n",
       "\n",
       "  const force = true;\n",
       "\n",
       "  if (typeof root._bokeh_onload_callbacks === \"undefined\" || force === true) {\n",
       "    root._bokeh_onload_callbacks = [];\n",
       "    root._bokeh_is_loading = undefined;\n",
       "  }\n",
       "\n",
       "const JS_MIME_TYPE = 'application/javascript';\n",
       "  const HTML_MIME_TYPE = 'text/html';\n",
       "  const EXEC_MIME_TYPE = 'application/vnd.bokehjs_exec.v0+json';\n",
       "  const CLASS_NAME = 'output_bokeh rendered_html';\n",
       "\n",
       "  /**\n",
       "   * Render data to the DOM node\n",
       "   */\n",
       "  function render(props, node) {\n",
       "    const script = document.createElement(\"script\");\n",
       "    node.appendChild(script);\n",
       "  }\n",
       "\n",
       "  /**\n",
       "   * Handle when an output is cleared or removed\n",
       "   */\n",
       "  function handleClearOutput(event, handle) {\n",
       "    const cell = handle.cell;\n",
       "\n",
       "    const id = cell.output_area._bokeh_element_id;\n",
       "    const server_id = cell.output_area._bokeh_server_id;\n",
       "    // Clean up Bokeh references\n",
       "    if (id != null && id in Bokeh.index) {\n",
       "      Bokeh.index[id].model.document.clear();\n",
       "      delete Bokeh.index[id];\n",
       "    }\n",
       "\n",
       "    if (server_id !== undefined) {\n",
       "      // Clean up Bokeh references\n",
       "      const cmd_clean = \"from bokeh.io.state import curstate; print(curstate().uuid_to_server['\" + server_id + \"'].get_sessions()[0].document.roots[0]._id)\";\n",
       "      cell.notebook.kernel.execute(cmd_clean, {\n",
       "        iopub: {\n",
       "          output: function(msg) {\n",
       "            const id = msg.content.text.trim();\n",
       "            if (id in Bokeh.index) {\n",
       "              Bokeh.index[id].model.document.clear();\n",
       "              delete Bokeh.index[id];\n",
       "            }\n",
       "          }\n",
       "        }\n",
       "      });\n",
       "      // Destroy server and session\n",
       "      const cmd_destroy = \"import bokeh.io.notebook as ion; ion.destroy_server('\" + server_id + \"')\";\n",
       "      cell.notebook.kernel.execute(cmd_destroy);\n",
       "    }\n",
       "  }\n",
       "\n",
       "  /**\n",
       "   * Handle when a new output is added\n",
       "   */\n",
       "  function handleAddOutput(event, handle) {\n",
       "    const output_area = handle.output_area;\n",
       "    const output = handle.output;\n",
       "\n",
       "    // limit handleAddOutput to display_data with EXEC_MIME_TYPE content only\n",
       "    if ((output.output_type != \"display_data\") || (!Object.prototype.hasOwnProperty.call(output.data, EXEC_MIME_TYPE))) {\n",
       "      return\n",
       "    }\n",
       "\n",
       "    const toinsert = output_area.element.find(\".\" + CLASS_NAME.split(' ')[0]);\n",
       "\n",
       "    if (output.metadata[EXEC_MIME_TYPE][\"id\"] !== undefined) {\n",
       "      toinsert[toinsert.length - 1].firstChild.textContent = output.data[JS_MIME_TYPE];\n",
       "      // store reference to embed id on output_area\n",
       "      output_area._bokeh_element_id = output.metadata[EXEC_MIME_TYPE][\"id\"];\n",
       "    }\n",
       "    if (output.metadata[EXEC_MIME_TYPE][\"server_id\"] !== undefined) {\n",
       "      const bk_div = document.createElement(\"div\");\n",
       "      bk_div.innerHTML = output.data[HTML_MIME_TYPE];\n",
       "      const script_attrs = bk_div.children[0].attributes;\n",
       "      for (let i = 0; i < script_attrs.length; i++) {\n",
       "        toinsert[toinsert.length - 1].firstChild.setAttribute(script_attrs[i].name, script_attrs[i].value);\n",
       "        toinsert[toinsert.length - 1].firstChild.textContent = bk_div.children[0].textContent\n",
       "      }\n",
       "      // store reference to server id on output_area\n",
       "      output_area._bokeh_server_id = output.metadata[EXEC_MIME_TYPE][\"server_id\"];\n",
       "    }\n",
       "  }\n",
       "\n",
       "  function register_renderer(events, OutputArea) {\n",
       "\n",
       "    function append_mime(data, metadata, element) {\n",
       "      // create a DOM node to render to\n",
       "      const toinsert = this.create_output_subarea(\n",
       "        metadata,\n",
       "        CLASS_NAME,\n",
       "        EXEC_MIME_TYPE\n",
       "      );\n",
       "      this.keyboard_manager.register_events(toinsert);\n",
       "      // Render to node\n",
       "      const props = {data: data, metadata: metadata[EXEC_MIME_TYPE]};\n",
       "      render(props, toinsert[toinsert.length - 1]);\n",
       "      element.append(toinsert);\n",
       "      return toinsert\n",
       "    }\n",
       "\n",
       "    /* Handle when an output is cleared or removed */\n",
       "    events.on('clear_output.CodeCell', handleClearOutput);\n",
       "    events.on('delete.Cell', handleClearOutput);\n",
       "\n",
       "    /* Handle when a new output is added */\n",
       "    events.on('output_added.OutputArea', handleAddOutput);\n",
       "\n",
       "    /**\n",
       "     * Register the mime type and append_mime function with output_area\n",
       "     */\n",
       "    OutputArea.prototype.register_mime_type(EXEC_MIME_TYPE, append_mime, {\n",
       "      /* Is output safe? */\n",
       "      safe: true,\n",
       "      /* Index of renderer in `output_area.display_order` */\n",
       "      index: 0\n",
       "    });\n",
       "  }\n",
       "\n",
       "  // register the mime type if in Jupyter Notebook environment and previously unregistered\n",
       "  if (root.Jupyter !== undefined) {\n",
       "    const events = require('base/js/events');\n",
       "    const OutputArea = require('notebook/js/outputarea').OutputArea;\n",
       "\n",
       "    if (OutputArea.prototype.mime_types().indexOf(EXEC_MIME_TYPE) == -1) {\n",
       "      register_renderer(events, OutputArea);\n",
       "    }\n",
       "  }\n",
       "  if (typeof (root._bokeh_timeout) === \"undefined\" || force === true) {\n",
       "    root._bokeh_timeout = Date.now() + 5000;\n",
       "    root._bokeh_failed_load = false;\n",
       "  }\n",
       "\n",
       "  const NB_LOAD_WARNING = {'data': {'text/html':\n",
       "     \"<div style='background-color: #fdd'>\\n\"+\n",
       "     \"<p>\\n\"+\n",
       "     \"BokehJS does not appear to have successfully loaded. If loading BokehJS from CDN, this \\n\"+\n",
       "     \"may be due to a slow or bad network connection. Possible fixes:\\n\"+\n",
       "     \"</p>\\n\"+\n",
       "     \"<ul>\\n\"+\n",
       "     \"<li>re-rerun `output_notebook()` to attempt to load from CDN again, or</li>\\n\"+\n",
       "     \"<li>use INLINE resources instead, as so:</li>\\n\"+\n",
       "     \"</ul>\\n\"+\n",
       "     \"<code>\\n\"+\n",
       "     \"from bokeh.resources import INLINE\\n\"+\n",
       "     \"output_notebook(resources=INLINE)\\n\"+\n",
       "     \"</code>\\n\"+\n",
       "     \"</div>\"}};\n",
       "\n",
       "  function display_loaded() {\n",
       "    const el = document.getElementById(\"16395\");\n",
       "    if (el != null) {\n",
       "      el.textContent = \"BokehJS is loading...\";\n",
       "    }\n",
       "    if (root.Bokeh !== undefined) {\n",
       "      if (el != null) {\n",
       "        el.textContent = \"BokehJS \" + root.Bokeh.version + \" successfully loaded.\";\n",
       "      }\n",
       "    } else if (Date.now() < root._bokeh_timeout) {\n",
       "      setTimeout(display_loaded, 100)\n",
       "    }\n",
       "  }\n",
       "\n",
       "  function run_callbacks() {\n",
       "    try {\n",
       "      root._bokeh_onload_callbacks.forEach(function(callback) {\n",
       "        if (callback != null)\n",
       "          callback();\n",
       "      });\n",
       "    } finally {\n",
       "      delete root._bokeh_onload_callbacks\n",
       "    }\n",
       "    console.debug(\"Bokeh: all callbacks have finished\");\n",
       "  }\n",
       "\n",
       "  function load_libs(css_urls, js_urls, callback) {\n",
       "    if (css_urls == null) css_urls = [];\n",
       "    if (js_urls == null) js_urls = [];\n",
       "\n",
       "    root._bokeh_onload_callbacks.push(callback);\n",
       "    if (root._bokeh_is_loading > 0) {\n",
       "      console.debug(\"Bokeh: BokehJS is being loaded, scheduling callback at\", now());\n",
       "      return null;\n",
       "    }\n",
       "    if (js_urls == null || js_urls.length === 0) {\n",
       "      run_callbacks();\n",
       "      return null;\n",
       "    }\n",
       "    console.debug(\"Bokeh: BokehJS not loaded, scheduling load and callback at\", now());\n",
       "    root._bokeh_is_loading = css_urls.length + js_urls.length;\n",
       "\n",
       "    function on_load() {\n",
       "      root._bokeh_is_loading--;\n",
       "      if (root._bokeh_is_loading === 0) {\n",
       "        console.debug(\"Bokeh: all BokehJS libraries/stylesheets loaded\");\n",
       "        run_callbacks()\n",
       "      }\n",
       "    }\n",
       "\n",
       "    function on_error(url) {\n",
       "      console.error(\"failed to load \" + url);\n",
       "    }\n",
       "\n",
       "    for (let i = 0; i < css_urls.length; i++) {\n",
       "      const url = css_urls[i];\n",
       "      const element = document.createElement(\"link\");\n",
       "      element.onload = on_load;\n",
       "      element.onerror = on_error.bind(null, url);\n",
       "      element.rel = \"stylesheet\";\n",
       "      element.type = \"text/css\";\n",
       "      element.href = url;\n",
       "      console.debug(\"Bokeh: injecting link tag for BokehJS stylesheet: \", url);\n",
       "      document.body.appendChild(element);\n",
       "    }\n",
       "\n",
       "    for (let i = 0; i < js_urls.length; i++) {\n",
       "      const url = js_urls[i];\n",
       "      const element = document.createElement('script');\n",
       "      element.onload = on_load;\n",
       "      element.onerror = on_error.bind(null, url);\n",
       "      element.async = false;\n",
       "      element.src = url;\n",
       "      console.debug(\"Bokeh: injecting script tag for BokehJS library: \", url);\n",
       "      document.head.appendChild(element);\n",
       "    }\n",
       "  };\n",
       "\n",
       "  function inject_raw_css(css) {\n",
       "    const element = document.createElement(\"style\");\n",
       "    element.appendChild(document.createTextNode(css));\n",
       "    document.body.appendChild(element);\n",
       "  }\n",
       "\n",
       "  const js_urls = [\"https://cdn.bokeh.org/bokeh/release/bokeh-2.4.3.min.js\", \"https://cdn.bokeh.org/bokeh/release/bokeh-gl-2.4.3.min.js\", \"https://cdn.bokeh.org/bokeh/release/bokeh-widgets-2.4.3.min.js\", \"https://cdn.bokeh.org/bokeh/release/bokeh-tables-2.4.3.min.js\", \"https://cdn.bokeh.org/bokeh/release/bokeh-mathjax-2.4.3.min.js\"];\n",
       "  const css_urls = [];\n",
       "\n",
       "  const inline_js = [    function(Bokeh) {\n",
       "      Bokeh.set_log_level(\"info\");\n",
       "    },\n",
       "function(Bokeh) {\n",
       "    }\n",
       "  ];\n",
       "\n",
       "  function run_inline_js() {\n",
       "    if (root.Bokeh !== undefined || force === true) {\n",
       "          for (let i = 0; i < inline_js.length; i++) {\n",
       "      inline_js[i].call(root, root.Bokeh);\n",
       "    }\n",
       "if (force === true) {\n",
       "        display_loaded();\n",
       "      }} else if (Date.now() < root._bokeh_timeout) {\n",
       "      setTimeout(run_inline_js, 100);\n",
       "    } else if (!root._bokeh_failed_load) {\n",
       "      console.log(\"Bokeh: BokehJS failed to load within specified timeout.\");\n",
       "      root._bokeh_failed_load = true;\n",
       "    } else if (force !== true) {\n",
       "      const cell = $(document.getElementById(\"16395\")).parents('.cell').data().cell;\n",
       "      cell.output_area.append_execute_result(NB_LOAD_WARNING)\n",
       "    }\n",
       "  }\n",
       "\n",
       "  if (root._bokeh_is_loading === 0) {\n",
       "    console.debug(\"Bokeh: BokehJS loaded, going straight to plotting\");\n",
       "    run_inline_js();\n",
       "  } else {\n",
       "    load_libs(css_urls, js_urls, function() {\n",
       "      console.debug(\"Bokeh: BokehJS plotting callback run at\", now());\n",
       "      run_inline_js();\n",
       "    });\n",
       "  }\n",
       "}(window));"
      ],
      "application/vnd.bokehjs_load.v0+json": "(function(root) {\n  function now() {\n    return new Date();\n  }\n\n  const force = true;\n\n  if (typeof root._bokeh_onload_callbacks === \"undefined\" || force === true) {\n    root._bokeh_onload_callbacks = [];\n    root._bokeh_is_loading = undefined;\n  }\n\n\n  if (typeof (root._bokeh_timeout) === \"undefined\" || force === true) {\n    root._bokeh_timeout = Date.now() + 5000;\n    root._bokeh_failed_load = false;\n  }\n\n  const NB_LOAD_WARNING = {'data': {'text/html':\n     \"<div style='background-color: #fdd'>\\n\"+\n     \"<p>\\n\"+\n     \"BokehJS does not appear to have successfully loaded. If loading BokehJS from CDN, this \\n\"+\n     \"may be due to a slow or bad network connection. Possible fixes:\\n\"+\n     \"</p>\\n\"+\n     \"<ul>\\n\"+\n     \"<li>re-rerun `output_notebook()` to attempt to load from CDN again, or</li>\\n\"+\n     \"<li>use INLINE resources instead, as so:</li>\\n\"+\n     \"</ul>\\n\"+\n     \"<code>\\n\"+\n     \"from bokeh.resources import INLINE\\n\"+\n     \"output_notebook(resources=INLINE)\\n\"+\n     \"</code>\\n\"+\n     \"</div>\"}};\n\n  function display_loaded() {\n    const el = document.getElementById(\"16395\");\n    if (el != null) {\n      el.textContent = \"BokehJS is loading...\";\n    }\n    if (root.Bokeh !== undefined) {\n      if (el != null) {\n        el.textContent = \"BokehJS \" + root.Bokeh.version + \" successfully loaded.\";\n      }\n    } else if (Date.now() < root._bokeh_timeout) {\n      setTimeout(display_loaded, 100)\n    }\n  }\n\n  function run_callbacks() {\n    try {\n      root._bokeh_onload_callbacks.forEach(function(callback) {\n        if (callback != null)\n          callback();\n      });\n    } finally {\n      delete root._bokeh_onload_callbacks\n    }\n    console.debug(\"Bokeh: all callbacks have finished\");\n  }\n\n  function load_libs(css_urls, js_urls, callback) {\n    if (css_urls == null) css_urls = [];\n    if (js_urls == null) js_urls = [];\n\n    root._bokeh_onload_callbacks.push(callback);\n    if (root._bokeh_is_loading > 0) {\n      console.debug(\"Bokeh: BokehJS is being loaded, scheduling callback at\", now());\n      return null;\n    }\n    if (js_urls == null || js_urls.length === 0) {\n      run_callbacks();\n      return null;\n    }\n    console.debug(\"Bokeh: BokehJS not loaded, scheduling load and callback at\", now());\n    root._bokeh_is_loading = css_urls.length + js_urls.length;\n\n    function on_load() {\n      root._bokeh_is_loading--;\n      if (root._bokeh_is_loading === 0) {\n        console.debug(\"Bokeh: all BokehJS libraries/stylesheets loaded\");\n        run_callbacks()\n      }\n    }\n\n    function on_error(url) {\n      console.error(\"failed to load \" + url);\n    }\n\n    for (let i = 0; i < css_urls.length; i++) {\n      const url = css_urls[i];\n      const element = document.createElement(\"link\");\n      element.onload = on_load;\n      element.onerror = on_error.bind(null, url);\n      element.rel = \"stylesheet\";\n      element.type = \"text/css\";\n      element.href = url;\n      console.debug(\"Bokeh: injecting link tag for BokehJS stylesheet: \", url);\n      document.body.appendChild(element);\n    }\n\n    for (let i = 0; i < js_urls.length; i++) {\n      const url = js_urls[i];\n      const element = document.createElement('script');\n      element.onload = on_load;\n      element.onerror = on_error.bind(null, url);\n      element.async = false;\n      element.src = url;\n      console.debug(\"Bokeh: injecting script tag for BokehJS library: \", url);\n      document.head.appendChild(element);\n    }\n  };\n\n  function inject_raw_css(css) {\n    const element = document.createElement(\"style\");\n    element.appendChild(document.createTextNode(css));\n    document.body.appendChild(element);\n  }\n\n  const js_urls = [\"https://cdn.bokeh.org/bokeh/release/bokeh-2.4.3.min.js\", \"https://cdn.bokeh.org/bokeh/release/bokeh-gl-2.4.3.min.js\", \"https://cdn.bokeh.org/bokeh/release/bokeh-widgets-2.4.3.min.js\", \"https://cdn.bokeh.org/bokeh/release/bokeh-tables-2.4.3.min.js\", \"https://cdn.bokeh.org/bokeh/release/bokeh-mathjax-2.4.3.min.js\"];\n  const css_urls = [];\n\n  const inline_js = [    function(Bokeh) {\n      Bokeh.set_log_level(\"info\");\n    },\nfunction(Bokeh) {\n    }\n  ];\n\n  function run_inline_js() {\n    if (root.Bokeh !== undefined || force === true) {\n          for (let i = 0; i < inline_js.length; i++) {\n      inline_js[i].call(root, root.Bokeh);\n    }\nif (force === true) {\n        display_loaded();\n      }} else if (Date.now() < root._bokeh_timeout) {\n      setTimeout(run_inline_js, 100);\n    } else if (!root._bokeh_failed_load) {\n      console.log(\"Bokeh: BokehJS failed to load within specified timeout.\");\n      root._bokeh_failed_load = true;\n    } else if (force !== true) {\n      const cell = $(document.getElementById(\"16395\")).parents('.cell').data().cell;\n      cell.output_area.append_execute_result(NB_LOAD_WARNING)\n    }\n  }\n\n  if (root._bokeh_is_loading === 0) {\n    console.debug(\"Bokeh: BokehJS loaded, going straight to plotting\");\n    run_inline_js();\n  } else {\n    load_libs(css_urls, js_urls, function() {\n      console.debug(\"Bokeh: BokehJS plotting callback run at\", now());\n      run_inline_js();\n    });\n  }\n}(window));"
     },
     "metadata": {},
     "output_type": "display_data"
    },
    {
     "name": "stdout",
     "output_type": "stream",
     "text": [
      "[881.78, 441.554, 476.441, 731.033, 748.056, 781.556, 723.688, 769.236, 561.232, 1105.55, 616.132, 678.157, 605.749, 916.784, 741.483, 691.201, 655.965, 790.586, 1021.93, 710.955, 781.977, 868.045, 895.563, 699.104, 717.829, 684.543, 873.049, 665.037, 504.238, 990.968, 892.657, 712.206, 843.298, 716.632, 820.138, 788.952, 771.512, 914.575, 873.633, 824.137, 1147.49, 791.929, 737.137, 830.605, 856.895, 409.626, 637.624, 673.607, 883.926, 930.372, 840.96, 763.051, 706.241, 621.23, 788.146, 793.65, 647.893, 859.683, 1010.06, 570.874, 864.518, 876.037, 990.03, 743.925, 659.081, 841.557, 577.563, 740.527, 761.05, 712.436, 955.159, 762.514, 822.572, 845.496, 770.093, 575.172, 663.948, 640.726, 659.309, 922.971, 757.334, 972.825, 963.232, 945.908, 718.803, 474.125, 841.734, 636.202, 748.663, 604.998, 677.712, 798.457, 737.256, 756.516, 533.119, 464.199, 618.517, 708.981, 771.156, 696.152, 754.846, 907.011, 793.051, 864.523, 710.849, 862.533, 741.187, 916.09, 751.218, 692.17, 852.676, 711.576, 724.465, 766.549, 670.741]\n"
     ]
    },
    {
     "data": {
      "text/html": [
       "\n",
       "  <div class=\"bk-root\" id=\"c5652fd8-4a2f-473e-8093-1aadee2dd4ed\" data-root-id=\"16396\"></div>\n"
      ]
     },
     "metadata": {},
     "output_type": "display_data"
    },
    {
     "data": {
      "application/javascript": [
       "(function(root) {\n",
       "  function embed_document(root) {\n",
       "  const docs_json = {\"5d3418d4-bb75-4796-9bb8-5b38e55ce362\":{\"defs\":[],\"roots\":{\"references\":[{\"attributes\":{\"below\":[{\"id\":\"16405\"}],\"center\":[{\"id\":\"16408\"},{\"id\":\"16412\"}],\"left\":[{\"id\":\"16409\"}],\"renderers\":[{\"id\":\"16431\"}],\"title\":{\"id\":\"16433\"},\"toolbar\":{\"id\":\"16420\"},\"x_range\":{\"id\":\"16397\"},\"x_scale\":{\"id\":\"16401\"},\"y_range\":{\"id\":\"16399\"},\"y_scale\":{\"id\":\"16403\"}},\"id\":\"16396\",\"subtype\":\"Figure\",\"type\":\"Plot\"},{\"attributes\":{},\"id\":\"16926\",\"type\":\"BasicTickFormatter\"},{\"attributes\":{},\"id\":\"16928\",\"type\":\"UnionRenderers\"},{\"attributes\":{\"axis\":{\"id\":\"16405\"},\"coordinates\":null,\"group\":null,\"ticker\":null},\"id\":\"16408\",\"type\":\"Grid\"},{\"attributes\":{},\"id\":\"16403\",\"type\":\"LinearScale\"},{\"attributes\":{\"fill_alpha\":{\"value\":0.2},\"fill_color\":{\"value\":\"#1f77b4\"},\"hatch_alpha\":{\"value\":0.2},\"line_alpha\":{\"value\":0.2},\"line_color\":{\"value\":\"#1f77b4\"},\"x\":{\"field\":\"x\"},\"y\":{\"field\":\"y\"}},\"id\":\"16430\",\"type\":\"Circle\"},{\"attributes\":{\"bottom_units\":\"screen\",\"coordinates\":null,\"fill_alpha\":0.5,\"fill_color\":\"lightgrey\",\"group\":null,\"left_units\":\"screen\",\"level\":\"overlay\",\"line_alpha\":1.0,\"line_color\":\"black\",\"line_dash\":[4,4],\"line_width\":2,\"right_units\":\"screen\",\"syncable\":false,\"top_units\":\"screen\"},\"id\":\"16419\",\"type\":\"BoxAnnotation\"},{\"attributes\":{\"axis_label\":\"GC Content\",\"coordinates\":null,\"formatter\":{\"id\":\"16923\"},\"group\":null,\"major_label_policy\":{\"id\":\"16924\"},\"ticker\":{\"id\":\"16410\"}},\"id\":\"16409\",\"type\":\"LinearAxis\"},{\"attributes\":{\"fill_color\":{\"value\":\"#1f77b4\"},\"line_color\":{\"value\":\"#1f77b4\"},\"x\":{\"field\":\"x\"},\"y\":{\"field\":\"y\"}},\"id\":\"16428\",\"type\":\"Circle\"},{\"attributes\":{\"source\":{\"id\":\"16427\"}},\"id\":\"16432\",\"type\":\"CDSView\"},{\"attributes\":{},\"id\":\"16399\",\"type\":\"DataRange1d\"},{\"attributes\":{},\"id\":\"16406\",\"type\":\"BasicTicker\"},{\"attributes\":{},\"id\":\"16410\",\"type\":\"BasicTicker\"},{\"attributes\":{},\"id\":\"16414\",\"type\":\"WheelZoomTool\"},{\"attributes\":{},\"id\":\"16397\",\"type\":\"DataRange1d\"},{\"attributes\":{\"data\":{\"x\":[438,478,423,421,447,449,432,435,440,501,422,437,436,505,447,444,433,429,461,438,427,474,437,450,449,438,473,445,432,449,442,455,443,435,454,454,439,440,448,442,501,427,451,427,458,430,440,444,443,442,458,425,436,431,489,443,450,438,444,472,464,474,444,431,458,440,667,435,444,431,441,458,493,535,488,492,490,432,432,442,483,499,439,437,457,439,469,469,469,434,434,434,434,434,431,580,431,438,440,440,444,438,437,438,431,438,437,435,432,436,438,443,439,445,420],\"y\":[0.6214550979068197,0.3994085176855399,0.2851670477800451,0.3925463139090084,0.2702402661513399,0.432061685620977,0.3941462663017556,0.4362451805566799,0.6604552208005426,0.5563730454385489,0.3134469652835711,0.5176625673713895,0.29458573520012254,0.6104893769690102,0.6066485428756286,0.5303426236068649,0.31856723950449106,0.6012489870353532,0.35044160109251976,0.5011939062196334,0.26988138782758875,0.5936551090651857,0.3697609754853193,0.6436863200066489,0.4616378165944257,0.7189011157425981,0.7321885437632035,0.3393312429608442,0.46248965043612583,0.5384967293987223,0.6561466628826449,0.5573534104769428,0.3494858518464715,0.5892757515896828,0.409548278484123,0.480491303157634,0.527548236805966,0.6813901247639091,0.7471648802454562,0.5579611479572558,0.653411396022395,0.34123190636943734,0.6069007764404369,0.2968308145349908,0.41307256750236687,0.4330160278754406,0.36442138565913607,0.5223887952113582,0.6655573299550923,0.6701232937245032,0.39022929006636004,0.35283906464335824,0.5481824835325689,0.7136233373179821,0.6677882621956012,0.38841741990717416,0.27633708893783704,0.5185249426669587,0.5127325660881997,0.4636155070752707,0.3670806060968197,0.5512825664578923,0.47701508164097833,0.3449876452749862,0.5631126863812335,0.25330577095161927,0.556836852789952,0.2859329500485328,0.6405938043196072,0.4368551230358618,0.5381025146242477,0.40336548767416935,0.30467776311034744,0.5898382910760631,0.6236364077610999,0.6791304308972272,0.6663858608722584,0.34717068193657913,0.37695898246256665,0.6563259786882653,0.23770448791760188,0.3146988546603475,0.5789368104312939,0.7305599084350982,0.49543930290280164,0.3132831176804368,0.4544143222506394,0.4076989670149079,0.41878970724846926,0.3164585736848883,0.3243880812292365,0.3245036858279444,0.2883630109992476,0.28919402319036686,0.328175332862062,0.48465357707063866,0.346327029360698,0.7214412872304006,0.35909420320035984,0.5547002247484424,0.508894769536912,0.7304496584927127,0.40506778011364514,0.7276396728649653,0.33777020500615523,0.6776867521828177,0.41488191202938696,0.3938264258377672,0.398032196376832,0.43400218134468804,0.7145283211289727,0.4772025510218359,0.6490562785486512,0.4769483062149186,0.4878755268844504]},\"selected\":{\"id\":\"16929\"},\"selection_policy\":{\"id\":\"16928\"}},\"id\":\"16427\",\"type\":\"ColumnDataSource\"},{\"attributes\":{\"coordinates\":null,\"group\":null,\"text\":\"SecY Length\"},\"id\":\"16433\",\"type\":\"Title\"},{\"attributes\":{},\"id\":\"16417\",\"type\":\"ResetTool\"},{\"attributes\":{\"tools\":[{\"id\":\"16413\"},{\"id\":\"16414\"},{\"id\":\"16415\"},{\"id\":\"16416\"},{\"id\":\"16417\"},{\"id\":\"16418\"}]},\"id\":\"16420\",\"type\":\"Toolbar\"},{\"attributes\":{},\"id\":\"16923\",\"type\":\"BasicTickFormatter\"},{\"attributes\":{\"overlay\":{\"id\":\"16419\"}},\"id\":\"16415\",\"type\":\"BoxZoomTool\"},{\"attributes\":{},\"id\":\"16416\",\"type\":\"SaveTool\"},{\"attributes\":{},\"id\":\"16413\",\"type\":\"PanTool\"},{\"attributes\":{},\"id\":\"16418\",\"type\":\"HelpTool\"},{\"attributes\":{},\"id\":\"16929\",\"type\":\"Selection\"},{\"attributes\":{\"coordinates\":null,\"data_source\":{\"id\":\"16427\"},\"glyph\":{\"id\":\"16428\"},\"group\":null,\"hover_glyph\":null,\"muted_glyph\":{\"id\":\"16430\"},\"nonselection_glyph\":{\"id\":\"16429\"},\"view\":{\"id\":\"16432\"}},\"id\":\"16431\",\"type\":\"GlyphRenderer\"},{\"attributes\":{\"axis_label\":\"Length\",\"coordinates\":null,\"formatter\":{\"id\":\"16926\"},\"group\":null,\"major_label_policy\":{\"id\":\"16927\"},\"ticker\":{\"id\":\"16406\"}},\"id\":\"16405\",\"type\":\"LinearAxis\"},{\"attributes\":{\"fill_alpha\":{\"value\":0.1},\"fill_color\":{\"value\":\"#1f77b4\"},\"hatch_alpha\":{\"value\":0.1},\"line_alpha\":{\"value\":0.1},\"line_color\":{\"value\":\"#1f77b4\"},\"x\":{\"field\":\"x\"},\"y\":{\"field\":\"y\"}},\"id\":\"16429\",\"type\":\"Circle\"},{\"attributes\":{},\"id\":\"16401\",\"type\":\"LinearScale\"},{\"attributes\":{},\"id\":\"16927\",\"type\":\"AllLabels\"},{\"attributes\":{\"axis\":{\"id\":\"16409\"},\"coordinates\":null,\"dimension\":1,\"group\":null,\"ticker\":null},\"id\":\"16412\",\"type\":\"Grid\"},{\"attributes\":{},\"id\":\"16924\",\"type\":\"AllLabels\"}],\"root_ids\":[\"16396\"]},\"title\":\"Bokeh Application\",\"version\":\"2.4.3\"}};\n",
       "  const render_items = [{\"docid\":\"5d3418d4-bb75-4796-9bb8-5b38e55ce362\",\"root_ids\":[\"16396\"],\"roots\":{\"16396\":\"c5652fd8-4a2f-473e-8093-1aadee2dd4ed\"}}];\n",
       "  root.Bokeh.embed.embed_items_notebook(docs_json, render_items);\n",
       "  }\n",
       "  if (root.Bokeh !== undefined) {\n",
       "    embed_document(root);\n",
       "  } else {\n",
       "    let attempts = 0;\n",
       "    const timer = setInterval(function(root) {\n",
       "      if (root.Bokeh !== undefined) {\n",
       "        clearInterval(timer);\n",
       "        embed_document(root);\n",
       "      } else {\n",
       "        attempts++;\n",
       "        if (attempts > 100) {\n",
       "          clearInterval(timer);\n",
       "          console.log(\"Bokeh: ERROR: Unable to run BokehJS code because BokehJS library is missing\");\n",
       "        }\n",
       "      }\n",
       "    }, 10, root)\n",
       "  }\n",
       "})(window);"
      ],
      "application/vnd.bokehjs_exec.v0+json": ""
     },
     "metadata": {
      "application/vnd.bokehjs_exec.v0+json": {
       "id": "16396"
      }
     },
     "output_type": "display_data"
    },
    {
     "data": {
      "text/html": [
       "\n",
       "  <div class=\"bk-root\" id=\"acf9c7d0-3536-4b0f-a642-dc4b42048e0a\" data-root-id=\"16986\"></div>\n"
      ]
     },
     "metadata": {},
     "output_type": "display_data"
    },
    {
     "data": {
      "application/javascript": [
       "(function(root) {\n",
       "  function embed_document(root) {\n",
       "  const docs_json = {\"1f9c09e6-b46a-4ea1-aa5e-34c9e09552fc\":{\"defs\":[],\"roots\":{\"references\":[{\"attributes\":{\"below\":[{\"id\":\"16995\"}],\"center\":[{\"id\":\"16998\"},{\"id\":\"17002\"}],\"left\":[{\"id\":\"16999\"}],\"renderers\":[{\"id\":\"17021\"}],\"title\":{\"id\":\"17023\"},\"toolbar\":{\"id\":\"17010\"},\"x_range\":{\"id\":\"16987\"},\"x_scale\":{\"id\":\"16991\"},\"y_range\":{\"id\":\"16989\"},\"y_scale\":{\"id\":\"16993\"}},\"id\":\"16986\",\"subtype\":\"Figure\",\"type\":\"Plot\"},{\"attributes\":{\"tools\":[{\"id\":\"17003\"},{\"id\":\"17004\"},{\"id\":\"17005\"},{\"id\":\"17006\"},{\"id\":\"17007\"},{\"id\":\"17008\"}]},\"id\":\"17010\",\"type\":\"Toolbar\"},{\"attributes\":{\"bottom_units\":\"screen\",\"coordinates\":null,\"fill_alpha\":0.5,\"fill_color\":\"lightgrey\",\"group\":null,\"left_units\":\"screen\",\"level\":\"overlay\",\"line_alpha\":1.0,\"line_color\":\"black\",\"line_dash\":[4,4],\"line_width\":2,\"right_units\":\"screen\",\"syncable\":false,\"top_units\":\"screen\"},\"id\":\"17009\",\"type\":\"BoxAnnotation\"},{\"attributes\":{},\"id\":\"17525\",\"type\":\"AllLabels\"},{\"attributes\":{},\"id\":\"16991\",\"type\":\"LinearScale\"},{\"attributes\":{},\"id\":\"16987\",\"type\":\"DataRange1d\"},{\"attributes\":{},\"id\":\"17007\",\"type\":\"ResetTool\"},{\"attributes\":{},\"id\":\"16989\",\"type\":\"DataRange1d\"},{\"attributes\":{},\"id\":\"17524\",\"type\":\"BasicTickFormatter\"},{\"attributes\":{},\"id\":\"17006\",\"type\":\"SaveTool\"},{\"attributes\":{\"overlay\":{\"id\":\"17009\"}},\"id\":\"17005\",\"type\":\"BoxZoomTool\"},{\"attributes\":{},\"id\":\"17003\",\"type\":\"PanTool\"},{\"attributes\":{},\"id\":\"17008\",\"type\":\"HelpTool\"},{\"attributes\":{},\"id\":\"17000\",\"type\":\"BasicTicker\"},{\"attributes\":{\"data\":{\"x\":[881.78,441.554,476.441,731.033,748.056,781.556,723.688,769.236,561.232,1105.55,616.132,678.157,605.749,916.784,741.483,691.201,655.965,790.586,1021.93,710.955,781.977,868.045,895.563,699.104,717.829,684.543,873.049,665.037,504.238,990.968,892.657,712.206,843.298,716.632,820.138,788.952,771.512,914.575,873.633,824.137,1147.49,791.929,737.137,830.605,856.895,409.626,637.624,673.607,883.926,930.372,840.96,763.051,706.241,621.23,788.146,793.65,647.893,859.683,1010.06,570.874,864.518,876.037,990.03,743.925,659.081,841.557,577.563,740.527,761.05,712.436,955.159,762.514,822.572,845.496,770.093,575.172,663.948,640.726,659.309,922.971,757.334,972.825,963.232,945.908,718.803,474.125,841.734,636.202,748.663,604.998,677.712,798.457,737.256,756.516,533.119,464.199,618.517,708.981,771.156,696.152,754.846,907.011,793.051,864.523,710.849,862.533,741.187,916.09,751.218,692.17,852.676,711.576,724.465,766.549,670.741],\"y\":[438,478,423,421,447,449,432,435,440,501,422,437,436,505,447,444,433,429,461,438,427,474,437,450,449,438,473,445,432,449,442,455,443,435,454,454,439,440,448,442,501,427,451,427,458,430,440,444,443,442,458,425,436,431,489,443,450,438,444,472,464,474,444,431,458,440,667,435,444,431,441,458,493,535,488,492,490,432,432,442,483,499,439,437,457,439,469,469,469,434,434,434,434,434,431,580,431,438,440,440,444,438,437,438,431,438,437,435,432,436,438,443,439,445,420]},\"selected\":{\"id\":\"17530\"},\"selection_policy\":{\"id\":\"17529\"}},\"id\":\"17017\",\"type\":\"ColumnDataSource\"},{\"attributes\":{\"axis_label\":\"Length (Amino Acids)\",\"coordinates\":null,\"formatter\":{\"id\":\"17524\"},\"group\":null,\"major_label_policy\":{\"id\":\"17525\"},\"ticker\":{\"id\":\"17000\"}},\"id\":\"16999\",\"type\":\"LinearAxis\"},{\"attributes\":{\"axis\":{\"id\":\"16999\"},\"coordinates\":null,\"dimension\":1,\"group\":null,\"ticker\":null},\"id\":\"17002\",\"type\":\"Grid\"},{\"attributes\":{\"source\":{\"id\":\"17017\"}},\"id\":\"17022\",\"type\":\"CDSView\"},{\"attributes\":{},\"id\":\"16996\",\"type\":\"BasicTicker\"},{\"attributes\":{\"coordinates\":null,\"group\":null,\"text\":\"SecY Length\"},\"id\":\"17023\",\"type\":\"Title\"},{\"attributes\":{},\"id\":\"17004\",\"type\":\"WheelZoomTool\"},{\"attributes\":{\"fill_alpha\":{\"value\":0.1},\"fill_color\":{\"value\":\"#1f77b4\"},\"hatch_alpha\":{\"value\":0.1},\"line_alpha\":{\"value\":0.1},\"line_color\":{\"value\":\"#1f77b4\"},\"x\":{\"field\":\"x\"},\"y\":{\"field\":\"y\"}},\"id\":\"17019\",\"type\":\"Circle\"},{\"attributes\":{\"axis\":{\"id\":\"16995\"},\"coordinates\":null,\"group\":null,\"ticker\":null},\"id\":\"16998\",\"type\":\"Grid\"},{\"attributes\":{\"coordinates\":null,\"data_source\":{\"id\":\"17017\"},\"glyph\":{\"id\":\"17018\"},\"group\":null,\"hover_glyph\":null,\"muted_glyph\":{\"id\":\"17020\"},\"nonselection_glyph\":{\"id\":\"17019\"},\"view\":{\"id\":\"17022\"}},\"id\":\"17021\",\"type\":\"GlyphRenderer\"},{\"attributes\":{},\"id\":\"16993\",\"type\":\"LinearScale\"},{\"attributes\":{\"fill_alpha\":{\"value\":0.2},\"fill_color\":{\"value\":\"#1f77b4\"},\"hatch_alpha\":{\"value\":0.2},\"line_alpha\":{\"value\":0.2},\"line_color\":{\"value\":\"#1f77b4\"},\"x\":{\"field\":\"x\"},\"y\":{\"field\":\"y\"}},\"id\":\"17020\",\"type\":\"Circle\"},{\"attributes\":{\"axis_label\":\"Cavity Volume (Cubic Angstroms)\",\"coordinates\":null,\"formatter\":{\"id\":\"17527\"},\"group\":null,\"major_label_policy\":{\"id\":\"17528\"},\"ticker\":{\"id\":\"16996\"}},\"id\":\"16995\",\"type\":\"LinearAxis\"},{\"attributes\":{},\"id\":\"17530\",\"type\":\"Selection\"},{\"attributes\":{},\"id\":\"17528\",\"type\":\"AllLabels\"},{\"attributes\":{},\"id\":\"17529\",\"type\":\"UnionRenderers\"},{\"attributes\":{},\"id\":\"17527\",\"type\":\"BasicTickFormatter\"},{\"attributes\":{\"fill_color\":{\"value\":\"#1f77b4\"},\"line_color\":{\"value\":\"#1f77b4\"},\"x\":{\"field\":\"x\"},\"y\":{\"field\":\"y\"}},\"id\":\"17018\",\"type\":\"Circle\"}],\"root_ids\":[\"16986\"]},\"title\":\"Bokeh Application\",\"version\":\"2.4.3\"}};\n",
       "  const render_items = [{\"docid\":\"1f9c09e6-b46a-4ea1-aa5e-34c9e09552fc\",\"root_ids\":[\"16986\"],\"roots\":{\"16986\":\"acf9c7d0-3536-4b0f-a642-dc4b42048e0a\"}}];\n",
       "  root.Bokeh.embed.embed_items_notebook(docs_json, render_items);\n",
       "  }\n",
       "  if (root.Bokeh !== undefined) {\n",
       "    embed_document(root);\n",
       "  } else {\n",
       "    let attempts = 0;\n",
       "    const timer = setInterval(function(root) {\n",
       "      if (root.Bokeh !== undefined) {\n",
       "        clearInterval(timer);\n",
       "        embed_document(root);\n",
       "      } else {\n",
       "        attempts++;\n",
       "        if (attempts > 100) {\n",
       "          clearInterval(timer);\n",
       "          console.log(\"Bokeh: ERROR: Unable to run BokehJS code because BokehJS library is missing\");\n",
       "        }\n",
       "      }\n",
       "    }, 10, root)\n",
       "  }\n",
       "})(window);"
      ],
      "application/vnd.bokehjs_exec.v0+json": ""
     },
     "metadata": {
      "application/vnd.bokehjs_exec.v0+json": {
       "id": "16986"
      }
     },
     "output_type": "display_data"
    },
    {
     "data": {
      "text/html": [
       "\n",
       "  <div class=\"bk-root\" id=\"4f0b5657-3367-4df2-b51d-0d309030c1df\" data-root-id=\"17587\"></div>\n"
      ]
     },
     "metadata": {},
     "output_type": "display_data"
    },
    {
     "data": {
      "application/javascript": [
       "(function(root) {\n",
       "  function embed_document(root) {\n",
       "  const docs_json = {\"e5dd5224-bef8-4562-83b1-ddfa38828a36\":{\"defs\":[],\"roots\":{\"references\":[{\"attributes\":{\"below\":[{\"id\":\"17596\"}],\"center\":[{\"id\":\"17599\"},{\"id\":\"17603\"}],\"left\":[{\"id\":\"17600\"}],\"renderers\":[{\"id\":\"17622\"}],\"title\":{\"id\":\"17624\"},\"toolbar\":{\"id\":\"17611\"},\"x_range\":{\"id\":\"17588\"},\"x_scale\":{\"id\":\"17592\"},\"y_range\":{\"id\":\"17590\"},\"y_scale\":{\"id\":\"17594\"}},\"id\":\"17587\",\"subtype\":\"Figure\",\"type\":\"Plot\"},{\"attributes\":{},\"id\":\"17590\",\"type\":\"DataRange1d\"},{\"attributes\":{},\"id\":\"18141\",\"type\":\"UnionRenderers\"},{\"attributes\":{\"axis_label\":\"Cavity Volume (Cubic Angstroms)\",\"coordinates\":null,\"formatter\":{\"id\":\"18139\"},\"group\":null,\"major_label_policy\":{\"id\":\"18140\"},\"ticker\":{\"id\":\"17597\"}},\"id\":\"17596\",\"type\":\"LinearAxis\"},{\"attributes\":{},\"id\":\"18142\",\"type\":\"Selection\"},{\"attributes\":{\"fill_alpha\":{\"value\":0.2},\"fill_color\":{\"value\":\"#1f77b4\"},\"hatch_alpha\":{\"value\":0.2},\"line_alpha\":{\"value\":0.2},\"line_color\":{\"value\":\"#1f77b4\"},\"x\":{\"field\":\"x\"},\"y\":{\"field\":\"y\"}},\"id\":\"17621\",\"type\":\"Circle\"},{\"attributes\":{},\"id\":\"17594\",\"type\":\"LinearScale\"},{\"attributes\":{\"axis\":{\"id\":\"17596\"},\"coordinates\":null,\"group\":null,\"ticker\":null},\"id\":\"17599\",\"type\":\"Grid\"},{\"attributes\":{\"coordinates\":null,\"data_source\":{\"id\":\"17618\"},\"glyph\":{\"id\":\"17619\"},\"group\":null,\"hover_glyph\":null,\"muted_glyph\":{\"id\":\"17621\"},\"nonselection_glyph\":{\"id\":\"17620\"},\"view\":{\"id\":\"17623\"}},\"id\":\"17622\",\"type\":\"GlyphRenderer\"},{\"attributes\":{},\"id\":\"17597\",\"type\":\"BasicTicker\"},{\"attributes\":{\"fill_alpha\":{\"value\":0.1},\"fill_color\":{\"value\":\"#1f77b4\"},\"hatch_alpha\":{\"value\":0.1},\"line_alpha\":{\"value\":0.1},\"line_color\":{\"value\":\"#1f77b4\"},\"x\":{\"field\":\"x\"},\"y\":{\"field\":\"y\"}},\"id\":\"17620\",\"type\":\"Circle\"},{\"attributes\":{\"coordinates\":null,\"group\":null,\"text\":\"SecY Cavity Volume\"},\"id\":\"17624\",\"type\":\"Title\"},{\"attributes\":{},\"id\":\"17605\",\"type\":\"WheelZoomTool\"},{\"attributes\":{\"source\":{\"id\":\"17618\"}},\"id\":\"17623\",\"type\":\"CDSView\"},{\"attributes\":{\"axis\":{\"id\":\"17600\"},\"coordinates\":null,\"dimension\":1,\"group\":null,\"ticker\":null},\"id\":\"17603\",\"type\":\"Grid\"},{\"attributes\":{\"axis_label\":\"GC Content\",\"coordinates\":null,\"formatter\":{\"id\":\"18136\"},\"group\":null,\"major_label_policy\":{\"id\":\"18137\"},\"ticker\":{\"id\":\"17601\"}},\"id\":\"17600\",\"type\":\"LinearAxis\"},{\"attributes\":{},\"id\":\"17601\",\"type\":\"BasicTicker\"},{\"attributes\":{},\"id\":\"18139\",\"type\":\"BasicTickFormatter\"},{\"attributes\":{},\"id\":\"17609\",\"type\":\"HelpTool\"},{\"attributes\":{},\"id\":\"17604\",\"type\":\"PanTool\"},{\"attributes\":{},\"id\":\"18140\",\"type\":\"AllLabels\"},{\"attributes\":{\"overlay\":{\"id\":\"17610\"}},\"id\":\"17606\",\"type\":\"BoxZoomTool\"},{\"attributes\":{},\"id\":\"17592\",\"type\":\"LinearScale\"},{\"attributes\":{},\"id\":\"17607\",\"type\":\"SaveTool\"},{\"attributes\":{},\"id\":\"17608\",\"type\":\"ResetTool\"},{\"attributes\":{},\"id\":\"18136\",\"type\":\"BasicTickFormatter\"},{\"attributes\":{},\"id\":\"18137\",\"type\":\"AllLabels\"},{\"attributes\":{\"bottom_units\":\"screen\",\"coordinates\":null,\"fill_alpha\":0.5,\"fill_color\":\"lightgrey\",\"group\":null,\"left_units\":\"screen\",\"level\":\"overlay\",\"line_alpha\":1.0,\"line_color\":\"black\",\"line_dash\":[4,4],\"line_width\":2,\"right_units\":\"screen\",\"syncable\":false,\"top_units\":\"screen\"},\"id\":\"17610\",\"type\":\"BoxAnnotation\"},{\"attributes\":{\"tools\":[{\"id\":\"17604\"},{\"id\":\"17605\"},{\"id\":\"17606\"},{\"id\":\"17607\"},{\"id\":\"17608\"},{\"id\":\"17609\"}]},\"id\":\"17611\",\"type\":\"Toolbar\"},{\"attributes\":{\"data\":{\"x\":[881.78,441.554,476.441,731.033,748.056,781.556,723.688,769.236,561.232,1105.55,616.132,678.157,605.749,916.784,741.483,691.201,655.965,790.586,1021.93,710.955,781.977,868.045,895.563,699.104,717.829,684.543,873.049,665.037,504.238,990.968,892.657,712.206,843.298,716.632,820.138,788.952,771.512,914.575,873.633,824.137,1147.49,791.929,737.137,830.605,856.895,409.626,637.624,673.607,883.926,930.372,840.96,763.051,706.241,621.23,788.146,793.65,647.893,859.683,1010.06,570.874,864.518,876.037,990.03,743.925,659.081,841.557,577.563,740.527,761.05,712.436,955.159,762.514,822.572,845.496,770.093,575.172,663.948,640.726,659.309,922.971,757.334,972.825,963.232,945.908,718.803,474.125,841.734,636.202,748.663,604.998,677.712,798.457,737.256,756.516,533.119,464.199,618.517,708.981,771.156,696.152,754.846,907.011,793.051,864.523,710.849,862.533,741.187,916.09,751.218,692.17,852.676,711.576,724.465,766.549,670.741],\"y\":[0.6214550979068197,0.3994085176855399,0.2851670477800451,0.3925463139090084,0.2702402661513399,0.432061685620977,0.3941462663017556,0.4362451805566799,0.6604552208005426,0.5563730454385489,0.3134469652835711,0.5176625673713895,0.29458573520012254,0.6104893769690102,0.6066485428756286,0.5303426236068649,0.31856723950449106,0.6012489870353532,0.35044160109251976,0.5011939062196334,0.26988138782758875,0.5936551090651857,0.3697609754853193,0.6436863200066489,0.4616378165944257,0.7189011157425981,0.7321885437632035,0.3393312429608442,0.46248965043612583,0.5384967293987223,0.6561466628826449,0.5573534104769428,0.3494858518464715,0.5892757515896828,0.409548278484123,0.480491303157634,0.527548236805966,0.6813901247639091,0.7471648802454562,0.5579611479572558,0.653411396022395,0.34123190636943734,0.6069007764404369,0.2968308145349908,0.41307256750236687,0.4330160278754406,0.36442138565913607,0.5223887952113582,0.6655573299550923,0.6701232937245032,0.39022929006636004,0.35283906464335824,0.5481824835325689,0.7136233373179821,0.6677882621956012,0.38841741990717416,0.27633708893783704,0.5185249426669587,0.5127325660881997,0.4636155070752707,0.3670806060968197,0.5512825664578923,0.47701508164097833,0.3449876452749862,0.5631126863812335,0.25330577095161927,0.556836852789952,0.2859329500485328,0.6405938043196072,0.4368551230358618,0.5381025146242477,0.40336548767416935,0.30467776311034744,0.5898382910760631,0.6236364077610999,0.6791304308972272,0.6663858608722584,0.34717068193657913,0.37695898246256665,0.6563259786882653,0.23770448791760188,0.3146988546603475,0.5789368104312939,0.7305599084350982,0.49543930290280164,0.3132831176804368,0.4544143222506394,0.4076989670149079,0.41878970724846926,0.3164585736848883,0.3243880812292365,0.3245036858279444,0.2883630109992476,0.28919402319036686,0.328175332862062,0.48465357707063866,0.346327029360698,0.7214412872304006,0.35909420320035984,0.5547002247484424,0.508894769536912,0.7304496584927127,0.40506778011364514,0.7276396728649653,0.33777020500615523,0.6776867521828177,0.41488191202938696,0.3938264258377672,0.398032196376832,0.43400218134468804,0.7145283211289727,0.4772025510218359,0.6490562785486512,0.4769483062149186,0.4878755268844504]},\"selected\":{\"id\":\"18142\"},\"selection_policy\":{\"id\":\"18141\"}},\"id\":\"17618\",\"type\":\"ColumnDataSource\"},{\"attributes\":{},\"id\":\"17588\",\"type\":\"DataRange1d\"},{\"attributes\":{\"fill_color\":{\"value\":\"#1f77b4\"},\"line_color\":{\"value\":\"#1f77b4\"},\"x\":{\"field\":\"x\"},\"y\":{\"field\":\"y\"}},\"id\":\"17619\",\"type\":\"Circle\"}],\"root_ids\":[\"17587\"]},\"title\":\"Bokeh Application\",\"version\":\"2.4.3\"}};\n",
       "  const render_items = [{\"docid\":\"e5dd5224-bef8-4562-83b1-ddfa38828a36\",\"root_ids\":[\"17587\"],\"roots\":{\"17587\":\"4f0b5657-3367-4df2-b51d-0d309030c1df\"}}];\n",
       "  root.Bokeh.embed.embed_items_notebook(docs_json, render_items);\n",
       "  }\n",
       "  if (root.Bokeh !== undefined) {\n",
       "    embed_document(root);\n",
       "  } else {\n",
       "    let attempts = 0;\n",
       "    const timer = setInterval(function(root) {\n",
       "      if (root.Bokeh !== undefined) {\n",
       "        clearInterval(timer);\n",
       "        embed_document(root);\n",
       "      } else {\n",
       "        attempts++;\n",
       "        if (attempts > 100) {\n",
       "          clearInterval(timer);\n",
       "          console.log(\"Bokeh: ERROR: Unable to run BokehJS code because BokehJS library is missing\");\n",
       "        }\n",
       "      }\n",
       "    }, 10, root)\n",
       "  }\n",
       "})(window);"
      ],
      "application/vnd.bokehjs_exec.v0+json": ""
     },
     "metadata": {
      "application/vnd.bokehjs_exec.v0+json": {
       "id": "17587"
      }
     },
     "output_type": "display_data"
    },
    {
     "data": {
      "text/html": [
       "\n",
       "  <div class=\"bk-root\" id=\"eb434b2f-ca9e-433a-8a26-5d7b6993f496\" data-root-id=\"18199\"></div>\n"
      ]
     },
     "metadata": {},
     "output_type": "display_data"
    },
    {
     "data": {
      "application/javascript": [
       "(function(root) {\n",
       "  function embed_document(root) {\n",
       "  const docs_json = {\"e50b9caa-39c0-4290-ba07-c2d972d9712e\":{\"defs\":[],\"roots\":{\"references\":[{\"attributes\":{\"below\":[{\"id\":\"18208\"}],\"center\":[{\"id\":\"18211\"},{\"id\":\"18215\"}],\"left\":[{\"id\":\"18212\"}],\"renderers\":[{\"id\":\"18234\"}],\"title\":{\"id\":\"18236\"},\"toolbar\":{\"id\":\"18223\"},\"x_range\":{\"id\":\"18200\"},\"x_scale\":{\"id\":\"18204\"},\"y_range\":{\"id\":\"18202\"},\"y_scale\":{\"id\":\"18206\"}},\"id\":\"18199\",\"subtype\":\"Figure\",\"type\":\"Plot\"},{\"attributes\":{\"data\":{\"x\":[0.05707762557077625,0.016736401673640166,0.04728132387706856,0.047505938242280284,0.035794183445190156,0.0400890868596882,0.02546296296296296,0.04367816091954023,0.011363636363636364,0.0499001996007984,0.04265402843601896,0.032036613272311214,0.04128440366972477,0.04356435643564356,0.02237136465324385,0.038288288288288286,0.018475750577367205,0.039627039627039624,0.0368763557483731,0.0319634703196347,0.03278688524590164,0.04219409282700422,0.02745995423340961,0.03777777777777778,0.0400890868596882,0.0273972602739726,0.03171247357293869,0.038202247191011236,0.027777777777777776,0.0334075723830735,0.027149321266968326,0.03956043956043956,0.029345372460496615,0.041379310344827586,0.05506607929515418,0.02643171806167401,0.0387243735763098,0.013636363636363636,0.029017857142857144,0.033936651583710405,0.03792415169660679,0.03044496487119438,0.03325942350332594,0.03747072599531616,0.03711790393013101,0.01627906976744186,0.013636363636363636,0.038288288288288286,0.04288939051918736,0.04072398190045249,0.03711790393013101,0.03764705882352941,0.0481651376146789,0.030162412993039442,0.0408997955010225,0.03611738148984198,0.02666666666666667,0.0365296803652968,0.038288288288288286,0.02754237288135593,0.03017241379310345,0.029535864978902954,0.04054054054054054,0.04176334106728538,0.017467248908296942,0.029545454545454545,0.02848575712143928,0.020689655172413793,0.033783783783783786,0.025522041763341066,0.034013605442176874,0.03711790393013101,0.018255578093306288,0.044859813084112146,0.040983606557377046,0.04878048780487805,0.03877551020408163,0.018518518518518517,0.023148148148148147,0.027149321266968326,0.016563146997929608,0.02004008016032064,0.02733485193621868,0.036613272311212815,0.0175054704595186,0.03644646924829157,0.017057569296375266,0.017057569296375266,0.014925373134328358,0.03456221198156682,0.03686635944700461,0.03686635944700461,0.03917050691244239,0.041474654377880185,0.027842227378190254,0.03103448275862069,0.037122969837587005,0.0273972602739726,0.03636363636363636,0.015909090909090907,0.036036036036036036,0.0273972602739726,0.02517162471395881,0.02968036529680365,0.030162412993039442,0.0273972602739726,0.02517162471395881,0.020689655172413793,0.027777777777777776,0.027522935779816515,0.0273972602739726,0.024830699774266364,0.01366742596810934,0.038202247191011236,0.05238095238095238],\"y\":[0.6214550979068197,0.3994085176855399,0.2851670477800451,0.3925463139090084,0.2702402661513399,0.432061685620977,0.3941462663017556,0.4362451805566799,0.6604552208005426,0.5563730454385489,0.3134469652835711,0.5176625673713895,0.29458573520012254,0.6104893769690102,0.6066485428756286,0.5303426236068649,0.31856723950449106,0.6012489870353532,0.35044160109251976,0.5011939062196334,0.26988138782758875,0.5936551090651857,0.3697609754853193,0.6436863200066489,0.4616378165944257,0.7189011157425981,0.7321885437632035,0.3393312429608442,0.46248965043612583,0.5384967293987223,0.6561466628826449,0.5573534104769428,0.3494858518464715,0.5892757515896828,0.409548278484123,0.480491303157634,0.527548236805966,0.6813901247639091,0.7471648802454562,0.5579611479572558,0.653411396022395,0.34123190636943734,0.6069007764404369,0.2968308145349908,0.41307256750236687,0.4330160278754406,0.36442138565913607,0.5223887952113582,0.6655573299550923,0.6701232937245032,0.39022929006636004,0.35283906464335824,0.5481824835325689,0.7136233373179821,0.6677882621956012,0.38841741990717416,0.27633708893783704,0.5185249426669587,0.5127325660881997,0.4636155070752707,0.3670806060968197,0.5512825664578923,0.47701508164097833,0.3449876452749862,0.5631126863812335,0.25330577095161927,0.556836852789952,0.2859329500485328,0.6405938043196072,0.4368551230358618,0.5381025146242477,0.40336548767416935,0.30467776311034744,0.5898382910760631,0.6236364077610999,0.6791304308972272,0.6663858608722584,0.34717068193657913,0.37695898246256665,0.6563259786882653,0.23770448791760188,0.3146988546603475,0.5789368104312939,0.7305599084350982,0.49543930290280164,0.3132831176804368,0.4544143222506394,0.4076989670149079,0.41878970724846926,0.3164585736848883,0.3243880812292365,0.3245036858279444,0.2883630109992476,0.28919402319036686,0.328175332862062,0.48465357707063866,0.346327029360698,0.7214412872304006,0.35909420320035984,0.5547002247484424,0.508894769536912,0.7304496584927127,0.40506778011364514,0.7276396728649653,0.33777020500615523,0.6776867521828177,0.41488191202938696,0.3938264258377672,0.398032196376832,0.43400218134468804,0.7145283211289727,0.4772025510218359,0.6490562785486512,0.4769483062149186,0.4878755268844504]},\"selected\":{\"id\":\"18765\"},\"selection_policy\":{\"id\":\"18764\"}},\"id\":\"18230\",\"type\":\"ColumnDataSource\"},{\"attributes\":{},\"id\":\"18762\",\"type\":\"BasicTickFormatter\"},{\"attributes\":{},\"id\":\"18206\",\"type\":\"LinearScale\"},{\"attributes\":{},\"id\":\"18202\",\"type\":\"DataRange1d\"},{\"attributes\":{},\"id\":\"18204\",\"type\":\"LinearScale\"},{\"attributes\":{},\"id\":\"18760\",\"type\":\"AllLabels\"},{\"attributes\":{\"coordinates\":null,\"data_source\":{\"id\":\"18230\"},\"glyph\":{\"id\":\"18231\"},\"group\":null,\"hover_glyph\":null,\"muted_glyph\":{\"id\":\"18233\"},\"nonselection_glyph\":{\"id\":\"18232\"},\"view\":{\"id\":\"18235\"}},\"id\":\"18234\",\"type\":\"GlyphRenderer\"},{\"attributes\":{},\"id\":\"18759\",\"type\":\"BasicTickFormatter\"},{\"attributes\":{\"fill_alpha\":{\"value\":0.2},\"fill_color\":{\"value\":\"#1f77b4\"},\"hatch_alpha\":{\"value\":0.2},\"line_alpha\":{\"value\":0.2},\"line_color\":{\"value\":\"#1f77b4\"},\"x\":{\"field\":\"x\"},\"y\":{\"field\":\"y\"}},\"id\":\"18233\",\"type\":\"Circle\"},{\"attributes\":{},\"id\":\"18217\",\"type\":\"WheelZoomTool\"},{\"attributes\":{},\"id\":\"18209\",\"type\":\"BasicTicker\"},{\"attributes\":{\"axis\":{\"id\":\"18208\"},\"coordinates\":null,\"group\":null,\"ticker\":null},\"id\":\"18211\",\"type\":\"Grid\"},{\"attributes\":{\"axis_label\":\"GC Content\",\"coordinates\":null,\"formatter\":{\"id\":\"18759\"},\"group\":null,\"major_label_policy\":{\"id\":\"18760\"},\"ticker\":{\"id\":\"18213\"}},\"id\":\"18212\",\"type\":\"LinearAxis\"},{\"attributes\":{\"axis\":{\"id\":\"18212\"},\"coordinates\":null,\"dimension\":1,\"group\":null,\"ticker\":null},\"id\":\"18215\",\"type\":\"Grid\"},{\"attributes\":{},\"id\":\"18213\",\"type\":\"BasicTicker\"},{\"attributes\":{},\"id\":\"18764\",\"type\":\"UnionRenderers\"},{\"attributes\":{\"fill_color\":{\"value\":\"#1f77b4\"},\"line_color\":{\"value\":\"#1f77b4\"},\"x\":{\"field\":\"x\"},\"y\":{\"field\":\"y\"}},\"id\":\"18231\",\"type\":\"Circle\"},{\"attributes\":{},\"id\":\"18221\",\"type\":\"HelpTool\"},{\"attributes\":{},\"id\":\"18216\",\"type\":\"PanTool\"},{\"attributes\":{},\"id\":\"18765\",\"type\":\"Selection\"},{\"attributes\":{\"overlay\":{\"id\":\"18222\"}},\"id\":\"18218\",\"type\":\"BoxZoomTool\"},{\"attributes\":{\"source\":{\"id\":\"18230\"}},\"id\":\"18235\",\"type\":\"CDSView\"},{\"attributes\":{},\"id\":\"18219\",\"type\":\"SaveTool\"},{\"attributes\":{},\"id\":\"18220\",\"type\":\"ResetTool\"},{\"attributes\":{},\"id\":\"18200\",\"type\":\"DataRange1d\"},{\"attributes\":{\"coordinates\":null,\"group\":null,\"text\":\"M\"},\"id\":\"18236\",\"type\":\"Title\"},{\"attributes\":{\"bottom_units\":\"screen\",\"coordinates\":null,\"fill_alpha\":0.5,\"fill_color\":\"lightgrey\",\"group\":null,\"left_units\":\"screen\",\"level\":\"overlay\",\"line_alpha\":1.0,\"line_color\":\"black\",\"line_dash\":[4,4],\"line_width\":2,\"right_units\":\"screen\",\"syncable\":false,\"top_units\":\"screen\"},\"id\":\"18222\",\"type\":\"BoxAnnotation\"},{\"attributes\":{\"tools\":[{\"id\":\"18216\"},{\"id\":\"18217\"},{\"id\":\"18218\"},{\"id\":\"18219\"},{\"id\":\"18220\"},{\"id\":\"18221\"}]},\"id\":\"18223\",\"type\":\"Toolbar\"},{\"attributes\":{\"fill_alpha\":{\"value\":0.1},\"fill_color\":{\"value\":\"#1f77b4\"},\"hatch_alpha\":{\"value\":0.1},\"line_alpha\":{\"value\":0.1},\"line_color\":{\"value\":\"#1f77b4\"},\"x\":{\"field\":\"x\"},\"y\":{\"field\":\"y\"}},\"id\":\"18232\",\"type\":\"Circle\"},{\"attributes\":{},\"id\":\"18763\",\"type\":\"AllLabels\"},{\"attributes\":{\"axis_label\":\"M Frequency\",\"coordinates\":null,\"formatter\":{\"id\":\"18762\"},\"group\":null,\"major_label_policy\":{\"id\":\"18763\"},\"ticker\":{\"id\":\"18209\"}},\"id\":\"18208\",\"type\":\"LinearAxis\"}],\"root_ids\":[\"18199\"]},\"title\":\"Bokeh Application\",\"version\":\"2.4.3\"}};\n",
       "  const render_items = [{\"docid\":\"e50b9caa-39c0-4290-ba07-c2d972d9712e\",\"root_ids\":[\"18199\"],\"roots\":{\"18199\":\"eb434b2f-ca9e-433a-8a26-5d7b6993f496\"}}];\n",
       "  root.Bokeh.embed.embed_items_notebook(docs_json, render_items);\n",
       "  }\n",
       "  if (root.Bokeh !== undefined) {\n",
       "    embed_document(root);\n",
       "  } else {\n",
       "    let attempts = 0;\n",
       "    const timer = setInterval(function(root) {\n",
       "      if (root.Bokeh !== undefined) {\n",
       "        clearInterval(timer);\n",
       "        embed_document(root);\n",
       "      } else {\n",
       "        attempts++;\n",
       "        if (attempts > 100) {\n",
       "          clearInterval(timer);\n",
       "          console.log(\"Bokeh: ERROR: Unable to run BokehJS code because BokehJS library is missing\");\n",
       "        }\n",
       "      }\n",
       "    }, 10, root)\n",
       "  }\n",
       "})(window);"
      ],
      "application/vnd.bokehjs_exec.v0+json": ""
     },
     "metadata": {
      "application/vnd.bokehjs_exec.v0+json": {
       "id": "18199"
      }
     },
     "output_type": "display_data"
    },
    {
     "data": {
      "text/html": [
       "\n",
       "  <div class=\"bk-root\" id=\"f8866dba-b8e8-403b-8d1a-527f2772898a\" data-root-id=\"18822\"></div>\n"
      ]
     },
     "metadata": {},
     "output_type": "display_data"
    },
    {
     "data": {
      "application/javascript": [
       "(function(root) {\n",
       "  function embed_document(root) {\n",
       "  const docs_json = {\"b5c02ba5-2d71-4e98-b60c-cf3995a136bd\":{\"defs\":[],\"roots\":{\"references\":[{\"attributes\":{\"below\":[{\"id\":\"18831\"}],\"center\":[{\"id\":\"18834\"},{\"id\":\"18838\"}],\"left\":[{\"id\":\"18835\"}],\"renderers\":[{\"id\":\"18857\"}],\"title\":{\"id\":\"18859\"},\"toolbar\":{\"id\":\"18846\"},\"x_range\":{\"id\":\"18823\"},\"x_scale\":{\"id\":\"18827\"},\"y_range\":{\"id\":\"18825\"},\"y_scale\":{\"id\":\"18829\"}},\"id\":\"18822\",\"subtype\":\"Figure\",\"type\":\"Plot\"},{\"attributes\":{},\"id\":\"18840\",\"type\":\"WheelZoomTool\"},{\"attributes\":{},\"id\":\"18836\",\"type\":\"BasicTicker\"},{\"attributes\":{\"source\":{\"id\":\"18853\"}},\"id\":\"18858\",\"type\":\"CDSView\"},{\"attributes\":{\"coordinates\":null,\"data_source\":{\"id\":\"18853\"},\"glyph\":{\"id\":\"18854\"},\"group\":null,\"hover_glyph\":null,\"muted_glyph\":{\"id\":\"18856\"},\"nonselection_glyph\":{\"id\":\"18855\"},\"view\":{\"id\":\"18858\"}},\"id\":\"18857\",\"type\":\"GlyphRenderer\"},{\"attributes\":{},\"id\":\"18844\",\"type\":\"HelpTool\"},{\"attributes\":{},\"id\":\"18839\",\"type\":\"PanTool\"},{\"attributes\":{},\"id\":\"18823\",\"type\":\"DataRange1d\"},{\"attributes\":{\"overlay\":{\"id\":\"18845\"}},\"id\":\"18841\",\"type\":\"BoxZoomTool\"},{\"attributes\":{},\"id\":\"18842\",\"type\":\"SaveTool\"},{\"attributes\":{},\"id\":\"18843\",\"type\":\"ResetTool\"},{\"attributes\":{},\"id\":\"19398\",\"type\":\"UnionRenderers\"},{\"attributes\":{\"coordinates\":null,\"group\":null,\"text\":\"A\"},\"id\":\"18859\",\"type\":\"Title\"},{\"attributes\":{\"bottom_units\":\"screen\",\"coordinates\":null,\"fill_alpha\":0.5,\"fill_color\":\"lightgrey\",\"group\":null,\"left_units\":\"screen\",\"level\":\"overlay\",\"line_alpha\":1.0,\"line_color\":\"black\",\"line_dash\":[4,4],\"line_width\":2,\"right_units\":\"screen\",\"syncable\":false,\"top_units\":\"screen\"},\"id\":\"18845\",\"type\":\"BoxAnnotation\"},{\"attributes\":{},\"id\":\"19399\",\"type\":\"Selection\"},{\"attributes\":{\"fill_alpha\":{\"value\":0.1},\"fill_color\":{\"value\":\"#1f77b4\"},\"hatch_alpha\":{\"value\":0.1},\"line_alpha\":{\"value\":0.1},\"line_color\":{\"value\":\"#1f77b4\"},\"x\":{\"field\":\"x\"},\"y\":{\"field\":\"y\"}},\"id\":\"18855\",\"type\":\"Circle\"},{\"attributes\":{\"data\":{\"x\":[0.0730593607305936,0.07740585774058577,0.07092198581560284,0.0831353919239905,0.07606263982102908,0.0801781737193764,0.09027777777777778,0.07126436781609195,0.10909090909090909,0.09580838323353294,0.08530805687203792,0.07551487414187644,0.07568807339449542,0.100990099009901,0.10738255033557047,0.07657657657657657,0.08314087759815242,0.09324009324009325,0.06073752711496746,0.0776255707762557,0.04918032786885246,0.06329113924050633,0.06864988558352403,0.10888888888888888,0.066815144766147,0.08904109589041095,0.09513742071881606,0.07191011235955057,0.0787037037037037,0.0779510022271715,0.07918552036199095,0.1010989010989011,0.09932279909706546,0.06896551724137931,0.07929515418502203,0.0947136563876652,0.0888382687927107,0.07954545454545454,0.09151785714285714,0.08597285067873303,0.08782435129740519,0.08665105386416862,0.07982261640798226,0.06088992974238876,0.06768558951965066,0.07674418604651163,0.09772727272727273,0.09234234234234234,0.10835214446952596,0.08597285067873303,0.06768558951965066,0.08470588235294117,0.08486238532110092,0.07192575406032482,0.07157464212678936,0.0835214446952596,0.07111111111111111,0.07534246575342465,0.09234234234234234,0.12076271186440678,0.06896551724137931,0.10759493670886076,0.0945945945945946,0.07192575406032482,0.09388646288209607,0.04318181818181818,0.06446776611694154,0.052873563218390804,0.09684684684684684,0.09048723897911833,0.08390022675736962,0.06768558951965066,0.056795131845841784,0.10841121495327102,0.07377049180327869,0.07926829268292683,0.07959183673469387,0.06481481481481481,0.05555555555555555,0.07918552036199095,0.047619047619047616,0.05811623246492986,0.07972665148063782,0.08924485125858124,0.07658643326039387,0.0888382687927107,0.07889125799573561,0.07462686567164178,0.07036247334754797,0.0576036866359447,0.0576036866359447,0.055299539170506916,0.04838709677419355,0.04838709677419355,0.08816705336426914,0.08103448275862069,0.08352668213457076,0.0958904109589041,0.07272727272727272,0.08863636363636364,0.09234234234234234,0.08904109589041095,0.08924485125858124,0.091324200913242,0.08352668213457076,0.0958904109589041,0.08695652173913043,0.06896551724137931,0.05555555555555555,0.0871559633027523,0.1004566210045662,0.07674943566591422,0.09339407744874716,0.10112359550561797,0.09285714285714286],\"y\":[0.6214550979068197,0.3994085176855399,0.2851670477800451,0.3925463139090084,0.2702402661513399,0.432061685620977,0.3941462663017556,0.4362451805566799,0.6604552208005426,0.5563730454385489,0.3134469652835711,0.5176625673713895,0.29458573520012254,0.6104893769690102,0.6066485428756286,0.5303426236068649,0.31856723950449106,0.6012489870353532,0.35044160109251976,0.5011939062196334,0.26988138782758875,0.5936551090651857,0.3697609754853193,0.6436863200066489,0.4616378165944257,0.7189011157425981,0.7321885437632035,0.3393312429608442,0.46248965043612583,0.5384967293987223,0.6561466628826449,0.5573534104769428,0.3494858518464715,0.5892757515896828,0.409548278484123,0.480491303157634,0.527548236805966,0.6813901247639091,0.7471648802454562,0.5579611479572558,0.653411396022395,0.34123190636943734,0.6069007764404369,0.2968308145349908,0.41307256750236687,0.4330160278754406,0.36442138565913607,0.5223887952113582,0.6655573299550923,0.6701232937245032,0.39022929006636004,0.35283906464335824,0.5481824835325689,0.7136233373179821,0.6677882621956012,0.38841741990717416,0.27633708893783704,0.5185249426669587,0.5127325660881997,0.4636155070752707,0.3670806060968197,0.5512825664578923,0.47701508164097833,0.3449876452749862,0.5631126863812335,0.25330577095161927,0.556836852789952,0.2859329500485328,0.6405938043196072,0.4368551230358618,0.5381025146242477,0.40336548767416935,0.30467776311034744,0.5898382910760631,0.6236364077610999,0.6791304308972272,0.6663858608722584,0.34717068193657913,0.37695898246256665,0.6563259786882653,0.23770448791760188,0.3146988546603475,0.5789368104312939,0.7305599084350982,0.49543930290280164,0.3132831176804368,0.4544143222506394,0.4076989670149079,0.41878970724846926,0.3164585736848883,0.3243880812292365,0.3245036858279444,0.2883630109992476,0.28919402319036686,0.328175332862062,0.48465357707063866,0.346327029360698,0.7214412872304006,0.35909420320035984,0.5547002247484424,0.508894769536912,0.7304496584927127,0.40506778011364514,0.7276396728649653,0.33777020500615523,0.6776867521828177,0.41488191202938696,0.3938264258377672,0.398032196376832,0.43400218134468804,0.7145283211289727,0.4772025510218359,0.6490562785486512,0.4769483062149186,0.4878755268844504]},\"selected\":{\"id\":\"19399\"},\"selection_policy\":{\"id\":\"19398\"}},\"id\":\"18853\",\"type\":\"ColumnDataSource\"},{\"attributes\":{\"fill_alpha\":{\"value\":0.2},\"fill_color\":{\"value\":\"#1f77b4\"},\"hatch_alpha\":{\"value\":0.2},\"line_alpha\":{\"value\":0.2},\"line_color\":{\"value\":\"#1f77b4\"},\"x\":{\"field\":\"x\"},\"y\":{\"field\":\"y\"}},\"id\":\"18856\",\"type\":\"Circle\"},{\"attributes\":{\"axis_label\":\"A Frequency\",\"coordinates\":null,\"formatter\":{\"id\":\"19396\"},\"group\":null,\"major_label_policy\":{\"id\":\"19397\"},\"ticker\":{\"id\":\"18832\"}},\"id\":\"18831\",\"type\":\"LinearAxis\"},{\"attributes\":{\"tools\":[{\"id\":\"18839\"},{\"id\":\"18840\"},{\"id\":\"18841\"},{\"id\":\"18842\"},{\"id\":\"18843\"},{\"id\":\"18844\"}]},\"id\":\"18846\",\"type\":\"Toolbar\"},{\"attributes\":{},\"id\":\"19393\",\"type\":\"BasicTickFormatter\"},{\"attributes\":{},\"id\":\"18829\",\"type\":\"LinearScale\"},{\"attributes\":{\"fill_color\":{\"value\":\"#1f77b4\"},\"line_color\":{\"value\":\"#1f77b4\"},\"x\":{\"field\":\"x\"},\"y\":{\"field\":\"y\"}},\"id\":\"18854\",\"type\":\"Circle\"},{\"attributes\":{},\"id\":\"18825\",\"type\":\"DataRange1d\"},{\"attributes\":{},\"id\":\"18827\",\"type\":\"LinearScale\"},{\"attributes\":{},\"id\":\"19394\",\"type\":\"AllLabels\"},{\"attributes\":{\"axis\":{\"id\":\"18831\"},\"coordinates\":null,\"group\":null,\"ticker\":null},\"id\":\"18834\",\"type\":\"Grid\"},{\"attributes\":{},\"id\":\"18832\",\"type\":\"BasicTicker\"},{\"attributes\":{},\"id\":\"19396\",\"type\":\"BasicTickFormatter\"},{\"attributes\":{},\"id\":\"19397\",\"type\":\"AllLabels\"},{\"attributes\":{\"axis_label\":\"GC Content\",\"coordinates\":null,\"formatter\":{\"id\":\"19393\"},\"group\":null,\"major_label_policy\":{\"id\":\"19394\"},\"ticker\":{\"id\":\"18836\"}},\"id\":\"18835\",\"type\":\"LinearAxis\"},{\"attributes\":{\"axis\":{\"id\":\"18835\"},\"coordinates\":null,\"dimension\":1,\"group\":null,\"ticker\":null},\"id\":\"18838\",\"type\":\"Grid\"}],\"root_ids\":[\"18822\"]},\"title\":\"Bokeh Application\",\"version\":\"2.4.3\"}};\n",
       "  const render_items = [{\"docid\":\"b5c02ba5-2d71-4e98-b60c-cf3995a136bd\",\"root_ids\":[\"18822\"],\"roots\":{\"18822\":\"f8866dba-b8e8-403b-8d1a-527f2772898a\"}}];\n",
       "  root.Bokeh.embed.embed_items_notebook(docs_json, render_items);\n",
       "  }\n",
       "  if (root.Bokeh !== undefined) {\n",
       "    embed_document(root);\n",
       "  } else {\n",
       "    let attempts = 0;\n",
       "    const timer = setInterval(function(root) {\n",
       "      if (root.Bokeh !== undefined) {\n",
       "        clearInterval(timer);\n",
       "        embed_document(root);\n",
       "      } else {\n",
       "        attempts++;\n",
       "        if (attempts > 100) {\n",
       "          clearInterval(timer);\n",
       "          console.log(\"Bokeh: ERROR: Unable to run BokehJS code because BokehJS library is missing\");\n",
       "        }\n",
       "      }\n",
       "    }, 10, root)\n",
       "  }\n",
       "})(window);"
      ],
      "application/vnd.bokehjs_exec.v0+json": ""
     },
     "metadata": {
      "application/vnd.bokehjs_exec.v0+json": {
       "id": "18822"
      }
     },
     "output_type": "display_data"
    },
    {
     "data": {
      "text/html": [
       "\n",
       "  <div class=\"bk-root\" id=\"ab093649-07ba-4706-879b-351845afd365\" data-root-id=\"19456\"></div>\n"
      ]
     },
     "metadata": {},
     "output_type": "display_data"
    },
    {
     "data": {
      "application/javascript": [
       "(function(root) {\n",
       "  function embed_document(root) {\n",
       "  const docs_json = {\"9f832d2b-96be-477b-9768-c8e43202b6d6\":{\"defs\":[],\"roots\":{\"references\":[{\"attributes\":{\"below\":[{\"id\":\"19465\"}],\"center\":[{\"id\":\"19468\"},{\"id\":\"19472\"}],\"left\":[{\"id\":\"19469\"}],\"renderers\":[{\"id\":\"19491\"}],\"title\":{\"id\":\"19493\"},\"toolbar\":{\"id\":\"19480\"},\"x_range\":{\"id\":\"19457\"},\"x_scale\":{\"id\":\"19461\"},\"y_range\":{\"id\":\"19459\"},\"y_scale\":{\"id\":\"19463\"}},\"id\":\"19456\",\"subtype\":\"Figure\",\"type\":\"Plot\"},{\"attributes\":{},\"id\":\"20044\",\"type\":\"Selection\"},{\"attributes\":{\"data\":{\"x\":[0.0091324200913242,0.0,0.0,0.0,0.006711409395973154,0.0,0.0,0.004597701149425287,0.0,0.003992015968063872,0.002369668246445498,0.004576659038901602,0.0,0.007920792079207921,0.0022371364653243847,0.0,0.0,0.002331002331002331,0.0021691973969631237,0.01141552511415525,0.00234192037470726,0.002109704641350211,0.011441647597254004,0.0022222222222222222,0.0,0.0045662100456621,0.0021141649048625794,0.0,0.0,0.0,0.006787330316742082,0.002197802197802198,0.004514672686230248,0.004597701149425287,0.0022026431718061676,0.0022026431718061676,0.004555808656036446,0.0,0.002232142857142857,0.0,0.003992015968063872,0.0,0.004434589800443459,0.00234192037470726,0.006550218340611353,0.0,0.0,0.0045045045045045045,0.004514672686230248,0.004524886877828055,0.006550218340611353,0.0,0.011467889908256881,0.004640371229698376,0.0,0.002257336343115124,0.0,0.00684931506849315,0.0045045045045045045,0.00211864406779661,0.0,0.0,0.0045045045045045045,0.002320185614849188,0.0,0.011363636363636364,0.0074962518740629685,0.0,0.0022522522522522522,0.0,0.0,0.008733624454148471,0.006085192697768763,0.005607476635514018,0.0020491803278688526,0.0,0.0020408163265306124,0.0023148148148148147,0.0,0.006787330316742082,0.002070393374741201,0.0,0.00683371298405467,0.006864988558352402,0.002188183807439825,0.004555808656036446,0.0021321961620469083,0.0021321961620469083,0.0021321961620469083,0.0069124423963133645,0.0069124423963133645,0.0069124423963133645,0.0069124423963133645,0.0069124423963133645,0.0,0.0017241379310344827,0.0,0.0091324200913242,0.0,0.0022727272727272726,0.0045045045045045045,0.0091324200913242,0.002288329519450801,0.0045662100456621,0.0,0.0091324200913242,0.0,0.0,0.0,0.0022935779816513763,0.0045662100456621,0.002257336343115124,0.0,0.0044943820224719105,0.0],\"y\":[0.6214550979068197,0.3994085176855399,0.2851670477800451,0.3925463139090084,0.2702402661513399,0.432061685620977,0.3941462663017556,0.4362451805566799,0.6604552208005426,0.5563730454385489,0.3134469652835711,0.5176625673713895,0.29458573520012254,0.6104893769690102,0.6066485428756286,0.5303426236068649,0.31856723950449106,0.6012489870353532,0.35044160109251976,0.5011939062196334,0.26988138782758875,0.5936551090651857,0.3697609754853193,0.6436863200066489,0.4616378165944257,0.7189011157425981,0.7321885437632035,0.3393312429608442,0.46248965043612583,0.5384967293987223,0.6561466628826449,0.5573534104769428,0.3494858518464715,0.5892757515896828,0.409548278484123,0.480491303157634,0.527548236805966,0.6813901247639091,0.7471648802454562,0.5579611479572558,0.653411396022395,0.34123190636943734,0.6069007764404369,0.2968308145349908,0.41307256750236687,0.4330160278754406,0.36442138565913607,0.5223887952113582,0.6655573299550923,0.6701232937245032,0.39022929006636004,0.35283906464335824,0.5481824835325689,0.7136233373179821,0.6677882621956012,0.38841741990717416,0.27633708893783704,0.5185249426669587,0.5127325660881997,0.4636155070752707,0.3670806060968197,0.5512825664578923,0.47701508164097833,0.3449876452749862,0.5631126863812335,0.25330577095161927,0.556836852789952,0.2859329500485328,0.6405938043196072,0.4368551230358618,0.5381025146242477,0.40336548767416935,0.30467776311034744,0.5898382910760631,0.6236364077610999,0.6791304308972272,0.6663858608722584,0.34717068193657913,0.37695898246256665,0.6563259786882653,0.23770448791760188,0.3146988546603475,0.5789368104312939,0.7305599084350982,0.49543930290280164,0.3132831176804368,0.4544143222506394,0.4076989670149079,0.41878970724846926,0.3164585736848883,0.3243880812292365,0.3245036858279444,0.2883630109992476,0.28919402319036686,0.328175332862062,0.48465357707063866,0.346327029360698,0.7214412872304006,0.35909420320035984,0.5547002247484424,0.508894769536912,0.7304496584927127,0.40506778011364514,0.7276396728649653,0.33777020500615523,0.6776867521828177,0.41488191202938696,0.3938264258377672,0.398032196376832,0.43400218134468804,0.7145283211289727,0.4772025510218359,0.6490562785486512,0.4769483062149186,0.4878755268844504]},\"selected\":{\"id\":\"20044\"},\"selection_policy\":{\"id\":\"20043\"}},\"id\":\"19487\",\"type\":\"ColumnDataSource\"},{\"attributes\":{\"source\":{\"id\":\"19487\"}},\"id\":\"19492\",\"type\":\"CDSView\"},{\"attributes\":{\"fill_alpha\":{\"value\":0.1},\"fill_color\":{\"value\":\"#1f77b4\"},\"hatch_alpha\":{\"value\":0.1},\"line_alpha\":{\"value\":0.1},\"line_color\":{\"value\":\"#1f77b4\"},\"x\":{\"field\":\"x\"},\"y\":{\"field\":\"y\"}},\"id\":\"19489\",\"type\":\"Circle\"},{\"attributes\":{},\"id\":\"19461\",\"type\":\"LinearScale\"},{\"attributes\":{\"tools\":[{\"id\":\"19473\"},{\"id\":\"19474\"},{\"id\":\"19475\"},{\"id\":\"19476\"},{\"id\":\"19477\"},{\"id\":\"19478\"}]},\"id\":\"19480\",\"type\":\"Toolbar\"},{\"attributes\":{\"axis_label\":\"C Frequency\",\"coordinates\":null,\"formatter\":{\"id\":\"20041\"},\"group\":null,\"major_label_policy\":{\"id\":\"20042\"},\"ticker\":{\"id\":\"19466\"}},\"id\":\"19465\",\"type\":\"LinearAxis\"},{\"attributes\":{},\"id\":\"20038\",\"type\":\"BasicTickFormatter\"},{\"attributes\":{\"coordinates\":null,\"data_source\":{\"id\":\"19487\"},\"glyph\":{\"id\":\"19488\"},\"group\":null,\"hover_glyph\":null,\"muted_glyph\":{\"id\":\"19490\"},\"nonselection_glyph\":{\"id\":\"19489\"},\"view\":{\"id\":\"19492\"}},\"id\":\"19491\",\"type\":\"GlyphRenderer\"},{\"attributes\":{},\"id\":\"19459\",\"type\":\"DataRange1d\"},{\"attributes\":{},\"id\":\"20039\",\"type\":\"AllLabels\"},{\"attributes\":{},\"id\":\"19466\",\"type\":\"BasicTicker\"},{\"attributes\":{\"axis\":{\"id\":\"19465\"},\"coordinates\":null,\"group\":null,\"ticker\":null},\"id\":\"19468\",\"type\":\"Grid\"},{\"attributes\":{},\"id\":\"20041\",\"type\":\"BasicTickFormatter\"},{\"attributes\":{},\"id\":\"19463\",\"type\":\"LinearScale\"},{\"attributes\":{\"coordinates\":null,\"group\":null,\"text\":\"C\"},\"id\":\"19493\",\"type\":\"Title\"},{\"attributes\":{\"fill_color\":{\"value\":\"#1f77b4\"},\"line_color\":{\"value\":\"#1f77b4\"},\"x\":{\"field\":\"x\"},\"y\":{\"field\":\"y\"}},\"id\":\"19488\",\"type\":\"Circle\"},{\"attributes\":{\"axis_label\":\"GC Content\",\"coordinates\":null,\"formatter\":{\"id\":\"20038\"},\"group\":null,\"major_label_policy\":{\"id\":\"20039\"},\"ticker\":{\"id\":\"19470\"}},\"id\":\"19469\",\"type\":\"LinearAxis\"},{\"attributes\":{},\"id\":\"20042\",\"type\":\"AllLabels\"},{\"attributes\":{\"axis\":{\"id\":\"19469\"},\"coordinates\":null,\"dimension\":1,\"group\":null,\"ticker\":null},\"id\":\"19472\",\"type\":\"Grid\"},{\"attributes\":{},\"id\":\"19470\",\"type\":\"BasicTicker\"},{\"attributes\":{},\"id\":\"19474\",\"type\":\"WheelZoomTool\"},{\"attributes\":{},\"id\":\"19478\",\"type\":\"HelpTool\"},{\"attributes\":{},\"id\":\"19473\",\"type\":\"PanTool\"},{\"attributes\":{\"overlay\":{\"id\":\"19479\"}},\"id\":\"19475\",\"type\":\"BoxZoomTool\"},{\"attributes\":{},\"id\":\"19476\",\"type\":\"SaveTool\"},{\"attributes\":{},\"id\":\"19457\",\"type\":\"DataRange1d\"},{\"attributes\":{\"fill_alpha\":{\"value\":0.2},\"fill_color\":{\"value\":\"#1f77b4\"},\"hatch_alpha\":{\"value\":0.2},\"line_alpha\":{\"value\":0.2},\"line_color\":{\"value\":\"#1f77b4\"},\"x\":{\"field\":\"x\"},\"y\":{\"field\":\"y\"}},\"id\":\"19490\",\"type\":\"Circle\"},{\"attributes\":{},\"id\":\"19477\",\"type\":\"ResetTool\"},{\"attributes\":{},\"id\":\"20043\",\"type\":\"UnionRenderers\"},{\"attributes\":{\"bottom_units\":\"screen\",\"coordinates\":null,\"fill_alpha\":0.5,\"fill_color\":\"lightgrey\",\"group\":null,\"left_units\":\"screen\",\"level\":\"overlay\",\"line_alpha\":1.0,\"line_color\":\"black\",\"line_dash\":[4,4],\"line_width\":2,\"right_units\":\"screen\",\"syncable\":false,\"top_units\":\"screen\"},\"id\":\"19479\",\"type\":\"BoxAnnotation\"}],\"root_ids\":[\"19456\"]},\"title\":\"Bokeh Application\",\"version\":\"2.4.3\"}};\n",
       "  const render_items = [{\"docid\":\"9f832d2b-96be-477b-9768-c8e43202b6d6\",\"root_ids\":[\"19456\"],\"roots\":{\"19456\":\"ab093649-07ba-4706-879b-351845afd365\"}}];\n",
       "  root.Bokeh.embed.embed_items_notebook(docs_json, render_items);\n",
       "  }\n",
       "  if (root.Bokeh !== undefined) {\n",
       "    embed_document(root);\n",
       "  } else {\n",
       "    let attempts = 0;\n",
       "    const timer = setInterval(function(root) {\n",
       "      if (root.Bokeh !== undefined) {\n",
       "        clearInterval(timer);\n",
       "        embed_document(root);\n",
       "      } else {\n",
       "        attempts++;\n",
       "        if (attempts > 100) {\n",
       "          clearInterval(timer);\n",
       "          console.log(\"Bokeh: ERROR: Unable to run BokehJS code because BokehJS library is missing\");\n",
       "        }\n",
       "      }\n",
       "    }, 10, root)\n",
       "  }\n",
       "})(window);"
      ],
      "application/vnd.bokehjs_exec.v0+json": ""
     },
     "metadata": {
      "application/vnd.bokehjs_exec.v0+json": {
       "id": "19456"
      }
     },
     "output_type": "display_data"
    },
    {
     "data": {
      "text/html": [
       "\n",
       "  <div class=\"bk-root\" id=\"d13803e3-989a-42ec-a4f5-d449266ad999\" data-root-id=\"20101\"></div>\n"
      ]
     },
     "metadata": {},
     "output_type": "display_data"
    },
    {
     "data": {
      "application/javascript": [
       "(function(root) {\n",
       "  function embed_document(root) {\n",
       "  const docs_json = {\"c05c24aa-71b4-435c-adaa-a21f007984d9\":{\"defs\":[],\"roots\":{\"references\":[{\"attributes\":{\"below\":[{\"id\":\"20110\"}],\"center\":[{\"id\":\"20113\"},{\"id\":\"20117\"}],\"left\":[{\"id\":\"20114\"}],\"renderers\":[{\"id\":\"20136\"}],\"title\":{\"id\":\"20138\"},\"toolbar\":{\"id\":\"20125\"},\"x_range\":{\"id\":\"20102\"},\"x_scale\":{\"id\":\"20106\"},\"y_range\":{\"id\":\"20104\"},\"y_scale\":{\"id\":\"20108\"}},\"id\":\"20101\",\"subtype\":\"Figure\",\"type\":\"Plot\"},{\"attributes\":{\"axis_label\":\"D Frequency\",\"coordinates\":null,\"formatter\":{\"id\":\"20697\"},\"group\":null,\"major_label_policy\":{\"id\":\"20698\"},\"ticker\":{\"id\":\"20111\"}},\"id\":\"20110\",\"type\":\"LinearAxis\"},{\"attributes\":{},\"id\":\"20694\",\"type\":\"BasicTickFormatter\"},{\"attributes\":{},\"id\":\"20108\",\"type\":\"LinearScale\"},{\"attributes\":{},\"id\":\"20104\",\"type\":\"DataRange1d\"},{\"attributes\":{},\"id\":\"20106\",\"type\":\"LinearScale\"},{\"attributes\":{\"fill_color\":{\"value\":\"#1f77b4\"},\"line_color\":{\"value\":\"#1f77b4\"},\"x\":{\"field\":\"x\"},\"y\":{\"field\":\"y\"}},\"id\":\"20133\",\"type\":\"Circle\"},{\"attributes\":{},\"id\":\"20695\",\"type\":\"AllLabels\"},{\"attributes\":{},\"id\":\"20111\",\"type\":\"BasicTicker\"},{\"attributes\":{\"axis\":{\"id\":\"20110\"},\"coordinates\":null,\"group\":null,\"ticker\":null},\"id\":\"20113\",\"type\":\"Grid\"},{\"attributes\":{},\"id\":\"20697\",\"type\":\"BasicTickFormatter\"},{\"attributes\":{\"axis_label\":\"GC Content\",\"coordinates\":null,\"formatter\":{\"id\":\"20694\"},\"group\":null,\"major_label_policy\":{\"id\":\"20695\"},\"ticker\":{\"id\":\"20115\"}},\"id\":\"20114\",\"type\":\"LinearAxis\"},{\"attributes\":{},\"id\":\"20119\",\"type\":\"WheelZoomTool\"},{\"attributes\":{},\"id\":\"20698\",\"type\":\"AllLabels\"},{\"attributes\":{\"axis\":{\"id\":\"20114\"},\"coordinates\":null,\"dimension\":1,\"group\":null,\"ticker\":null},\"id\":\"20117\",\"type\":\"Grid\"},{\"attributes\":{},\"id\":\"20115\",\"type\":\"BasicTicker\"},{\"attributes\":{\"source\":{\"id\":\"20132\"}},\"id\":\"20137\",\"type\":\"CDSView\"},{\"attributes\":{\"fill_alpha\":{\"value\":0.1},\"fill_color\":{\"value\":\"#1f77b4\"},\"hatch_alpha\":{\"value\":0.1},\"line_alpha\":{\"value\":0.1},\"line_color\":{\"value\":\"#1f77b4\"},\"x\":{\"field\":\"x\"},\"y\":{\"field\":\"y\"}},\"id\":\"20134\",\"type\":\"Circle\"},{\"attributes\":{},\"id\":\"20123\",\"type\":\"HelpTool\"},{\"attributes\":{\"coordinates\":null,\"data_source\":{\"id\":\"20132\"},\"glyph\":{\"id\":\"20133\"},\"group\":null,\"hover_glyph\":null,\"muted_glyph\":{\"id\":\"20135\"},\"nonselection_glyph\":{\"id\":\"20134\"},\"view\":{\"id\":\"20137\"}},\"id\":\"20136\",\"type\":\"GlyphRenderer\"},{\"attributes\":{},\"id\":\"20102\",\"type\":\"DataRange1d\"},{\"attributes\":{},\"id\":\"20118\",\"type\":\"PanTool\"},{\"attributes\":{\"overlay\":{\"id\":\"20124\"}},\"id\":\"20120\",\"type\":\"BoxZoomTool\"},{\"attributes\":{},\"id\":\"20121\",\"type\":\"SaveTool\"},{\"attributes\":{},\"id\":\"20122\",\"type\":\"ResetTool\"},{\"attributes\":{\"data\":{\"x\":[0.02511415525114155,0.01882845188284519,0.01182033096926714,0.019002375296912115,0.020134228187919462,0.022271714922048998,0.020833333333333332,0.022988505747126436,0.011363636363636364,0.01996007984031936,0.011848341232227487,0.011441647597254004,0.01834862385321101,0.02178217821782178,0.013422818791946308,0.024774774774774775,0.023094688221709007,0.02097902097902098,0.013015184381778741,0.0136986301369863,0.01639344262295082,0.0189873417721519,0.009153318077803204,0.02,0.0200445434298441,0.01141552511415525,0.016913319238900635,0.02696629213483146,0.011574074074074073,0.017817371937639197,0.020361990950226245,0.017582417582417582,0.013544018058690745,0.01839080459770115,0.03303964757709251,0.015418502202643172,0.018223234624145785,0.013636363636363636,0.017857142857142856,0.020361990950226245,0.02594810379241517,0.01639344262295082,0.013303769401330377,0.01873536299765808,0.021834061135371178,0.018604651162790697,0.015909090909090907,0.015765765765765764,0.01580135440180587,0.02262443438914027,0.021834061135371178,0.009411764705882352,0.020642201834862386,0.018561484918793503,0.024539877300613498,0.022573363431151242,0.02666666666666667,0.01598173515981735,0.015765765765765764,0.03389830508474576,0.021551724137931036,0.027426160337552744,0.015765765765765764,0.02320185614849188,0.03056768558951965,0.015909090909090907,0.049475262368815595,0.027586206896551724,0.013513513513513514,0.02088167053364269,0.02947845804988662,0.021834061135371178,0.014198782961460446,0.013084112149532711,0.02663934426229508,0.022357723577235773,0.02857142857142857,0.027777777777777776,0.02546296296296296,0.020361990950226245,0.024844720496894408,0.026052104208416832,0.025056947608200455,0.016018306636155607,0.024070021881838075,0.018223234624145785,0.03411513859275053,0.03411513859275053,0.03624733475479744,0.01152073732718894,0.01152073732718894,0.01152073732718894,0.013824884792626729,0.01152073732718894,0.013921113689095127,0.02586206896551724,0.018561484918793503,0.0182648401826484,0.011363636363636364,0.01818181818181818,0.015765765765765764,0.0136986301369863,0.018306636155606407,0.02511415525114155,0.016241299303944315,0.0182648401826484,0.013729977116704805,0.016091954022988506,0.013888888888888888,0.02981651376146789,0.02054794520547945,0.01580135440180587,0.011389521640091117,0.015730337078651686,0.016666666666666666],\"y\":[0.6214550979068197,0.3994085176855399,0.2851670477800451,0.3925463139090084,0.2702402661513399,0.432061685620977,0.3941462663017556,0.4362451805566799,0.6604552208005426,0.5563730454385489,0.3134469652835711,0.5176625673713895,0.29458573520012254,0.6104893769690102,0.6066485428756286,0.5303426236068649,0.31856723950449106,0.6012489870353532,0.35044160109251976,0.5011939062196334,0.26988138782758875,0.5936551090651857,0.3697609754853193,0.6436863200066489,0.4616378165944257,0.7189011157425981,0.7321885437632035,0.3393312429608442,0.46248965043612583,0.5384967293987223,0.6561466628826449,0.5573534104769428,0.3494858518464715,0.5892757515896828,0.409548278484123,0.480491303157634,0.527548236805966,0.6813901247639091,0.7471648802454562,0.5579611479572558,0.653411396022395,0.34123190636943734,0.6069007764404369,0.2968308145349908,0.41307256750236687,0.4330160278754406,0.36442138565913607,0.5223887952113582,0.6655573299550923,0.6701232937245032,0.39022929006636004,0.35283906464335824,0.5481824835325689,0.7136233373179821,0.6677882621956012,0.38841741990717416,0.27633708893783704,0.5185249426669587,0.5127325660881997,0.4636155070752707,0.3670806060968197,0.5512825664578923,0.47701508164097833,0.3449876452749862,0.5631126863812335,0.25330577095161927,0.556836852789952,0.2859329500485328,0.6405938043196072,0.4368551230358618,0.5381025146242477,0.40336548767416935,0.30467776311034744,0.5898382910760631,0.6236364077610999,0.6791304308972272,0.6663858608722584,0.34717068193657913,0.37695898246256665,0.6563259786882653,0.23770448791760188,0.3146988546603475,0.5789368104312939,0.7305599084350982,0.49543930290280164,0.3132831176804368,0.4544143222506394,0.4076989670149079,0.41878970724846926,0.3164585736848883,0.3243880812292365,0.3245036858279444,0.2883630109992476,0.28919402319036686,0.328175332862062,0.48465357707063866,0.346327029360698,0.7214412872304006,0.35909420320035984,0.5547002247484424,0.508894769536912,0.7304496584927127,0.40506778011364514,0.7276396728649653,0.33777020500615523,0.6776867521828177,0.41488191202938696,0.3938264258377672,0.398032196376832,0.43400218134468804,0.7145283211289727,0.4772025510218359,0.6490562785486512,0.4769483062149186,0.4878755268844504]},\"selected\":{\"id\":\"20700\"},\"selection_policy\":{\"id\":\"20699\"}},\"id\":\"20132\",\"type\":\"ColumnDataSource\"},{\"attributes\":{},\"id\":\"20699\",\"type\":\"UnionRenderers\"},{\"attributes\":{\"bottom_units\":\"screen\",\"coordinates\":null,\"fill_alpha\":0.5,\"fill_color\":\"lightgrey\",\"group\":null,\"left_units\":\"screen\",\"level\":\"overlay\",\"line_alpha\":1.0,\"line_color\":\"black\",\"line_dash\":[4,4],\"line_width\":2,\"right_units\":\"screen\",\"syncable\":false,\"top_units\":\"screen\"},\"id\":\"20124\",\"type\":\"BoxAnnotation\"},{\"attributes\":{},\"id\":\"20700\",\"type\":\"Selection\"},{\"attributes\":{\"fill_alpha\":{\"value\":0.2},\"fill_color\":{\"value\":\"#1f77b4\"},\"hatch_alpha\":{\"value\":0.2},\"line_alpha\":{\"value\":0.2},\"line_color\":{\"value\":\"#1f77b4\"},\"x\":{\"field\":\"x\"},\"y\":{\"field\":\"y\"}},\"id\":\"20135\",\"type\":\"Circle\"},{\"attributes\":{\"coordinates\":null,\"group\":null,\"text\":\"D\"},\"id\":\"20138\",\"type\":\"Title\"},{\"attributes\":{\"tools\":[{\"id\":\"20118\"},{\"id\":\"20119\"},{\"id\":\"20120\"},{\"id\":\"20121\"},{\"id\":\"20122\"},{\"id\":\"20123\"}]},\"id\":\"20125\",\"type\":\"Toolbar\"}],\"root_ids\":[\"20101\"]},\"title\":\"Bokeh Application\",\"version\":\"2.4.3\"}};\n",
       "  const render_items = [{\"docid\":\"c05c24aa-71b4-435c-adaa-a21f007984d9\",\"root_ids\":[\"20101\"],\"roots\":{\"20101\":\"d13803e3-989a-42ec-a4f5-d449266ad999\"}}];\n",
       "  root.Bokeh.embed.embed_items_notebook(docs_json, render_items);\n",
       "  }\n",
       "  if (root.Bokeh !== undefined) {\n",
       "    embed_document(root);\n",
       "  } else {\n",
       "    let attempts = 0;\n",
       "    const timer = setInterval(function(root) {\n",
       "      if (root.Bokeh !== undefined) {\n",
       "        clearInterval(timer);\n",
       "        embed_document(root);\n",
       "      } else {\n",
       "        attempts++;\n",
       "        if (attempts > 100) {\n",
       "          clearInterval(timer);\n",
       "          console.log(\"Bokeh: ERROR: Unable to run BokehJS code because BokehJS library is missing\");\n",
       "        }\n",
       "      }\n",
       "    }, 10, root)\n",
       "  }\n",
       "})(window);"
      ],
      "application/vnd.bokehjs_exec.v0+json": ""
     },
     "metadata": {
      "application/vnd.bokehjs_exec.v0+json": {
       "id": "20101"
      }
     },
     "output_type": "display_data"
    },
    {
     "data": {
      "text/html": [
       "\n",
       "  <div class=\"bk-root\" id=\"c6eecc43-1834-4358-95ca-464431d05f21\" data-root-id=\"20757\"></div>\n"
      ]
     },
     "metadata": {},
     "output_type": "display_data"
    },
    {
     "data": {
      "application/javascript": [
       "(function(root) {\n",
       "  function embed_document(root) {\n",
       "  const docs_json = {\"3797b415-3e28-41c9-b732-b4463707fe52\":{\"defs\":[],\"roots\":{\"references\":[{\"attributes\":{\"below\":[{\"id\":\"20766\"}],\"center\":[{\"id\":\"20769\"},{\"id\":\"20773\"}],\"left\":[{\"id\":\"20770\"}],\"renderers\":[{\"id\":\"20792\"}],\"title\":{\"id\":\"20794\"},\"toolbar\":{\"id\":\"20781\"},\"x_range\":{\"id\":\"20758\"},\"x_scale\":{\"id\":\"20762\"},\"y_range\":{\"id\":\"20760\"},\"y_scale\":{\"id\":\"20764\"}},\"id\":\"20757\",\"subtype\":\"Figure\",\"type\":\"Plot\"},{\"attributes\":{},\"id\":\"21362\",\"type\":\"AllLabels\"},{\"attributes\":{},\"id\":\"21364\",\"type\":\"BasicTickFormatter\"},{\"attributes\":{\"axis\":{\"id\":\"20766\"},\"coordinates\":null,\"group\":null,\"ticker\":null},\"id\":\"20769\",\"type\":\"Grid\"},{\"attributes\":{\"coordinates\":null,\"group\":null,\"text\":\"E\"},\"id\":\"20794\",\"type\":\"Title\"},{\"attributes\":{},\"id\":\"20775\",\"type\":\"WheelZoomTool\"},{\"attributes\":{},\"id\":\"21365\",\"type\":\"AllLabels\"},{\"attributes\":{\"axis_label\":\"GC Content\",\"coordinates\":null,\"formatter\":{\"id\":\"21361\"},\"group\":null,\"major_label_policy\":{\"id\":\"21362\"},\"ticker\":{\"id\":\"20771\"}},\"id\":\"20770\",\"type\":\"LinearAxis\"},{\"attributes\":{\"axis\":{\"id\":\"20770\"},\"coordinates\":null,\"dimension\":1,\"group\":null,\"ticker\":null},\"id\":\"20773\",\"type\":\"Grid\"},{\"attributes\":{},\"id\":\"21361\",\"type\":\"BasicTickFormatter\"},{\"attributes\":{},\"id\":\"20771\",\"type\":\"BasicTicker\"},{\"attributes\":{\"fill_color\":{\"value\":\"#1f77b4\"},\"line_color\":{\"value\":\"#1f77b4\"},\"x\":{\"field\":\"x\"},\"y\":{\"field\":\"y\"}},\"id\":\"20789\",\"type\":\"Circle\"},{\"attributes\":{},\"id\":\"20779\",\"type\":\"HelpTool\"},{\"attributes\":{},\"id\":\"20774\",\"type\":\"PanTool\"},{\"attributes\":{},\"id\":\"20767\",\"type\":\"BasicTicker\"},{\"attributes\":{\"overlay\":{\"id\":\"20780\"}},\"id\":\"20776\",\"type\":\"BoxZoomTool\"},{\"attributes\":{},\"id\":\"20777\",\"type\":\"SaveTool\"},{\"attributes\":{},\"id\":\"20778\",\"type\":\"ResetTool\"},{\"attributes\":{},\"id\":\"21366\",\"type\":\"UnionRenderers\"},{\"attributes\":{\"bottom_units\":\"screen\",\"coordinates\":null,\"fill_alpha\":0.5,\"fill_color\":\"lightgrey\",\"group\":null,\"left_units\":\"screen\",\"level\":\"overlay\",\"line_alpha\":1.0,\"line_color\":\"black\",\"line_dash\":[4,4],\"line_width\":2,\"right_units\":\"screen\",\"syncable\":false,\"top_units\":\"screen\"},\"id\":\"20780\",\"type\":\"BoxAnnotation\"},{\"attributes\":{},\"id\":\"21367\",\"type\":\"Selection\"},{\"attributes\":{\"fill_alpha\":{\"value\":0.1},\"fill_color\":{\"value\":\"#1f77b4\"},\"hatch_alpha\":{\"value\":0.1},\"line_alpha\":{\"value\":0.1},\"line_color\":{\"value\":\"#1f77b4\"},\"x\":{\"field\":\"x\"},\"y\":{\"field\":\"y\"}},\"id\":\"20790\",\"type\":\"Circle\"},{\"attributes\":{\"source\":{\"id\":\"20788\"}},\"id\":\"20793\",\"type\":\"CDSView\"},{\"attributes\":{\"fill_alpha\":{\"value\":0.2},\"fill_color\":{\"value\":\"#1f77b4\"},\"hatch_alpha\":{\"value\":0.2},\"line_alpha\":{\"value\":0.2},\"line_color\":{\"value\":\"#1f77b4\"},\"x\":{\"field\":\"x\"},\"y\":{\"field\":\"y\"}},\"id\":\"20791\",\"type\":\"Circle\"},{\"attributes\":{\"axis_label\":\"E Frequency\",\"coordinates\":null,\"formatter\":{\"id\":\"21364\"},\"group\":null,\"major_label_policy\":{\"id\":\"21365\"},\"ticker\":{\"id\":\"20767\"}},\"id\":\"20766\",\"type\":\"LinearAxis\"},{\"attributes\":{},\"id\":\"20762\",\"type\":\"LinearScale\"},{\"attributes\":{\"tools\":[{\"id\":\"20774\"},{\"id\":\"20775\"},{\"id\":\"20776\"},{\"id\":\"20777\"},{\"id\":\"20778\"},{\"id\":\"20779\"}]},\"id\":\"20781\",\"type\":\"Toolbar\"},{\"attributes\":{\"data\":{\"x\":[0.02511415525114155,0.029288702928870293,0.030732860520094562,0.0166270783847981,0.03131991051454139,0.026726057906458798,0.020833333333333332,0.02528735632183908,0.04090909090909091,0.01996007984031936,0.030805687203791468,0.034324942791762014,0.034403669724770644,0.019801980198019802,0.03355704697986577,0.02702702702702703,0.020785219399538105,0.023310023310023312,0.039045553145336226,0.03881278538812785,0.03278688524590164,0.035864978902953586,0.043478260869565216,0.03111111111111111,0.0200445434298441,0.02968036529680365,0.03382663847780127,0.02696629213483146,0.041666666666666664,0.022271714922048998,0.03167420814479638,0.035164835164835165,0.040632054176072234,0.0367816091954023,0.019823788546255508,0.037444933920704845,0.025056947608200455,0.031818181818181815,0.026785714285714284,0.033936651583710405,0.015968063872255488,0.02810304449648712,0.03991130820399113,0.02810304449648712,0.024017467248908297,0.03953488372093023,0.03409090909090909,0.03153153153153153,0.03160270880361174,0.024886877828054297,0.021834061135371178,0.03529411764705882,0.027522935779816515,0.027842227378190254,0.03885480572597137,0.020316027088036117,0.028888888888888888,0.0319634703196347,0.03153153153153153,0.029661016949152543,0.02586206896551724,0.027426160337552744,0.03153153153153153,0.025522041763341066,0.039301310043668124,0.029545454545454545,0.053973013493253376,0.01839080459770115,0.04054054054054054,0.02320185614849188,0.02947845804988662,0.024017467248908297,0.05273833671399594,0.03364485981308411,0.036885245901639344,0.036585365853658534,0.030612244897959183,0.02546296296296296,0.03009259259259259,0.03167420814479638,0.026915113871635612,0.03406813627254509,0.03644646924829157,0.02288329519450801,0.03282275711159737,0.03644646924829157,0.03837953091684435,0.03837953091684435,0.03624733475479744,0.03225806451612903,0.029953917050691243,0.03225806451612903,0.029953917050691243,0.03225806451612903,0.027842227378190254,0.04310344827586207,0.02088167053364269,0.02968036529680365,0.029545454545454545,0.02727272727272727,0.03153153153153153,0.02968036529680365,0.02745995423340961,0.02511415525114155,0.027842227378190254,0.02968036529680365,0.036613272311212815,0.029885057471264367,0.032407407407407406,0.027522935779816515,0.0273972602739726,0.03611738148984198,0.04555808656036447,0.04044943820224719,0.02619047619047619],\"y\":[0.6214550979068197,0.3994085176855399,0.2851670477800451,0.3925463139090084,0.2702402661513399,0.432061685620977,0.3941462663017556,0.4362451805566799,0.6604552208005426,0.5563730454385489,0.3134469652835711,0.5176625673713895,0.29458573520012254,0.6104893769690102,0.6066485428756286,0.5303426236068649,0.31856723950449106,0.6012489870353532,0.35044160109251976,0.5011939062196334,0.26988138782758875,0.5936551090651857,0.3697609754853193,0.6436863200066489,0.4616378165944257,0.7189011157425981,0.7321885437632035,0.3393312429608442,0.46248965043612583,0.5384967293987223,0.6561466628826449,0.5573534104769428,0.3494858518464715,0.5892757515896828,0.409548278484123,0.480491303157634,0.527548236805966,0.6813901247639091,0.7471648802454562,0.5579611479572558,0.653411396022395,0.34123190636943734,0.6069007764404369,0.2968308145349908,0.41307256750236687,0.4330160278754406,0.36442138565913607,0.5223887952113582,0.6655573299550923,0.6701232937245032,0.39022929006636004,0.35283906464335824,0.5481824835325689,0.7136233373179821,0.6677882621956012,0.38841741990717416,0.27633708893783704,0.5185249426669587,0.5127325660881997,0.4636155070752707,0.3670806060968197,0.5512825664578923,0.47701508164097833,0.3449876452749862,0.5631126863812335,0.25330577095161927,0.556836852789952,0.2859329500485328,0.6405938043196072,0.4368551230358618,0.5381025146242477,0.40336548767416935,0.30467776311034744,0.5898382910760631,0.6236364077610999,0.6791304308972272,0.6663858608722584,0.34717068193657913,0.37695898246256665,0.6563259786882653,0.23770448791760188,0.3146988546603475,0.5789368104312939,0.7305599084350982,0.49543930290280164,0.3132831176804368,0.4544143222506394,0.4076989670149079,0.41878970724846926,0.3164585736848883,0.3243880812292365,0.3245036858279444,0.2883630109992476,0.28919402319036686,0.328175332862062,0.48465357707063866,0.346327029360698,0.7214412872304006,0.35909420320035984,0.5547002247484424,0.508894769536912,0.7304496584927127,0.40506778011364514,0.7276396728649653,0.33777020500615523,0.6776867521828177,0.41488191202938696,0.3938264258377672,0.398032196376832,0.43400218134468804,0.7145283211289727,0.4772025510218359,0.6490562785486512,0.4769483062149186,0.4878755268844504]},\"selected\":{\"id\":\"21367\"},\"selection_policy\":{\"id\":\"21366\"}},\"id\":\"20788\",\"type\":\"ColumnDataSource\"},{\"attributes\":{},\"id\":\"20764\",\"type\":\"LinearScale\"},{\"attributes\":{},\"id\":\"20758\",\"type\":\"DataRange1d\"},{\"attributes\":{\"coordinates\":null,\"data_source\":{\"id\":\"20788\"},\"glyph\":{\"id\":\"20789\"},\"group\":null,\"hover_glyph\":null,\"muted_glyph\":{\"id\":\"20791\"},\"nonselection_glyph\":{\"id\":\"20790\"},\"view\":{\"id\":\"20793\"}},\"id\":\"20792\",\"type\":\"GlyphRenderer\"},{\"attributes\":{},\"id\":\"20760\",\"type\":\"DataRange1d\"}],\"root_ids\":[\"20757\"]},\"title\":\"Bokeh Application\",\"version\":\"2.4.3\"}};\n",
       "  const render_items = [{\"docid\":\"3797b415-3e28-41c9-b732-b4463707fe52\",\"root_ids\":[\"20757\"],\"roots\":{\"20757\":\"c6eecc43-1834-4358-95ca-464431d05f21\"}}];\n",
       "  root.Bokeh.embed.embed_items_notebook(docs_json, render_items);\n",
       "  }\n",
       "  if (root.Bokeh !== undefined) {\n",
       "    embed_document(root);\n",
       "  } else {\n",
       "    let attempts = 0;\n",
       "    const timer = setInterval(function(root) {\n",
       "      if (root.Bokeh !== undefined) {\n",
       "        clearInterval(timer);\n",
       "        embed_document(root);\n",
       "      } else {\n",
       "        attempts++;\n",
       "        if (attempts > 100) {\n",
       "          clearInterval(timer);\n",
       "          console.log(\"Bokeh: ERROR: Unable to run BokehJS code because BokehJS library is missing\");\n",
       "        }\n",
       "      }\n",
       "    }, 10, root)\n",
       "  }\n",
       "})(window);"
      ],
      "application/vnd.bokehjs_exec.v0+json": ""
     },
     "metadata": {
      "application/vnd.bokehjs_exec.v0+json": {
       "id": "20757"
      }
     },
     "output_type": "display_data"
    },
    {
     "data": {
      "text/html": [
       "\n",
       "  <div class=\"bk-root\" id=\"cd92e775-8b21-459a-af48-98653c260c07\" data-root-id=\"21424\"></div>\n"
      ]
     },
     "metadata": {},
     "output_type": "display_data"
    },
    {
     "data": {
      "application/javascript": [
       "(function(root) {\n",
       "  function embed_document(root) {\n",
       "  const docs_json = {\"2bacb9e2-e3bb-4c63-af79-db1fc1bc699f\":{\"defs\":[],\"roots\":{\"references\":[{\"attributes\":{\"below\":[{\"id\":\"21433\"}],\"center\":[{\"id\":\"21436\"},{\"id\":\"21440\"}],\"left\":[{\"id\":\"21437\"}],\"renderers\":[{\"id\":\"21459\"}],\"title\":{\"id\":\"21461\"},\"toolbar\":{\"id\":\"21448\"},\"x_range\":{\"id\":\"21425\"},\"x_scale\":{\"id\":\"21429\"},\"y_range\":{\"id\":\"21427\"},\"y_scale\":{\"id\":\"21431\"}},\"id\":\"21424\",\"subtype\":\"Figure\",\"type\":\"Plot\"},{\"attributes\":{},\"id\":\"21446\",\"type\":\"HelpTool\"},{\"attributes\":{},\"id\":\"22042\",\"type\":\"BasicTickFormatter\"},{\"attributes\":{},\"id\":\"22043\",\"type\":\"AllLabels\"},{\"attributes\":{},\"id\":\"21445\",\"type\":\"ResetTool\"},{\"attributes\":{},\"id\":\"22044\",\"type\":\"UnionRenderers\"},{\"attributes\":{\"overlay\":{\"id\":\"21447\"}},\"id\":\"21443\",\"type\":\"BoxZoomTool\"},{\"attributes\":{\"bottom_units\":\"screen\",\"coordinates\":null,\"fill_alpha\":0.5,\"fill_color\":\"lightgrey\",\"group\":null,\"left_units\":\"screen\",\"level\":\"overlay\",\"line_alpha\":1.0,\"line_color\":\"black\",\"line_dash\":[4,4],\"line_width\":2,\"right_units\":\"screen\",\"syncable\":false,\"top_units\":\"screen\"},\"id\":\"21447\",\"type\":\"BoxAnnotation\"},{\"attributes\":{},\"id\":\"22045\",\"type\":\"Selection\"},{\"attributes\":{\"fill_alpha\":{\"value\":0.2},\"fill_color\":{\"value\":\"#1f77b4\"},\"hatch_alpha\":{\"value\":0.2},\"line_alpha\":{\"value\":0.2},\"line_color\":{\"value\":\"#1f77b4\"},\"x\":{\"field\":\"x\"},\"y\":{\"field\":\"y\"}},\"id\":\"21458\",\"type\":\"Circle\"},{\"attributes\":{},\"id\":\"21425\",\"type\":\"DataRange1d\"},{\"attributes\":{\"tools\":[{\"id\":\"21441\"},{\"id\":\"21442\"},{\"id\":\"21443\"},{\"id\":\"21444\"},{\"id\":\"21445\"},{\"id\":\"21446\"}]},\"id\":\"21448\",\"type\":\"Toolbar\"},{\"attributes\":{},\"id\":\"22040\",\"type\":\"AllLabels\"},{\"attributes\":{\"axis_label\":\"F Frequency\",\"coordinates\":null,\"formatter\":{\"id\":\"22042\"},\"group\":null,\"major_label_policy\":{\"id\":\"22043\"},\"ticker\":{\"id\":\"21434\"}},\"id\":\"21433\",\"type\":\"LinearAxis\"},{\"attributes\":{\"coordinates\":null,\"data_source\":{\"id\":\"21455\"},\"glyph\":{\"id\":\"21456\"},\"group\":null,\"hover_glyph\":null,\"muted_glyph\":{\"id\":\"21458\"},\"nonselection_glyph\":{\"id\":\"21457\"},\"view\":{\"id\":\"21460\"}},\"id\":\"21459\",\"type\":\"GlyphRenderer\"},{\"attributes\":{\"fill_alpha\":{\"value\":0.1},\"fill_color\":{\"value\":\"#1f77b4\"},\"hatch_alpha\":{\"value\":0.1},\"line_alpha\":{\"value\":0.1},\"line_color\":{\"value\":\"#1f77b4\"},\"x\":{\"field\":\"x\"},\"y\":{\"field\":\"y\"}},\"id\":\"21457\",\"type\":\"Circle\"},{\"attributes\":{},\"id\":\"21431\",\"type\":\"LinearScale\"},{\"attributes\":{},\"id\":\"22039\",\"type\":\"BasicTickFormatter\"},{\"attributes\":{},\"id\":\"21427\",\"type\":\"DataRange1d\"},{\"attributes\":{},\"id\":\"21429\",\"type\":\"LinearScale\"},{\"attributes\":{\"fill_color\":{\"value\":\"#1f77b4\"},\"line_color\":{\"value\":\"#1f77b4\"},\"x\":{\"field\":\"x\"},\"y\":{\"field\":\"y\"}},\"id\":\"21456\",\"type\":\"Circle\"},{\"attributes\":{\"source\":{\"id\":\"21455\"}},\"id\":\"21460\",\"type\":\"CDSView\"},{\"attributes\":{\"coordinates\":null,\"group\":null,\"text\":\"F\"},\"id\":\"21461\",\"type\":\"Title\"},{\"attributes\":{},\"id\":\"21434\",\"type\":\"BasicTicker\"},{\"attributes\":{\"axis\":{\"id\":\"21433\"},\"coordinates\":null,\"group\":null,\"ticker\":null},\"id\":\"21436\",\"type\":\"Grid\"},{\"attributes\":{\"axis_label\":\"GC Content\",\"coordinates\":null,\"formatter\":{\"id\":\"22039\"},\"group\":null,\"major_label_policy\":{\"id\":\"22040\"},\"ticker\":{\"id\":\"21438\"}},\"id\":\"21437\",\"type\":\"LinearAxis\"},{\"attributes\":{},\"id\":\"21442\",\"type\":\"WheelZoomTool\"},{\"attributes\":{\"axis\":{\"id\":\"21437\"},\"coordinates\":null,\"dimension\":1,\"group\":null,\"ticker\":null},\"id\":\"21440\",\"type\":\"Grid\"},{\"attributes\":{},\"id\":\"21438\",\"type\":\"BasicTicker\"},{\"attributes\":{},\"id\":\"21444\",\"type\":\"SaveTool\"},{\"attributes\":{\"data\":{\"x\":[0.06164383561643835,0.06694560669456066,0.05200945626477541,0.057007125890736345,0.06263982102908278,0.07349665924276169,0.06944444444444445,0.05747126436781609,0.05454545454545454,0.04590818363273453,0.061611374407582936,0.07093821510297482,0.07110091743119266,0.06534653465346535,0.05145413870246085,0.07882882882882883,0.053117782909930716,0.0675990675990676,0.06290672451193059,0.0684931506849315,0.06088992974238876,0.06329113924050633,0.08695652173913043,0.06888888888888889,0.0757238307349666,0.06164383561643835,0.06553911205073996,0.07640449438202247,0.07175925925925926,0.044543429844097995,0.049773755656108594,0.06153846153846154,0.0744920993227991,0.07126436781609195,0.05066079295154185,0.06607929515418502,0.07061503416856492,0.06818181818181818,0.05357142857142857,0.0746606334841629,0.06986027944111776,0.06791569086651054,0.05543237250554324,0.07259953161592506,0.06986899563318777,0.07906976744186046,0.05227272727272727,0.07207207207207207,0.07223476297968397,0.06108597285067873,0.06986899563318777,0.06588235294117648,0.07110091743119266,0.058004640371229696,0.053169734151329244,0.0654627539503386,0.06444444444444444,0.0593607305936073,0.07207207207207207,0.06567796610169492,0.05603448275862069,0.04430379746835443,0.07207207207207207,0.05336426914153132,0.04148471615720524,0.07954545454545454,0.035982008995502246,0.08735632183908046,0.05855855855855856,0.08352668213457076,0.045351473922902494,0.06986899563318777,0.07910750507099391,0.048598130841121495,0.05327868852459016,0.0508130081300813,0.05102040816326531,0.06481481481481481,0.05324074074074074,0.049773755656108594,0.06418219461697723,0.05811623246492986,0.04555808656036447,0.05034324942791762,0.07439824945295405,0.07061503416856492,0.05970149253731343,0.05970149253731343,0.06183368869936034,0.055299539170506916,0.0576036866359447,0.0576036866359447,0.06221198156682028,0.059907834101382486,0.06728538283062645,0.07586206896551724,0.07424593967517401,0.0593607305936073,0.056818181818181816,0.045454545454545456,0.07207207207207207,0.05707762557077625,0.06407322654462243,0.06164383561643835,0.07424593967517401,0.0593607305936073,0.06178489702517163,0.06666666666666667,0.07175925925925926,0.06880733944954129,0.0593607305936073,0.05869074492099323,0.08200455580865604,0.0696629213483146,0.05952380952380952],\"y\":[0.6214550979068197,0.3994085176855399,0.2851670477800451,0.3925463139090084,0.2702402661513399,0.432061685620977,0.3941462663017556,0.4362451805566799,0.6604552208005426,0.5563730454385489,0.3134469652835711,0.5176625673713895,0.29458573520012254,0.6104893769690102,0.6066485428756286,0.5303426236068649,0.31856723950449106,0.6012489870353532,0.35044160109251976,0.5011939062196334,0.26988138782758875,0.5936551090651857,0.3697609754853193,0.6436863200066489,0.4616378165944257,0.7189011157425981,0.7321885437632035,0.3393312429608442,0.46248965043612583,0.5384967293987223,0.6561466628826449,0.5573534104769428,0.3494858518464715,0.5892757515896828,0.409548278484123,0.480491303157634,0.527548236805966,0.6813901247639091,0.7471648802454562,0.5579611479572558,0.653411396022395,0.34123190636943734,0.6069007764404369,0.2968308145349908,0.41307256750236687,0.4330160278754406,0.36442138565913607,0.5223887952113582,0.6655573299550923,0.6701232937245032,0.39022929006636004,0.35283906464335824,0.5481824835325689,0.7136233373179821,0.6677882621956012,0.38841741990717416,0.27633708893783704,0.5185249426669587,0.5127325660881997,0.4636155070752707,0.3670806060968197,0.5512825664578923,0.47701508164097833,0.3449876452749862,0.5631126863812335,0.25330577095161927,0.556836852789952,0.2859329500485328,0.6405938043196072,0.4368551230358618,0.5381025146242477,0.40336548767416935,0.30467776311034744,0.5898382910760631,0.6236364077610999,0.6791304308972272,0.6663858608722584,0.34717068193657913,0.37695898246256665,0.6563259786882653,0.23770448791760188,0.3146988546603475,0.5789368104312939,0.7305599084350982,0.49543930290280164,0.3132831176804368,0.4544143222506394,0.4076989670149079,0.41878970724846926,0.3164585736848883,0.3243880812292365,0.3245036858279444,0.2883630109992476,0.28919402319036686,0.328175332862062,0.48465357707063866,0.346327029360698,0.7214412872304006,0.35909420320035984,0.5547002247484424,0.508894769536912,0.7304496584927127,0.40506778011364514,0.7276396728649653,0.33777020500615523,0.6776867521828177,0.41488191202938696,0.3938264258377672,0.398032196376832,0.43400218134468804,0.7145283211289727,0.4772025510218359,0.6490562785486512,0.4769483062149186,0.4878755268844504]},\"selected\":{\"id\":\"22045\"},\"selection_policy\":{\"id\":\"22044\"}},\"id\":\"21455\",\"type\":\"ColumnDataSource\"},{\"attributes\":{},\"id\":\"21441\",\"type\":\"PanTool\"}],\"root_ids\":[\"21424\"]},\"title\":\"Bokeh Application\",\"version\":\"2.4.3\"}};\n",
       "  const render_items = [{\"docid\":\"2bacb9e2-e3bb-4c63-af79-db1fc1bc699f\",\"root_ids\":[\"21424\"],\"roots\":{\"21424\":\"cd92e775-8b21-459a-af48-98653c260c07\"}}];\n",
       "  root.Bokeh.embed.embed_items_notebook(docs_json, render_items);\n",
       "  }\n",
       "  if (root.Bokeh !== undefined) {\n",
       "    embed_document(root);\n",
       "  } else {\n",
       "    let attempts = 0;\n",
       "    const timer = setInterval(function(root) {\n",
       "      if (root.Bokeh !== undefined) {\n",
       "        clearInterval(timer);\n",
       "        embed_document(root);\n",
       "      } else {\n",
       "        attempts++;\n",
       "        if (attempts > 100) {\n",
       "          clearInterval(timer);\n",
       "          console.log(\"Bokeh: ERROR: Unable to run BokehJS code because BokehJS library is missing\");\n",
       "        }\n",
       "      }\n",
       "    }, 10, root)\n",
       "  }\n",
       "})(window);"
      ],
      "application/vnd.bokehjs_exec.v0+json": ""
     },
     "metadata": {
      "application/vnd.bokehjs_exec.v0+json": {
       "id": "21424"
      }
     },
     "output_type": "display_data"
    },
    {
     "data": {
      "text/html": [
       "\n",
       "  <div class=\"bk-root\" id=\"d66249ff-d6ac-4d74-98fa-36da8b4e3470\" data-root-id=\"22102\"></div>\n"
      ]
     },
     "metadata": {},
     "output_type": "display_data"
    },
    {
     "data": {
      "application/javascript": [
       "(function(root) {\n",
       "  function embed_document(root) {\n",
       "  const docs_json = {\"acb0b2e7-0f4a-462c-b174-f6eaf5862ae1\":{\"defs\":[],\"roots\":{\"references\":[{\"attributes\":{\"below\":[{\"id\":\"22111\"}],\"center\":[{\"id\":\"22114\"},{\"id\":\"22118\"}],\"left\":[{\"id\":\"22115\"}],\"renderers\":[{\"id\":\"22137\"}],\"title\":{\"id\":\"22139\"},\"toolbar\":{\"id\":\"22126\"},\"x_range\":{\"id\":\"22103\"},\"x_scale\":{\"id\":\"22107\"},\"y_range\":{\"id\":\"22105\"},\"y_scale\":{\"id\":\"22109\"}},\"id\":\"22102\",\"subtype\":\"Figure\",\"type\":\"Plot\"},{\"attributes\":{},\"id\":\"22731\",\"type\":\"BasicTickFormatter\"},{\"attributes\":{},\"id\":\"22732\",\"type\":\"AllLabels\"},{\"attributes\":{\"fill_alpha\":{\"value\":0.2},\"fill_color\":{\"value\":\"#1f77b4\"},\"hatch_alpha\":{\"value\":0.2},\"line_alpha\":{\"value\":0.2},\"line_color\":{\"value\":\"#1f77b4\"},\"x\":{\"field\":\"x\"},\"y\":{\"field\":\"y\"}},\"id\":\"22136\",\"type\":\"Circle\"},{\"attributes\":{\"axis_label\":\"G Frequency\",\"coordinates\":null,\"formatter\":{\"id\":\"22731\"},\"group\":null,\"major_label_policy\":{\"id\":\"22732\"},\"ticker\":{\"id\":\"22112\"}},\"id\":\"22111\",\"type\":\"LinearAxis\"},{\"attributes\":{\"data\":{\"x\":[0.09360730593607305,0.07531380753138076,0.07801418439716312,0.07600950118764846,0.087248322147651,0.08908685968819599,0.09259259259259259,0.08735632183908046,0.09545454545454546,0.09381237524950099,0.09004739336492891,0.08924485125858124,0.09403669724770643,0.0891089108910891,0.11185682326621924,0.09234234234234234,0.09237875288683603,0.10023310023310024,0.0911062906724512,0.09360730593607305,0.10070257611241218,0.10759493670886076,0.08924485125858124,0.08888888888888889,0.12026726057906459,0.10273972602739725,0.12050739957716702,0.0898876404494382,0.09490740740740741,0.08908685968819599,0.11085972850678733,0.1076923076923077,0.08577878103837472,0.0896551724137931,0.07929515418502203,0.09251101321585903,0.10022779043280182,0.11818181818181818,0.12053571428571429,0.083710407239819,0.10179640718562874,0.10070257611241218,0.09312638580931264,0.09133489461358314,0.08296943231441048,0.07674418604651163,0.09545454545454546,0.09684684684684684,0.10609480812641084,0.08823529411764706,0.08078602620087336,0.09411764705882353,0.09403669724770643,0.08584686774941995,0.130879345603272,0.07900677200902935,0.10444444444444445,0.0867579908675799,0.09684684684684684,0.1038135593220339,0.08189655172413793,0.08649789029535865,0.0945945945945946,0.09280742459396751,0.08951965065502183,0.06818181818181818,0.09145427286356822,0.06896551724137931,0.0990990990990991,0.10208816705336426,0.09070294784580499,0.08296943231441048,0.04462474645030426,0.11588785046728972,0.12704918032786885,0.13414634146341464,0.12857142857142856,0.08333333333333333,0.08101851851851852,0.11085972850678733,0.07039337474120083,0.07214428857715431,0.10933940774487472,0.09839816933638444,0.10284463894967177,0.1070615034168565,0.09168443496801706,0.09168443496801706,0.09381663113006397,0.08064516129032258,0.08755760368663594,0.08755760368663594,0.08294930875576037,0.08294930875576037,0.08352668213457076,0.1206896551724138,0.08120649651972157,0.1004566210045662,0.075,0.09772727272727273,0.09684684684684684,0.1050228310502283,0.08237986270022883,0.10273972602739725,0.08352668213457076,0.1004566210045662,0.08237986270022883,0.06896551724137931,0.06944444444444445,0.0779816513761468,0.09360730593607305,0.1038374717832957,0.10478359908883828,0.08764044943820225,0.09047619047619047],\"y\":[0.6214550979068197,0.3994085176855399,0.2851670477800451,0.3925463139090084,0.2702402661513399,0.432061685620977,0.3941462663017556,0.4362451805566799,0.6604552208005426,0.5563730454385489,0.3134469652835711,0.5176625673713895,0.29458573520012254,0.6104893769690102,0.6066485428756286,0.5303426236068649,0.31856723950449106,0.6012489870353532,0.35044160109251976,0.5011939062196334,0.26988138782758875,0.5936551090651857,0.3697609754853193,0.6436863200066489,0.4616378165944257,0.7189011157425981,0.7321885437632035,0.3393312429608442,0.46248965043612583,0.5384967293987223,0.6561466628826449,0.5573534104769428,0.3494858518464715,0.5892757515896828,0.409548278484123,0.480491303157634,0.527548236805966,0.6813901247639091,0.7471648802454562,0.5579611479572558,0.653411396022395,0.34123190636943734,0.6069007764404369,0.2968308145349908,0.41307256750236687,0.4330160278754406,0.36442138565913607,0.5223887952113582,0.6655573299550923,0.6701232937245032,0.39022929006636004,0.35283906464335824,0.5481824835325689,0.7136233373179821,0.6677882621956012,0.38841741990717416,0.27633708893783704,0.5185249426669587,0.5127325660881997,0.4636155070752707,0.3670806060968197,0.5512825664578923,0.47701508164097833,0.3449876452749862,0.5631126863812335,0.25330577095161927,0.556836852789952,0.2859329500485328,0.6405938043196072,0.4368551230358618,0.5381025146242477,0.40336548767416935,0.30467776311034744,0.5898382910760631,0.6236364077610999,0.6791304308972272,0.6663858608722584,0.34717068193657913,0.37695898246256665,0.6563259786882653,0.23770448791760188,0.3146988546603475,0.5789368104312939,0.7305599084350982,0.49543930290280164,0.3132831176804368,0.4544143222506394,0.4076989670149079,0.41878970724846926,0.3164585736848883,0.3243880812292365,0.3245036858279444,0.2883630109992476,0.28919402319036686,0.328175332862062,0.48465357707063866,0.346327029360698,0.7214412872304006,0.35909420320035984,0.5547002247484424,0.508894769536912,0.7304496584927127,0.40506778011364514,0.7276396728649653,0.33777020500615523,0.6776867521828177,0.41488191202938696,0.3938264258377672,0.398032196376832,0.43400218134468804,0.7145283211289727,0.4772025510218359,0.6490562785486512,0.4769483062149186,0.4878755268844504]},\"selected\":{\"id\":\"22734\"},\"selection_policy\":{\"id\":\"22733\"}},\"id\":\"22133\",\"type\":\"ColumnDataSource\"},{\"attributes\":{\"bottom_units\":\"screen\",\"coordinates\":null,\"fill_alpha\":0.5,\"fill_color\":\"lightgrey\",\"group\":null,\"left_units\":\"screen\",\"level\":\"overlay\",\"line_alpha\":1.0,\"line_color\":\"black\",\"line_dash\":[4,4],\"line_width\":2,\"right_units\":\"screen\",\"syncable\":false,\"top_units\":\"screen\"},\"id\":\"22125\",\"type\":\"BoxAnnotation\"},{\"attributes\":{},\"id\":\"22109\",\"type\":\"LinearScale\"},{\"attributes\":{},\"id\":\"22105\",\"type\":\"DataRange1d\"},{\"attributes\":{},\"id\":\"22107\",\"type\":\"LinearScale\"},{\"attributes\":{},\"id\":\"22733\",\"type\":\"UnionRenderers\"},{\"attributes\":{},\"id\":\"22112\",\"type\":\"BasicTicker\"},{\"attributes\":{\"axis\":{\"id\":\"22111\"},\"coordinates\":null,\"group\":null,\"ticker\":null},\"id\":\"22114\",\"type\":\"Grid\"},{\"attributes\":{\"tools\":[{\"id\":\"22119\"},{\"id\":\"22120\"},{\"id\":\"22121\"},{\"id\":\"22122\"},{\"id\":\"22123\"},{\"id\":\"22124\"}]},\"id\":\"22126\",\"type\":\"Toolbar\"},{\"attributes\":{},\"id\":\"22103\",\"type\":\"DataRange1d\"},{\"attributes\":{\"axis_label\":\"GC Content\",\"coordinates\":null,\"formatter\":{\"id\":\"22728\"},\"group\":null,\"major_label_policy\":{\"id\":\"22729\"},\"ticker\":{\"id\":\"22116\"}},\"id\":\"22115\",\"type\":\"LinearAxis\"},{\"attributes\":{\"axis\":{\"id\":\"22115\"},\"coordinates\":null,\"dimension\":1,\"group\":null,\"ticker\":null},\"id\":\"22118\",\"type\":\"Grid\"},{\"attributes\":{\"coordinates\":null,\"data_source\":{\"id\":\"22133\"},\"glyph\":{\"id\":\"22134\"},\"group\":null,\"hover_glyph\":null,\"muted_glyph\":{\"id\":\"22136\"},\"nonselection_glyph\":{\"id\":\"22135\"},\"view\":{\"id\":\"22138\"}},\"id\":\"22137\",\"type\":\"GlyphRenderer\"},{\"attributes\":{},\"id\":\"22116\",\"type\":\"BasicTicker\"},{\"attributes\":{\"fill_alpha\":{\"value\":0.1},\"fill_color\":{\"value\":\"#1f77b4\"},\"hatch_alpha\":{\"value\":0.1},\"line_alpha\":{\"value\":0.1},\"line_color\":{\"value\":\"#1f77b4\"},\"x\":{\"field\":\"x\"},\"y\":{\"field\":\"y\"}},\"id\":\"22135\",\"type\":\"Circle\"},{\"attributes\":{},\"id\":\"22120\",\"type\":\"WheelZoomTool\"},{\"attributes\":{},\"id\":\"22729\",\"type\":\"AllLabels\"},{\"attributes\":{\"source\":{\"id\":\"22133\"}},\"id\":\"22138\",\"type\":\"CDSView\"},{\"attributes\":{},\"id\":\"22124\",\"type\":\"HelpTool\"},{\"attributes\":{\"coordinates\":null,\"group\":null,\"text\":\"G\"},\"id\":\"22139\",\"type\":\"Title\"},{\"attributes\":{},\"id\":\"22119\",\"type\":\"PanTool\"},{\"attributes\":{\"overlay\":{\"id\":\"22125\"}},\"id\":\"22121\",\"type\":\"BoxZoomTool\"},{\"attributes\":{},\"id\":\"22122\",\"type\":\"SaveTool\"},{\"attributes\":{},\"id\":\"22728\",\"type\":\"BasicTickFormatter\"},{\"attributes\":{\"fill_color\":{\"value\":\"#1f77b4\"},\"line_color\":{\"value\":\"#1f77b4\"},\"x\":{\"field\":\"x\"},\"y\":{\"field\":\"y\"}},\"id\":\"22134\",\"type\":\"Circle\"},{\"attributes\":{},\"id\":\"22123\",\"type\":\"ResetTool\"},{\"attributes\":{},\"id\":\"22734\",\"type\":\"Selection\"}],\"root_ids\":[\"22102\"]},\"title\":\"Bokeh Application\",\"version\":\"2.4.3\"}};\n",
       "  const render_items = [{\"docid\":\"acb0b2e7-0f4a-462c-b174-f6eaf5862ae1\",\"root_ids\":[\"22102\"],\"roots\":{\"22102\":\"d66249ff-d6ac-4d74-98fa-36da8b4e3470\"}}];\n",
       "  root.Bokeh.embed.embed_items_notebook(docs_json, render_items);\n",
       "  }\n",
       "  if (root.Bokeh !== undefined) {\n",
       "    embed_document(root);\n",
       "  } else {\n",
       "    let attempts = 0;\n",
       "    const timer = setInterval(function(root) {\n",
       "      if (root.Bokeh !== undefined) {\n",
       "        clearInterval(timer);\n",
       "        embed_document(root);\n",
       "      } else {\n",
       "        attempts++;\n",
       "        if (attempts > 100) {\n",
       "          clearInterval(timer);\n",
       "          console.log(\"Bokeh: ERROR: Unable to run BokehJS code because BokehJS library is missing\");\n",
       "        }\n",
       "      }\n",
       "    }, 10, root)\n",
       "  }\n",
       "})(window);"
      ],
      "application/vnd.bokehjs_exec.v0+json": ""
     },
     "metadata": {
      "application/vnd.bokehjs_exec.v0+json": {
       "id": "22102"
      }
     },
     "output_type": "display_data"
    },
    {
     "data": {
      "text/html": [
       "\n",
       "  <div class=\"bk-root\" id=\"30871a74-1f24-4154-97d3-18c6553dc1cc\" data-root-id=\"22791\"></div>\n"
      ]
     },
     "metadata": {},
     "output_type": "display_data"
    },
    {
     "data": {
      "application/javascript": [
       "(function(root) {\n",
       "  function embed_document(root) {\n",
       "  const docs_json = {\"8b96e281-849a-4bb5-acdd-5b87ad993522\":{\"defs\":[],\"roots\":{\"references\":[{\"attributes\":{\"below\":[{\"id\":\"22800\"}],\"center\":[{\"id\":\"22803\"},{\"id\":\"22807\"}],\"left\":[{\"id\":\"22804\"}],\"renderers\":[{\"id\":\"22826\"}],\"title\":{\"id\":\"22828\"},\"toolbar\":{\"id\":\"22815\"},\"x_range\":{\"id\":\"22792\"},\"x_scale\":{\"id\":\"22796\"},\"y_range\":{\"id\":\"22794\"},\"y_scale\":{\"id\":\"22798\"}},\"id\":\"22791\",\"subtype\":\"Figure\",\"type\":\"Plot\"},{\"attributes\":{},\"id\":\"23428\",\"type\":\"BasicTickFormatter\"},{\"attributes\":{},\"id\":\"22798\",\"type\":\"LinearScale\"},{\"attributes\":{},\"id\":\"22794\",\"type\":\"DataRange1d\"},{\"attributes\":{},\"id\":\"22796\",\"type\":\"LinearScale\"},{\"attributes\":{},\"id\":\"23429\",\"type\":\"AllLabels\"},{\"attributes\":{},\"id\":\"22801\",\"type\":\"BasicTicker\"},{\"attributes\":{\"axis\":{\"id\":\"22800\"},\"coordinates\":null,\"group\":null,\"ticker\":null},\"id\":\"22803\",\"type\":\"Grid\"},{\"attributes\":{},\"id\":\"23431\",\"type\":\"BasicTickFormatter\"},{\"attributes\":{\"axis_label\":\"GC Content\",\"coordinates\":null,\"formatter\":{\"id\":\"23428\"},\"group\":null,\"major_label_policy\":{\"id\":\"23429\"},\"ticker\":{\"id\":\"22805\"}},\"id\":\"22804\",\"type\":\"LinearAxis\"},{\"attributes\":{},\"id\":\"22809\",\"type\":\"WheelZoomTool\"},{\"attributes\":{},\"id\":\"23432\",\"type\":\"AllLabels\"},{\"attributes\":{\"axis\":{\"id\":\"22804\"},\"coordinates\":null,\"dimension\":1,\"group\":null,\"ticker\":null},\"id\":\"22807\",\"type\":\"Grid\"},{\"attributes\":{},\"id\":\"22805\",\"type\":\"BasicTicker\"},{\"attributes\":{\"fill_alpha\":{\"value\":0.2},\"fill_color\":{\"value\":\"#1f77b4\"},\"hatch_alpha\":{\"value\":0.2},\"line_alpha\":{\"value\":0.2},\"line_color\":{\"value\":\"#1f77b4\"},\"x\":{\"field\":\"x\"},\"y\":{\"field\":\"y\"}},\"id\":\"22825\",\"type\":\"Circle\"},{\"attributes\":{\"coordinates\":null,\"data_source\":{\"id\":\"22822\"},\"glyph\":{\"id\":\"22823\"},\"group\":null,\"hover_glyph\":null,\"muted_glyph\":{\"id\":\"22825\"},\"nonselection_glyph\":{\"id\":\"22824\"},\"view\":{\"id\":\"22827\"}},\"id\":\"22826\",\"type\":\"GlyphRenderer\"},{\"attributes\":{},\"id\":\"22813\",\"type\":\"HelpTool\"},{\"attributes\":{},\"id\":\"22792\",\"type\":\"DataRange1d\"},{\"attributes\":{\"fill_alpha\":{\"value\":0.1},\"fill_color\":{\"value\":\"#1f77b4\"},\"hatch_alpha\":{\"value\":0.1},\"line_alpha\":{\"value\":0.1},\"line_color\":{\"value\":\"#1f77b4\"},\"x\":{\"field\":\"x\"},\"y\":{\"field\":\"y\"}},\"id\":\"22824\",\"type\":\"Circle\"},{\"attributes\":{},\"id\":\"22808\",\"type\":\"PanTool\"},{\"attributes\":{\"source\":{\"id\":\"22822\"}},\"id\":\"22827\",\"type\":\"CDSView\"},{\"attributes\":{\"overlay\":{\"id\":\"22814\"}},\"id\":\"22810\",\"type\":\"BoxZoomTool\"},{\"attributes\":{\"data\":{\"x\":[0.01141552511415525,0.0041841004184100415,0.004728132387706856,0.0,0.006711409395973154,0.011135857461024499,0.004629629629629629,0.0022988505747126436,0.0,0.007984031936127744,0.004739336492890996,0.013729977116704805,0.006880733944954129,0.013861386138613862,0.011185682326621925,0.01126126126126126,0.0023094688221709007,0.006993006993006993,0.006507592190889371,0.01141552511415525,0.00702576112412178,0.008438818565400843,0.011441647597254004,0.0044444444444444444,0.015590200445434299,0.0045662100456621,0.0021141649048625794,0.01348314606741573,0.006944444444444444,0.0066815144766146995,0.0022624434389140274,0.008791208791208791,0.006772009029345372,0.009195402298850575,0.00881057268722467,0.013215859030837005,0.009111617312072893,0.004545454545454545,0.006696428571428571,0.011312217194570135,0.003992015968063872,0.00468384074941452,0.0066518847006651885,0.00234192037470726,0.002183406113537118,0.004651162790697674,0.0,0.009009009009009009,0.013544018058690745,0.006787330316742082,0.004366812227074236,0.004705882352941176,0.011467889908256881,0.004640371229698376,0.006134969325153374,0.011286681715575621,0.0044444444444444444,0.01141552511415525,0.009009009009009009,0.012711864406779662,0.0021551724137931034,0.010548523206751054,0.009009009009009009,0.004640371229698376,0.0,0.011363636363636364,0.008995502248875561,0.009195402298850575,0.01126126126126126,0.0069605568445475635,0.0045351473922902496,0.002183406113537118,0.002028397565922921,0.016822429906542057,0.006147540983606557,0.006097560975609756,0.006122448979591836,0.0023148148148148147,0.0,0.0022624434389140274,0.004140786749482402,0.01002004008016032,0.004555808656036446,0.006864988558352402,0.006564551422319475,0.00683371298405467,0.006396588486140725,0.0042643923240938165,0.006396588486140725,0.002304147465437788,0.004608294930875576,0.004608294930875576,0.004608294930875576,0.004608294930875576,0.0,0.01206896551724138,0.0,0.0045662100456621,0.0022727272727272726,0.0,0.009009009009009009,0.0045662100456621,0.0,0.0045662100456621,0.002320185614849188,0.0045662100456621,0.004576659038901602,0.009195402298850575,0.006944444444444444,0.0,0.0045662100456621,0.0,0.004555808656036446,0.011235955056179775,0.0],\"y\":[0.6214550979068197,0.3994085176855399,0.2851670477800451,0.3925463139090084,0.2702402661513399,0.432061685620977,0.3941462663017556,0.4362451805566799,0.6604552208005426,0.5563730454385489,0.3134469652835711,0.5176625673713895,0.29458573520012254,0.6104893769690102,0.6066485428756286,0.5303426236068649,0.31856723950449106,0.6012489870353532,0.35044160109251976,0.5011939062196334,0.26988138782758875,0.5936551090651857,0.3697609754853193,0.6436863200066489,0.4616378165944257,0.7189011157425981,0.7321885437632035,0.3393312429608442,0.46248965043612583,0.5384967293987223,0.6561466628826449,0.5573534104769428,0.3494858518464715,0.5892757515896828,0.409548278484123,0.480491303157634,0.527548236805966,0.6813901247639091,0.7471648802454562,0.5579611479572558,0.653411396022395,0.34123190636943734,0.6069007764404369,0.2968308145349908,0.41307256750236687,0.4330160278754406,0.36442138565913607,0.5223887952113582,0.6655573299550923,0.6701232937245032,0.39022929006636004,0.35283906464335824,0.5481824835325689,0.7136233373179821,0.6677882621956012,0.38841741990717416,0.27633708893783704,0.5185249426669587,0.5127325660881997,0.4636155070752707,0.3670806060968197,0.5512825664578923,0.47701508164097833,0.3449876452749862,0.5631126863812335,0.25330577095161927,0.556836852789952,0.2859329500485328,0.6405938043196072,0.4368551230358618,0.5381025146242477,0.40336548767416935,0.30467776311034744,0.5898382910760631,0.6236364077610999,0.6791304308972272,0.6663858608722584,0.34717068193657913,0.37695898246256665,0.6563259786882653,0.23770448791760188,0.3146988546603475,0.5789368104312939,0.7305599084350982,0.49543930290280164,0.3132831176804368,0.4544143222506394,0.4076989670149079,0.41878970724846926,0.3164585736848883,0.3243880812292365,0.3245036858279444,0.2883630109992476,0.28919402319036686,0.328175332862062,0.48465357707063866,0.346327029360698,0.7214412872304006,0.35909420320035984,0.5547002247484424,0.508894769536912,0.7304496584927127,0.40506778011364514,0.7276396728649653,0.33777020500615523,0.6776867521828177,0.41488191202938696,0.3938264258377672,0.398032196376832,0.43400218134468804,0.7145283211289727,0.4772025510218359,0.6490562785486512,0.4769483062149186,0.4878755268844504]},\"selected\":{\"id\":\"23434\"},\"selection_policy\":{\"id\":\"23433\"}},\"id\":\"22822\",\"type\":\"ColumnDataSource\"},{\"attributes\":{},\"id\":\"22811\",\"type\":\"SaveTool\"},{\"attributes\":{},\"id\":\"22812\",\"type\":\"ResetTool\"},{\"attributes\":{\"fill_color\":{\"value\":\"#1f77b4\"},\"line_color\":{\"value\":\"#1f77b4\"},\"x\":{\"field\":\"x\"},\"y\":{\"field\":\"y\"}},\"id\":\"22823\",\"type\":\"Circle\"},{\"attributes\":{},\"id\":\"23433\",\"type\":\"UnionRenderers\"},{\"attributes\":{\"bottom_units\":\"screen\",\"coordinates\":null,\"fill_alpha\":0.5,\"fill_color\":\"lightgrey\",\"group\":null,\"left_units\":\"screen\",\"level\":\"overlay\",\"line_alpha\":1.0,\"line_color\":\"black\",\"line_dash\":[4,4],\"line_width\":2,\"right_units\":\"screen\",\"syncable\":false,\"top_units\":\"screen\"},\"id\":\"22814\",\"type\":\"BoxAnnotation\"},{\"attributes\":{},\"id\":\"23434\",\"type\":\"Selection\"},{\"attributes\":{\"tools\":[{\"id\":\"22808\"},{\"id\":\"22809\"},{\"id\":\"22810\"},{\"id\":\"22811\"},{\"id\":\"22812\"},{\"id\":\"22813\"}]},\"id\":\"22815\",\"type\":\"Toolbar\"},{\"attributes\":{\"coordinates\":null,\"group\":null,\"text\":\"H\"},\"id\":\"22828\",\"type\":\"Title\"},{\"attributes\":{\"axis_label\":\"H Frequency\",\"coordinates\":null,\"formatter\":{\"id\":\"23431\"},\"group\":null,\"major_label_policy\":{\"id\":\"23432\"},\"ticker\":{\"id\":\"22801\"}},\"id\":\"22800\",\"type\":\"LinearAxis\"}],\"root_ids\":[\"22791\"]},\"title\":\"Bokeh Application\",\"version\":\"2.4.3\"}};\n",
       "  const render_items = [{\"docid\":\"8b96e281-849a-4bb5-acdd-5b87ad993522\",\"root_ids\":[\"22791\"],\"roots\":{\"22791\":\"30871a74-1f24-4154-97d3-18c6553dc1cc\"}}];\n",
       "  root.Bokeh.embed.embed_items_notebook(docs_json, render_items);\n",
       "  }\n",
       "  if (root.Bokeh !== undefined) {\n",
       "    embed_document(root);\n",
       "  } else {\n",
       "    let attempts = 0;\n",
       "    const timer = setInterval(function(root) {\n",
       "      if (root.Bokeh !== undefined) {\n",
       "        clearInterval(timer);\n",
       "        embed_document(root);\n",
       "      } else {\n",
       "        attempts++;\n",
       "        if (attempts > 100) {\n",
       "          clearInterval(timer);\n",
       "          console.log(\"Bokeh: ERROR: Unable to run BokehJS code because BokehJS library is missing\");\n",
       "        }\n",
       "      }\n",
       "    }, 10, root)\n",
       "  }\n",
       "})(window);"
      ],
      "application/vnd.bokehjs_exec.v0+json": ""
     },
     "metadata": {
      "application/vnd.bokehjs_exec.v0+json": {
       "id": "22791"
      }
     },
     "output_type": "display_data"
    },
    {
     "data": {
      "text/html": [
       "\n",
       "  <div class=\"bk-root\" id=\"e7a7fb8a-b5b5-480e-aae2-b5b0988ccf8e\" data-root-id=\"23491\"></div>\n"
      ]
     },
     "metadata": {},
     "output_type": "display_data"
    },
    {
     "data": {
      "application/javascript": [
       "(function(root) {\n",
       "  function embed_document(root) {\n",
       "  const docs_json = {\"c4636018-a17b-4401-a8bf-0efc08dbd4cf\":{\"defs\":[],\"roots\":{\"references\":[{\"attributes\":{\"below\":[{\"id\":\"23500\"}],\"center\":[{\"id\":\"23503\"},{\"id\":\"23507\"}],\"left\":[{\"id\":\"23504\"}],\"renderers\":[{\"id\":\"23526\"}],\"title\":{\"id\":\"23528\"},\"toolbar\":{\"id\":\"23515\"},\"x_range\":{\"id\":\"23492\"},\"x_scale\":{\"id\":\"23496\"},\"y_range\":{\"id\":\"23494\"},\"y_scale\":{\"id\":\"23498\"}},\"id\":\"23491\",\"subtype\":\"Figure\",\"type\":\"Plot\"},{\"attributes\":{},\"id\":\"23505\",\"type\":\"BasicTicker\"},{\"attributes\":{},\"id\":\"23509\",\"type\":\"WheelZoomTool\"},{\"attributes\":{\"coordinates\":null,\"data_source\":{\"id\":\"23522\"},\"glyph\":{\"id\":\"23523\"},\"group\":null,\"hover_glyph\":null,\"muted_glyph\":{\"id\":\"23525\"},\"nonselection_glyph\":{\"id\":\"23524\"},\"view\":{\"id\":\"23527\"}},\"id\":\"23526\",\"type\":\"GlyphRenderer\"},{\"attributes\":{\"source\":{\"id\":\"23522\"}},\"id\":\"23527\",\"type\":\"CDSView\"},{\"attributes\":{},\"id\":\"23513\",\"type\":\"HelpTool\"},{\"attributes\":{},\"id\":\"23508\",\"type\":\"PanTool\"},{\"attributes\":{\"overlay\":{\"id\":\"23514\"}},\"id\":\"23510\",\"type\":\"BoxZoomTool\"},{\"attributes\":{},\"id\":\"23511\",\"type\":\"SaveTool\"},{\"attributes\":{},\"id\":\"24143\",\"type\":\"AllLabels\"},{\"attributes\":{},\"id\":\"23492\",\"type\":\"DataRange1d\"},{\"attributes\":{},\"id\":\"23512\",\"type\":\"ResetTool\"},{\"attributes\":{},\"id\":\"24144\",\"type\":\"UnionRenderers\"},{\"attributes\":{\"bottom_units\":\"screen\",\"coordinates\":null,\"fill_alpha\":0.5,\"fill_color\":\"lightgrey\",\"group\":null,\"left_units\":\"screen\",\"level\":\"overlay\",\"line_alpha\":1.0,\"line_color\":\"black\",\"line_dash\":[4,4],\"line_width\":2,\"right_units\":\"screen\",\"syncable\":false,\"top_units\":\"screen\"},\"id\":\"23514\",\"type\":\"BoxAnnotation\"},{\"attributes\":{},\"id\":\"24145\",\"type\":\"Selection\"},{\"attributes\":{\"data\":{\"x\":[0.091324200913242,0.12133891213389121,0.11583924349881797,0.13539192399049882,0.12304250559284116,0.12472160356347439,0.1111111111111111,0.10804597701149425,0.09545454545454546,0.08982035928143713,0.13507109004739337,0.08924485125858124,0.11238532110091744,0.09306930693069307,0.09619686800894854,0.0990990990990991,0.11085450346420324,0.11655011655011654,0.11279826464208242,0.1004566210045662,0.13114754098360656,0.08860759493670886,0.12585812356979406,0.08888888888888889,0.10244988864142539,0.08447488584474885,0.1014799154334038,0.12808988764044943,0.11574074074074074,0.111358574610245,0.1085972850678733,0.08571428571428572,0.12641083521444696,0.11494252873563218,0.09691629955947137,0.1013215859030837,0.0774487471526196,0.10454545454545454,0.09151785714285714,0.11312217194570136,0.08782435129740519,0.11475409836065574,0.10643015521064302,0.12177985948477751,0.09170305676855896,0.13023255813953488,0.11818181818181818,0.0990990990990991,0.08126410835214447,0.0746606334841629,0.09388646288209607,0.11529411764705882,0.08944954128440367,0.08816705336426914,0.07770961145194274,0.08577878103837472,0.09777777777777778,0.09817351598173515,0.0990990990990991,0.10805084745762712,0.1206896551724138,0.10970464135021098,0.10585585585585586,0.11600928074245939,0.10480349344978165,0.16590909090909092,0.08695652173913043,0.12413793103448276,0.0990990990990991,0.11600928074245939,0.09750566893424037,0.0851528384279476,0.12373225152129817,0.05420560747663551,0.06967213114754098,0.07723577235772358,0.07959183673469387,0.11342592592592593,0.11574074074074074,0.1085972850678733,0.15113871635610765,0.1282565130260521,0.10022779043280182,0.08924485125858124,0.08533916849015317,0.10250569476082004,0.11513859275053305,0.11300639658848614,0.11513859275053305,0.1313364055299539,0.11981566820276497,0.1152073732718894,0.11981566820276497,0.12211981566820276,0.10672853828306264,0.08103448275862069,0.10672853828306264,0.09817351598173515,0.09545454545454546,0.09545454545454546,0.10135135135135136,0.1004566210045662,0.10068649885583524,0.1050228310502283,0.1136890951276102,0.09817351598173515,0.11212814645308924,0.10574712643678161,0.1111111111111111,0.10321100917431193,0.1050228310502283,0.11060948081264109,0.1070615034168565,0.0853932584269663,0.11190476190476191],\"y\":[0.6214550979068197,0.3994085176855399,0.2851670477800451,0.3925463139090084,0.2702402661513399,0.432061685620977,0.3941462663017556,0.4362451805566799,0.6604552208005426,0.5563730454385489,0.3134469652835711,0.5176625673713895,0.29458573520012254,0.6104893769690102,0.6066485428756286,0.5303426236068649,0.31856723950449106,0.6012489870353532,0.35044160109251976,0.5011939062196334,0.26988138782758875,0.5936551090651857,0.3697609754853193,0.6436863200066489,0.4616378165944257,0.7189011157425981,0.7321885437632035,0.3393312429608442,0.46248965043612583,0.5384967293987223,0.6561466628826449,0.5573534104769428,0.3494858518464715,0.5892757515896828,0.409548278484123,0.480491303157634,0.527548236805966,0.6813901247639091,0.7471648802454562,0.5579611479572558,0.653411396022395,0.34123190636943734,0.6069007764404369,0.2968308145349908,0.41307256750236687,0.4330160278754406,0.36442138565913607,0.5223887952113582,0.6655573299550923,0.6701232937245032,0.39022929006636004,0.35283906464335824,0.5481824835325689,0.7136233373179821,0.6677882621956012,0.38841741990717416,0.27633708893783704,0.5185249426669587,0.5127325660881997,0.4636155070752707,0.3670806060968197,0.5512825664578923,0.47701508164097833,0.3449876452749862,0.5631126863812335,0.25330577095161927,0.556836852789952,0.2859329500485328,0.6405938043196072,0.4368551230358618,0.5381025146242477,0.40336548767416935,0.30467776311034744,0.5898382910760631,0.6236364077610999,0.6791304308972272,0.6663858608722584,0.34717068193657913,0.37695898246256665,0.6563259786882653,0.23770448791760188,0.3146988546603475,0.5789368104312939,0.7305599084350982,0.49543930290280164,0.3132831176804368,0.4544143222506394,0.4076989670149079,0.41878970724846926,0.3164585736848883,0.3243880812292365,0.3245036858279444,0.2883630109992476,0.28919402319036686,0.328175332862062,0.48465357707063866,0.346327029360698,0.7214412872304006,0.35909420320035984,0.5547002247484424,0.508894769536912,0.7304496584927127,0.40506778011364514,0.7276396728649653,0.33777020500615523,0.6776867521828177,0.41488191202938696,0.3938264258377672,0.398032196376832,0.43400218134468804,0.7145283211289727,0.4772025510218359,0.6490562785486512,0.4769483062149186,0.4878755268844504]},\"selected\":{\"id\":\"24145\"},\"selection_policy\":{\"id\":\"24144\"}},\"id\":\"23522\",\"type\":\"ColumnDataSource\"},{\"attributes\":{\"coordinates\":null,\"group\":null,\"text\":\"I\"},\"id\":\"23528\",\"type\":\"Title\"},{\"attributes\":{\"fill_alpha\":{\"value\":0.2},\"fill_color\":{\"value\":\"#1f77b4\"},\"hatch_alpha\":{\"value\":0.2},\"line_alpha\":{\"value\":0.2},\"line_color\":{\"value\":\"#1f77b4\"},\"x\":{\"field\":\"x\"},\"y\":{\"field\":\"y\"}},\"id\":\"23525\",\"type\":\"Circle\"},{\"attributes\":{},\"id\":\"23496\",\"type\":\"LinearScale\"},{\"attributes\":{\"tools\":[{\"id\":\"23508\"},{\"id\":\"23509\"},{\"id\":\"23510\"},{\"id\":\"23511\"},{\"id\":\"23512\"},{\"id\":\"23513\"}]},\"id\":\"23515\",\"type\":\"Toolbar\"},{\"attributes\":{\"axis_label\":\"I Frequency\",\"coordinates\":null,\"formatter\":{\"id\":\"24142\"},\"group\":null,\"major_label_policy\":{\"id\":\"24143\"},\"ticker\":{\"id\":\"23501\"}},\"id\":\"23500\",\"type\":\"LinearAxis\"},{\"attributes\":{},\"id\":\"24139\",\"type\":\"BasicTickFormatter\"},{\"attributes\":{\"fill_alpha\":{\"value\":0.1},\"fill_color\":{\"value\":\"#1f77b4\"},\"hatch_alpha\":{\"value\":0.1},\"line_alpha\":{\"value\":0.1},\"line_color\":{\"value\":\"#1f77b4\"},\"x\":{\"field\":\"x\"},\"y\":{\"field\":\"y\"}},\"id\":\"23524\",\"type\":\"Circle\"},{\"attributes\":{},\"id\":\"23494\",\"type\":\"DataRange1d\"},{\"attributes\":{},\"id\":\"24140\",\"type\":\"AllLabels\"},{\"attributes\":{},\"id\":\"23498\",\"type\":\"LinearScale\"},{\"attributes\":{\"axis\":{\"id\":\"23500\"},\"coordinates\":null,\"group\":null,\"ticker\":null},\"id\":\"23503\",\"type\":\"Grid\"},{\"attributes\":{},\"id\":\"24142\",\"type\":\"BasicTickFormatter\"},{\"attributes\":{},\"id\":\"23501\",\"type\":\"BasicTicker\"},{\"attributes\":{\"fill_color\":{\"value\":\"#1f77b4\"},\"line_color\":{\"value\":\"#1f77b4\"},\"x\":{\"field\":\"x\"},\"y\":{\"field\":\"y\"}},\"id\":\"23523\",\"type\":\"Circle\"},{\"attributes\":{\"axis_label\":\"GC Content\",\"coordinates\":null,\"formatter\":{\"id\":\"24139\"},\"group\":null,\"major_label_policy\":{\"id\":\"24140\"},\"ticker\":{\"id\":\"23505\"}},\"id\":\"23504\",\"type\":\"LinearAxis\"},{\"attributes\":{\"axis\":{\"id\":\"23504\"},\"coordinates\":null,\"dimension\":1,\"group\":null,\"ticker\":null},\"id\":\"23507\",\"type\":\"Grid\"}],\"root_ids\":[\"23491\"]},\"title\":\"Bokeh Application\",\"version\":\"2.4.3\"}};\n",
       "  const render_items = [{\"docid\":\"c4636018-a17b-4401-a8bf-0efc08dbd4cf\",\"root_ids\":[\"23491\"],\"roots\":{\"23491\":\"e7a7fb8a-b5b5-480e-aae2-b5b0988ccf8e\"}}];\n",
       "  root.Bokeh.embed.embed_items_notebook(docs_json, render_items);\n",
       "  }\n",
       "  if (root.Bokeh !== undefined) {\n",
       "    embed_document(root);\n",
       "  } else {\n",
       "    let attempts = 0;\n",
       "    const timer = setInterval(function(root) {\n",
       "      if (root.Bokeh !== undefined) {\n",
       "        clearInterval(timer);\n",
       "        embed_document(root);\n",
       "      } else {\n",
       "        attempts++;\n",
       "        if (attempts > 100) {\n",
       "          clearInterval(timer);\n",
       "          console.log(\"Bokeh: ERROR: Unable to run BokehJS code because BokehJS library is missing\");\n",
       "        }\n",
       "      }\n",
       "    }, 10, root)\n",
       "  }\n",
       "})(window);"
      ],
      "application/vnd.bokehjs_exec.v0+json": ""
     },
     "metadata": {
      "application/vnd.bokehjs_exec.v0+json": {
       "id": "23491"
      }
     },
     "output_type": "display_data"
    },
    {
     "data": {
      "text/html": [
       "\n",
       "  <div class=\"bk-root\" id=\"6651c095-0b00-45b3-9792-6d76ba253451\" data-root-id=\"24202\"></div>\n"
      ]
     },
     "metadata": {},
     "output_type": "display_data"
    },
    {
     "data": {
      "application/javascript": [
       "(function(root) {\n",
       "  function embed_document(root) {\n",
       "  const docs_json = {\"909faeb5-6fd0-4282-8d3d-e0d54578d04b\":{\"defs\":[],\"roots\":{\"references\":[{\"attributes\":{\"below\":[{\"id\":\"24211\"}],\"center\":[{\"id\":\"24214\"},{\"id\":\"24218\"}],\"left\":[{\"id\":\"24215\"}],\"renderers\":[{\"id\":\"24237\"}],\"title\":{\"id\":\"24239\"},\"toolbar\":{\"id\":\"24226\"},\"x_range\":{\"id\":\"24203\"},\"x_scale\":{\"id\":\"24207\"},\"y_range\":{\"id\":\"24205\"},\"y_scale\":{\"id\":\"24209\"}},\"id\":\"24202\",\"subtype\":\"Figure\",\"type\":\"Plot\"},{\"attributes\":{},\"id\":\"24867\",\"type\":\"Selection\"},{\"attributes\":{\"coordinates\":null,\"group\":null,\"text\":\"K\"},\"id\":\"24239\",\"type\":\"Title\"},{\"attributes\":{\"source\":{\"id\":\"24233\"}},\"id\":\"24238\",\"type\":\"CDSView\"},{\"attributes\":{\"fill_alpha\":{\"value\":0.1},\"fill_color\":{\"value\":\"#1f77b4\"},\"hatch_alpha\":{\"value\":0.1},\"line_alpha\":{\"value\":0.1},\"line_color\":{\"value\":\"#1f77b4\"},\"x\":{\"field\":\"x\"},\"y\":{\"field\":\"y\"}},\"id\":\"24235\",\"type\":\"Circle\"},{\"attributes\":{\"coordinates\":null,\"data_source\":{\"id\":\"24233\"},\"glyph\":{\"id\":\"24234\"},\"group\":null,\"hover_glyph\":null,\"muted_glyph\":{\"id\":\"24236\"},\"nonselection_glyph\":{\"id\":\"24235\"},\"view\":{\"id\":\"24238\"}},\"id\":\"24237\",\"type\":\"GlyphRenderer\"},{\"attributes\":{\"axis_label\":\"K Frequency\",\"coordinates\":null,\"formatter\":{\"id\":\"24864\"},\"group\":null,\"major_label_policy\":{\"id\":\"24865\"},\"ticker\":{\"id\":\"24212\"}},\"id\":\"24211\",\"type\":\"LinearAxis\"},{\"attributes\":{\"tools\":[{\"id\":\"24219\"},{\"id\":\"24220\"},{\"id\":\"24221\"},{\"id\":\"24222\"},{\"id\":\"24223\"},{\"id\":\"24224\"}]},\"id\":\"24226\",\"type\":\"Toolbar\"},{\"attributes\":{},\"id\":\"24861\",\"type\":\"BasicTickFormatter\"},{\"attributes\":{},\"id\":\"24209\",\"type\":\"LinearScale\"},{\"attributes\":{},\"id\":\"24205\",\"type\":\"DataRange1d\"},{\"attributes\":{\"data\":{\"x\":[0.0319634703196347,0.03556485355648536,0.06382978723404255,0.04275534441805225,0.035794183445190156,0.042316258351893093,0.04861111111111111,0.04827586206896552,0.020454545454545454,0.033932135728542916,0.035545023696682464,0.04805491990846682,0.0481651376146789,0.033663366336633666,0.03355704697986577,0.033783783783783786,0.03464203233256351,0.03263403263403263,0.052060737527114966,0.0182648401826484,0.02810304449648712,0.023206751054852322,0.041189931350114416,0.03111111111111111,0.0334075723830735,0.0410958904109589,0.023255813953488372,0.038202247191011236,0.032407407407407406,0.028953229398663696,0.027149321266968326,0.03956043956043956,0.05417607223476298,0.03218390804597701,0.04405286343612335,0.037444933920704845,0.05011389521640091,0.013636363636363636,0.024553571428571428,0.033936651583710405,0.03592814371257485,0.02576112412177986,0.013303769401330377,0.03747072599531616,0.03711790393013101,0.044186046511627906,0.029545454545454545,0.038288288288288286,0.029345372460496615,0.03619909502262444,0.04148471615720524,0.03764705882352941,0.03211009174311927,0.027842227378190254,0.02044989775051125,0.04288939051918736,0.04888888888888889,0.045662100456621,0.038288288288288286,0.03389830508474576,0.03017241379310345,0.014767932489451477,0.038288288288288286,0.04640371229698376,0.021834061135371178,0.05,0.046476761619190406,0.05517241379310345,0.02927927927927928,0.037122969837587005,0.02947845804988662,0.03711790393013101,0.04462474645030426,0.03551401869158879,0.022540983606557378,0.018292682926829267,0.018367346938775512,0.04398148148148148,0.041666666666666664,0.027149321266968326,0.07246376811594203,0.04408817635270541,0.029612756264236904,0.013729977116704805,0.03282275711159737,0.05239179954441914,0.023454157782515993,0.01279317697228145,0.02771855010660981,0.0576036866359447,0.05069124423963134,0.055299539170506916,0.055299539170506916,0.055299539170506916,0.05568445475638051,0.05344827586206897,0.058004640371229696,0.03424657534246575,0.04772727272727273,0.015909090909090907,0.038288288288288286,0.03424657534246575,0.057208237986270026,0.03424657534246575,0.06264501160092807,0.03424657534246575,0.057208237986270026,0.05057471264367816,0.04861111111111111,0.05504587155963303,0.0319634703196347,0.02708803611738149,0.018223234624145785,0.038202247191011236,0.04047619047619048],\"y\":[0.6214550979068197,0.3994085176855399,0.2851670477800451,0.3925463139090084,0.2702402661513399,0.432061685620977,0.3941462663017556,0.4362451805566799,0.6604552208005426,0.5563730454385489,0.3134469652835711,0.5176625673713895,0.29458573520012254,0.6104893769690102,0.6066485428756286,0.5303426236068649,0.31856723950449106,0.6012489870353532,0.35044160109251976,0.5011939062196334,0.26988138782758875,0.5936551090651857,0.3697609754853193,0.6436863200066489,0.4616378165944257,0.7189011157425981,0.7321885437632035,0.3393312429608442,0.46248965043612583,0.5384967293987223,0.6561466628826449,0.5573534104769428,0.3494858518464715,0.5892757515896828,0.409548278484123,0.480491303157634,0.527548236805966,0.6813901247639091,0.7471648802454562,0.5579611479572558,0.653411396022395,0.34123190636943734,0.6069007764404369,0.2968308145349908,0.41307256750236687,0.4330160278754406,0.36442138565913607,0.5223887952113582,0.6655573299550923,0.6701232937245032,0.39022929006636004,0.35283906464335824,0.5481824835325689,0.7136233373179821,0.6677882621956012,0.38841741990717416,0.27633708893783704,0.5185249426669587,0.5127325660881997,0.4636155070752707,0.3670806060968197,0.5512825664578923,0.47701508164097833,0.3449876452749862,0.5631126863812335,0.25330577095161927,0.556836852789952,0.2859329500485328,0.6405938043196072,0.4368551230358618,0.5381025146242477,0.40336548767416935,0.30467776311034744,0.5898382910760631,0.6236364077610999,0.6791304308972272,0.6663858608722584,0.34717068193657913,0.37695898246256665,0.6563259786882653,0.23770448791760188,0.3146988546603475,0.5789368104312939,0.7305599084350982,0.49543930290280164,0.3132831176804368,0.4544143222506394,0.4076989670149079,0.41878970724846926,0.3164585736848883,0.3243880812292365,0.3245036858279444,0.2883630109992476,0.28919402319036686,0.328175332862062,0.48465357707063866,0.346327029360698,0.7214412872304006,0.35909420320035984,0.5547002247484424,0.508894769536912,0.7304496584927127,0.40506778011364514,0.7276396728649653,0.33777020500615523,0.6776867521828177,0.41488191202938696,0.3938264258377672,0.398032196376832,0.43400218134468804,0.7145283211289727,0.4772025510218359,0.6490562785486512,0.4769483062149186,0.4878755268844504]},\"selected\":{\"id\":\"24867\"},\"selection_policy\":{\"id\":\"24866\"}},\"id\":\"24233\",\"type\":\"ColumnDataSource\"},{\"attributes\":{},\"id\":\"24207\",\"type\":\"LinearScale\"},{\"attributes\":{},\"id\":\"24862\",\"type\":\"AllLabels\"},{\"attributes\":{\"axis\":{\"id\":\"24211\"},\"coordinates\":null,\"group\":null,\"ticker\":null},\"id\":\"24214\",\"type\":\"Grid\"},{\"attributes\":{},\"id\":\"24864\",\"type\":\"BasicTickFormatter\"},{\"attributes\":{},\"id\":\"24212\",\"type\":\"BasicTicker\"},{\"attributes\":{\"fill_color\":{\"value\":\"#1f77b4\"},\"line_color\":{\"value\":\"#1f77b4\"},\"x\":{\"field\":\"x\"},\"y\":{\"field\":\"y\"}},\"id\":\"24234\",\"type\":\"Circle\"},{\"attributes\":{\"axis_label\":\"GC Content\",\"coordinates\":null,\"formatter\":{\"id\":\"24861\"},\"group\":null,\"major_label_policy\":{\"id\":\"24862\"},\"ticker\":{\"id\":\"24216\"}},\"id\":\"24215\",\"type\":\"LinearAxis\"},{\"attributes\":{},\"id\":\"24865\",\"type\":\"AllLabels\"},{\"attributes\":{\"axis\":{\"id\":\"24215\"},\"coordinates\":null,\"dimension\":1,\"group\":null,\"ticker\":null},\"id\":\"24218\",\"type\":\"Grid\"},{\"attributes\":{},\"id\":\"24216\",\"type\":\"BasicTicker\"},{\"attributes\":{},\"id\":\"24220\",\"type\":\"WheelZoomTool\"},{\"attributes\":{},\"id\":\"24224\",\"type\":\"HelpTool\"},{\"attributes\":{},\"id\":\"24203\",\"type\":\"DataRange1d\"},{\"attributes\":{},\"id\":\"24219\",\"type\":\"PanTool\"},{\"attributes\":{\"overlay\":{\"id\":\"24225\"}},\"id\":\"24221\",\"type\":\"BoxZoomTool\"},{\"attributes\":{},\"id\":\"24222\",\"type\":\"SaveTool\"},{\"attributes\":{},\"id\":\"24223\",\"type\":\"ResetTool\"},{\"attributes\":{\"fill_alpha\":{\"value\":0.2},\"fill_color\":{\"value\":\"#1f77b4\"},\"hatch_alpha\":{\"value\":0.2},\"line_alpha\":{\"value\":0.2},\"line_color\":{\"value\":\"#1f77b4\"},\"x\":{\"field\":\"x\"},\"y\":{\"field\":\"y\"}},\"id\":\"24236\",\"type\":\"Circle\"},{\"attributes\":{},\"id\":\"24866\",\"type\":\"UnionRenderers\"},{\"attributes\":{\"bottom_units\":\"screen\",\"coordinates\":null,\"fill_alpha\":0.5,\"fill_color\":\"lightgrey\",\"group\":null,\"left_units\":\"screen\",\"level\":\"overlay\",\"line_alpha\":1.0,\"line_color\":\"black\",\"line_dash\":[4,4],\"line_width\":2,\"right_units\":\"screen\",\"syncable\":false,\"top_units\":\"screen\"},\"id\":\"24225\",\"type\":\"BoxAnnotation\"}],\"root_ids\":[\"24202\"]},\"title\":\"Bokeh Application\",\"version\":\"2.4.3\"}};\n",
       "  const render_items = [{\"docid\":\"909faeb5-6fd0-4282-8d3d-e0d54578d04b\",\"root_ids\":[\"24202\"],\"roots\":{\"24202\":\"6651c095-0b00-45b3-9792-6d76ba253451\"}}];\n",
       "  root.Bokeh.embed.embed_items_notebook(docs_json, render_items);\n",
       "  }\n",
       "  if (root.Bokeh !== undefined) {\n",
       "    embed_document(root);\n",
       "  } else {\n",
       "    let attempts = 0;\n",
       "    const timer = setInterval(function(root) {\n",
       "      if (root.Bokeh !== undefined) {\n",
       "        clearInterval(timer);\n",
       "        embed_document(root);\n",
       "      } else {\n",
       "        attempts++;\n",
       "        if (attempts > 100) {\n",
       "          clearInterval(timer);\n",
       "          console.log(\"Bokeh: ERROR: Unable to run BokehJS code because BokehJS library is missing\");\n",
       "        }\n",
       "      }\n",
       "    }, 10, root)\n",
       "  }\n",
       "})(window);"
      ],
      "application/vnd.bokehjs_exec.v0+json": ""
     },
     "metadata": {
      "application/vnd.bokehjs_exec.v0+json": {
       "id": "24202"
      }
     },
     "output_type": "display_data"
    },
    {
     "data": {
      "text/html": [
       "\n",
       "  <div class=\"bk-root\" id=\"547b750a-d1bf-4452-a4b7-21e79486a7ec\" data-root-id=\"24924\"></div>\n"
      ]
     },
     "metadata": {},
     "output_type": "display_data"
    },
    {
     "data": {
      "application/javascript": [
       "(function(root) {\n",
       "  function embed_document(root) {\n",
       "  const docs_json = {\"717b8e94-d0c2-4035-b1ed-f5bf7623eaf6\":{\"defs\":[],\"roots\":{\"references\":[{\"attributes\":{\"below\":[{\"id\":\"24933\"}],\"center\":[{\"id\":\"24936\"},{\"id\":\"24940\"}],\"left\":[{\"id\":\"24937\"}],\"renderers\":[{\"id\":\"24959\"}],\"title\":{\"id\":\"24961\"},\"toolbar\":{\"id\":\"24948\"},\"x_range\":{\"id\":\"24925\"},\"x_scale\":{\"id\":\"24929\"},\"y_range\":{\"id\":\"24927\"},\"y_scale\":{\"id\":\"24931\"}},\"id\":\"24924\",\"subtype\":\"Figure\",\"type\":\"Plot\"},{\"attributes\":{\"axis_label\":\"L Frequency\",\"coordinates\":null,\"formatter\":{\"id\":\"25597\"},\"group\":null,\"major_label_policy\":{\"id\":\"25598\"},\"ticker\":{\"id\":\"24934\"}},\"id\":\"24933\",\"type\":\"LinearAxis\"},{\"attributes\":{\"source\":{\"id\":\"24955\"}},\"id\":\"24960\",\"type\":\"CDSView\"},{\"attributes\":{},\"id\":\"25594\",\"type\":\"BasicTickFormatter\"},{\"attributes\":{},\"id\":\"24931\",\"type\":\"LinearScale\"},{\"attributes\":{},\"id\":\"24927\",\"type\":\"DataRange1d\"},{\"attributes\":{},\"id\":\"24929\",\"type\":\"LinearScale\"},{\"attributes\":{},\"id\":\"25595\",\"type\":\"AllLabels\"},{\"attributes\":{\"axis\":{\"id\":\"24933\"},\"coordinates\":null,\"group\":null,\"ticker\":null},\"id\":\"24936\",\"type\":\"Grid\"},{\"attributes\":{},\"id\":\"25597\",\"type\":\"BasicTickFormatter\"},{\"attributes\":{},\"id\":\"24934\",\"type\":\"BasicTicker\"},{\"attributes\":{\"axis_label\":\"GC Content\",\"coordinates\":null,\"formatter\":{\"id\":\"25594\"},\"group\":null,\"major_label_policy\":{\"id\":\"25595\"},\"ticker\":{\"id\":\"24938\"}},\"id\":\"24937\",\"type\":\"LinearAxis\"},{\"attributes\":{},\"id\":\"24942\",\"type\":\"WheelZoomTool\"},{\"attributes\":{},\"id\":\"25598\",\"type\":\"AllLabels\"},{\"attributes\":{\"axis\":{\"id\":\"24937\"},\"coordinates\":null,\"dimension\":1,\"group\":null,\"ticker\":null},\"id\":\"24940\",\"type\":\"Grid\"},{\"attributes\":{},\"id\":\"24938\",\"type\":\"BasicTicker\"},{\"attributes\":{\"coordinates\":null,\"data_source\":{\"id\":\"24955\"},\"glyph\":{\"id\":\"24956\"},\"group\":null,\"hover_glyph\":null,\"muted_glyph\":{\"id\":\"24958\"},\"nonselection_glyph\":{\"id\":\"24957\"},\"view\":{\"id\":\"24960\"}},\"id\":\"24959\",\"type\":\"GlyphRenderer\"},{\"attributes\":{\"data\":{\"x\":[0.1050228310502283,0.11715481171548117,0.09692671394799054,0.11401425178147269,0.10067114093959731,0.111358574610245,0.1111111111111111,0.10344827586206896,0.12272727272727273,0.1217564870259481,0.10426540284360189,0.12814645308924486,0.11697247706422019,0.09306930693069307,0.1342281879194631,0.0990990990990991,0.12009237875288684,0.11188811188811189,0.13449023861171366,0.1278538812785388,0.10772833723653395,0.10970464135021098,0.10755148741418764,0.09777777777777778,0.11358574610244988,0.11187214611872145,0.11416490486257928,0.09662921348314607,0.1087962962962963,0.155902004454343,0.11312217194570136,0.1054945054945055,0.1038374717832957,0.10114942528735632,0.10352422907488987,0.11013215859030837,0.1275626423690205,0.125,0.10714285714285714,0.09276018099547512,0.1217564870259481,0.09836065573770492,0.13968957871396895,0.10772833723653395,0.13537117903930132,0.11627906976744186,0.13636363636363635,0.10810810810810811,0.11286681715575621,0.12669683257918551,0.13755458515283842,0.11058823529411765,0.09403669724770643,0.12993039443155452,0.1329243353783231,0.12866817155756208,0.13111111111111112,0.12557077625570776,0.10810810810810811,0.10805084745762712,0.1336206896551724,0.14767932489451477,0.10585585585585586,0.11136890951276102,0.13537117903930132,0.10681818181818181,0.10944527736131934,0.1103448275862069,0.12612612612612611,0.10904872389791183,0.12244897959183673,0.13973799126637554,0.13387423935091278,0.10841121495327102,0.13934426229508196,0.11991869918699187,0.1346938775510204,0.12268518518518519,0.11574074074074074,0.11312217194570136,0.10144927536231885,0.13026052104208416,0.11389521640091116,0.11899313501144165,0.15098468271334792,0.12984054669703873,0.1300639658848614,0.1279317697228145,0.1300639658848614,0.11981566820276497,0.1175115207373272,0.11981566820276497,0.12211981566820276,0.12211981566820276,0.11600928074245939,0.1,0.09976798143851508,0.10730593607305935,0.11363636363636363,0.13636363636363635,0.10810810810810811,0.10273972602739725,0.11441647597254005,0.10273972602739725,0.10208816705336426,0.10730593607305935,0.10983981693363844,0.12873563218390804,0.11574074074074074,0.11467889908256881,0.1050228310502283,0.11512415349887133,0.12984054669703873,0.1146067415730337,0.10476190476190476],\"y\":[0.6214550979068197,0.3994085176855399,0.2851670477800451,0.3925463139090084,0.2702402661513399,0.432061685620977,0.3941462663017556,0.4362451805566799,0.6604552208005426,0.5563730454385489,0.3134469652835711,0.5176625673713895,0.29458573520012254,0.6104893769690102,0.6066485428756286,0.5303426236068649,0.31856723950449106,0.6012489870353532,0.35044160109251976,0.5011939062196334,0.26988138782758875,0.5936551090651857,0.3697609754853193,0.6436863200066489,0.4616378165944257,0.7189011157425981,0.7321885437632035,0.3393312429608442,0.46248965043612583,0.5384967293987223,0.6561466628826449,0.5573534104769428,0.3494858518464715,0.5892757515896828,0.409548278484123,0.480491303157634,0.527548236805966,0.6813901247639091,0.7471648802454562,0.5579611479572558,0.653411396022395,0.34123190636943734,0.6069007764404369,0.2968308145349908,0.41307256750236687,0.4330160278754406,0.36442138565913607,0.5223887952113582,0.6655573299550923,0.6701232937245032,0.39022929006636004,0.35283906464335824,0.5481824835325689,0.7136233373179821,0.6677882621956012,0.38841741990717416,0.27633708893783704,0.5185249426669587,0.5127325660881997,0.4636155070752707,0.3670806060968197,0.5512825664578923,0.47701508164097833,0.3449876452749862,0.5631126863812335,0.25330577095161927,0.556836852789952,0.2859329500485328,0.6405938043196072,0.4368551230358618,0.5381025146242477,0.40336548767416935,0.30467776311034744,0.5898382910760631,0.6236364077610999,0.6791304308972272,0.6663858608722584,0.34717068193657913,0.37695898246256665,0.6563259786882653,0.23770448791760188,0.3146988546603475,0.5789368104312939,0.7305599084350982,0.49543930290280164,0.3132831176804368,0.4544143222506394,0.4076989670149079,0.41878970724846926,0.3164585736848883,0.3243880812292365,0.3245036858279444,0.2883630109992476,0.28919402319036686,0.328175332862062,0.48465357707063866,0.346327029360698,0.7214412872304006,0.35909420320035984,0.5547002247484424,0.508894769536912,0.7304496584927127,0.40506778011364514,0.7276396728649653,0.33777020500615523,0.6776867521828177,0.41488191202938696,0.3938264258377672,0.398032196376832,0.43400218134468804,0.7145283211289727,0.4772025510218359,0.6490562785486512,0.4769483062149186,0.4878755268844504]},\"selected\":{\"id\":\"25600\"},\"selection_policy\":{\"id\":\"25599\"}},\"id\":\"24955\",\"type\":\"ColumnDataSource\"},{\"attributes\":{\"fill_alpha\":{\"value\":0.1},\"fill_color\":{\"value\":\"#1f77b4\"},\"hatch_alpha\":{\"value\":0.1},\"line_alpha\":{\"value\":0.1},\"line_color\":{\"value\":\"#1f77b4\"},\"x\":{\"field\":\"x\"},\"y\":{\"field\":\"y\"}},\"id\":\"24957\",\"type\":\"Circle\"},{\"attributes\":{},\"id\":\"24946\",\"type\":\"HelpTool\"},{\"attributes\":{},\"id\":\"24925\",\"type\":\"DataRange1d\"},{\"attributes\":{},\"id\":\"24941\",\"type\":\"PanTool\"},{\"attributes\":{\"overlay\":{\"id\":\"24947\"}},\"id\":\"24943\",\"type\":\"BoxZoomTool\"},{\"attributes\":{},\"id\":\"24944\",\"type\":\"SaveTool\"},{\"attributes\":{},\"id\":\"24945\",\"type\":\"ResetTool\"},{\"attributes\":{},\"id\":\"25599\",\"type\":\"UnionRenderers\"},{\"attributes\":{\"bottom_units\":\"screen\",\"coordinates\":null,\"fill_alpha\":0.5,\"fill_color\":\"lightgrey\",\"group\":null,\"left_units\":\"screen\",\"level\":\"overlay\",\"line_alpha\":1.0,\"line_color\":\"black\",\"line_dash\":[4,4],\"line_width\":2,\"right_units\":\"screen\",\"syncable\":false,\"top_units\":\"screen\"},\"id\":\"24947\",\"type\":\"BoxAnnotation\"},{\"attributes\":{\"coordinates\":null,\"group\":null,\"text\":\"L\"},\"id\":\"24961\",\"type\":\"Title\"},{\"attributes\":{},\"id\":\"25600\",\"type\":\"Selection\"},{\"attributes\":{\"fill_alpha\":{\"value\":0.2},\"fill_color\":{\"value\":\"#1f77b4\"},\"hatch_alpha\":{\"value\":0.2},\"line_alpha\":{\"value\":0.2},\"line_color\":{\"value\":\"#1f77b4\"},\"x\":{\"field\":\"x\"},\"y\":{\"field\":\"y\"}},\"id\":\"24958\",\"type\":\"Circle\"},{\"attributes\":{\"fill_color\":{\"value\":\"#1f77b4\"},\"line_color\":{\"value\":\"#1f77b4\"},\"x\":{\"field\":\"x\"},\"y\":{\"field\":\"y\"}},\"id\":\"24956\",\"type\":\"Circle\"},{\"attributes\":{\"tools\":[{\"id\":\"24941\"},{\"id\":\"24942\"},{\"id\":\"24943\"},{\"id\":\"24944\"},{\"id\":\"24945\"},{\"id\":\"24946\"}]},\"id\":\"24948\",\"type\":\"Toolbar\"}],\"root_ids\":[\"24924\"]},\"title\":\"Bokeh Application\",\"version\":\"2.4.3\"}};\n",
       "  const render_items = [{\"docid\":\"717b8e94-d0c2-4035-b1ed-f5bf7623eaf6\",\"root_ids\":[\"24924\"],\"roots\":{\"24924\":\"547b750a-d1bf-4452-a4b7-21e79486a7ec\"}}];\n",
       "  root.Bokeh.embed.embed_items_notebook(docs_json, render_items);\n",
       "  }\n",
       "  if (root.Bokeh !== undefined) {\n",
       "    embed_document(root);\n",
       "  } else {\n",
       "    let attempts = 0;\n",
       "    const timer = setInterval(function(root) {\n",
       "      if (root.Bokeh !== undefined) {\n",
       "        clearInterval(timer);\n",
       "        embed_document(root);\n",
       "      } else {\n",
       "        attempts++;\n",
       "        if (attempts > 100) {\n",
       "          clearInterval(timer);\n",
       "          console.log(\"Bokeh: ERROR: Unable to run BokehJS code because BokehJS library is missing\");\n",
       "        }\n",
       "      }\n",
       "    }, 10, root)\n",
       "  }\n",
       "})(window);"
      ],
      "application/vnd.bokehjs_exec.v0+json": ""
     },
     "metadata": {
      "application/vnd.bokehjs_exec.v0+json": {
       "id": "24924"
      }
     },
     "output_type": "display_data"
    },
    {
     "data": {
      "text/html": [
       "\n",
       "  <div class=\"bk-root\" id=\"0d6fe417-dfbe-4ce8-8da2-d034066e2e4b\" data-root-id=\"25657\"></div>\n"
      ]
     },
     "metadata": {},
     "output_type": "display_data"
    },
    {
     "data": {
      "application/javascript": [
       "(function(root) {\n",
       "  function embed_document(root) {\n",
       "  const docs_json = {\"f7cb025c-bae3-4ad6-941d-9a89c27633e6\":{\"defs\":[],\"roots\":{\"references\":[{\"attributes\":{\"below\":[{\"id\":\"25666\"}],\"center\":[{\"id\":\"25669\"},{\"id\":\"25673\"}],\"left\":[{\"id\":\"25670\"}],\"renderers\":[{\"id\":\"25692\"}],\"title\":{\"id\":\"25694\"},\"toolbar\":{\"id\":\"25681\"},\"x_range\":{\"id\":\"25658\"},\"x_scale\":{\"id\":\"25662\"},\"y_range\":{\"id\":\"25660\"},\"y_scale\":{\"id\":\"25664\"}},\"id\":\"25657\",\"subtype\":\"Figure\",\"type\":\"Plot\"},{\"attributes\":{},\"id\":\"25660\",\"type\":\"DataRange1d\"},{\"attributes\":{},\"id\":\"25679\",\"type\":\"HelpTool\"},{\"attributes\":{},\"id\":\"25677\",\"type\":\"SaveTool\"},{\"attributes\":{},\"id\":\"25678\",\"type\":\"ResetTool\"},{\"attributes\":{},\"id\":\"26343\",\"type\":\"UnionRenderers\"},{\"attributes\":{},\"id\":\"26342\",\"type\":\"AllLabels\"},{\"attributes\":{\"bottom_units\":\"screen\",\"coordinates\":null,\"fill_alpha\":0.5,\"fill_color\":\"lightgrey\",\"group\":null,\"left_units\":\"screen\",\"level\":\"overlay\",\"line_alpha\":1.0,\"line_color\":\"black\",\"line_dash\":[4,4],\"line_width\":2,\"right_units\":\"screen\",\"syncable\":false,\"top_units\":\"screen\"},\"id\":\"25680\",\"type\":\"BoxAnnotation\"},{\"attributes\":{},\"id\":\"26344\",\"type\":\"Selection\"},{\"attributes\":{},\"id\":\"25675\",\"type\":\"WheelZoomTool\"},{\"attributes\":{},\"id\":\"25674\",\"type\":\"PanTool\"},{\"attributes\":{\"fill_color\":{\"value\":\"#1f77b4\"},\"line_color\":{\"value\":\"#1f77b4\"},\"x\":{\"field\":\"x\"},\"y\":{\"field\":\"y\"}},\"id\":\"25689\",\"type\":\"Circle\"},{\"attributes\":{\"overlay\":{\"id\":\"25680\"}},\"id\":\"25676\",\"type\":\"BoxZoomTool\"},{\"attributes\":{\"fill_alpha\":{\"value\":0.2},\"fill_color\":{\"value\":\"#1f77b4\"},\"hatch_alpha\":{\"value\":0.2},\"line_alpha\":{\"value\":0.2},\"line_color\":{\"value\":\"#1f77b4\"},\"x\":{\"field\":\"x\"},\"y\":{\"field\":\"y\"}},\"id\":\"25691\",\"type\":\"Circle\"},{\"attributes\":{},\"id\":\"25671\",\"type\":\"BasicTicker\"},{\"attributes\":{\"axis\":{\"id\":\"25670\"},\"coordinates\":null,\"dimension\":1,\"group\":null,\"ticker\":null},\"id\":\"25673\",\"type\":\"Grid\"},{\"attributes\":{},\"id\":\"26338\",\"type\":\"BasicTickFormatter\"},{\"attributes\":{\"tools\":[{\"id\":\"25674\"},{\"id\":\"25675\"},{\"id\":\"25676\"},{\"id\":\"25677\"},{\"id\":\"25678\"},{\"id\":\"25679\"}]},\"id\":\"25681\",\"type\":\"Toolbar\"},{\"attributes\":{\"axis_label\":\"N Frequency\",\"coordinates\":null,\"formatter\":{\"id\":\"26341\"},\"group\":null,\"major_label_policy\":{\"id\":\"26342\"},\"ticker\":{\"id\":\"25667\"}},\"id\":\"25666\",\"type\":\"LinearAxis\"},{\"attributes\":{},\"id\":\"25658\",\"type\":\"DataRange1d\"},{\"attributes\":{\"coordinates\":null,\"data_source\":{\"id\":\"25688\"},\"glyph\":{\"id\":\"25689\"},\"group\":null,\"hover_glyph\":null,\"muted_glyph\":{\"id\":\"25691\"},\"nonselection_glyph\":{\"id\":\"25690\"},\"view\":{\"id\":\"25693\"}},\"id\":\"25692\",\"type\":\"GlyphRenderer\"},{\"attributes\":{\"coordinates\":null,\"group\":null,\"text\":\"N\"},\"id\":\"25694\",\"type\":\"Title\"},{\"attributes\":{\"fill_alpha\":{\"value\":0.1},\"fill_color\":{\"value\":\"#1f77b4\"},\"hatch_alpha\":{\"value\":0.1},\"line_alpha\":{\"value\":0.1},\"line_color\":{\"value\":\"#1f77b4\"},\"x\":{\"field\":\"x\"},\"y\":{\"field\":\"y\"}},\"id\":\"25690\",\"type\":\"Circle\"},{\"attributes\":{\"source\":{\"id\":\"25688\"}},\"id\":\"25693\",\"type\":\"CDSView\"},{\"attributes\":{},\"id\":\"25664\",\"type\":\"LinearScale\"},{\"attributes\":{\"data\":{\"x\":[0.02968036529680365,0.043933054393305436,0.03546099290780142,0.052256532066508314,0.026845637583892617,0.0378619153674833,0.03935185185185185,0.02528735632183908,0.031818181818181815,0.031936127744510975,0.07109004739336493,0.02745995423340961,0.03669724770642202,0.027722772277227723,0.026845637583892617,0.02702702702702703,0.04387990762124711,0.04195804195804196,0.03253796095444685,0.0228310502283105,0.03044496487119438,0.03375527426160337,0.02517162471395881,0.03333333333333333,0.035634743875278395,0.0319634703196347,0.02959830866807611,0.03146067415730337,0.03009259259259259,0.0378619153674833,0.027149321266968326,0.024175824175824177,0.03160270880361174,0.03218390804597701,0.046255506607929514,0.04405286343612335,0.022779043280182234,0.025,0.024553571428571428,0.027149321266968326,0.021956087824351298,0.0351288056206089,0.03547671840354767,0.03981264637002342,0.024017467248908297,0.03488372093023256,0.03409090909090909,0.02252252252252252,0.02708803611738149,0.027149321266968326,0.026200873362445413,0.03058823529411765,0.034403669724770644,0.027842227378190254,0.028629856850715747,0.02708803611738149,0.024444444444444446,0.02968036529680365,0.02252252252252252,0.03389830508474576,0.036637931034482756,0.02109704641350211,0.024774774774774775,0.025522041763341066,0.015283842794759825,0.03636363636363636,0.038980509745127435,0.04827586206896552,0.033783783783783786,0.037122969837587005,0.02947845804988662,0.024017467248908297,0.05273833671399594,0.018691588785046728,0.022540983606557378,0.03048780487804878,0.022448979591836733,0.034722222222222224,0.041666666666666664,0.027149321266968326,0.053830227743271224,0.05811623246492986,0.025056947608200455,0.02288329519450801,0.0175054704595186,0.015945330296127564,0.017057569296375266,0.017057569296375266,0.019189765458422176,0.05069124423963134,0.04608294930875576,0.04608294930875576,0.04838709677419355,0.04838709677419355,0.04176334106728538,0.020689655172413793,0.048723897911832945,0.02968036529680365,0.04090909090909091,0.038636363636363635,0.02252252252252252,0.0273972602739726,0.032036613272311214,0.02511415525114155,0.03248259860788863,0.02968036529680365,0.02517162471395881,0.03908045977011494,0.04398148148148148,0.034403669724770644,0.02968036529680365,0.033860045146726865,0.025056947608200455,0.02696629213483146,0.047619047619047616],\"y\":[0.6214550979068197,0.3994085176855399,0.2851670477800451,0.3925463139090084,0.2702402661513399,0.432061685620977,0.3941462663017556,0.4362451805566799,0.6604552208005426,0.5563730454385489,0.3134469652835711,0.5176625673713895,0.29458573520012254,0.6104893769690102,0.6066485428756286,0.5303426236068649,0.31856723950449106,0.6012489870353532,0.35044160109251976,0.5011939062196334,0.26988138782758875,0.5936551090651857,0.3697609754853193,0.6436863200066489,0.4616378165944257,0.7189011157425981,0.7321885437632035,0.3393312429608442,0.46248965043612583,0.5384967293987223,0.6561466628826449,0.5573534104769428,0.3494858518464715,0.5892757515896828,0.409548278484123,0.480491303157634,0.527548236805966,0.6813901247639091,0.7471648802454562,0.5579611479572558,0.653411396022395,0.34123190636943734,0.6069007764404369,0.2968308145349908,0.41307256750236687,0.4330160278754406,0.36442138565913607,0.5223887952113582,0.6655573299550923,0.6701232937245032,0.39022929006636004,0.35283906464335824,0.5481824835325689,0.7136233373179821,0.6677882621956012,0.38841741990717416,0.27633708893783704,0.5185249426669587,0.5127325660881997,0.4636155070752707,0.3670806060968197,0.5512825664578923,0.47701508164097833,0.3449876452749862,0.5631126863812335,0.25330577095161927,0.556836852789952,0.2859329500485328,0.6405938043196072,0.4368551230358618,0.5381025146242477,0.40336548767416935,0.30467776311034744,0.5898382910760631,0.6236364077610999,0.6791304308972272,0.6663858608722584,0.34717068193657913,0.37695898246256665,0.6563259786882653,0.23770448791760188,0.3146988546603475,0.5789368104312939,0.7305599084350982,0.49543930290280164,0.3132831176804368,0.4544143222506394,0.4076989670149079,0.41878970724846926,0.3164585736848883,0.3243880812292365,0.3245036858279444,0.2883630109992476,0.28919402319036686,0.328175332862062,0.48465357707063866,0.346327029360698,0.7214412872304006,0.35909420320035984,0.5547002247484424,0.508894769536912,0.7304496584927127,0.40506778011364514,0.7276396728649653,0.33777020500615523,0.6776867521828177,0.41488191202938696,0.3938264258377672,0.398032196376832,0.43400218134468804,0.7145283211289727,0.4772025510218359,0.6490562785486512,0.4769483062149186,0.4878755268844504]},\"selected\":{\"id\":\"26344\"},\"selection_policy\":{\"id\":\"26343\"}},\"id\":\"25688\",\"type\":\"ColumnDataSource\"},{\"attributes\":{},\"id\":\"25667\",\"type\":\"BasicTicker\"},{\"attributes\":{\"axis_label\":\"GC Content\",\"coordinates\":null,\"formatter\":{\"id\":\"26338\"},\"group\":null,\"major_label_policy\":{\"id\":\"26339\"},\"ticker\":{\"id\":\"25671\"}},\"id\":\"25670\",\"type\":\"LinearAxis\"},{\"attributes\":{},\"id\":\"26339\",\"type\":\"AllLabels\"},{\"attributes\":{},\"id\":\"25662\",\"type\":\"LinearScale\"},{\"attributes\":{},\"id\":\"26341\",\"type\":\"BasicTickFormatter\"},{\"attributes\":{\"axis\":{\"id\":\"25666\"},\"coordinates\":null,\"group\":null,\"ticker\":null},\"id\":\"25669\",\"type\":\"Grid\"}],\"root_ids\":[\"25657\"]},\"title\":\"Bokeh Application\",\"version\":\"2.4.3\"}};\n",
       "  const render_items = [{\"docid\":\"f7cb025c-bae3-4ad6-941d-9a89c27633e6\",\"root_ids\":[\"25657\"],\"roots\":{\"25657\":\"0d6fe417-dfbe-4ce8-8da2-d034066e2e4b\"}}];\n",
       "  root.Bokeh.embed.embed_items_notebook(docs_json, render_items);\n",
       "  }\n",
       "  if (root.Bokeh !== undefined) {\n",
       "    embed_document(root);\n",
       "  } else {\n",
       "    let attempts = 0;\n",
       "    const timer = setInterval(function(root) {\n",
       "      if (root.Bokeh !== undefined) {\n",
       "        clearInterval(timer);\n",
       "        embed_document(root);\n",
       "      } else {\n",
       "        attempts++;\n",
       "        if (attempts > 100) {\n",
       "          clearInterval(timer);\n",
       "          console.log(\"Bokeh: ERROR: Unable to run BokehJS code because BokehJS library is missing\");\n",
       "        }\n",
       "      }\n",
       "    }, 10, root)\n",
       "  }\n",
       "})(window);"
      ],
      "application/vnd.bokehjs_exec.v0+json": ""
     },
     "metadata": {
      "application/vnd.bokehjs_exec.v0+json": {
       "id": "25657"
      }
     },
     "output_type": "display_data"
    },
    {
     "data": {
      "text/html": [
       "\n",
       "  <div class=\"bk-root\" id=\"029e7aae-dbbb-4c08-baf8-e1fc06e918b4\" data-root-id=\"26401\"></div>\n"
      ]
     },
     "metadata": {},
     "output_type": "display_data"
    },
    {
     "data": {
      "application/javascript": [
       "(function(root) {\n",
       "  function embed_document(root) {\n",
       "  const docs_json = {\"ac5fbb37-ea81-40c2-afd0-20e11f32a5aa\":{\"defs\":[],\"roots\":{\"references\":[{\"attributes\":{\"below\":[{\"id\":\"26410\"}],\"center\":[{\"id\":\"26413\"},{\"id\":\"26417\"}],\"left\":[{\"id\":\"26414\"}],\"renderers\":[{\"id\":\"26436\"}],\"title\":{\"id\":\"26438\"},\"toolbar\":{\"id\":\"26425\"},\"x_range\":{\"id\":\"26402\"},\"x_scale\":{\"id\":\"26406\"},\"y_range\":{\"id\":\"26404\"},\"y_scale\":{\"id\":\"26408\"}},\"id\":\"26401\",\"subtype\":\"Figure\",\"type\":\"Plot\"},{\"attributes\":{\"coordinates\":null,\"group\":null,\"text\":\"P\"},\"id\":\"26438\",\"type\":\"Title\"},{\"attributes\":{\"fill_alpha\":{\"value\":0.2},\"fill_color\":{\"value\":\"#1f77b4\"},\"hatch_alpha\":{\"value\":0.2},\"line_alpha\":{\"value\":0.2},\"line_color\":{\"value\":\"#1f77b4\"},\"x\":{\"field\":\"x\"},\"y\":{\"field\":\"y\"}},\"id\":\"26435\",\"type\":\"Circle\"},{\"attributes\":{},\"id\":\"27098\",\"type\":\"UnionRenderers\"},{\"attributes\":{\"axis_label\":\"P Frequency\",\"coordinates\":null,\"formatter\":{\"id\":\"27096\"},\"group\":null,\"major_label_policy\":{\"id\":\"27097\"},\"ticker\":{\"id\":\"26411\"}},\"id\":\"26410\",\"type\":\"LinearAxis\"},{\"attributes\":{\"data\":{\"x\":[0.04337899543378995,0.04811715481171548,0.03309692671394799,0.035629453681710214,0.040268456375838924,0.035634743875278395,0.034722222222222224,0.03908045977011494,0.04318181818181818,0.04590818363273453,0.037914691943127965,0.034324942791762014,0.0389908256880734,0.04356435643564356,0.040268456375838924,0.04279279279279279,0.03233256351039261,0.04195804195804196,0.04338394793926247,0.0502283105022831,0.04449648711943794,0.04852320675105485,0.05034324942791762,0.04888888888888889,0.0400890868596882,0.0410958904109589,0.04439746300211417,0.038202247191011236,0.034722222222222224,0.044543429844097995,0.04072398190045249,0.04395604395604396,0.04740406320541761,0.04597701149425287,0.04185022026431718,0.037444933920704845,0.04783599088838269,0.045454545454545456,0.03794642857142857,0.042986425339366516,0.0499001996007984,0.04215456674473068,0.05321507760532151,0.03981264637002342,0.04585152838427948,0.053488372093023255,0.04318181818181818,0.04504504504504504,0.03611738148984198,0.04524886877828054,0.043668122270742356,0.04470588235294118,0.04357798165137615,0.048723897911832945,0.04703476482617587,0.045146726862302484,0.04888888888888889,0.0410958904109589,0.04504504504504504,0.0423728813559322,0.04525862068965517,0.06751054852320675,0.04504504504504504,0.037122969837587005,0.056768558951965066,0.03636363636363636,0.03298350824587706,0.03908045977011494,0.04279279279279279,0.048723897911832945,0.036281179138321996,0.043668122270742356,0.04665314401622718,0.04299065420560748,0.0430327868852459,0.046747967479674794,0.04285714285714286,0.037037037037037035,0.037037037037037035,0.04072398190045249,0.041407867494824016,0.050100200400801605,0.04100227790432802,0.04805491990846682,0.0525164113785558,0.03416856492027335,0.05543710021321962,0.05543710021321962,0.05543710021321962,0.03686635944700461,0.03686635944700461,0.03686635944700461,0.03686635944700461,0.03686635944700461,0.04176334106728538,0.03620689655172414,0.04408352668213457,0.0410958904109589,0.045454545454545456,0.04318181818181818,0.04504504504504504,0.04337899543378995,0.038901601830663615,0.04794520547945205,0.04176334106728538,0.04337899543378995,0.036613272311212815,0.041379310344827586,0.041666666666666664,0.0389908256880734,0.045662100456621,0.040632054176072234,0.05011389521640091,0.035955056179775284,0.0380952380952381],\"y\":[0.6214550979068197,0.3994085176855399,0.2851670477800451,0.3925463139090084,0.2702402661513399,0.432061685620977,0.3941462663017556,0.4362451805566799,0.6604552208005426,0.5563730454385489,0.3134469652835711,0.5176625673713895,0.29458573520012254,0.6104893769690102,0.6066485428756286,0.5303426236068649,0.31856723950449106,0.6012489870353532,0.35044160109251976,0.5011939062196334,0.26988138782758875,0.5936551090651857,0.3697609754853193,0.6436863200066489,0.4616378165944257,0.7189011157425981,0.7321885437632035,0.3393312429608442,0.46248965043612583,0.5384967293987223,0.6561466628826449,0.5573534104769428,0.3494858518464715,0.5892757515896828,0.409548278484123,0.480491303157634,0.527548236805966,0.6813901247639091,0.7471648802454562,0.5579611479572558,0.653411396022395,0.34123190636943734,0.6069007764404369,0.2968308145349908,0.41307256750236687,0.4330160278754406,0.36442138565913607,0.5223887952113582,0.6655573299550923,0.6701232937245032,0.39022929006636004,0.35283906464335824,0.5481824835325689,0.7136233373179821,0.6677882621956012,0.38841741990717416,0.27633708893783704,0.5185249426669587,0.5127325660881997,0.4636155070752707,0.3670806060968197,0.5512825664578923,0.47701508164097833,0.3449876452749862,0.5631126863812335,0.25330577095161927,0.556836852789952,0.2859329500485328,0.6405938043196072,0.4368551230358618,0.5381025146242477,0.40336548767416935,0.30467776311034744,0.5898382910760631,0.6236364077610999,0.6791304308972272,0.6663858608722584,0.34717068193657913,0.37695898246256665,0.6563259786882653,0.23770448791760188,0.3146988546603475,0.5789368104312939,0.7305599084350982,0.49543930290280164,0.3132831176804368,0.4544143222506394,0.4076989670149079,0.41878970724846926,0.3164585736848883,0.3243880812292365,0.3245036858279444,0.2883630109992476,0.28919402319036686,0.328175332862062,0.48465357707063866,0.346327029360698,0.7214412872304006,0.35909420320035984,0.5547002247484424,0.508894769536912,0.7304496584927127,0.40506778011364514,0.7276396728649653,0.33777020500615523,0.6776867521828177,0.41488191202938696,0.3938264258377672,0.398032196376832,0.43400218134468804,0.7145283211289727,0.4772025510218359,0.6490562785486512,0.4769483062149186,0.4878755268844504]},\"selected\":{\"id\":\"27099\"},\"selection_policy\":{\"id\":\"27098\"}},\"id\":\"26432\",\"type\":\"ColumnDataSource\"},{\"attributes\":{\"coordinates\":null,\"data_source\":{\"id\":\"26432\"},\"glyph\":{\"id\":\"26433\"},\"group\":null,\"hover_glyph\":null,\"muted_glyph\":{\"id\":\"26435\"},\"nonselection_glyph\":{\"id\":\"26434\"},\"view\":{\"id\":\"26437\"}},\"id\":\"26436\",\"type\":\"GlyphRenderer\"},{\"attributes\":{},\"id\":\"27099\",\"type\":\"Selection\"},{\"attributes\":{\"fill_alpha\":{\"value\":0.1},\"fill_color\":{\"value\":\"#1f77b4\"},\"hatch_alpha\":{\"value\":0.1},\"line_alpha\":{\"value\":0.1},\"line_color\":{\"value\":\"#1f77b4\"},\"x\":{\"field\":\"x\"},\"y\":{\"field\":\"y\"}},\"id\":\"26434\",\"type\":\"Circle\"},{\"attributes\":{\"source\":{\"id\":\"26432\"}},\"id\":\"26437\",\"type\":\"CDSView\"},{\"attributes\":{},\"id\":\"26408\",\"type\":\"LinearScale\"},{\"attributes\":{},\"id\":\"26404\",\"type\":\"DataRange1d\"},{\"attributes\":{},\"id\":\"26406\",\"type\":\"LinearScale\"},{\"attributes\":{\"axis\":{\"id\":\"26410\"},\"coordinates\":null,\"group\":null,\"ticker\":null},\"id\":\"26413\",\"type\":\"Grid\"},{\"attributes\":{},\"id\":\"26411\",\"type\":\"BasicTicker\"},{\"attributes\":{},\"id\":\"26402\",\"type\":\"DataRange1d\"},{\"attributes\":{\"axis_label\":\"GC Content\",\"coordinates\":null,\"formatter\":{\"id\":\"27093\"},\"group\":null,\"major_label_policy\":{\"id\":\"27094\"},\"ticker\":{\"id\":\"26415\"}},\"id\":\"26414\",\"type\":\"LinearAxis\"},{\"attributes\":{\"axis\":{\"id\":\"26414\"},\"coordinates\":null,\"dimension\":1,\"group\":null,\"ticker\":null},\"id\":\"26417\",\"type\":\"Grid\"},{\"attributes\":{},\"id\":\"26415\",\"type\":\"BasicTicker\"},{\"attributes\":{},\"id\":\"26419\",\"type\":\"WheelZoomTool\"},{\"attributes\":{},\"id\":\"27096\",\"type\":\"BasicTickFormatter\"},{\"attributes\":{},\"id\":\"26423\",\"type\":\"HelpTool\"},{\"attributes\":{},\"id\":\"26418\",\"type\":\"PanTool\"},{\"attributes\":{},\"id\":\"27097\",\"type\":\"AllLabels\"},{\"attributes\":{\"overlay\":{\"id\":\"26424\"}},\"id\":\"26420\",\"type\":\"BoxZoomTool\"},{\"attributes\":{\"fill_color\":{\"value\":\"#1f77b4\"},\"line_color\":{\"value\":\"#1f77b4\"},\"x\":{\"field\":\"x\"},\"y\":{\"field\":\"y\"}},\"id\":\"26433\",\"type\":\"Circle\"},{\"attributes\":{},\"id\":\"26421\",\"type\":\"SaveTool\"},{\"attributes\":{},\"id\":\"26422\",\"type\":\"ResetTool\"},{\"attributes\":{},\"id\":\"27093\",\"type\":\"BasicTickFormatter\"},{\"attributes\":{},\"id\":\"27094\",\"type\":\"AllLabels\"},{\"attributes\":{\"bottom_units\":\"screen\",\"coordinates\":null,\"fill_alpha\":0.5,\"fill_color\":\"lightgrey\",\"group\":null,\"left_units\":\"screen\",\"level\":\"overlay\",\"line_alpha\":1.0,\"line_color\":\"black\",\"line_dash\":[4,4],\"line_width\":2,\"right_units\":\"screen\",\"syncable\":false,\"top_units\":\"screen\"},\"id\":\"26424\",\"type\":\"BoxAnnotation\"},{\"attributes\":{\"tools\":[{\"id\":\"26418\"},{\"id\":\"26419\"},{\"id\":\"26420\"},{\"id\":\"26421\"},{\"id\":\"26422\"},{\"id\":\"26423\"}]},\"id\":\"26425\",\"type\":\"Toolbar\"}],\"root_ids\":[\"26401\"]},\"title\":\"Bokeh Application\",\"version\":\"2.4.3\"}};\n",
       "  const render_items = [{\"docid\":\"ac5fbb37-ea81-40c2-afd0-20e11f32a5aa\",\"root_ids\":[\"26401\"],\"roots\":{\"26401\":\"029e7aae-dbbb-4c08-baf8-e1fc06e918b4\"}}];\n",
       "  root.Bokeh.embed.embed_items_notebook(docs_json, render_items);\n",
       "  }\n",
       "  if (root.Bokeh !== undefined) {\n",
       "    embed_document(root);\n",
       "  } else {\n",
       "    let attempts = 0;\n",
       "    const timer = setInterval(function(root) {\n",
       "      if (root.Bokeh !== undefined) {\n",
       "        clearInterval(timer);\n",
       "        embed_document(root);\n",
       "      } else {\n",
       "        attempts++;\n",
       "        if (attempts > 100) {\n",
       "          clearInterval(timer);\n",
       "          console.log(\"Bokeh: ERROR: Unable to run BokehJS code because BokehJS library is missing\");\n",
       "        }\n",
       "      }\n",
       "    }, 10, root)\n",
       "  }\n",
       "})(window);"
      ],
      "application/vnd.bokehjs_exec.v0+json": ""
     },
     "metadata": {
      "application/vnd.bokehjs_exec.v0+json": {
       "id": "26401"
      }
     },
     "output_type": "display_data"
    },
    {
     "data": {
      "text/html": [
       "\n",
       "  <div class=\"bk-root\" id=\"7a0c4009-8549-4ab4-84de-4c76a4674923\" data-root-id=\"27156\"></div>\n"
      ]
     },
     "metadata": {},
     "output_type": "display_data"
    },
    {
     "data": {
      "application/javascript": [
       "(function(root) {\n",
       "  function embed_document(root) {\n",
       "  const docs_json = {\"abc7cc24-441f-4adc-a448-8eee4d72a6c0\":{\"defs\":[],\"roots\":{\"references\":[{\"attributes\":{\"below\":[{\"id\":\"27165\"}],\"center\":[{\"id\":\"27168\"},{\"id\":\"27172\"}],\"left\":[{\"id\":\"27169\"}],\"renderers\":[{\"id\":\"27191\"}],\"title\":{\"id\":\"27193\"},\"toolbar\":{\"id\":\"27180\"},\"x_range\":{\"id\":\"27157\"},\"x_scale\":{\"id\":\"27161\"},\"y_range\":{\"id\":\"27159\"},\"y_scale\":{\"id\":\"27163\"}},\"id\":\"27156\",\"subtype\":\"Figure\",\"type\":\"Plot\"},{\"attributes\":{\"axis_label\":\"Q Frequency\",\"coordinates\":null,\"formatter\":{\"id\":\"27862\"},\"group\":null,\"major_label_policy\":{\"id\":\"27863\"},\"ticker\":{\"id\":\"27166\"}},\"id\":\"27165\",\"type\":\"LinearAxis\"},{\"attributes\":{},\"id\":\"27859\",\"type\":\"BasicTickFormatter\"},{\"attributes\":{},\"id\":\"27159\",\"type\":\"DataRange1d\"},{\"attributes\":{},\"id\":\"27860\",\"type\":\"AllLabels\"},{\"attributes\":{},\"id\":\"27166\",\"type\":\"BasicTicker\"},{\"attributes\":{},\"id\":\"27163\",\"type\":\"LinearScale\"},{\"attributes\":{},\"id\":\"27862\",\"type\":\"BasicTickFormatter\"},{\"attributes\":{\"coordinates\":null,\"data_source\":{\"id\":\"27187\"},\"glyph\":{\"id\":\"27188\"},\"group\":null,\"hover_glyph\":null,\"muted_glyph\":{\"id\":\"27190\"},\"nonselection_glyph\":{\"id\":\"27189\"},\"view\":{\"id\":\"27192\"}},\"id\":\"27191\",\"type\":\"GlyphRenderer\"},{\"attributes\":{\"axis\":{\"id\":\"27165\"},\"coordinates\":null,\"group\":null,\"ticker\":null},\"id\":\"27168\",\"type\":\"Grid\"},{\"attributes\":{\"axis\":{\"id\":\"27169\"},\"coordinates\":null,\"dimension\":1,\"group\":null,\"ticker\":null},\"id\":\"27172\",\"type\":\"Grid\"},{\"attributes\":{\"axis_label\":\"GC Content\",\"coordinates\":null,\"formatter\":{\"id\":\"27859\"},\"group\":null,\"major_label_policy\":{\"id\":\"27860\"},\"ticker\":{\"id\":\"27170\"}},\"id\":\"27169\",\"type\":\"LinearAxis\"},{\"attributes\":{},\"id\":\"27863\",\"type\":\"AllLabels\"},{\"attributes\":{},\"id\":\"27170\",\"type\":\"BasicTicker\"},{\"attributes\":{},\"id\":\"27174\",\"type\":\"WheelZoomTool\"},{\"attributes\":{\"fill_alpha\":{\"value\":0.2},\"fill_color\":{\"value\":\"#1f77b4\"},\"hatch_alpha\":{\"value\":0.2},\"line_alpha\":{\"value\":0.2},\"line_color\":{\"value\":\"#1f77b4\"},\"x\":{\"field\":\"x\"},\"y\":{\"field\":\"y\"}},\"id\":\"27190\",\"type\":\"Circle\"},{\"attributes\":{},\"id\":\"27178\",\"type\":\"HelpTool\"},{\"attributes\":{\"fill_alpha\":{\"value\":0.1},\"fill_color\":{\"value\":\"#1f77b4\"},\"hatch_alpha\":{\"value\":0.1},\"line_alpha\":{\"value\":0.1},\"line_color\":{\"value\":\"#1f77b4\"},\"x\":{\"field\":\"x\"},\"y\":{\"field\":\"y\"}},\"id\":\"27189\",\"type\":\"Circle\"},{\"attributes\":{\"fill_color\":{\"value\":\"#1f77b4\"},\"line_color\":{\"value\":\"#1f77b4\"},\"x\":{\"field\":\"x\"},\"y\":{\"field\":\"y\"}},\"id\":\"27188\",\"type\":\"Circle\"},{\"attributes\":{\"coordinates\":null,\"group\":null,\"text\":\"Q\"},\"id\":\"27193\",\"type\":\"Title\"},{\"attributes\":{},\"id\":\"27173\",\"type\":\"PanTool\"},{\"attributes\":{\"data\":{\"x\":[0.0365296803652968,0.056485355648535567,0.04018912529550828,0.0332541567695962,0.040268456375838924,0.0467706013363029,0.05787037037037037,0.041379310344827586,0.045454545454545456,0.05389221556886228,0.037914691943127965,0.038901601830663615,0.034403669724770644,0.05148514851485148,0.0447427293064877,0.04279279279279279,0.04387990762124711,0.03263403263403263,0.0455531453362256,0.02511415525114155,0.03981264637002342,0.046413502109704644,0.029748283752860413,0.05333333333333334,0.0400890868596882,0.04794520547945205,0.0507399577167019,0.051685393258426963,0.03009259259259259,0.060133630289532294,0.04751131221719457,0.04395604395604396,0.024830699774266364,0.02528735632183908,0.05286343612334802,0.03524229074889868,0.04328018223234624,0.05227272727272727,0.04241071428571429,0.04072398190045249,0.05189620758483034,0.03044496487119438,0.07095343680709534,0.04449648711943794,0.04148471615720524,0.037209302325581395,0.05454545454545454,0.0472972972972973,0.05417607223476298,0.03619909502262444,0.043668122270742356,0.03058823529411765,0.04128440366972477,0.04408352668213457,0.049079754601226995,0.06772009029345373,0.04,0.045662100456621,0.0472972972972973,0.046610169491525424,0.040948275862068964,0.035864978902953586,0.0472972972972973,0.03248259860788863,0.034934497816593885,0.04090909090909091,0.047976011994003,0.041379310344827586,0.04054054054054054,0.04408352668213457,0.05668934240362812,0.04148471615720524,0.04665314401622718,0.03925233644859813,0.05737704918032787,0.054878048780487805,0.05510204081632653,0.05787037037037037,0.06481481481481481,0.04751131221719457,0.037267080745341616,0.03807615230460922,0.05011389521640091,0.05491990846681922,0.05032822757111598,0.03189066059225513,0.029850746268656716,0.031982942430703626,0.029850746268656716,0.027649769585253458,0.029953917050691243,0.027649769585253458,0.027649769585253458,0.027649769585253458,0.060324825986078884,0.03793103448275862,0.06264501160092807,0.04794520547945205,0.06363636363636363,0.05,0.0472972972972973,0.0502283105022831,0.043478260869565216,0.05251141552511415,0.06264501160092807,0.04794520547945205,0.038901601830663615,0.05057471264367816,0.04398148148148148,0.03669724770642202,0.04794520547945205,0.056433408577878104,0.04783599088838269,0.051685393258426963,0.02857142857142857],\"y\":[0.6214550979068197,0.3994085176855399,0.2851670477800451,0.3925463139090084,0.2702402661513399,0.432061685620977,0.3941462663017556,0.4362451805566799,0.6604552208005426,0.5563730454385489,0.3134469652835711,0.5176625673713895,0.29458573520012254,0.6104893769690102,0.6066485428756286,0.5303426236068649,0.31856723950449106,0.6012489870353532,0.35044160109251976,0.5011939062196334,0.26988138782758875,0.5936551090651857,0.3697609754853193,0.6436863200066489,0.4616378165944257,0.7189011157425981,0.7321885437632035,0.3393312429608442,0.46248965043612583,0.5384967293987223,0.6561466628826449,0.5573534104769428,0.3494858518464715,0.5892757515896828,0.409548278484123,0.480491303157634,0.527548236805966,0.6813901247639091,0.7471648802454562,0.5579611479572558,0.653411396022395,0.34123190636943734,0.6069007764404369,0.2968308145349908,0.41307256750236687,0.4330160278754406,0.36442138565913607,0.5223887952113582,0.6655573299550923,0.6701232937245032,0.39022929006636004,0.35283906464335824,0.5481824835325689,0.7136233373179821,0.6677882621956012,0.38841741990717416,0.27633708893783704,0.5185249426669587,0.5127325660881997,0.4636155070752707,0.3670806060968197,0.5512825664578923,0.47701508164097833,0.3449876452749862,0.5631126863812335,0.25330577095161927,0.556836852789952,0.2859329500485328,0.6405938043196072,0.4368551230358618,0.5381025146242477,0.40336548767416935,0.30467776311034744,0.5898382910760631,0.6236364077610999,0.6791304308972272,0.6663858608722584,0.34717068193657913,0.37695898246256665,0.6563259786882653,0.23770448791760188,0.3146988546603475,0.5789368104312939,0.7305599084350982,0.49543930290280164,0.3132831176804368,0.4544143222506394,0.4076989670149079,0.41878970724846926,0.3164585736848883,0.3243880812292365,0.3245036858279444,0.2883630109992476,0.28919402319036686,0.328175332862062,0.48465357707063866,0.346327029360698,0.7214412872304006,0.35909420320035984,0.5547002247484424,0.508894769536912,0.7304496584927127,0.40506778011364514,0.7276396728649653,0.33777020500615523,0.6776867521828177,0.41488191202938696,0.3938264258377672,0.398032196376832,0.43400218134468804,0.7145283211289727,0.4772025510218359,0.6490562785486512,0.4769483062149186,0.4878755268844504]},\"selected\":{\"id\":\"27865\"},\"selection_policy\":{\"id\":\"27864\"}},\"id\":\"27187\",\"type\":\"ColumnDataSource\"},{\"attributes\":{\"overlay\":{\"id\":\"27179\"}},\"id\":\"27175\",\"type\":\"BoxZoomTool\"},{\"attributes\":{\"source\":{\"id\":\"27187\"}},\"id\":\"27192\",\"type\":\"CDSView\"},{\"attributes\":{},\"id\":\"27176\",\"type\":\"SaveTool\"},{\"attributes\":{},\"id\":\"27177\",\"type\":\"ResetTool\"},{\"attributes\":{},\"id\":\"27864\",\"type\":\"UnionRenderers\"},{\"attributes\":{\"bottom_units\":\"screen\",\"coordinates\":null,\"fill_alpha\":0.5,\"fill_color\":\"lightgrey\",\"group\":null,\"left_units\":\"screen\",\"level\":\"overlay\",\"line_alpha\":1.0,\"line_color\":\"black\",\"line_dash\":[4,4],\"line_width\":2,\"right_units\":\"screen\",\"syncable\":false,\"top_units\":\"screen\"},\"id\":\"27179\",\"type\":\"BoxAnnotation\"},{\"attributes\":{},\"id\":\"27865\",\"type\":\"Selection\"},{\"attributes\":{\"tools\":[{\"id\":\"27173\"},{\"id\":\"27174\"},{\"id\":\"27175\"},{\"id\":\"27176\"},{\"id\":\"27177\"},{\"id\":\"27178\"}]},\"id\":\"27180\",\"type\":\"Toolbar\"},{\"attributes\":{},\"id\":\"27157\",\"type\":\"DataRange1d\"},{\"attributes\":{},\"id\":\"27161\",\"type\":\"LinearScale\"}],\"root_ids\":[\"27156\"]},\"title\":\"Bokeh Application\",\"version\":\"2.4.3\"}};\n",
       "  const render_items = [{\"docid\":\"abc7cc24-441f-4adc-a448-8eee4d72a6c0\",\"root_ids\":[\"27156\"],\"roots\":{\"27156\":\"7a0c4009-8549-4ab4-84de-4c76a4674923\"}}];\n",
       "  root.Bokeh.embed.embed_items_notebook(docs_json, render_items);\n",
       "  }\n",
       "  if (root.Bokeh !== undefined) {\n",
       "    embed_document(root);\n",
       "  } else {\n",
       "    let attempts = 0;\n",
       "    const timer = setInterval(function(root) {\n",
       "      if (root.Bokeh !== undefined) {\n",
       "        clearInterval(timer);\n",
       "        embed_document(root);\n",
       "      } else {\n",
       "        attempts++;\n",
       "        if (attempts > 100) {\n",
       "          clearInterval(timer);\n",
       "          console.log(\"Bokeh: ERROR: Unable to run BokehJS code because BokehJS library is missing\");\n",
       "        }\n",
       "      }\n",
       "    }, 10, root)\n",
       "  }\n",
       "})(window);"
      ],
      "application/vnd.bokehjs_exec.v0+json": ""
     },
     "metadata": {
      "application/vnd.bokehjs_exec.v0+json": {
       "id": "27156"
      }
     },
     "output_type": "display_data"
    },
    {
     "data": {
      "text/html": [
       "\n",
       "  <div class=\"bk-root\" id=\"00d1c8cc-51d4-4d13-a74f-3dc930dc6807\" data-root-id=\"27922\"></div>\n"
      ]
     },
     "metadata": {},
     "output_type": "display_data"
    },
    {
     "data": {
      "application/javascript": [
       "(function(root) {\n",
       "  function embed_document(root) {\n",
       "  const docs_json = {\"21423c26-d856-4bf2-9142-8cc447215baa\":{\"defs\":[],\"roots\":{\"references\":[{\"attributes\":{\"below\":[{\"id\":\"27931\"}],\"center\":[{\"id\":\"27934\"},{\"id\":\"27938\"}],\"left\":[{\"id\":\"27935\"}],\"renderers\":[{\"id\":\"27957\"}],\"title\":{\"id\":\"27959\"},\"toolbar\":{\"id\":\"27946\"},\"x_range\":{\"id\":\"27923\"},\"x_scale\":{\"id\":\"27927\"},\"y_range\":{\"id\":\"27925\"},\"y_scale\":{\"id\":\"27929\"}},\"id\":\"27922\",\"subtype\":\"Figure\",\"type\":\"Plot\"},{\"attributes\":{\"coordinates\":null,\"data_source\":{\"id\":\"27953\"},\"glyph\":{\"id\":\"27954\"},\"group\":null,\"hover_glyph\":null,\"muted_glyph\":{\"id\":\"27956\"},\"nonselection_glyph\":{\"id\":\"27955\"},\"view\":{\"id\":\"27958\"}},\"id\":\"27957\",\"type\":\"GlyphRenderer\"},{\"attributes\":{},\"id\":\"27936\",\"type\":\"BasicTicker\"},{\"attributes\":{},\"id\":\"27944\",\"type\":\"HelpTool\"},{\"attributes\":{},\"id\":\"27939\",\"type\":\"PanTool\"},{\"attributes\":{\"overlay\":{\"id\":\"27945\"}},\"id\":\"27941\",\"type\":\"BoxZoomTool\"},{\"attributes\":{\"source\":{\"id\":\"27953\"}},\"id\":\"27958\",\"type\":\"CDSView\"},{\"attributes\":{},\"id\":\"27942\",\"type\":\"SaveTool\"},{\"attributes\":{},\"id\":\"27943\",\"type\":\"ResetTool\"},{\"attributes\":{},\"id\":\"28641\",\"type\":\"UnionRenderers\"},{\"attributes\":{\"bottom_units\":\"screen\",\"coordinates\":null,\"fill_alpha\":0.5,\"fill_color\":\"lightgrey\",\"group\":null,\"left_units\":\"screen\",\"level\":\"overlay\",\"line_alpha\":1.0,\"line_color\":\"black\",\"line_dash\":[4,4],\"line_width\":2,\"right_units\":\"screen\",\"syncable\":false,\"top_units\":\"screen\"},\"id\":\"27945\",\"type\":\"BoxAnnotation\"},{\"attributes\":{},\"id\":\"28642\",\"type\":\"Selection\"},{\"attributes\":{\"coordinates\":null,\"group\":null,\"text\":\"R\"},\"id\":\"27959\",\"type\":\"Title\"},{\"attributes\":{},\"id\":\"27925\",\"type\":\"DataRange1d\"},{\"attributes\":{\"fill_alpha\":{\"value\":0.1},\"fill_color\":{\"value\":\"#1f77b4\"},\"hatch_alpha\":{\"value\":0.1},\"line_alpha\":{\"value\":0.1},\"line_color\":{\"value\":\"#1f77b4\"},\"x\":{\"field\":\"x\"},\"y\":{\"field\":\"y\"}},\"id\":\"27955\",\"type\":\"Circle\"},{\"attributes\":{\"axis_label\":\"R Frequency\",\"coordinates\":null,\"formatter\":{\"id\":\"28639\"},\"group\":null,\"major_label_policy\":{\"id\":\"28640\"},\"ticker\":{\"id\":\"27932\"}},\"id\":\"27931\",\"type\":\"LinearAxis\"},{\"attributes\":{\"tools\":[{\"id\":\"27939\"},{\"id\":\"27940\"},{\"id\":\"27941\"},{\"id\":\"27942\"},{\"id\":\"27943\"},{\"id\":\"27944\"}]},\"id\":\"27946\",\"type\":\"Toolbar\"},{\"attributes\":{},\"id\":\"27927\",\"type\":\"LinearScale\"},{\"attributes\":{},\"id\":\"28640\",\"type\":\"AllLabels\"},{\"attributes\":{},\"id\":\"28636\",\"type\":\"BasicTickFormatter\"},{\"attributes\":{\"fill_color\":{\"value\":\"#1f77b4\"},\"line_color\":{\"value\":\"#1f77b4\"},\"x\":{\"field\":\"x\"},\"y\":{\"field\":\"y\"}},\"id\":\"27954\",\"type\":\"Circle\"},{\"attributes\":{},\"id\":\"27923\",\"type\":\"DataRange1d\"},{\"attributes\":{\"axis\":{\"id\":\"27931\"},\"coordinates\":null,\"group\":null,\"ticker\":null},\"id\":\"27934\",\"type\":\"Grid\"},{\"attributes\":{},\"id\":\"28637\",\"type\":\"AllLabels\"},{\"attributes\":{},\"id\":\"27932\",\"type\":\"BasicTicker\"},{\"attributes\":{\"fill_alpha\":{\"value\":0.2},\"fill_color\":{\"value\":\"#1f77b4\"},\"hatch_alpha\":{\"value\":0.2},\"line_alpha\":{\"value\":0.2},\"line_color\":{\"value\":\"#1f77b4\"},\"x\":{\"field\":\"x\"},\"y\":{\"field\":\"y\"}},\"id\":\"27956\",\"type\":\"Circle\"},{\"attributes\":{},\"id\":\"27940\",\"type\":\"WheelZoomTool\"},{\"attributes\":{},\"id\":\"27929\",\"type\":\"LinearScale\"},{\"attributes\":{},\"id\":\"28639\",\"type\":\"BasicTickFormatter\"},{\"attributes\":{\"data\":{\"x\":[0.04794520547945205,0.03765690376569038,0.030732860520094562,0.030878859857482184,0.05145413870246085,0.042316258351893093,0.034722222222222224,0.034482758620689655,0.06363636363636363,0.03592814371257485,0.03317535545023697,0.034324942791762014,0.03669724770642202,0.041584158415841586,0.0447427293064877,0.04504504504504504,0.02771362586605081,0.03263403263403263,0.028199566160520606,0.07534246575342465,0.03747072599531616,0.05907172995780591,0.04576659038901602,0.051111111111111114,0.0378619153674833,0.0365296803652968,0.040169133192389,0.0449438202247191,0.07175925925925926,0.042316258351893093,0.049773755656108594,0.04835164835164835,0.03837471783295711,0.04827586206896552,0.030837004405286344,0.039647577092511016,0.03416856492027335,0.0659090909090909,0.0625,0.04751131221719457,0.03992015968063872,0.05152224824355972,0.05543237250554324,0.03278688524590164,0.05458515283842795,0.044186046511627906,0.04772727272727273,0.0472972972972973,0.04740406320541761,0.05203619909502263,0.048034934497816595,0.04470588235294118,0.045871559633027525,0.058004640371229696,0.03680981595092025,0.03837471783295711,0.013333333333333334,0.0319634703196347,0.0472972972972973,0.03177966101694915,0.023706896551724137,0.0379746835443038,0.0472972972972973,0.03248259860788863,0.0611353711790393,0.038636363636363635,0.05247376311844078,0.029885057471264367,0.04954954954954955,0.04176334106728538,0.04081632653061224,0.056768558951965066,0.05476673427991886,0.0691588785046729,0.036885245901639344,0.034552845528455285,0.03877551020408163,0.037037037037037035,0.034722222222222224,0.049773755656108594,0.024844720496894408,0.04408817635270541,0.05239179954441914,0.05491990846681922,0.03938730853391685,0.025056947608200455,0.06823027718550106,0.07462686567164178,0.06823027718550106,0.027649769585253458,0.03225806451612903,0.029953917050691243,0.029953917050691243,0.029953917050691243,0.027842227378190254,0.06379310344827586,0.02088167053364269,0.03881278538812785,0.031818181818181815,0.05909090909090909,0.0472972972972973,0.045662100456621,0.02517162471395881,0.03881278538812785,0.02088167053364269,0.0365296803652968,0.02517162471395881,0.020689655172413793,0.02546296296296296,0.027522935779816515,0.03881278538812785,0.04966139954853273,0.06605922551252848,0.0449438202247191,0.030952380952380953],\"y\":[0.6214550979068197,0.3994085176855399,0.2851670477800451,0.3925463139090084,0.2702402661513399,0.432061685620977,0.3941462663017556,0.4362451805566799,0.6604552208005426,0.5563730454385489,0.3134469652835711,0.5176625673713895,0.29458573520012254,0.6104893769690102,0.6066485428756286,0.5303426236068649,0.31856723950449106,0.6012489870353532,0.35044160109251976,0.5011939062196334,0.26988138782758875,0.5936551090651857,0.3697609754853193,0.6436863200066489,0.4616378165944257,0.7189011157425981,0.7321885437632035,0.3393312429608442,0.46248965043612583,0.5384967293987223,0.6561466628826449,0.5573534104769428,0.3494858518464715,0.5892757515896828,0.409548278484123,0.480491303157634,0.527548236805966,0.6813901247639091,0.7471648802454562,0.5579611479572558,0.653411396022395,0.34123190636943734,0.6069007764404369,0.2968308145349908,0.41307256750236687,0.4330160278754406,0.36442138565913607,0.5223887952113582,0.6655573299550923,0.6701232937245032,0.39022929006636004,0.35283906464335824,0.5481824835325689,0.7136233373179821,0.6677882621956012,0.38841741990717416,0.27633708893783704,0.5185249426669587,0.5127325660881997,0.4636155070752707,0.3670806060968197,0.5512825664578923,0.47701508164097833,0.3449876452749862,0.5631126863812335,0.25330577095161927,0.556836852789952,0.2859329500485328,0.6405938043196072,0.4368551230358618,0.5381025146242477,0.40336548767416935,0.30467776311034744,0.5898382910760631,0.6236364077610999,0.6791304308972272,0.6663858608722584,0.34717068193657913,0.37695898246256665,0.6563259786882653,0.23770448791760188,0.3146988546603475,0.5789368104312939,0.7305599084350982,0.49543930290280164,0.3132831176804368,0.4544143222506394,0.4076989670149079,0.41878970724846926,0.3164585736848883,0.3243880812292365,0.3245036858279444,0.2883630109992476,0.28919402319036686,0.328175332862062,0.48465357707063866,0.346327029360698,0.7214412872304006,0.35909420320035984,0.5547002247484424,0.508894769536912,0.7304496584927127,0.40506778011364514,0.7276396728649653,0.33777020500615523,0.6776867521828177,0.41488191202938696,0.3938264258377672,0.398032196376832,0.43400218134468804,0.7145283211289727,0.4772025510218359,0.6490562785486512,0.4769483062149186,0.4878755268844504]},\"selected\":{\"id\":\"28642\"},\"selection_policy\":{\"id\":\"28641\"}},\"id\":\"27953\",\"type\":\"ColumnDataSource\"},{\"attributes\":{\"axis\":{\"id\":\"27935\"},\"coordinates\":null,\"dimension\":1,\"group\":null,\"ticker\":null},\"id\":\"27938\",\"type\":\"Grid\"},{\"attributes\":{\"axis_label\":\"GC Content\",\"coordinates\":null,\"formatter\":{\"id\":\"28636\"},\"group\":null,\"major_label_policy\":{\"id\":\"28637\"},\"ticker\":{\"id\":\"27936\"}},\"id\":\"27935\",\"type\":\"LinearAxis\"}],\"root_ids\":[\"27922\"]},\"title\":\"Bokeh Application\",\"version\":\"2.4.3\"}};\n",
       "  const render_items = [{\"docid\":\"21423c26-d856-4bf2-9142-8cc447215baa\",\"root_ids\":[\"27922\"],\"roots\":{\"27922\":\"00d1c8cc-51d4-4d13-a74f-3dc930dc6807\"}}];\n",
       "  root.Bokeh.embed.embed_items_notebook(docs_json, render_items);\n",
       "  }\n",
       "  if (root.Bokeh !== undefined) {\n",
       "    embed_document(root);\n",
       "  } else {\n",
       "    let attempts = 0;\n",
       "    const timer = setInterval(function(root) {\n",
       "      if (root.Bokeh !== undefined) {\n",
       "        clearInterval(timer);\n",
       "        embed_document(root);\n",
       "      } else {\n",
       "        attempts++;\n",
       "        if (attempts > 100) {\n",
       "          clearInterval(timer);\n",
       "          console.log(\"Bokeh: ERROR: Unable to run BokehJS code because BokehJS library is missing\");\n",
       "        }\n",
       "      }\n",
       "    }, 10, root)\n",
       "  }\n",
       "})(window);"
      ],
      "application/vnd.bokehjs_exec.v0+json": ""
     },
     "metadata": {
      "application/vnd.bokehjs_exec.v0+json": {
       "id": "27922"
      }
     },
     "output_type": "display_data"
    },
    {
     "data": {
      "text/html": [
       "\n",
       "  <div class=\"bk-root\" id=\"477b2c69-becd-4796-ab45-8e0ddf6ef36e\" data-root-id=\"28699\"></div>\n"
      ]
     },
     "metadata": {},
     "output_type": "display_data"
    },
    {
     "data": {
      "application/javascript": [
       "(function(root) {\n",
       "  function embed_document(root) {\n",
       "  const docs_json = {\"2db749de-6f4c-4e11-be89-df643cb56a87\":{\"defs\":[],\"roots\":{\"references\":[{\"attributes\":{\"below\":[{\"id\":\"28708\"}],\"center\":[{\"id\":\"28711\"},{\"id\":\"28715\"}],\"left\":[{\"id\":\"28712\"}],\"renderers\":[{\"id\":\"28734\"}],\"title\":{\"id\":\"28736\"},\"toolbar\":{\"id\":\"28723\"},\"x_range\":{\"id\":\"28700\"},\"x_scale\":{\"id\":\"28704\"},\"y_range\":{\"id\":\"28702\"},\"y_scale\":{\"id\":\"28706\"}},\"id\":\"28699\",\"subtype\":\"Figure\",\"type\":\"Plot\"},{\"attributes\":{\"coordinates\":null,\"group\":null,\"text\":\"S\"},\"id\":\"28736\",\"type\":\"Title\"},{\"attributes\":{},\"id\":\"29430\",\"type\":\"Selection\"},{\"attributes\":{\"source\":{\"id\":\"28730\"}},\"id\":\"28735\",\"type\":\"CDSView\"},{\"attributes\":{},\"id\":\"28702\",\"type\":\"DataRange1d\"},{\"attributes\":{\"fill_alpha\":{\"value\":0.1},\"fill_color\":{\"value\":\"#1f77b4\"},\"hatch_alpha\":{\"value\":0.1},\"line_alpha\":{\"value\":0.1},\"line_color\":{\"value\":\"#1f77b4\"},\"x\":{\"field\":\"x\"},\"y\":{\"field\":\"y\"}},\"id\":\"28732\",\"type\":\"Circle\"},{\"attributes\":{},\"id\":\"28704\",\"type\":\"LinearScale\"},{\"attributes\":{\"axis_label\":\"S Frequency\",\"coordinates\":null,\"formatter\":{\"id\":\"29427\"},\"group\":null,\"major_label_policy\":{\"id\":\"29428\"},\"ticker\":{\"id\":\"28709\"}},\"id\":\"28708\",\"type\":\"LinearAxis\"},{\"attributes\":{\"data\":{\"x\":[0.07534246575342465,0.0794979079497908,0.08037825059101655,0.08788598574821853,0.07829977628635347,0.05790645879732739,0.037037037037037035,0.06666666666666667,0.06818181818181818,0.04590818363273453,0.04976303317535545,0.08924485125858124,0.06880733944954129,0.04554455445544554,0.05145413870246085,0.08108108108108109,0.06928406466512702,0.05827505827505827,0.07158351409978309,0.045662100456621,0.07494145199063232,0.0379746835443038,0.057208237986270026,0.035555555555555556,0.05790645879732739,0.05251141552511415,0.05496828752642706,0.04943820224719101,0.05324074074074074,0.0556792873051225,0.06108597285067873,0.06373626373626373,0.045146726862302484,0.0735632183908046,0.05726872246696035,0.06828193832599119,0.06605922551252848,0.04090909090909091,0.049107142857142856,0.07013574660633484,0.04790419161676647,0.06323185011709602,0.031042128603104215,0.0702576112412178,0.06986899563318777,0.03488372093023256,0.05909090909090909,0.0518018018018018,0.06772009029345373,0.06787330316742081,0.07860262008733625,0.05411764705882353,0.06192660550458716,0.07424593967517401,0.04703476482617587,0.0654627539503386,0.07777777777777778,0.07990867579908675,0.0518018018018018,0.05084745762711865,0.07974137931034483,0.04852320675105485,0.04954954954954955,0.07888631090487239,0.05021834061135371,0.07272727272727272,0.06296851574212893,0.09425287356321839,0.05405405405405406,0.03248259860788863,0.07256235827664399,0.06986899563318777,0.08924949290060852,0.06355140186915888,0.040983606557377046,0.046747967479674794,0.053061224489795916,0.05555555555555555,0.05787037037037037,0.06108597285067873,0.09316770186335403,0.07615230460921844,0.05694760820045558,0.057208237986270026,0.05689277899343545,0.05922551252847381,0.031982942430703626,0.04051172707889126,0.029850746268656716,0.09216589861751152,0.08755760368663594,0.08755760368663594,0.08755760368663594,0.09216589861751152,0.05568445475638051,0.05172413793103448,0.05104408352668213,0.04337899543378995,0.075,0.06818181818181818,0.0518018018018018,0.04794520547945205,0.07551487414187644,0.05251141552511415,0.058004640371229696,0.04337899543378995,0.07551487414187644,0.09195402298850575,0.09027777777777778,0.06651376146788991,0.0547945205479452,0.06320541760722348,0.03189066059225513,0.051685393258426963,0.06904761904761905],\"y\":[0.6214550979068197,0.3994085176855399,0.2851670477800451,0.3925463139090084,0.2702402661513399,0.432061685620977,0.3941462663017556,0.4362451805566799,0.6604552208005426,0.5563730454385489,0.3134469652835711,0.5176625673713895,0.29458573520012254,0.6104893769690102,0.6066485428756286,0.5303426236068649,0.31856723950449106,0.6012489870353532,0.35044160109251976,0.5011939062196334,0.26988138782758875,0.5936551090651857,0.3697609754853193,0.6436863200066489,0.4616378165944257,0.7189011157425981,0.7321885437632035,0.3393312429608442,0.46248965043612583,0.5384967293987223,0.6561466628826449,0.5573534104769428,0.3494858518464715,0.5892757515896828,0.409548278484123,0.480491303157634,0.527548236805966,0.6813901247639091,0.7471648802454562,0.5579611479572558,0.653411396022395,0.34123190636943734,0.6069007764404369,0.2968308145349908,0.41307256750236687,0.4330160278754406,0.36442138565913607,0.5223887952113582,0.6655573299550923,0.6701232937245032,0.39022929006636004,0.35283906464335824,0.5481824835325689,0.7136233373179821,0.6677882621956012,0.38841741990717416,0.27633708893783704,0.5185249426669587,0.5127325660881997,0.4636155070752707,0.3670806060968197,0.5512825664578923,0.47701508164097833,0.3449876452749862,0.5631126863812335,0.25330577095161927,0.556836852789952,0.2859329500485328,0.6405938043196072,0.4368551230358618,0.5381025146242477,0.40336548767416935,0.30467776311034744,0.5898382910760631,0.6236364077610999,0.6791304308972272,0.6663858608722584,0.34717068193657913,0.37695898246256665,0.6563259786882653,0.23770448791760188,0.3146988546603475,0.5789368104312939,0.7305599084350982,0.49543930290280164,0.3132831176804368,0.4544143222506394,0.4076989670149079,0.41878970724846926,0.3164585736848883,0.3243880812292365,0.3245036858279444,0.2883630109992476,0.28919402319036686,0.328175332862062,0.48465357707063866,0.346327029360698,0.7214412872304006,0.35909420320035984,0.5547002247484424,0.508894769536912,0.7304496584927127,0.40506778011364514,0.7276396728649653,0.33777020500615523,0.6776867521828177,0.41488191202938696,0.3938264258377672,0.398032196376832,0.43400218134468804,0.7145283211289727,0.4772025510218359,0.6490562785486512,0.4769483062149186,0.4878755268844504]},\"selected\":{\"id\":\"29430\"},\"selection_policy\":{\"id\":\"29429\"}},\"id\":\"28730\",\"type\":\"ColumnDataSource\"},{\"attributes\":{\"coordinates\":null,\"data_source\":{\"id\":\"28730\"},\"glyph\":{\"id\":\"28731\"},\"group\":null,\"hover_glyph\":null,\"muted_glyph\":{\"id\":\"28733\"},\"nonselection_glyph\":{\"id\":\"28732\"},\"view\":{\"id\":\"28735\"}},\"id\":\"28734\",\"type\":\"GlyphRenderer\"},{\"attributes\":{},\"id\":\"28700\",\"type\":\"DataRange1d\"},{\"attributes\":{\"fill_color\":{\"value\":\"#1f77b4\"},\"line_color\":{\"value\":\"#1f77b4\"},\"x\":{\"field\":\"x\"},\"y\":{\"field\":\"y\"}},\"id\":\"28731\",\"type\":\"Circle\"},{\"attributes\":{\"tools\":[{\"id\":\"28716\"},{\"id\":\"28717\"},{\"id\":\"28718\"},{\"id\":\"28719\"},{\"id\":\"28720\"},{\"id\":\"28721\"}]},\"id\":\"28723\",\"type\":\"Toolbar\"},{\"attributes\":{},\"id\":\"29424\",\"type\":\"BasicTickFormatter\"},{\"attributes\":{\"axis\":{\"id\":\"28708\"},\"coordinates\":null,\"group\":null,\"ticker\":null},\"id\":\"28711\",\"type\":\"Grid\"},{\"attributes\":{},\"id\":\"29425\",\"type\":\"AllLabels\"},{\"attributes\":{},\"id\":\"28709\",\"type\":\"BasicTicker\"},{\"attributes\":{},\"id\":\"28717\",\"type\":\"WheelZoomTool\"},{\"attributes\":{},\"id\":\"28706\",\"type\":\"LinearScale\"},{\"attributes\":{},\"id\":\"29427\",\"type\":\"BasicTickFormatter\"},{\"attributes\":{\"axis\":{\"id\":\"28712\"},\"coordinates\":null,\"dimension\":1,\"group\":null,\"ticker\":null},\"id\":\"28715\",\"type\":\"Grid\"},{\"attributes\":{\"axis_label\":\"GC Content\",\"coordinates\":null,\"formatter\":{\"id\":\"29424\"},\"group\":null,\"major_label_policy\":{\"id\":\"29425\"},\"ticker\":{\"id\":\"28713\"}},\"id\":\"28712\",\"type\":\"LinearAxis\"},{\"attributes\":{},\"id\":\"29428\",\"type\":\"AllLabels\"},{\"attributes\":{},\"id\":\"28713\",\"type\":\"BasicTicker\"},{\"attributes\":{},\"id\":\"28721\",\"type\":\"HelpTool\"},{\"attributes\":{},\"id\":\"28716\",\"type\":\"PanTool\"},{\"attributes\":{\"overlay\":{\"id\":\"28722\"}},\"id\":\"28718\",\"type\":\"BoxZoomTool\"},{\"attributes\":{},\"id\":\"28719\",\"type\":\"SaveTool\"},{\"attributes\":{},\"id\":\"28720\",\"type\":\"ResetTool\"},{\"attributes\":{\"fill_alpha\":{\"value\":0.2},\"fill_color\":{\"value\":\"#1f77b4\"},\"hatch_alpha\":{\"value\":0.2},\"line_alpha\":{\"value\":0.2},\"line_color\":{\"value\":\"#1f77b4\"},\"x\":{\"field\":\"x\"},\"y\":{\"field\":\"y\"}},\"id\":\"28733\",\"type\":\"Circle\"},{\"attributes\":{},\"id\":\"29429\",\"type\":\"UnionRenderers\"},{\"attributes\":{\"bottom_units\":\"screen\",\"coordinates\":null,\"fill_alpha\":0.5,\"fill_color\":\"lightgrey\",\"group\":null,\"left_units\":\"screen\",\"level\":\"overlay\",\"line_alpha\":1.0,\"line_color\":\"black\",\"line_dash\":[4,4],\"line_width\":2,\"right_units\":\"screen\",\"syncable\":false,\"top_units\":\"screen\"},\"id\":\"28722\",\"type\":\"BoxAnnotation\"}],\"root_ids\":[\"28699\"]},\"title\":\"Bokeh Application\",\"version\":\"2.4.3\"}};\n",
       "  const render_items = [{\"docid\":\"2db749de-6f4c-4e11-be89-df643cb56a87\",\"root_ids\":[\"28699\"],\"roots\":{\"28699\":\"477b2c69-becd-4796-ab45-8e0ddf6ef36e\"}}];\n",
       "  root.Bokeh.embed.embed_items_notebook(docs_json, render_items);\n",
       "  }\n",
       "  if (root.Bokeh !== undefined) {\n",
       "    embed_document(root);\n",
       "  } else {\n",
       "    let attempts = 0;\n",
       "    const timer = setInterval(function(root) {\n",
       "      if (root.Bokeh !== undefined) {\n",
       "        clearInterval(timer);\n",
       "        embed_document(root);\n",
       "      } else {\n",
       "        attempts++;\n",
       "        if (attempts > 100) {\n",
       "          clearInterval(timer);\n",
       "          console.log(\"Bokeh: ERROR: Unable to run BokehJS code because BokehJS library is missing\");\n",
       "        }\n",
       "      }\n",
       "    }, 10, root)\n",
       "  }\n",
       "})(window);"
      ],
      "application/vnd.bokehjs_exec.v0+json": ""
     },
     "metadata": {
      "application/vnd.bokehjs_exec.v0+json": {
       "id": "28699"
      }
     },
     "output_type": "display_data"
    },
    {
     "data": {
      "text/html": [
       "\n",
       "  <div class=\"bk-root\" id=\"7c90a506-8013-4d68-a2ba-aaffa960c4f7\" data-root-id=\"29487\"></div>\n"
      ]
     },
     "metadata": {},
     "output_type": "display_data"
    },
    {
     "data": {
      "application/javascript": [
       "(function(root) {\n",
       "  function embed_document(root) {\n",
       "  const docs_json = {\"fe81196e-e19f-45ee-b0f6-c846f762d671\":{\"defs\":[],\"roots\":{\"references\":[{\"attributes\":{\"below\":[{\"id\":\"29496\"}],\"center\":[{\"id\":\"29499\"},{\"id\":\"29503\"}],\"left\":[{\"id\":\"29500\"}],\"renderers\":[{\"id\":\"29522\"}],\"title\":{\"id\":\"29524\"},\"toolbar\":{\"id\":\"29511\"},\"x_range\":{\"id\":\"29488\"},\"x_scale\":{\"id\":\"29492\"},\"y_range\":{\"id\":\"29490\"},\"y_scale\":{\"id\":\"29494\"}},\"id\":\"29487\",\"subtype\":\"Figure\",\"type\":\"Plot\"},{\"attributes\":{},\"id\":\"29490\",\"type\":\"DataRange1d\"},{\"attributes\":{},\"id\":\"29492\",\"type\":\"LinearScale\"},{\"attributes\":{\"axis_label\":\"T Frequency\",\"coordinates\":null,\"formatter\":{\"id\":\"30226\"},\"group\":null,\"major_label_policy\":{\"id\":\"30227\"},\"ticker\":{\"id\":\"29497\"}},\"id\":\"29496\",\"type\":\"LinearAxis\"},{\"attributes\":{\"data\":{\"x\":[0.0547945205479452,0.07112970711297072,0.07565011820330969,0.047505938242280284,0.040268456375838924,0.05790645879732739,0.06944444444444445,0.08275862068965517,0.0659090909090909,0.06187624750499002,0.052132701421800945,0.06636155606407322,0.05045871559633028,0.07128712871287128,0.06487695749440715,0.060810810810810814,0.07390300230946882,0.05128205128205128,0.05422993492407809,0.0593607305936073,0.06791569086651054,0.07383966244725738,0.057208237986270026,0.06222222222222222,0.062360801781737196,0.0684931506849315,0.05496828752642706,0.060674157303370786,0.05324074074074074,0.044543429844097995,0.05203619909502263,0.05054945054945055,0.06320541760722348,0.06206896551724138,0.06167400881057269,0.05066079295154185,0.05466970387243736,0.05909090909090909,0.06696428571428571,0.06561085972850679,0.059880239520958084,0.0585480093676815,0.06208425720620843,0.08899297423887588,0.05021834061135371,0.05116279069767442,0.06363636363636363,0.05630630630630631,0.03160270880361174,0.058823529411764705,0.05240174672489083,0.07058823529411765,0.05045871559633028,0.06960556844547564,0.049079754601226995,0.04966139954853273,0.044444444444444446,0.0593607305936073,0.05630630630630631,0.046610169491525424,0.06465517241379311,0.052742616033755275,0.05630630630630631,0.08120649651972157,0.04585152838427948,0.06136363636363636,0.06446776611694154,0.04827586206896552,0.05855855855855856,0.05336426914153132,0.047619047619047616,0.05021834061135371,0.05476673427991886,0.06355140186915888,0.05737704918032787,0.046747967479674794,0.05510204081632653,0.0787037037037037,0.0787037037037037,0.05203619909502263,0.06832298136645963,0.052104208416833664,0.04783599088838269,0.06636155606407322,0.0350109409190372,0.04100227790432802,0.053304904051172705,0.046908315565031986,0.053304904051172705,0.055299539170506916,0.0576036866359447,0.0576036866359447,0.06451612903225806,0.059907834101382486,0.060324825986078884,0.04310344827586207,0.06728538283062645,0.07534246575342465,0.06136363636363636,0.056818181818181816,0.05630630630630631,0.07077625570776255,0.07322654462242563,0.0684931506849315,0.060324825986078884,0.07534246575342465,0.07093821510297482,0.06666666666666667,0.0763888888888889,0.06880733944954129,0.0730593607305936,0.060948081264108354,0.04783599088838269,0.056179775280898875,0.047619047619047616],\"y\":[0.6214550979068197,0.3994085176855399,0.2851670477800451,0.3925463139090084,0.2702402661513399,0.432061685620977,0.3941462663017556,0.4362451805566799,0.6604552208005426,0.5563730454385489,0.3134469652835711,0.5176625673713895,0.29458573520012254,0.6104893769690102,0.6066485428756286,0.5303426236068649,0.31856723950449106,0.6012489870353532,0.35044160109251976,0.5011939062196334,0.26988138782758875,0.5936551090651857,0.3697609754853193,0.6436863200066489,0.4616378165944257,0.7189011157425981,0.7321885437632035,0.3393312429608442,0.46248965043612583,0.5384967293987223,0.6561466628826449,0.5573534104769428,0.3494858518464715,0.5892757515896828,0.409548278484123,0.480491303157634,0.527548236805966,0.6813901247639091,0.7471648802454562,0.5579611479572558,0.653411396022395,0.34123190636943734,0.6069007764404369,0.2968308145349908,0.41307256750236687,0.4330160278754406,0.36442138565913607,0.5223887952113582,0.6655573299550923,0.6701232937245032,0.39022929006636004,0.35283906464335824,0.5481824835325689,0.7136233373179821,0.6677882621956012,0.38841741990717416,0.27633708893783704,0.5185249426669587,0.5127325660881997,0.4636155070752707,0.3670806060968197,0.5512825664578923,0.47701508164097833,0.3449876452749862,0.5631126863812335,0.25330577095161927,0.556836852789952,0.2859329500485328,0.6405938043196072,0.4368551230358618,0.5381025146242477,0.40336548767416935,0.30467776311034744,0.5898382910760631,0.6236364077610999,0.6791304308972272,0.6663858608722584,0.34717068193657913,0.37695898246256665,0.6563259786882653,0.23770448791760188,0.3146988546603475,0.5789368104312939,0.7305599084350982,0.49543930290280164,0.3132831176804368,0.4544143222506394,0.4076989670149079,0.41878970724846926,0.3164585736848883,0.3243880812292365,0.3245036858279444,0.2883630109992476,0.28919402319036686,0.328175332862062,0.48465357707063866,0.346327029360698,0.7214412872304006,0.35909420320035984,0.5547002247484424,0.508894769536912,0.7304496584927127,0.40506778011364514,0.7276396728649653,0.33777020500615523,0.6776867521828177,0.41488191202938696,0.3938264258377672,0.398032196376832,0.43400218134468804,0.7145283211289727,0.4772025510218359,0.6490562785486512,0.4769483062149186,0.4878755268844504]},\"selected\":{\"id\":\"30229\"},\"selection_policy\":{\"id\":\"30228\"}},\"id\":\"29518\",\"type\":\"ColumnDataSource\"},{\"attributes\":{\"coordinates\":null,\"data_source\":{\"id\":\"29518\"},\"glyph\":{\"id\":\"29519\"},\"group\":null,\"hover_glyph\":null,\"muted_glyph\":{\"id\":\"29521\"},\"nonselection_glyph\":{\"id\":\"29520\"},\"view\":{\"id\":\"29523\"}},\"id\":\"29522\",\"type\":\"GlyphRenderer\"},{\"attributes\":{},\"id\":\"30223\",\"type\":\"BasicTickFormatter\"},{\"attributes\":{\"axis\":{\"id\":\"29496\"},\"coordinates\":null,\"group\":null,\"ticker\":null},\"id\":\"29499\",\"type\":\"Grid\"},{\"attributes\":{},\"id\":\"30224\",\"type\":\"AllLabels\"},{\"attributes\":{},\"id\":\"29488\",\"type\":\"DataRange1d\"},{\"attributes\":{},\"id\":\"29505\",\"type\":\"WheelZoomTool\"},{\"attributes\":{},\"id\":\"29494\",\"type\":\"LinearScale\"},{\"attributes\":{},\"id\":\"30226\",\"type\":\"BasicTickFormatter\"},{\"attributes\":{},\"id\":\"29497\",\"type\":\"BasicTicker\"},{\"attributes\":{\"axis\":{\"id\":\"29500\"},\"coordinates\":null,\"dimension\":1,\"group\":null,\"ticker\":null},\"id\":\"29503\",\"type\":\"Grid\"},{\"attributes\":{\"axis_label\":\"GC Content\",\"coordinates\":null,\"formatter\":{\"id\":\"30223\"},\"group\":null,\"major_label_policy\":{\"id\":\"30224\"},\"ticker\":{\"id\":\"29501\"}},\"id\":\"29500\",\"type\":\"LinearAxis\"},{\"attributes\":{},\"id\":\"30227\",\"type\":\"AllLabels\"},{\"attributes\":{},\"id\":\"29501\",\"type\":\"BasicTicker\"},{\"attributes\":{},\"id\":\"29509\",\"type\":\"HelpTool\"},{\"attributes\":{\"source\":{\"id\":\"29518\"}},\"id\":\"29523\",\"type\":\"CDSView\"},{\"attributes\":{},\"id\":\"29504\",\"type\":\"PanTool\"},{\"attributes\":{\"fill_alpha\":{\"value\":0.1},\"fill_color\":{\"value\":\"#1f77b4\"},\"hatch_alpha\":{\"value\":0.1},\"line_alpha\":{\"value\":0.1},\"line_color\":{\"value\":\"#1f77b4\"},\"x\":{\"field\":\"x\"},\"y\":{\"field\":\"y\"}},\"id\":\"29520\",\"type\":\"Circle\"},{\"attributes\":{\"overlay\":{\"id\":\"29510\"}},\"id\":\"29506\",\"type\":\"BoxZoomTool\"},{\"attributes\":{},\"id\":\"29507\",\"type\":\"SaveTool\"},{\"attributes\":{},\"id\":\"29508\",\"type\":\"ResetTool\"},{\"attributes\":{},\"id\":\"30228\",\"type\":\"UnionRenderers\"},{\"attributes\":{\"bottom_units\":\"screen\",\"coordinates\":null,\"fill_alpha\":0.5,\"fill_color\":\"lightgrey\",\"group\":null,\"left_units\":\"screen\",\"level\":\"overlay\",\"line_alpha\":1.0,\"line_color\":\"black\",\"line_dash\":[4,4],\"line_width\":2,\"right_units\":\"screen\",\"syncable\":false,\"top_units\":\"screen\"},\"id\":\"29510\",\"type\":\"BoxAnnotation\"},{\"attributes\":{},\"id\":\"30229\",\"type\":\"Selection\"},{\"attributes\":{\"coordinates\":null,\"group\":null,\"text\":\"T\"},\"id\":\"29524\",\"type\":\"Title\"},{\"attributes\":{\"fill_alpha\":{\"value\":0.2},\"fill_color\":{\"value\":\"#1f77b4\"},\"hatch_alpha\":{\"value\":0.2},\"line_alpha\":{\"value\":0.2},\"line_color\":{\"value\":\"#1f77b4\"},\"x\":{\"field\":\"x\"},\"y\":{\"field\":\"y\"}},\"id\":\"29521\",\"type\":\"Circle\"},{\"attributes\":{\"fill_color\":{\"value\":\"#1f77b4\"},\"line_color\":{\"value\":\"#1f77b4\"},\"x\":{\"field\":\"x\"},\"y\":{\"field\":\"y\"}},\"id\":\"29519\",\"type\":\"Circle\"},{\"attributes\":{\"tools\":[{\"id\":\"29504\"},{\"id\":\"29505\"},{\"id\":\"29506\"},{\"id\":\"29507\"},{\"id\":\"29508\"},{\"id\":\"29509\"}]},\"id\":\"29511\",\"type\":\"Toolbar\"}],\"root_ids\":[\"29487\"]},\"title\":\"Bokeh Application\",\"version\":\"2.4.3\"}};\n",
       "  const render_items = [{\"docid\":\"fe81196e-e19f-45ee-b0f6-c846f762d671\",\"root_ids\":[\"29487\"],\"roots\":{\"29487\":\"7c90a506-8013-4d68-a2ba-aaffa960c4f7\"}}];\n",
       "  root.Bokeh.embed.embed_items_notebook(docs_json, render_items);\n",
       "  }\n",
       "  if (root.Bokeh !== undefined) {\n",
       "    embed_document(root);\n",
       "  } else {\n",
       "    let attempts = 0;\n",
       "    const timer = setInterval(function(root) {\n",
       "      if (root.Bokeh !== undefined) {\n",
       "        clearInterval(timer);\n",
       "        embed_document(root);\n",
       "      } else {\n",
       "        attempts++;\n",
       "        if (attempts > 100) {\n",
       "          clearInterval(timer);\n",
       "          console.log(\"Bokeh: ERROR: Unable to run BokehJS code because BokehJS library is missing\");\n",
       "        }\n",
       "      }\n",
       "    }, 10, root)\n",
       "  }\n",
       "})(window);"
      ],
      "application/vnd.bokehjs_exec.v0+json": ""
     },
     "metadata": {
      "application/vnd.bokehjs_exec.v0+json": {
       "id": "29487"
      }
     },
     "output_type": "display_data"
    },
    {
     "data": {
      "text/html": [
       "\n",
       "  <div class=\"bk-root\" id=\"5f8455ce-6f92-47af-9835-e419b8ec7d62\" data-root-id=\"30286\"></div>\n"
      ]
     },
     "metadata": {},
     "output_type": "display_data"
    },
    {
     "data": {
      "application/javascript": [
       "(function(root) {\n",
       "  function embed_document(root) {\n",
       "  const docs_json = {\"b2fb7fda-aa18-470f-9cf1-cf7899a88c94\":{\"defs\":[],\"roots\":{\"references\":[{\"attributes\":{\"below\":[{\"id\":\"30295\"}],\"center\":[{\"id\":\"30298\"},{\"id\":\"30302\"}],\"left\":[{\"id\":\"30299\"}],\"renderers\":[{\"id\":\"30321\"}],\"title\":{\"id\":\"30323\"},\"toolbar\":{\"id\":\"30310\"},\"x_range\":{\"id\":\"30287\"},\"x_scale\":{\"id\":\"30291\"},\"y_range\":{\"id\":\"30289\"},\"y_scale\":{\"id\":\"30293\"}},\"id\":\"30286\",\"subtype\":\"Figure\",\"type\":\"Plot\"},{\"attributes\":{},\"id\":\"30304\",\"type\":\"WheelZoomTool\"},{\"attributes\":{},\"id\":\"31036\",\"type\":\"BasicTickFormatter\"},{\"attributes\":{},\"id\":\"31037\",\"type\":\"AllLabels\"},{\"attributes\":{\"axis_label\":\"GC Content\",\"coordinates\":null,\"formatter\":{\"id\":\"31033\"},\"group\":null,\"major_label_policy\":{\"id\":\"31034\"},\"ticker\":{\"id\":\"30300\"}},\"id\":\"30299\",\"type\":\"LinearAxis\"},{\"attributes\":{\"axis\":{\"id\":\"30299\"},\"coordinates\":null,\"dimension\":1,\"group\":null,\"ticker\":null},\"id\":\"30302\",\"type\":\"Grid\"},{\"attributes\":{},\"id\":\"31033\",\"type\":\"BasicTickFormatter\"},{\"attributes\":{},\"id\":\"30300\",\"type\":\"BasicTicker\"},{\"attributes\":{},\"id\":\"31038\",\"type\":\"UnionRenderers\"},{\"attributes\":{},\"id\":\"30308\",\"type\":\"HelpTool\"},{\"attributes\":{},\"id\":\"30303\",\"type\":\"PanTool\"},{\"attributes\":{\"overlay\":{\"id\":\"30309\"}},\"id\":\"30305\",\"type\":\"BoxZoomTool\"},{\"attributes\":{},\"id\":\"31039\",\"type\":\"Selection\"},{\"attributes\":{\"fill_color\":{\"value\":\"#1f77b4\"},\"line_color\":{\"value\":\"#1f77b4\"},\"x\":{\"field\":\"x\"},\"y\":{\"field\":\"y\"}},\"id\":\"30318\",\"type\":\"Circle\"},{\"attributes\":{},\"id\":\"30306\",\"type\":\"SaveTool\"},{\"attributes\":{},\"id\":\"30307\",\"type\":\"ResetTool\"},{\"attributes\":{\"bottom_units\":\"screen\",\"coordinates\":null,\"fill_alpha\":0.5,\"fill_color\":\"lightgrey\",\"group\":null,\"left_units\":\"screen\",\"level\":\"overlay\",\"line_alpha\":1.0,\"line_color\":\"black\",\"line_dash\":[4,4],\"line_width\":2,\"right_units\":\"screen\",\"syncable\":false,\"top_units\":\"screen\"},\"id\":\"30309\",\"type\":\"BoxAnnotation\"},{\"attributes\":{\"coordinates\":null,\"data_source\":{\"id\":\"30317\"},\"glyph\":{\"id\":\"30318\"},\"group\":null,\"hover_glyph\":null,\"muted_glyph\":{\"id\":\"30320\"},\"nonselection_glyph\":{\"id\":\"30319\"},\"view\":{\"id\":\"30322\"}},\"id\":\"30321\",\"type\":\"GlyphRenderer\"},{\"attributes\":{},\"id\":\"30287\",\"type\":\"DataRange1d\"},{\"attributes\":{\"source\":{\"id\":\"30317\"}},\"id\":\"30322\",\"type\":\"CDSView\"},{\"attributes\":{},\"id\":\"30289\",\"type\":\"DataRange1d\"},{\"attributes\":{\"tools\":[{\"id\":\"30303\"},{\"id\":\"30304\"},{\"id\":\"30305\"},{\"id\":\"30306\"},{\"id\":\"30307\"},{\"id\":\"30308\"}]},\"id\":\"30310\",\"type\":\"Toolbar\"},{\"attributes\":{\"coordinates\":null,\"group\":null,\"text\":\"V\"},\"id\":\"30323\",\"type\":\"Title\"},{\"attributes\":{},\"id\":\"30291\",\"type\":\"LinearScale\"},{\"attributes\":{\"axis_label\":\"V Frequency\",\"coordinates\":null,\"formatter\":{\"id\":\"31036\"},\"group\":null,\"major_label_policy\":{\"id\":\"31037\"},\"ticker\":{\"id\":\"30296\"}},\"id\":\"30295\",\"type\":\"LinearAxis\"},{\"attributes\":{\"data\":{\"x\":[0.08447488584474885,0.06903765690376569,0.08747044917257683,0.07125890736342043,0.08277404921700224,0.053452115812917596,0.09027777777777778,0.08275862068965517,0.07727272727272727,0.09181636726546906,0.06872037914691943,0.07093821510297482,0.08486238532110092,0.09108910891089109,0.06711409395973154,0.08108108108108109,0.09006928406466513,0.08158508158508158,0.06073752711496746,0.08447488584474885,0.0936768149882904,0.08860759493670886,0.06407322654462243,0.09111111111111111,0.08240534521158129,0.09817351598173515,0.05708245243128964,0.07191011235955057,0.0787037037037037,0.07126948775055679,0.09502262443438914,0.08131868131868132,0.0654627539503386,0.08505747126436781,0.09691629955947137,0.08370044052863436,0.07517084282460136,0.08863636363636364,0.08928571428571429,0.08144796380090498,0.09181636726546906,0.0936768149882904,0.06873614190687362,0.0585480093676815,0.10043668122270742,0.08139534883720931,0.07272727272727272,0.07882882882882883,0.07900677200902935,0.09502262443438914,0.08296943231441048,0.08941176470588236,0.0963302752293578,0.08816705336426914,0.09202453987730061,0.08126410835214447,0.10444444444444445,0.0730593607305936,0.07882882882882883,0.06991525423728813,0.08836206896551724,0.06962025316455696,0.07207207207207207,0.07424593967517401,0.10043668122270742,0.05909090909090909,0.06746626686656672,0.06666666666666667,0.060810810810810814,0.08816705336426914,0.09523809523809523,0.10262008733624454,0.04259634888438134,0.08598130841121496,0.09836065573770492,0.09349593495934959,0.09183673469387756,0.08333333333333333,0.09259259259259259,0.09502262443438914,0.057971014492753624,0.06412825651302605,0.09567198177676538,0.09382151029748284,0.09409190371991247,0.08428246013667426,0.08528784648187633,0.09168443496801706,0.08742004264392324,0.06912442396313365,0.08064516129032258,0.08294930875576037,0.07142857142857142,0.06912442396313365,0.0765661252900232,0.08793103448275862,0.07424593967517401,0.0867579908675799,0.08863636363636364,0.1,0.07882882882882883,0.0867579908675799,0.08009153318077804,0.0730593607305936,0.0765661252900232,0.0867579908675799,0.09153318077803203,0.07816091954022988,0.0787037037037037,0.08486238532110092,0.0776255707762557,0.08126410835214447,0.07972665148063782,0.0853932584269663,0.09761904761904762],\"y\":[0.6214550979068197,0.3994085176855399,0.2851670477800451,0.3925463139090084,0.2702402661513399,0.432061685620977,0.3941462663017556,0.4362451805566799,0.6604552208005426,0.5563730454385489,0.3134469652835711,0.5176625673713895,0.29458573520012254,0.6104893769690102,0.6066485428756286,0.5303426236068649,0.31856723950449106,0.6012489870353532,0.35044160109251976,0.5011939062196334,0.26988138782758875,0.5936551090651857,0.3697609754853193,0.6436863200066489,0.4616378165944257,0.7189011157425981,0.7321885437632035,0.3393312429608442,0.46248965043612583,0.5384967293987223,0.6561466628826449,0.5573534104769428,0.3494858518464715,0.5892757515896828,0.409548278484123,0.480491303157634,0.527548236805966,0.6813901247639091,0.7471648802454562,0.5579611479572558,0.653411396022395,0.34123190636943734,0.6069007764404369,0.2968308145349908,0.41307256750236687,0.4330160278754406,0.36442138565913607,0.5223887952113582,0.6655573299550923,0.6701232937245032,0.39022929006636004,0.35283906464335824,0.5481824835325689,0.7136233373179821,0.6677882621956012,0.38841741990717416,0.27633708893783704,0.5185249426669587,0.5127325660881997,0.4636155070752707,0.3670806060968197,0.5512825664578923,0.47701508164097833,0.3449876452749862,0.5631126863812335,0.25330577095161927,0.556836852789952,0.2859329500485328,0.6405938043196072,0.4368551230358618,0.5381025146242477,0.40336548767416935,0.30467776311034744,0.5898382910760631,0.6236364077610999,0.6791304308972272,0.6663858608722584,0.34717068193657913,0.37695898246256665,0.6563259786882653,0.23770448791760188,0.3146988546603475,0.5789368104312939,0.7305599084350982,0.49543930290280164,0.3132831176804368,0.4544143222506394,0.4076989670149079,0.41878970724846926,0.3164585736848883,0.3243880812292365,0.3245036858279444,0.2883630109992476,0.28919402319036686,0.328175332862062,0.48465357707063866,0.346327029360698,0.7214412872304006,0.35909420320035984,0.5547002247484424,0.508894769536912,0.7304496584927127,0.40506778011364514,0.7276396728649653,0.33777020500615523,0.6776867521828177,0.41488191202938696,0.3938264258377672,0.398032196376832,0.43400218134468804,0.7145283211289727,0.4772025510218359,0.6490562785486512,0.4769483062149186,0.4878755268844504]},\"selected\":{\"id\":\"31039\"},\"selection_policy\":{\"id\":\"31038\"}},\"id\":\"30317\",\"type\":\"ColumnDataSource\"},{\"attributes\":{},\"id\":\"31034\",\"type\":\"AllLabels\"},{\"attributes\":{\"fill_alpha\":{\"value\":0.2},\"fill_color\":{\"value\":\"#1f77b4\"},\"hatch_alpha\":{\"value\":0.2},\"line_alpha\":{\"value\":0.2},\"line_color\":{\"value\":\"#1f77b4\"},\"x\":{\"field\":\"x\"},\"y\":{\"field\":\"y\"}},\"id\":\"30320\",\"type\":\"Circle\"},{\"attributes\":{\"axis\":{\"id\":\"30295\"},\"coordinates\":null,\"group\":null,\"ticker\":null},\"id\":\"30298\",\"type\":\"Grid\"},{\"attributes\":{\"fill_alpha\":{\"value\":0.1},\"fill_color\":{\"value\":\"#1f77b4\"},\"hatch_alpha\":{\"value\":0.1},\"line_alpha\":{\"value\":0.1},\"line_color\":{\"value\":\"#1f77b4\"},\"x\":{\"field\":\"x\"},\"y\":{\"field\":\"y\"}},\"id\":\"30319\",\"type\":\"Circle\"},{\"attributes\":{},\"id\":\"30293\",\"type\":\"LinearScale\"},{\"attributes\":{},\"id\":\"30296\",\"type\":\"BasicTicker\"}],\"root_ids\":[\"30286\"]},\"title\":\"Bokeh Application\",\"version\":\"2.4.3\"}};\n",
       "  const render_items = [{\"docid\":\"b2fb7fda-aa18-470f-9cf1-cf7899a88c94\",\"root_ids\":[\"30286\"],\"roots\":{\"30286\":\"5f8455ce-6f92-47af-9835-e419b8ec7d62\"}}];\n",
       "  root.Bokeh.embed.embed_items_notebook(docs_json, render_items);\n",
       "  }\n",
       "  if (root.Bokeh !== undefined) {\n",
       "    embed_document(root);\n",
       "  } else {\n",
       "    let attempts = 0;\n",
       "    const timer = setInterval(function(root) {\n",
       "      if (root.Bokeh !== undefined) {\n",
       "        clearInterval(timer);\n",
       "        embed_document(root);\n",
       "      } else {\n",
       "        attempts++;\n",
       "        if (attempts > 100) {\n",
       "          clearInterval(timer);\n",
       "          console.log(\"Bokeh: ERROR: Unable to run BokehJS code because BokehJS library is missing\");\n",
       "        }\n",
       "      }\n",
       "    }, 10, root)\n",
       "  }\n",
       "})(window);"
      ],
      "application/vnd.bokehjs_exec.v0+json": ""
     },
     "metadata": {
      "application/vnd.bokehjs_exec.v0+json": {
       "id": "30286"
      }
     },
     "output_type": "display_data"
    },
    {
     "data": {
      "text/html": [
       "\n",
       "  <div class=\"bk-root\" id=\"b877191e-939b-4a0f-920b-f1f0187aeb92\" data-root-id=\"31096\"></div>\n"
      ]
     },
     "metadata": {},
     "output_type": "display_data"
    },
    {
     "data": {
      "application/javascript": [
       "(function(root) {\n",
       "  function embed_document(root) {\n",
       "  const docs_json = {\"0b5cacf7-7f2f-4fe2-a617-60112331e957\":{\"defs\":[],\"roots\":{\"references\":[{\"attributes\":{\"below\":[{\"id\":\"31105\"}],\"center\":[{\"id\":\"31108\"},{\"id\":\"31112\"}],\"left\":[{\"id\":\"31109\"}],\"renderers\":[{\"id\":\"31131\"}],\"title\":{\"id\":\"31133\"},\"toolbar\":{\"id\":\"31120\"},\"x_range\":{\"id\":\"31097\"},\"x_scale\":{\"id\":\"31101\"},\"y_range\":{\"id\":\"31099\"},\"y_scale\":{\"id\":\"31103\"}},\"id\":\"31096\",\"subtype\":\"Figure\",\"type\":\"Plot\"},{\"attributes\":{\"coordinates\":null,\"group\":null,\"text\":\"W\"},\"id\":\"31133\",\"type\":\"Title\"},{\"attributes\":{\"bottom_units\":\"screen\",\"coordinates\":null,\"fill_alpha\":0.5,\"fill_color\":\"lightgrey\",\"group\":null,\"left_units\":\"screen\",\"level\":\"overlay\",\"line_alpha\":1.0,\"line_color\":\"black\",\"line_dash\":[4,4],\"line_width\":2,\"right_units\":\"screen\",\"syncable\":false,\"top_units\":\"screen\"},\"id\":\"31119\",\"type\":\"BoxAnnotation\"},{\"attributes\":{\"coordinates\":null,\"data_source\":{\"id\":\"31127\"},\"glyph\":{\"id\":\"31128\"},\"group\":null,\"hover_glyph\":null,\"muted_glyph\":{\"id\":\"31130\"},\"nonselection_glyph\":{\"id\":\"31129\"},\"view\":{\"id\":\"31132\"}},\"id\":\"31131\",\"type\":\"GlyphRenderer\"},{\"attributes\":{\"fill_alpha\":{\"value\":0.2},\"fill_color\":{\"value\":\"#1f77b4\"},\"hatch_alpha\":{\"value\":0.2},\"line_alpha\":{\"value\":0.2},\"line_color\":{\"value\":\"#1f77b4\"},\"x\":{\"field\":\"x\"},\"y\":{\"field\":\"y\"}},\"id\":\"31130\",\"type\":\"Circle\"},{\"attributes\":{},\"id\":\"31099\",\"type\":\"DataRange1d\"},{\"attributes\":{},\"id\":\"31859\",\"type\":\"UnionRenderers\"},{\"attributes\":{},\"id\":\"31101\",\"type\":\"LinearScale\"},{\"attributes\":{\"tools\":[{\"id\":\"31113\"},{\"id\":\"31114\"},{\"id\":\"31115\"},{\"id\":\"31116\"},{\"id\":\"31117\"},{\"id\":\"31118\"}]},\"id\":\"31120\",\"type\":\"Toolbar\"},{\"attributes\":{\"axis_label\":\"W Frequency\",\"coordinates\":null,\"formatter\":{\"id\":\"31857\"},\"group\":null,\"major_label_policy\":{\"id\":\"31858\"},\"ticker\":{\"id\":\"31106\"}},\"id\":\"31105\",\"type\":\"LinearAxis\"},{\"attributes\":{\"data\":{\"x\":[0.00684931506849315,0.0041841004184100415,0.009456264775413711,0.007125890736342043,0.011185682326621925,0.008908685968819599,0.004629629629629629,0.011494252873563218,0.011363636363636364,0.017964071856287425,0.004739336492890996,0.004576659038901602,0.006880733944954129,0.011881188118811881,0.008948545861297539,0.01126126126126126,0.016166281755196306,0.009324009324009324,0.013015184381778741,0.00684931506849315,0.00936768149882904,0.012658227848101266,0.006864988558352402,0.011111111111111112,0.0022271714922048997,0.0136986301369863,0.014799154334038054,0.008988764044943821,0.011574074074074073,0.0200445434298441,0.006787330316742082,0.006593406593406593,0.002257336343115124,0.004597701149425287,0.00881057268722467,0.006607929515418502,0.009111617312072893,0.015909090909090907,0.008928571428571428,0.011312217194570135,0.007984031936127744,0.00936768149882904,0.0022172949002217295,0.00234192037470726,0.008733624454148471,0.0069767441860465115,0.006818181818181818,0.009009009009009009,0.009029345372460496,0.00904977375565611,0.010917030567685589,0.007058823529411765,0.006880733944954129,0.004640371229698376,0.024539877300613498,0.009029345372460496,0.006666666666666667,0.00684931506849315,0.009009009009009009,0.00847457627118644,0.008620689655172414,0.0189873417721519,0.009009009009009009,0.009280742459396751,0.013100436681222707,0.004545454545454545,0.013493253373313344,0.0022988505747126436,0.01126126126126126,0.0069605568445475635,0.009070294784580499,0.006550218340611353,0.014198782961460446,0.007476635514018692,0.020491803278688523,0.024390243902439025,0.02040816326530612,0.013888888888888888,0.016203703703703703,0.006787330316742082,0.014492753623188406,0.004008016032064128,0.00683371298405467,0.009153318077803204,0.010940919037199124,0.011389521640091117,0.017057569296375266,0.019189765458422176,0.017057569296375266,0.002304147465437788,0.002304147465437788,0.002304147465437788,0.002304147465437788,0.002304147465437788,0.009280742459396751,0.006896551724137931,0.009280742459396751,0.0136986301369863,0.015909090909090907,0.00909090909090909,0.009009009009009009,0.0136986301369863,0.011441647597254004,0.0136986301369863,0.009280742459396751,0.0136986301369863,0.009153318077803204,0.011494252873563218,0.006944444444444444,0.006880733944954129,0.0136986301369863,0.006772009029345372,0.01366742596810934,0.008988764044943821,0.007142857142857143],\"y\":[0.6214550979068197,0.3994085176855399,0.2851670477800451,0.3925463139090084,0.2702402661513399,0.432061685620977,0.3941462663017556,0.4362451805566799,0.6604552208005426,0.5563730454385489,0.3134469652835711,0.5176625673713895,0.29458573520012254,0.6104893769690102,0.6066485428756286,0.5303426236068649,0.31856723950449106,0.6012489870353532,0.35044160109251976,0.5011939062196334,0.26988138782758875,0.5936551090651857,0.3697609754853193,0.6436863200066489,0.4616378165944257,0.7189011157425981,0.7321885437632035,0.3393312429608442,0.46248965043612583,0.5384967293987223,0.6561466628826449,0.5573534104769428,0.3494858518464715,0.5892757515896828,0.409548278484123,0.480491303157634,0.527548236805966,0.6813901247639091,0.7471648802454562,0.5579611479572558,0.653411396022395,0.34123190636943734,0.6069007764404369,0.2968308145349908,0.41307256750236687,0.4330160278754406,0.36442138565913607,0.5223887952113582,0.6655573299550923,0.6701232937245032,0.39022929006636004,0.35283906464335824,0.5481824835325689,0.7136233373179821,0.6677882621956012,0.38841741990717416,0.27633708893783704,0.5185249426669587,0.5127325660881997,0.4636155070752707,0.3670806060968197,0.5512825664578923,0.47701508164097833,0.3449876452749862,0.5631126863812335,0.25330577095161927,0.556836852789952,0.2859329500485328,0.6405938043196072,0.4368551230358618,0.5381025146242477,0.40336548767416935,0.30467776311034744,0.5898382910760631,0.6236364077610999,0.6791304308972272,0.6663858608722584,0.34717068193657913,0.37695898246256665,0.6563259786882653,0.23770448791760188,0.3146988546603475,0.5789368104312939,0.7305599084350982,0.49543930290280164,0.3132831176804368,0.4544143222506394,0.4076989670149079,0.41878970724846926,0.3164585736848883,0.3243880812292365,0.3245036858279444,0.2883630109992476,0.28919402319036686,0.328175332862062,0.48465357707063866,0.346327029360698,0.7214412872304006,0.35909420320035984,0.5547002247484424,0.508894769536912,0.7304496584927127,0.40506778011364514,0.7276396728649653,0.33777020500615523,0.6776867521828177,0.41488191202938696,0.3938264258377672,0.398032196376832,0.43400218134468804,0.7145283211289727,0.4772025510218359,0.6490562785486512,0.4769483062149186,0.4878755268844504]},\"selected\":{\"id\":\"31860\"},\"selection_policy\":{\"id\":\"31859\"}},\"id\":\"31127\",\"type\":\"ColumnDataSource\"},{\"attributes\":{},\"id\":\"31857\",\"type\":\"BasicTickFormatter\"},{\"attributes\":{},\"id\":\"31114\",\"type\":\"WheelZoomTool\"},{\"attributes\":{\"fill_alpha\":{\"value\":0.1},\"fill_color\":{\"value\":\"#1f77b4\"},\"hatch_alpha\":{\"value\":0.1},\"line_alpha\":{\"value\":0.1},\"line_color\":{\"value\":\"#1f77b4\"},\"x\":{\"field\":\"x\"},\"y\":{\"field\":\"y\"}},\"id\":\"31129\",\"type\":\"Circle\"},{\"attributes\":{},\"id\":\"31106\",\"type\":\"BasicTicker\"},{\"attributes\":{\"fill_color\":{\"value\":\"#1f77b4\"},\"line_color\":{\"value\":\"#1f77b4\"},\"x\":{\"field\":\"x\"},\"y\":{\"field\":\"y\"}},\"id\":\"31128\",\"type\":\"Circle\"},{\"attributes\":{},\"id\":\"31854\",\"type\":\"BasicTickFormatter\"},{\"attributes\":{\"axis\":{\"id\":\"31105\"},\"coordinates\":null,\"group\":null,\"ticker\":null},\"id\":\"31108\",\"type\":\"Grid\"},{\"attributes\":{},\"id\":\"31855\",\"type\":\"AllLabels\"},{\"attributes\":{},\"id\":\"31860\",\"type\":\"Selection\"},{\"attributes\":{\"axis_label\":\"GC Content\",\"coordinates\":null,\"formatter\":{\"id\":\"31854\"},\"group\":null,\"major_label_policy\":{\"id\":\"31855\"},\"ticker\":{\"id\":\"31110\"}},\"id\":\"31109\",\"type\":\"LinearAxis\"},{\"attributes\":{},\"id\":\"31097\",\"type\":\"DataRange1d\"},{\"attributes\":{\"source\":{\"id\":\"31127\"}},\"id\":\"31132\",\"type\":\"CDSView\"},{\"attributes\":{},\"id\":\"31103\",\"type\":\"LinearScale\"},{\"attributes\":{\"axis\":{\"id\":\"31109\"},\"coordinates\":null,\"dimension\":1,\"group\":null,\"ticker\":null},\"id\":\"31112\",\"type\":\"Grid\"},{\"attributes\":{},\"id\":\"31110\",\"type\":\"BasicTicker\"},{\"attributes\":{},\"id\":\"31858\",\"type\":\"AllLabels\"},{\"attributes\":{},\"id\":\"31118\",\"type\":\"HelpTool\"},{\"attributes\":{},\"id\":\"31117\",\"type\":\"ResetTool\"},{\"attributes\":{},\"id\":\"31113\",\"type\":\"PanTool\"},{\"attributes\":{\"overlay\":{\"id\":\"31119\"}},\"id\":\"31115\",\"type\":\"BoxZoomTool\"},{\"attributes\":{},\"id\":\"31116\",\"type\":\"SaveTool\"}],\"root_ids\":[\"31096\"]},\"title\":\"Bokeh Application\",\"version\":\"2.4.3\"}};\n",
       "  const render_items = [{\"docid\":\"0b5cacf7-7f2f-4fe2-a617-60112331e957\",\"root_ids\":[\"31096\"],\"roots\":{\"31096\":\"b877191e-939b-4a0f-920b-f1f0187aeb92\"}}];\n",
       "  root.Bokeh.embed.embed_items_notebook(docs_json, render_items);\n",
       "  }\n",
       "  if (root.Bokeh !== undefined) {\n",
       "    embed_document(root);\n",
       "  } else {\n",
       "    let attempts = 0;\n",
       "    const timer = setInterval(function(root) {\n",
       "      if (root.Bokeh !== undefined) {\n",
       "        clearInterval(timer);\n",
       "        embed_document(root);\n",
       "      } else {\n",
       "        attempts++;\n",
       "        if (attempts > 100) {\n",
       "          clearInterval(timer);\n",
       "          console.log(\"Bokeh: ERROR: Unable to run BokehJS code because BokehJS library is missing\");\n",
       "        }\n",
       "      }\n",
       "    }, 10, root)\n",
       "  }\n",
       "})(window);"
      ],
      "application/vnd.bokehjs_exec.v0+json": ""
     },
     "metadata": {
      "application/vnd.bokehjs_exec.v0+json": {
       "id": "31096"
      }
     },
     "output_type": "display_data"
    },
    {
     "data": {
      "text/html": [
       "\n",
       "  <div class=\"bk-root\" id=\"b7963a88-7a83-468f-bcd7-342e67b7dc9a\" data-root-id=\"31917\"></div>\n"
      ]
     },
     "metadata": {},
     "output_type": "display_data"
    },
    {
     "data": {
      "application/javascript": [
       "(function(root) {\n",
       "  function embed_document(root) {\n",
       "  const docs_json = {\"8a5cb88d-6d37-45fe-b31e-2a65217d9b53\":{\"defs\":[],\"roots\":{\"references\":[{\"attributes\":{\"below\":[{\"id\":\"31926\"}],\"center\":[{\"id\":\"31929\"},{\"id\":\"31933\"}],\"left\":[{\"id\":\"31930\"}],\"renderers\":[{\"id\":\"31952\"}],\"title\":{\"id\":\"31954\"},\"toolbar\":{\"id\":\"31941\"},\"x_range\":{\"id\":\"31918\"},\"x_scale\":{\"id\":\"31922\"},\"y_range\":{\"id\":\"31920\"},\"y_scale\":{\"id\":\"31924\"}},\"id\":\"31917\",\"subtype\":\"Figure\",\"type\":\"Plot\"},{\"attributes\":{},\"id\":\"31920\",\"type\":\"DataRange1d\"},{\"attributes\":{},\"id\":\"31922\",\"type\":\"LinearScale\"},{\"attributes\":{\"axis_label\":\"Y Frequency\",\"coordinates\":null,\"formatter\":{\"id\":\"32689\"},\"group\":null,\"major_label_policy\":{\"id\":\"32690\"},\"ticker\":{\"id\":\"31927\"}},\"id\":\"31926\",\"type\":\"LinearAxis\"},{\"attributes\":{},\"id\":\"32689\",\"type\":\"BasicTickFormatter\"},{\"attributes\":{},\"id\":\"32690\",\"type\":\"AllLabels\"},{\"attributes\":{\"bottom_units\":\"screen\",\"coordinates\":null,\"fill_alpha\":0.5,\"fill_color\":\"lightgrey\",\"group\":null,\"left_units\":\"screen\",\"level\":\"overlay\",\"line_alpha\":1.0,\"line_color\":\"black\",\"line_dash\":[4,4],\"line_width\":2,\"right_units\":\"screen\",\"syncable\":false,\"top_units\":\"screen\"},\"id\":\"31940\",\"type\":\"BoxAnnotation\"},{\"attributes\":{\"axis\":{\"id\":\"31926\"},\"coordinates\":null,\"group\":null,\"ticker\":null},\"id\":\"31929\",\"type\":\"Grid\"},{\"attributes\":{\"coordinates\":null,\"data_source\":{\"id\":\"31948\"},\"glyph\":{\"id\":\"31949\"},\"group\":null,\"hover_glyph\":null,\"muted_glyph\":{\"id\":\"31951\"},\"nonselection_glyph\":{\"id\":\"31950\"},\"view\":{\"id\":\"31953\"}},\"id\":\"31952\",\"type\":\"GlyphRenderer\"},{\"attributes\":{},\"id\":\"31927\",\"type\":\"BasicTicker\"},{\"attributes\":{},\"id\":\"31935\",\"type\":\"WheelZoomTool\"},{\"attributes\":{},\"id\":\"31924\",\"type\":\"LinearScale\"},{\"attributes\":{\"data\":{\"x\":[0.03424657534246575,0.02510460251046025,0.03309692671394799,0.040380047505938245,0.040268456375838924,0.035634743875278395,0.034722222222222224,0.03908045977011494,0.029545454545454545,0.029940119760479042,0.037914691943127965,0.034324942791762014,0.020642201834862386,0.031683168316831684,0.03131991051454139,0.024774774774774775,0.04157043879907621,0.03263403263403263,0.0368763557483731,0.03424657534246575,0.03044496487119438,0.03375527426160337,0.038901601830663615,0.03111111111111111,0.031180400890868598,0.03881278538812785,0.04439746300211417,0.033707865168539325,0.04398148148148148,0.0334075723830735,0.04072398190045249,0.03076923076923077,0.040632054176072234,0.03218390804597701,0.028634361233480177,0.03524229074889868,0.03416856492027335,0.031818181818181815,0.044642857142857144,0.027149321266968326,0.033932135728542916,0.03981264637002342,0.03325942350332594,0.03981264637002342,0.026200873362445413,0.05116279069767442,0.022727272727272728,0.033783783783783786,0.02708803611738149,0.033936651583710405,0.028384279475982533,0.03058823529411765,0.03211009174311927,0.03480278422273782,0.026584867075664622,0.03611738148984198,0.03333333333333333,0.0365296803652968,0.033783783783783786,0.0211864406779661,0.03879310344827586,0.04008438818565401,0.033783783783783786,0.037122969837587005,0.04585152838427948,0.03636363636363636,0.034482758620689655,0.052873563218390804,0.036036036036036036,0.030162412993039442,0.04308390022675737,0.026200873362445413,0.02028397565922921,0.022429906542056073,0.022540983606557378,0.026422764227642278,0.02040816326530612,0.03009259259259259,0.032407407407407406,0.04072398190045249,0.024844720496894408,0.03006012024048096,0.04328018223234624,0.041189931350114416,0.0350109409190372,0.04100227790432802,0.042643923240938165,0.04477611940298507,0.042643923240938165,0.04608294930875576,0.04377880184331797,0.04377880184331797,0.04377880184331797,0.04377880184331797,0.037122969837587005,0.02413793103448276,0.03944315545243619,0.0365296803652968,0.03409090909090909,0.029545454545454545,0.033783783783783786,0.03881278538812785,0.036613272311212815,0.03881278538812785,0.03944315545243619,0.0365296803652968,0.034324942791762014,0.03218390804597701,0.037037037037037035,0.0389908256880734,0.0365296803652968,0.033860045146726865,0.025056947608200455,0.029213483146067417,0.03571428571428571],\"y\":[0.6214550979068197,0.3994085176855399,0.2851670477800451,0.3925463139090084,0.2702402661513399,0.432061685620977,0.3941462663017556,0.4362451805566799,0.6604552208005426,0.5563730454385489,0.3134469652835711,0.5176625673713895,0.29458573520012254,0.6104893769690102,0.6066485428756286,0.5303426236068649,0.31856723950449106,0.6012489870353532,0.35044160109251976,0.5011939062196334,0.26988138782758875,0.5936551090651857,0.3697609754853193,0.6436863200066489,0.4616378165944257,0.7189011157425981,0.7321885437632035,0.3393312429608442,0.46248965043612583,0.5384967293987223,0.6561466628826449,0.5573534104769428,0.3494858518464715,0.5892757515896828,0.409548278484123,0.480491303157634,0.527548236805966,0.6813901247639091,0.7471648802454562,0.5579611479572558,0.653411396022395,0.34123190636943734,0.6069007764404369,0.2968308145349908,0.41307256750236687,0.4330160278754406,0.36442138565913607,0.5223887952113582,0.6655573299550923,0.6701232937245032,0.39022929006636004,0.35283906464335824,0.5481824835325689,0.7136233373179821,0.6677882621956012,0.38841741990717416,0.27633708893783704,0.5185249426669587,0.5127325660881997,0.4636155070752707,0.3670806060968197,0.5512825664578923,0.47701508164097833,0.3449876452749862,0.5631126863812335,0.25330577095161927,0.556836852789952,0.2859329500485328,0.6405938043196072,0.4368551230358618,0.5381025146242477,0.40336548767416935,0.30467776311034744,0.5898382910760631,0.6236364077610999,0.6791304308972272,0.6663858608722584,0.34717068193657913,0.37695898246256665,0.6563259786882653,0.23770448791760188,0.3146988546603475,0.5789368104312939,0.7305599084350982,0.49543930290280164,0.3132831176804368,0.4544143222506394,0.4076989670149079,0.41878970724846926,0.3164585736848883,0.3243880812292365,0.3245036858279444,0.2883630109992476,0.28919402319036686,0.328175332862062,0.48465357707063866,0.346327029360698,0.7214412872304006,0.35909420320035984,0.5547002247484424,0.508894769536912,0.7304496584927127,0.40506778011364514,0.7276396728649653,0.33777020500615523,0.6776867521828177,0.41488191202938696,0.3938264258377672,0.398032196376832,0.43400218134468804,0.7145283211289727,0.4772025510218359,0.6490562785486512,0.4769483062149186,0.4878755268844504]},\"selected\":{\"id\":\"32692\"},\"selection_policy\":{\"id\":\"32691\"}},\"id\":\"31948\",\"type\":\"ColumnDataSource\"},{\"attributes\":{},\"id\":\"32692\",\"type\":\"Selection\"},{\"attributes\":{\"axis\":{\"id\":\"31930\"},\"coordinates\":null,\"dimension\":1,\"group\":null,\"ticker\":null},\"id\":\"31933\",\"type\":\"Grid\"},{\"attributes\":{\"tools\":[{\"id\":\"31934\"},{\"id\":\"31935\"},{\"id\":\"31936\"},{\"id\":\"31937\"},{\"id\":\"31938\"},{\"id\":\"31939\"}]},\"id\":\"31941\",\"type\":\"Toolbar\"},{\"attributes\":{\"axis_label\":\"GC Content\",\"coordinates\":null,\"formatter\":{\"id\":\"32686\"},\"group\":null,\"major_label_policy\":{\"id\":\"32687\"},\"ticker\":{\"id\":\"31931\"}},\"id\":\"31930\",\"type\":\"LinearAxis\"},{\"attributes\":{},\"id\":\"31918\",\"type\":\"DataRange1d\"},{\"attributes\":{},\"id\":\"32691\",\"type\":\"UnionRenderers\"},{\"attributes\":{},\"id\":\"31931\",\"type\":\"BasicTicker\"},{\"attributes\":{},\"id\":\"32687\",\"type\":\"AllLabels\"},{\"attributes\":{\"fill_alpha\":{\"value\":0.2},\"fill_color\":{\"value\":\"#1f77b4\"},\"hatch_alpha\":{\"value\":0.2},\"line_alpha\":{\"value\":0.2},\"line_color\":{\"value\":\"#1f77b4\"},\"x\":{\"field\":\"x\"},\"y\":{\"field\":\"y\"}},\"id\":\"31951\",\"type\":\"Circle\"},{\"attributes\":{\"coordinates\":null,\"group\":null,\"text\":\"Y\"},\"id\":\"31954\",\"type\":\"Title\"},{\"attributes\":{\"fill_alpha\":{\"value\":0.1},\"fill_color\":{\"value\":\"#1f77b4\"},\"hatch_alpha\":{\"value\":0.1},\"line_alpha\":{\"value\":0.1},\"line_color\":{\"value\":\"#1f77b4\"},\"x\":{\"field\":\"x\"},\"y\":{\"field\":\"y\"}},\"id\":\"31950\",\"type\":\"Circle\"},{\"attributes\":{\"source\":{\"id\":\"31948\"}},\"id\":\"31953\",\"type\":\"CDSView\"},{\"attributes\":{},\"id\":\"31934\",\"type\":\"PanTool\"},{\"attributes\":{},\"id\":\"31939\",\"type\":\"HelpTool\"},{\"attributes\":{},\"id\":\"32686\",\"type\":\"BasicTickFormatter\"},{\"attributes\":{\"overlay\":{\"id\":\"31940\"}},\"id\":\"31936\",\"type\":\"BoxZoomTool\"},{\"attributes\":{},\"id\":\"31937\",\"type\":\"SaveTool\"},{\"attributes\":{},\"id\":\"31938\",\"type\":\"ResetTool\"},{\"attributes\":{\"fill_color\":{\"value\":\"#1f77b4\"},\"line_color\":{\"value\":\"#1f77b4\"},\"x\":{\"field\":\"x\"},\"y\":{\"field\":\"y\"}},\"id\":\"31949\",\"type\":\"Circle\"}],\"root_ids\":[\"31917\"]},\"title\":\"Bokeh Application\",\"version\":\"2.4.3\"}};\n",
       "  const render_items = [{\"docid\":\"8a5cb88d-6d37-45fe-b31e-2a65217d9b53\",\"root_ids\":[\"31917\"],\"roots\":{\"31917\":\"b7963a88-7a83-468f-bcd7-342e67b7dc9a\"}}];\n",
       "  root.Bokeh.embed.embed_items_notebook(docs_json, render_items);\n",
       "  }\n",
       "  if (root.Bokeh !== undefined) {\n",
       "    embed_document(root);\n",
       "  } else {\n",
       "    let attempts = 0;\n",
       "    const timer = setInterval(function(root) {\n",
       "      if (root.Bokeh !== undefined) {\n",
       "        clearInterval(timer);\n",
       "        embed_document(root);\n",
       "      } else {\n",
       "        attempts++;\n",
       "        if (attempts > 100) {\n",
       "          clearInterval(timer);\n",
       "          console.log(\"Bokeh: ERROR: Unable to run BokehJS code because BokehJS library is missing\");\n",
       "        }\n",
       "      }\n",
       "    }, 10, root)\n",
       "  }\n",
       "})(window);"
      ],
      "application/vnd.bokehjs_exec.v0+json": ""
     },
     "metadata": {
      "application/vnd.bokehjs_exec.v0+json": {
       "id": "31917"
      }
     },
     "output_type": "display_data"
    }
   ],
   "source": [
    "import pandas as pd\n",
    "import bokeh.io\n",
    "from bokeh.io import output_notebook\n",
    "from bokeh.plotting import figure, output_file, gridplot, show\n",
    "from bokeh.models import ColumnDataSource, Label, LabelSet, Range1d \n",
    "output_notebook()\n",
    "\n",
    "secY_open = open('File_For_GC_Usage_SecY.txt', 'r')\n",
    "secY_data = secY_open.read()\n",
    "secY_split = secY_data.splitlines()\n",
    "\n",
    "file_names = []\n",
    "GC_content = []\n",
    "rough_cav_vol = []\n",
    "                 \n",
    "for x in range(0, len(secY_split)):\n",
    "    one_line_split = secY_split[x].split(',')\n",
    "    file_names.append(one_line_split[1])\n",
    "    GC_content.append(float(one_line_split[2]))\n",
    "    rough_cav_vol.append(one_line_split[4])\n",
    "    \n",
    "rough_cav_vol_1 = []\n",
    "for x in range(0, len(rough_cav_vol)):\n",
    "    split_spaces = rough_cav_vol[x].split()\n",
    "    rough_cav_vol_1.append(split_spaces[1])\n",
    "clean_cav_vol = []\n",
    "for x in range(0, len(rough_cav_vol_1)):\n",
    "    split_bracket = rough_cav_vol_1[x].split(']')\n",
    "    clean_cav_vol.append(float(split_bracket[0]))\n",
    "print(clean_cav_vol)\n",
    "    \n",
    "    \n",
    "    \n",
    "\n",
    "# count codons frequencies in each homolog\n",
    "len_list = []\n",
    "m_list = []\n",
    "a_list = []\n",
    "c_list = []\n",
    "d_list = []\n",
    "e_list = []\n",
    "f_list = []\n",
    "g_list = []\n",
    "h_list = []\n",
    "i_list = []\n",
    "k_list = []\n",
    "l_list = []\n",
    "n_list = []\n",
    "p_list = []\n",
    "q_list = []\n",
    "r_list = []\n",
    "s_list = []\n",
    "t_list = []\n",
    "v_list = []\n",
    "w_list = []\n",
    "y_list = []\n",
    "\n",
    "for y in range(0, len(file_names)):\n",
    "    first_entry_open = open(file_names[y], 'r')\n",
    "    first_entry = first_entry_open.read()\n",
    "    first_list_1 = first_entry.split('0')\n",
    "    first_list_2 = first_list_1[len(first_list_1) - 1].split('}')\n",
    "    \n",
    "    len_list.append(len(first_list_2[0]))\n",
    "    m_list.append(first_list_2[0].count('M')/len(first_list_2[0]))\n",
    "    a_list.append(first_list_2[0].count('A')/len(first_list_2[0]))\n",
    "    c_list.append(first_list_2[0].count('C')/len(first_list_2[0]))\n",
    "    d_list.append(first_list_2[0].count('D')/len(first_list_2[0]))\n",
    "    e_list.append(first_list_2[0].count('E')/len(first_list_2[0]))\n",
    "    f_list.append(first_list_2[0].count('F')/len(first_list_2[0]))\n",
    "    g_list.append(first_list_2[0].count('G')/len(first_list_2[0]))\n",
    "    h_list.append(first_list_2[0].count('H')/len(first_list_2[0]))\n",
    "    i_list.append(first_list_2[0].count('I')/len(first_list_2[0]))\n",
    "    k_list.append(first_list_2[0].count('K')/len(first_list_2[0]))\n",
    "    l_list.append(first_list_2[0].count('L')/len(first_list_2[0]))\n",
    "    n_list.append(first_list_2[0].count('N')/len(first_list_2[0]))\n",
    "    p_list.append(first_list_2[0].count('P')/len(first_list_2[0]))\n",
    "    q_list.append(first_list_2[0].count('Q')/len(first_list_2[0]))\n",
    "    r_list.append(first_list_2[0].count('R')/len(first_list_2[0]))\n",
    "    s_list.append(first_list_2[0].count('S')/len(first_list_2[0]))\n",
    "    t_list.append(first_list_2[0].count('T')/len(first_list_2[0]))\n",
    "    v_list.append(first_list_2[0].count('V')/len(first_list_2[0]))\n",
    "    w_list.append(first_list_2[0].count('W')/len(first_list_2[0]))\n",
    "    y_list.append(first_list_2[0].count('Y')/len(first_list_2[0]))\n",
    "\n",
    "len_plot = bokeh.plotting.figure(\n",
    "    width=600,\n",
    "    height=600,\n",
    "    x_axis_label = \"Length\",\n",
    "    y_axis_label = \"GC Content\"\n",
    "    )\n",
    "    \n",
    "len_plot.circle(\n",
    "    x=len_list,\n",
    "    y=GC_content\n",
    "    )\n",
    "    \n",
    "len_plot.title.text = 'SecY Length'\n",
    "show(len_plot)\n",
    "\n",
    "cav_vol_plot = bokeh.plotting.figure(\n",
    "    width=600,\n",
    "    height=600,\n",
    "    x_axis_label = \"Cavity Volume (Cubic Angstroms)\",\n",
    "    y_axis_label = \"Length (Amino Acids)\"\n",
    "    )\n",
    "    \n",
    "cav_vol_plot.circle(\n",
    "    x=clean_cav_vol,\n",
    "    y=len_list\n",
    "    )\n",
    "    \n",
    "cav_vol_plot.title.text = 'SecY Length'\n",
    "show(cav_vol_plot)\n",
    "\n",
    "cav_vol_plot_1 = bokeh.plotting.figure(\n",
    "    width=600,\n",
    "    height=600,\n",
    "    x_axis_label = \"Cavity Volume (Cubic Angstroms)\",\n",
    "    y_axis_label = \"GC Content\"\n",
    "    )\n",
    "    \n",
    "cav_vol_plot_1.circle(\n",
    "    x=clean_cav_vol,\n",
    "    y=GC_content\n",
    "    )\n",
    "    \n",
    "cav_vol_plot_1.title.text = 'SecY Cavity Volume'\n",
    "show(cav_vol_plot_1)\n",
    "\n",
    "\n",
    "    \n",
    "    \n",
    "m_plot = bokeh.plotting.figure(\n",
    "    width=600,\n",
    "    height=600,\n",
    "    x_axis_label = \"M Frequency\",\n",
    "    y_axis_label = \"GC Content\"\n",
    "    )\n",
    "    \n",
    "m_plot.circle(\n",
    "    x=m_list,\n",
    "    y=GC_content\n",
    "    )\n",
    "    \n",
    "m_plot.title.text = 'M'\n",
    "show(m_plot)\n",
    "\n",
    "a_plot = bokeh.plotting.figure(\n",
    "    width=600,\n",
    "    height=600,\n",
    "    x_axis_label = \"A Frequency\",\n",
    "    y_axis_label = \"GC Content\"\n",
    "    )\n",
    "    \n",
    "a_plot.circle(\n",
    "    x=a_list,\n",
    "    y=GC_content\n",
    "    )\n",
    "    \n",
    "a_plot.title.text = 'A'\n",
    "show(a_plot)\n",
    "\n",
    "c_plot = bokeh.plotting.figure(\n",
    "    width=600,\n",
    "    height=600,\n",
    "    x_axis_label = \"C Frequency\",\n",
    "    y_axis_label = \"GC Content\"\n",
    "    )\n",
    "    \n",
    "c_plot.circle(\n",
    "    x=c_list,\n",
    "    y=GC_content\n",
    "    )\n",
    "    \n",
    "c_plot.title.text = 'C'\n",
    "show(c_plot)\n",
    "\n",
    "d_plot = bokeh.plotting.figure(\n",
    "    width=600,\n",
    "    height=600,\n",
    "    x_axis_label = \"D Frequency\",\n",
    "    y_axis_label = \"GC Content\"\n",
    "    )\n",
    "    \n",
    "d_plot.circle(\n",
    "    x=d_list,\n",
    "    y=GC_content\n",
    "    )\n",
    "    \n",
    "d_plot.title.text = 'D'\n",
    "show(d_plot)\n",
    "\n",
    "e_plot = bokeh.plotting.figure(\n",
    "    width=600,\n",
    "    height=600,\n",
    "    x_axis_label = \"E Frequency\",\n",
    "    y_axis_label = \"GC Content\"\n",
    "    )\n",
    "    \n",
    "e_plot.circle(\n",
    "    x=e_list,\n",
    "    y=GC_content\n",
    "    )\n",
    "    \n",
    "e_plot.title.text = 'E'\n",
    "show(e_plot)\n",
    "\n",
    "f_plot = bokeh.plotting.figure(\n",
    "    width=600,\n",
    "    height=600,\n",
    "    x_axis_label = \"F Frequency\",\n",
    "    y_axis_label = \"GC Content\"\n",
    "    )\n",
    "    \n",
    "f_plot.circle(\n",
    "    x=f_list,\n",
    "    y=GC_content\n",
    "    )\n",
    "    \n",
    "f_plot.title.text = 'F'\n",
    "show(f_plot)\n",
    "\n",
    "g_plot = bokeh.plotting.figure(\n",
    "    width=600,\n",
    "    height=600,\n",
    "    x_axis_label = \"G Frequency\",\n",
    "    y_axis_label = \"GC Content\"\n",
    "    )\n",
    "    \n",
    "g_plot.circle(\n",
    "    x=g_list,\n",
    "    y=GC_content\n",
    "    )\n",
    "    \n",
    "g_plot.title.text = 'G'\n",
    "show(g_plot)\n",
    "\n",
    "h_plot = bokeh.plotting.figure(\n",
    "    width=600,\n",
    "    height=600,\n",
    "    x_axis_label = \"H Frequency\",\n",
    "    y_axis_label = \"GC Content\"\n",
    "    )\n",
    "    \n",
    "h_plot.circle(\n",
    "    x=h_list,\n",
    "    y=GC_content\n",
    "    )\n",
    "    \n",
    "h_plot.title.text = 'H'\n",
    "show(h_plot)\n",
    "\n",
    "i_plot = bokeh.plotting.figure(\n",
    "    width=600,\n",
    "    height=600,\n",
    "    x_axis_label = \"I Frequency\",\n",
    "    y_axis_label = \"GC Content\"\n",
    "    )\n",
    "    \n",
    "i_plot.circle(\n",
    "    x=i_list,\n",
    "    y=GC_content\n",
    "    )\n",
    "    \n",
    "i_plot.title.text = 'I'\n",
    "show(i_plot)\n",
    "\n",
    "k_plot = bokeh.plotting.figure(\n",
    "    width=600,\n",
    "    height=600,\n",
    "    x_axis_label = \"K Frequency\",\n",
    "    y_axis_label = \"GC Content\"\n",
    "    )\n",
    "    \n",
    "k_plot.circle(\n",
    "    x=k_list,\n",
    "    y=GC_content\n",
    "    )\n",
    "    \n",
    "k_plot.title.text = 'K'\n",
    "show(k_plot)\n",
    "\n",
    "l_plot = bokeh.plotting.figure(\n",
    "    width=600,\n",
    "    height=600,\n",
    "    x_axis_label = \"L Frequency\",\n",
    "    y_axis_label = \"GC Content\"\n",
    "    )\n",
    "    \n",
    "l_plot.circle(\n",
    "    x=l_list,\n",
    "    y=GC_content\n",
    "    )\n",
    "    \n",
    "l_plot.title.text = 'L'\n",
    "show(l_plot)\n",
    "\n",
    "n_plot = bokeh.plotting.figure(\n",
    "    width=600,\n",
    "    height=600,\n",
    "    x_axis_label = \"N Frequency\",\n",
    "    y_axis_label = \"GC Content\"\n",
    "    )\n",
    "    \n",
    "n_plot.circle(\n",
    "    x=n_list,\n",
    "    y=GC_content\n",
    "    )\n",
    "    \n",
    "n_plot.title.text = 'N'\n",
    "show(n_plot)\n",
    "\n",
    "p_plot = bokeh.plotting.figure(\n",
    "    width=600,\n",
    "    height=600,\n",
    "    x_axis_label = \"P Frequency\",\n",
    "    y_axis_label = \"GC Content\"\n",
    "    )\n",
    "    \n",
    "p_plot.circle(\n",
    "    x=p_list,\n",
    "    y=GC_content\n",
    "    )\n",
    "    \n",
    "p_plot.title.text = 'P'\n",
    "show(p_plot)\n",
    "\n",
    "q_plot = bokeh.plotting.figure(\n",
    "    width=600,\n",
    "    height=600,\n",
    "    x_axis_label = \"Q Frequency\",\n",
    "    y_axis_label = \"GC Content\"\n",
    "    )\n",
    "    \n",
    "q_plot.circle(\n",
    "    x=q_list,\n",
    "    y=GC_content\n",
    "    )\n",
    "    \n",
    "q_plot.title.text = 'Q'\n",
    "show(q_plot)\n",
    "\n",
    "r_plot = bokeh.plotting.figure(\n",
    "    width=600,\n",
    "    height=600,\n",
    "    x_axis_label = \"R Frequency\",\n",
    "    y_axis_label = \"GC Content\"\n",
    "    )\n",
    "    \n",
    "r_plot.circle(\n",
    "    x=r_list,\n",
    "    y=GC_content\n",
    "    )\n",
    "    \n",
    "r_plot.title.text = 'R'\n",
    "show(r_plot)\n",
    "\n",
    "s_plot = bokeh.plotting.figure(\n",
    "    width=600,\n",
    "    height=600,\n",
    "    x_axis_label = \"S Frequency\",\n",
    "    y_axis_label = \"GC Content\"\n",
    "    )\n",
    "    \n",
    "s_plot.circle(\n",
    "    x=s_list,\n",
    "    y=GC_content\n",
    "    )\n",
    "    \n",
    "s_plot.title.text = 'S'\n",
    "show(s_plot)\n",
    "\n",
    "t_plot = bokeh.plotting.figure(\n",
    "    width=600,\n",
    "    height=600,\n",
    "    x_axis_label = \"T Frequency\",\n",
    "    y_axis_label = \"GC Content\"\n",
    "    )\n",
    "    \n",
    "t_plot.circle(\n",
    "    x=t_list,\n",
    "    y=GC_content\n",
    "    )\n",
    "    \n",
    "t_plot.title.text = 'T'\n",
    "show(t_plot)\n",
    "\n",
    "v_plot = bokeh.plotting.figure(\n",
    "    width=600,\n",
    "    height=600,\n",
    "    x_axis_label = \"V Frequency\",\n",
    "    y_axis_label = \"GC Content\"\n",
    "    )\n",
    "    \n",
    "v_plot.circle(\n",
    "    x=v_list,\n",
    "    y=GC_content\n",
    "    )\n",
    "    \n",
    "v_plot.title.text = 'V'\n",
    "show(v_plot)\n",
    "\n",
    "w_plot = bokeh.plotting.figure(\n",
    "    width=600,\n",
    "    height=600,\n",
    "    x_axis_label = \"W Frequency\",\n",
    "    y_axis_label = \"GC Content\"\n",
    "    )\n",
    "    \n",
    "w_plot.circle(\n",
    "    x=w_list,\n",
    "    y=GC_content\n",
    "    )\n",
    "    \n",
    "w_plot.title.text = 'W'\n",
    "show(w_plot)\n",
    "\n",
    "y_plot = bokeh.plotting.figure(\n",
    "    width=600,\n",
    "    height=600,\n",
    "    x_axis_label = \"Y Frequency\",\n",
    "    y_axis_label = \"GC Content\"\n",
    "    )\n",
    "    \n",
    "y_plot.circle(\n",
    "    x=y_list,\n",
    "    y=GC_content\n",
    "    )\n",
    "    \n",
    "y_plot.title.text = 'Y'\n",
    "show(y_plot)\n",
    "   "
   ]
  },
  {
   "cell_type": "code",
   "execution_count": null,
   "id": "6242fe5a-d860-4b42-94f5-8929e404c5a1",
   "metadata": {},
   "outputs": [],
   "source": []
  }
 ],
 "metadata": {
  "kernelspec": {
   "display_name": "Python 3 (ipykernel)",
   "language": "python",
   "name": "python3"
  },
  "language_info": {
   "codemirror_mode": {
    "name": "ipython",
    "version": 3
   },
   "file_extension": ".py",
   "mimetype": "text/x-python",
   "name": "python",
   "nbconvert_exporter": "python",
   "pygments_lexer": "ipython3",
   "version": "3.9.7"
  }
 },
 "nbformat": 4,
 "nbformat_minor": 5
}
