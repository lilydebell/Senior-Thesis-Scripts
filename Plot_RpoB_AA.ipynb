{
 "cells": [
  {
   "cell_type": "code",
   "execution_count": 3,
   "id": "cd13ab95-e61c-4f8c-a88e-78ff9fad5b46",
   "metadata": {},
   "outputs": [
    {
     "data": {
      "text/html": [
       "<div class=\"bk-root\">\n",
       "        <a href=\"https://bokeh.org\" target=\"_blank\" class=\"bk-logo bk-logo-small bk-logo-notebook\"></a>\n",
       "        <span id=\"17173\">Loading BokehJS ...</span>\n",
       "    </div>\n"
      ]
     },
     "metadata": {},
     "output_type": "display_data"
    },
    {
     "data": {
      "application/javascript": [
       "(function(root) {\n",
       "  function now() {\n",
       "    return new Date();\n",
       "  }\n",
       "\n",
       "  const force = true;\n",
       "\n",
       "  if (typeof root._bokeh_onload_callbacks === \"undefined\" || force === true) {\n",
       "    root._bokeh_onload_callbacks = [];\n",
       "    root._bokeh_is_loading = undefined;\n",
       "  }\n",
       "\n",
       "const JS_MIME_TYPE = 'application/javascript';\n",
       "  const HTML_MIME_TYPE = 'text/html';\n",
       "  const EXEC_MIME_TYPE = 'application/vnd.bokehjs_exec.v0+json';\n",
       "  const CLASS_NAME = 'output_bokeh rendered_html';\n",
       "\n",
       "  /**\n",
       "   * Render data to the DOM node\n",
       "   */\n",
       "  function render(props, node) {\n",
       "    const script = document.createElement(\"script\");\n",
       "    node.appendChild(script);\n",
       "  }\n",
       "\n",
       "  /**\n",
       "   * Handle when an output is cleared or removed\n",
       "   */\n",
       "  function handleClearOutput(event, handle) {\n",
       "    const cell = handle.cell;\n",
       "\n",
       "    const id = cell.output_area._bokeh_element_id;\n",
       "    const server_id = cell.output_area._bokeh_server_id;\n",
       "    // Clean up Bokeh references\n",
       "    if (id != null && id in Bokeh.index) {\n",
       "      Bokeh.index[id].model.document.clear();\n",
       "      delete Bokeh.index[id];\n",
       "    }\n",
       "\n",
       "    if (server_id !== undefined) {\n",
       "      // Clean up Bokeh references\n",
       "      const cmd_clean = \"from bokeh.io.state import curstate; print(curstate().uuid_to_server['\" + server_id + \"'].get_sessions()[0].document.roots[0]._id)\";\n",
       "      cell.notebook.kernel.execute(cmd_clean, {\n",
       "        iopub: {\n",
       "          output: function(msg) {\n",
       "            const id = msg.content.text.trim();\n",
       "            if (id in Bokeh.index) {\n",
       "              Bokeh.index[id].model.document.clear();\n",
       "              delete Bokeh.index[id];\n",
       "            }\n",
       "          }\n",
       "        }\n",
       "      });\n",
       "      // Destroy server and session\n",
       "      const cmd_destroy = \"import bokeh.io.notebook as ion; ion.destroy_server('\" + server_id + \"')\";\n",
       "      cell.notebook.kernel.execute(cmd_destroy);\n",
       "    }\n",
       "  }\n",
       "\n",
       "  /**\n",
       "   * Handle when a new output is added\n",
       "   */\n",
       "  function handleAddOutput(event, handle) {\n",
       "    const output_area = handle.output_area;\n",
       "    const output = handle.output;\n",
       "\n",
       "    // limit handleAddOutput to display_data with EXEC_MIME_TYPE content only\n",
       "    if ((output.output_type != \"display_data\") || (!Object.prototype.hasOwnProperty.call(output.data, EXEC_MIME_TYPE))) {\n",
       "      return\n",
       "    }\n",
       "\n",
       "    const toinsert = output_area.element.find(\".\" + CLASS_NAME.split(' ')[0]);\n",
       "\n",
       "    if (output.metadata[EXEC_MIME_TYPE][\"id\"] !== undefined) {\n",
       "      toinsert[toinsert.length - 1].firstChild.textContent = output.data[JS_MIME_TYPE];\n",
       "      // store reference to embed id on output_area\n",
       "      output_area._bokeh_element_id = output.metadata[EXEC_MIME_TYPE][\"id\"];\n",
       "    }\n",
       "    if (output.metadata[EXEC_MIME_TYPE][\"server_id\"] !== undefined) {\n",
       "      const bk_div = document.createElement(\"div\");\n",
       "      bk_div.innerHTML = output.data[HTML_MIME_TYPE];\n",
       "      const script_attrs = bk_div.children[0].attributes;\n",
       "      for (let i = 0; i < script_attrs.length; i++) {\n",
       "        toinsert[toinsert.length - 1].firstChild.setAttribute(script_attrs[i].name, script_attrs[i].value);\n",
       "        toinsert[toinsert.length - 1].firstChild.textContent = bk_div.children[0].textContent\n",
       "      }\n",
       "      // store reference to server id on output_area\n",
       "      output_area._bokeh_server_id = output.metadata[EXEC_MIME_TYPE][\"server_id\"];\n",
       "    }\n",
       "  }\n",
       "\n",
       "  function register_renderer(events, OutputArea) {\n",
       "\n",
       "    function append_mime(data, metadata, element) {\n",
       "      // create a DOM node to render to\n",
       "      const toinsert = this.create_output_subarea(\n",
       "        metadata,\n",
       "        CLASS_NAME,\n",
       "        EXEC_MIME_TYPE\n",
       "      );\n",
       "      this.keyboard_manager.register_events(toinsert);\n",
       "      // Render to node\n",
       "      const props = {data: data, metadata: metadata[EXEC_MIME_TYPE]};\n",
       "      render(props, toinsert[toinsert.length - 1]);\n",
       "      element.append(toinsert);\n",
       "      return toinsert\n",
       "    }\n",
       "\n",
       "    /* Handle when an output is cleared or removed */\n",
       "    events.on('clear_output.CodeCell', handleClearOutput);\n",
       "    events.on('delete.Cell', handleClearOutput);\n",
       "\n",
       "    /* Handle when a new output is added */\n",
       "    events.on('output_added.OutputArea', handleAddOutput);\n",
       "\n",
       "    /**\n",
       "     * Register the mime type and append_mime function with output_area\n",
       "     */\n",
       "    OutputArea.prototype.register_mime_type(EXEC_MIME_TYPE, append_mime, {\n",
       "      /* Is output safe? */\n",
       "      safe: true,\n",
       "      /* Index of renderer in `output_area.display_order` */\n",
       "      index: 0\n",
       "    });\n",
       "  }\n",
       "\n",
       "  // register the mime type if in Jupyter Notebook environment and previously unregistered\n",
       "  if (root.Jupyter !== undefined) {\n",
       "    const events = require('base/js/events');\n",
       "    const OutputArea = require('notebook/js/outputarea').OutputArea;\n",
       "\n",
       "    if (OutputArea.prototype.mime_types().indexOf(EXEC_MIME_TYPE) == -1) {\n",
       "      register_renderer(events, OutputArea);\n",
       "    }\n",
       "  }\n",
       "  if (typeof (root._bokeh_timeout) === \"undefined\" || force === true) {\n",
       "    root._bokeh_timeout = Date.now() + 5000;\n",
       "    root._bokeh_failed_load = false;\n",
       "  }\n",
       "\n",
       "  const NB_LOAD_WARNING = {'data': {'text/html':\n",
       "     \"<div style='background-color: #fdd'>\\n\"+\n",
       "     \"<p>\\n\"+\n",
       "     \"BokehJS does not appear to have successfully loaded. If loading BokehJS from CDN, this \\n\"+\n",
       "     \"may be due to a slow or bad network connection. Possible fixes:\\n\"+\n",
       "     \"</p>\\n\"+\n",
       "     \"<ul>\\n\"+\n",
       "     \"<li>re-rerun `output_notebook()` to attempt to load from CDN again, or</li>\\n\"+\n",
       "     \"<li>use INLINE resources instead, as so:</li>\\n\"+\n",
       "     \"</ul>\\n\"+\n",
       "     \"<code>\\n\"+\n",
       "     \"from bokeh.resources import INLINE\\n\"+\n",
       "     \"output_notebook(resources=INLINE)\\n\"+\n",
       "     \"</code>\\n\"+\n",
       "     \"</div>\"}};\n",
       "\n",
       "  function display_loaded() {\n",
       "    const el = document.getElementById(\"17173\");\n",
       "    if (el != null) {\n",
       "      el.textContent = \"BokehJS is loading...\";\n",
       "    }\n",
       "    if (root.Bokeh !== undefined) {\n",
       "      if (el != null) {\n",
       "        el.textContent = \"BokehJS \" + root.Bokeh.version + \" successfully loaded.\";\n",
       "      }\n",
       "    } else if (Date.now() < root._bokeh_timeout) {\n",
       "      setTimeout(display_loaded, 100)\n",
       "    }\n",
       "  }\n",
       "\n",
       "  function run_callbacks() {\n",
       "    try {\n",
       "      root._bokeh_onload_callbacks.forEach(function(callback) {\n",
       "        if (callback != null)\n",
       "          callback();\n",
       "      });\n",
       "    } finally {\n",
       "      delete root._bokeh_onload_callbacks\n",
       "    }\n",
       "    console.debug(\"Bokeh: all callbacks have finished\");\n",
       "  }\n",
       "\n",
       "  function load_libs(css_urls, js_urls, callback) {\n",
       "    if (css_urls == null) css_urls = [];\n",
       "    if (js_urls == null) js_urls = [];\n",
       "\n",
       "    root._bokeh_onload_callbacks.push(callback);\n",
       "    if (root._bokeh_is_loading > 0) {\n",
       "      console.debug(\"Bokeh: BokehJS is being loaded, scheduling callback at\", now());\n",
       "      return null;\n",
       "    }\n",
       "    if (js_urls == null || js_urls.length === 0) {\n",
       "      run_callbacks();\n",
       "      return null;\n",
       "    }\n",
       "    console.debug(\"Bokeh: BokehJS not loaded, scheduling load and callback at\", now());\n",
       "    root._bokeh_is_loading = css_urls.length + js_urls.length;\n",
       "\n",
       "    function on_load() {\n",
       "      root._bokeh_is_loading--;\n",
       "      if (root._bokeh_is_loading === 0) {\n",
       "        console.debug(\"Bokeh: all BokehJS libraries/stylesheets loaded\");\n",
       "        run_callbacks()\n",
       "      }\n",
       "    }\n",
       "\n",
       "    function on_error(url) {\n",
       "      console.error(\"failed to load \" + url);\n",
       "    }\n",
       "\n",
       "    for (let i = 0; i < css_urls.length; i++) {\n",
       "      const url = css_urls[i];\n",
       "      const element = document.createElement(\"link\");\n",
       "      element.onload = on_load;\n",
       "      element.onerror = on_error.bind(null, url);\n",
       "      element.rel = \"stylesheet\";\n",
       "      element.type = \"text/css\";\n",
       "      element.href = url;\n",
       "      console.debug(\"Bokeh: injecting link tag for BokehJS stylesheet: \", url);\n",
       "      document.body.appendChild(element);\n",
       "    }\n",
       "\n",
       "    for (let i = 0; i < js_urls.length; i++) {\n",
       "      const url = js_urls[i];\n",
       "      const element = document.createElement('script');\n",
       "      element.onload = on_load;\n",
       "      element.onerror = on_error.bind(null, url);\n",
       "      element.async = false;\n",
       "      element.src = url;\n",
       "      console.debug(\"Bokeh: injecting script tag for BokehJS library: \", url);\n",
       "      document.head.appendChild(element);\n",
       "    }\n",
       "  };\n",
       "\n",
       "  function inject_raw_css(css) {\n",
       "    const element = document.createElement(\"style\");\n",
       "    element.appendChild(document.createTextNode(css));\n",
       "    document.body.appendChild(element);\n",
       "  }\n",
       "\n",
       "  const js_urls = [\"https://cdn.bokeh.org/bokeh/release/bokeh-2.4.3.min.js\", \"https://cdn.bokeh.org/bokeh/release/bokeh-gl-2.4.3.min.js\", \"https://cdn.bokeh.org/bokeh/release/bokeh-widgets-2.4.3.min.js\", \"https://cdn.bokeh.org/bokeh/release/bokeh-tables-2.4.3.min.js\", \"https://cdn.bokeh.org/bokeh/release/bokeh-mathjax-2.4.3.min.js\"];\n",
       "  const css_urls = [];\n",
       "\n",
       "  const inline_js = [    function(Bokeh) {\n",
       "      Bokeh.set_log_level(\"info\");\n",
       "    },\n",
       "function(Bokeh) {\n",
       "    }\n",
       "  ];\n",
       "\n",
       "  function run_inline_js() {\n",
       "    if (root.Bokeh !== undefined || force === true) {\n",
       "          for (let i = 0; i < inline_js.length; i++) {\n",
       "      inline_js[i].call(root, root.Bokeh);\n",
       "    }\n",
       "if (force === true) {\n",
       "        display_loaded();\n",
       "      }} else if (Date.now() < root._bokeh_timeout) {\n",
       "      setTimeout(run_inline_js, 100);\n",
       "    } else if (!root._bokeh_failed_load) {\n",
       "      console.log(\"Bokeh: BokehJS failed to load within specified timeout.\");\n",
       "      root._bokeh_failed_load = true;\n",
       "    } else if (force !== true) {\n",
       "      const cell = $(document.getElementById(\"17173\")).parents('.cell').data().cell;\n",
       "      cell.output_area.append_execute_result(NB_LOAD_WARNING)\n",
       "    }\n",
       "  }\n",
       "\n",
       "  if (root._bokeh_is_loading === 0) {\n",
       "    console.debug(\"Bokeh: BokehJS loaded, going straight to plotting\");\n",
       "    run_inline_js();\n",
       "  } else {\n",
       "    load_libs(css_urls, js_urls, function() {\n",
       "      console.debug(\"Bokeh: BokehJS plotting callback run at\", now());\n",
       "      run_inline_js();\n",
       "    });\n",
       "  }\n",
       "}(window));"
      ],
      "application/vnd.bokehjs_load.v0+json": "(function(root) {\n  function now() {\n    return new Date();\n  }\n\n  const force = true;\n\n  if (typeof root._bokeh_onload_callbacks === \"undefined\" || force === true) {\n    root._bokeh_onload_callbacks = [];\n    root._bokeh_is_loading = undefined;\n  }\n\n\n  if (typeof (root._bokeh_timeout) === \"undefined\" || force === true) {\n    root._bokeh_timeout = Date.now() + 5000;\n    root._bokeh_failed_load = false;\n  }\n\n  const NB_LOAD_WARNING = {'data': {'text/html':\n     \"<div style='background-color: #fdd'>\\n\"+\n     \"<p>\\n\"+\n     \"BokehJS does not appear to have successfully loaded. If loading BokehJS from CDN, this \\n\"+\n     \"may be due to a slow or bad network connection. Possible fixes:\\n\"+\n     \"</p>\\n\"+\n     \"<ul>\\n\"+\n     \"<li>re-rerun `output_notebook()` to attempt to load from CDN again, or</li>\\n\"+\n     \"<li>use INLINE resources instead, as so:</li>\\n\"+\n     \"</ul>\\n\"+\n     \"<code>\\n\"+\n     \"from bokeh.resources import INLINE\\n\"+\n     \"output_notebook(resources=INLINE)\\n\"+\n     \"</code>\\n\"+\n     \"</div>\"}};\n\n  function display_loaded() {\n    const el = document.getElementById(\"17173\");\n    if (el != null) {\n      el.textContent = \"BokehJS is loading...\";\n    }\n    if (root.Bokeh !== undefined) {\n      if (el != null) {\n        el.textContent = \"BokehJS \" + root.Bokeh.version + \" successfully loaded.\";\n      }\n    } else if (Date.now() < root._bokeh_timeout) {\n      setTimeout(display_loaded, 100)\n    }\n  }\n\n  function run_callbacks() {\n    try {\n      root._bokeh_onload_callbacks.forEach(function(callback) {\n        if (callback != null)\n          callback();\n      });\n    } finally {\n      delete root._bokeh_onload_callbacks\n    }\n    console.debug(\"Bokeh: all callbacks have finished\");\n  }\n\n  function load_libs(css_urls, js_urls, callback) {\n    if (css_urls == null) css_urls = [];\n    if (js_urls == null) js_urls = [];\n\n    root._bokeh_onload_callbacks.push(callback);\n    if (root._bokeh_is_loading > 0) {\n      console.debug(\"Bokeh: BokehJS is being loaded, scheduling callback at\", now());\n      return null;\n    }\n    if (js_urls == null || js_urls.length === 0) {\n      run_callbacks();\n      return null;\n    }\n    console.debug(\"Bokeh: BokehJS not loaded, scheduling load and callback at\", now());\n    root._bokeh_is_loading = css_urls.length + js_urls.length;\n\n    function on_load() {\n      root._bokeh_is_loading--;\n      if (root._bokeh_is_loading === 0) {\n        console.debug(\"Bokeh: all BokehJS libraries/stylesheets loaded\");\n        run_callbacks()\n      }\n    }\n\n    function on_error(url) {\n      console.error(\"failed to load \" + url);\n    }\n\n    for (let i = 0; i < css_urls.length; i++) {\n      const url = css_urls[i];\n      const element = document.createElement(\"link\");\n      element.onload = on_load;\n      element.onerror = on_error.bind(null, url);\n      element.rel = \"stylesheet\";\n      element.type = \"text/css\";\n      element.href = url;\n      console.debug(\"Bokeh: injecting link tag for BokehJS stylesheet: \", url);\n      document.body.appendChild(element);\n    }\n\n    for (let i = 0; i < js_urls.length; i++) {\n      const url = js_urls[i];\n      const element = document.createElement('script');\n      element.onload = on_load;\n      element.onerror = on_error.bind(null, url);\n      element.async = false;\n      element.src = url;\n      console.debug(\"Bokeh: injecting script tag for BokehJS library: \", url);\n      document.head.appendChild(element);\n    }\n  };\n\n  function inject_raw_css(css) {\n    const element = document.createElement(\"style\");\n    element.appendChild(document.createTextNode(css));\n    document.body.appendChild(element);\n  }\n\n  const js_urls = [\"https://cdn.bokeh.org/bokeh/release/bokeh-2.4.3.min.js\", \"https://cdn.bokeh.org/bokeh/release/bokeh-gl-2.4.3.min.js\", \"https://cdn.bokeh.org/bokeh/release/bokeh-widgets-2.4.3.min.js\", \"https://cdn.bokeh.org/bokeh/release/bokeh-tables-2.4.3.min.js\", \"https://cdn.bokeh.org/bokeh/release/bokeh-mathjax-2.4.3.min.js\"];\n  const css_urls = [];\n\n  const inline_js = [    function(Bokeh) {\n      Bokeh.set_log_level(\"info\");\n    },\nfunction(Bokeh) {\n    }\n  ];\n\n  function run_inline_js() {\n    if (root.Bokeh !== undefined || force === true) {\n          for (let i = 0; i < inline_js.length; i++) {\n      inline_js[i].call(root, root.Bokeh);\n    }\nif (force === true) {\n        display_loaded();\n      }} else if (Date.now() < root._bokeh_timeout) {\n      setTimeout(run_inline_js, 100);\n    } else if (!root._bokeh_failed_load) {\n      console.log(\"Bokeh: BokehJS failed to load within specified timeout.\");\n      root._bokeh_failed_load = true;\n    } else if (force !== true) {\n      const cell = $(document.getElementById(\"17173\")).parents('.cell').data().cell;\n      cell.output_area.append_execute_result(NB_LOAD_WARNING)\n    }\n  }\n\n  if (root._bokeh_is_loading === 0) {\n    console.debug(\"Bokeh: BokehJS loaded, going straight to plotting\");\n    run_inline_js();\n  } else {\n    load_libs(css_urls, js_urls, function() {\n      console.debug(\"Bokeh: BokehJS plotting callback run at\", now());\n      run_inline_js();\n    });\n  }\n}(window));"
     },
     "metadata": {},
     "output_type": "display_data"
    },
    {
     "name": "stdout",
     "output_type": "stream",
     "text": [
      "[1496.08, 1309.88, 1558.69, 1613.38, 1281.48, 1478.22, 1157.5, 1541.0, 1589.23, 1509.7, 1353.94, 1771.4, 1501.58, 1803.66, 1606.49, 1570.47, 1592.07, 1776.88, 1586.58, 1688.07, 1775.59, 1553.44, 1346.26, 412.617, 496.585, 1436.65, 1224.87, 1615.12, 1458.29, 1773.0, 1694.82, 1604.13, 1433.95, 1512.42, 1364.01, 1355.76, 1898.81, 1418.97, 1536.06, 1513.07, 1575.23, 1525.17, 1517.94, 1610.5, 1418.93, 1507.44, 3156.32, 1228.92, 1363.05, 1271.45, 1459.13, 1495.55, 1263.18, 1521.65, 1339.97, 1972.97, 513.363, 1423.16, 1481.87, 1620.45, 1409.33, 1185.18, 1480.93, 1802.69, 1308.63, 1809.18, 1588.73, 1741.75, 1371.28, 1568.86, 1315.75, 1232.84, 1572.6, 1495.53, 2188.23, 1341.39, 1545.61]\n"
     ]
    },
    {
     "data": {
      "text/html": [
       "\n",
       "  <div class=\"bk-root\" id=\"f397bbdc-ded4-4383-9a3a-97ace8adfe88\" data-root-id=\"17174\"></div>\n"
      ]
     },
     "metadata": {},
     "output_type": "display_data"
    },
    {
     "data": {
      "application/javascript": [
       "(function(root) {\n",
       "  function embed_document(root) {\n",
       "  const docs_json = {\"5c974ccf-ea18-42cf-a471-ba9271e8ed18\":{\"defs\":[],\"roots\":{\"references\":[{\"attributes\":{\"below\":[{\"id\":\"17183\"}],\"center\":[{\"id\":\"17186\"},{\"id\":\"17190\"}],\"left\":[{\"id\":\"17187\"}],\"renderers\":[{\"id\":\"17209\"}],\"title\":{\"id\":\"17211\"},\"toolbar\":{\"id\":\"17198\"},\"x_range\":{\"id\":\"17175\"},\"x_scale\":{\"id\":\"17179\"},\"y_range\":{\"id\":\"17177\"},\"y_scale\":{\"id\":\"17181\"}},\"id\":\"17174\",\"subtype\":\"Figure\",\"type\":\"Plot\"},{\"attributes\":{},\"id\":\"17725\",\"type\":\"AllLabels\"},{\"attributes\":{\"coordinates\":null,\"group\":null,\"text\":\"RpoB Length\"},\"id\":\"17211\",\"type\":\"Title\"},{\"attributes\":{\"axis\":{\"id\":\"17183\"},\"coordinates\":null,\"group\":null,\"ticker\":null},\"id\":\"17186\",\"type\":\"Grid\"},{\"attributes\":{\"coordinates\":null,\"data_source\":{\"id\":\"17205\"},\"glyph\":{\"id\":\"17206\"},\"group\":null,\"hover_glyph\":null,\"muted_glyph\":{\"id\":\"17208\"},\"nonselection_glyph\":{\"id\":\"17207\"},\"view\":{\"id\":\"17210\"}},\"id\":\"17209\",\"type\":\"GlyphRenderer\"},{\"attributes\":{},\"id\":\"17727\",\"type\":\"Selection\"},{\"attributes\":{\"source\":{\"id\":\"17205\"}},\"id\":\"17210\",\"type\":\"CDSView\"},{\"attributes\":{},\"id\":\"17181\",\"type\":\"LinearScale\"},{\"attributes\":{\"axis_label\":\"GC Content\",\"coordinates\":null,\"formatter\":{\"id\":\"17721\"},\"group\":null,\"major_label_policy\":{\"id\":\"17722\"},\"ticker\":{\"id\":\"17188\"}},\"id\":\"17187\",\"type\":\"LinearAxis\"},{\"attributes\":{\"fill_color\":{\"value\":\"#1f77b4\"},\"line_color\":{\"value\":\"#1f77b4\"},\"x\":{\"field\":\"x\"},\"y\":{\"field\":\"y\"}},\"id\":\"17206\",\"type\":\"Circle\"},{\"attributes\":{},\"id\":\"17724\",\"type\":\"BasicTickFormatter\"},{\"attributes\":{},\"id\":\"17177\",\"type\":\"DataRange1d\"},{\"attributes\":{},\"id\":\"17191\",\"type\":\"PanTool\"},{\"attributes\":{\"bottom_units\":\"screen\",\"coordinates\":null,\"fill_alpha\":0.5,\"fill_color\":\"lightgrey\",\"group\":null,\"left_units\":\"screen\",\"level\":\"overlay\",\"line_alpha\":1.0,\"line_color\":\"black\",\"line_dash\":[4,4],\"line_width\":2,\"right_units\":\"screen\",\"syncable\":false,\"top_units\":\"screen\"},\"id\":\"17197\",\"type\":\"BoxAnnotation\"},{\"attributes\":{},\"id\":\"17195\",\"type\":\"ResetTool\"},{\"attributes\":{},\"id\":\"17179\",\"type\":\"LinearScale\"},{\"attributes\":{},\"id\":\"17196\",\"type\":\"HelpTool\"},{\"attributes\":{},\"id\":\"17726\",\"type\":\"UnionRenderers\"},{\"attributes\":{},\"id\":\"17192\",\"type\":\"WheelZoomTool\"},{\"attributes\":{\"fill_alpha\":{\"value\":0.1},\"fill_color\":{\"value\":\"#1f77b4\"},\"hatch_alpha\":{\"value\":0.1},\"line_alpha\":{\"value\":0.1},\"line_color\":{\"value\":\"#1f77b4\"},\"x\":{\"field\":\"x\"},\"y\":{\"field\":\"y\"}},\"id\":\"17207\",\"type\":\"Circle\"},{\"attributes\":{},\"id\":\"17188\",\"type\":\"BasicTicker\"},{\"attributes\":{\"overlay\":{\"id\":\"17197\"}},\"id\":\"17193\",\"type\":\"BoxZoomTool\"},{\"attributes\":{\"tools\":[{\"id\":\"17191\"},{\"id\":\"17192\"},{\"id\":\"17193\"},{\"id\":\"17194\"},{\"id\":\"17195\"},{\"id\":\"17196\"}]},\"id\":\"17198\",\"type\":\"Toolbar\"},{\"attributes\":{},\"id\":\"17184\",\"type\":\"BasicTicker\"},{\"attributes\":{},\"id\":\"17721\",\"type\":\"BasicTickFormatter\"},{\"attributes\":{},\"id\":\"17194\",\"type\":\"SaveTool\"},{\"attributes\":{},\"id\":\"17175\",\"type\":\"DataRange1d\"},{\"attributes\":{\"axis\":{\"id\":\"17187\"},\"coordinates\":null,\"dimension\":1,\"group\":null,\"ticker\":null},\"id\":\"17190\",\"type\":\"Grid\"},{\"attributes\":{\"axis_label\":\"Length\",\"coordinates\":null,\"formatter\":{\"id\":\"17724\"},\"group\":null,\"major_label_policy\":{\"id\":\"17725\"},\"ticker\":{\"id\":\"17184\"}},\"id\":\"17183\",\"type\":\"LinearAxis\"},{\"attributes\":{\"fill_alpha\":{\"value\":0.2},\"fill_color\":{\"value\":\"#1f77b4\"},\"hatch_alpha\":{\"value\":0.2},\"line_alpha\":{\"value\":0.2},\"line_color\":{\"value\":\"#1f77b4\"},\"x\":{\"field\":\"x\"},\"y\":{\"field\":\"y\"}},\"id\":\"17208\",\"type\":\"Circle\"},{\"attributes\":{\"data\":{\"x\":[1239,1174,1271,1363,1149,1269,1227,1185,1369,1256,1161,1272,1253,1255,1264,1423,1260,1364,1253,1343,1253,1251,1142,609,604,1277,1184,1219,1163,1128,1413,1371,1178,1181,1188,1371,1194,1160,1233,1376,1176,1242,1104,1237,1116,1160,1343,1191,1113,1214,1222,1185,1202,1187,1179,1170,1179,1177,1168,1393,1198,1358,1098,1375,1176,1375,1343,1343,1184,1204,1198,1288,1194,1140,1120,1109,1342],\"y\":[0.2851670477800451,0.2702402661513399,0.432061685620977,0.3898724445572241,0.29458573520012254,0.6104893769690102,0.35044160109251976,0.26988138782758875,0.6826167962077495,0.4616378165944257,0.7189011157425981,0.7321885437632035,0.3393312429608442,0.4160072288010653,0.409548278484123,0.7471648802454562,0.653411396022395,0.2968308145349908,0.41307256750236687,0.5223887952113582,0.39022929006636004,0.35283906464335824,0.7136233373179821,0.6677882621956012,0.27633708893783704,0.4636155070752707,0.359293808020336,0.4258873394006253,0.6428471649689257,0.5512825664578923,0.5077429418821842,0.6660342703163326,0.35351896795175924,0.4475331625878192,0.6011982416335792,0.6663096444805614,0.43383706334642963,0.6001074107563085,0.2833592666222529,0.4243578946783289,0.5426800525833473,0.36257306571544373,0.30467776311034744,0.2874929757995978,0.4735989345501921,0.6701036532738713,0.504582461506877,0.5208619670185084,0.6199785834743322,0.3471458095066113,0.49686340673501883,0.3856621411083908,0.44466886499391073,0.5918431121075589,0.5789368104312939,0.6738960441220606,0.6549272184628114,0.6547269109380166,0.6779312262346798,0.5176625673713895,0.3788888283571569,0.6655573299550923,0.30799160429194383,0.2883630109992476,0.5627132556849695,0.28919402319036686,0.5121280191724322,0.5215669617511618,0.33777020500615523,0.3938264258377672,0.38538018924380346,0.6621672870523109,0.3908115201296295,0.5845034040310082,0.6809667419034046,0.5391792993985405,0.4769483062149186]},\"selected\":{\"id\":\"17727\"},\"selection_policy\":{\"id\":\"17726\"}},\"id\":\"17205\",\"type\":\"ColumnDataSource\"},{\"attributes\":{},\"id\":\"17722\",\"type\":\"AllLabels\"}],\"root_ids\":[\"17174\"]},\"title\":\"Bokeh Application\",\"version\":\"2.4.3\"}};\n",
       "  const render_items = [{\"docid\":\"5c974ccf-ea18-42cf-a471-ba9271e8ed18\",\"root_ids\":[\"17174\"],\"roots\":{\"17174\":\"f397bbdc-ded4-4383-9a3a-97ace8adfe88\"}}];\n",
       "  root.Bokeh.embed.embed_items_notebook(docs_json, render_items);\n",
       "  }\n",
       "  if (root.Bokeh !== undefined) {\n",
       "    embed_document(root);\n",
       "  } else {\n",
       "    let attempts = 0;\n",
       "    const timer = setInterval(function(root) {\n",
       "      if (root.Bokeh !== undefined) {\n",
       "        clearInterval(timer);\n",
       "        embed_document(root);\n",
       "      } else {\n",
       "        attempts++;\n",
       "        if (attempts > 100) {\n",
       "          clearInterval(timer);\n",
       "          console.log(\"Bokeh: ERROR: Unable to run BokehJS code because BokehJS library is missing\");\n",
       "        }\n",
       "      }\n",
       "    }, 10, root)\n",
       "  }\n",
       "})(window);"
      ],
      "application/vnd.bokehjs_exec.v0+json": ""
     },
     "metadata": {
      "application/vnd.bokehjs_exec.v0+json": {
       "id": "17174"
      }
     },
     "output_type": "display_data"
    },
    {
     "data": {
      "text/html": [
       "\n",
       "  <div class=\"bk-root\" id=\"d816b6d0-6b4f-4114-94c4-0ed098f92cb1\" data-root-id=\"17784\"></div>\n"
      ]
     },
     "metadata": {},
     "output_type": "display_data"
    },
    {
     "data": {
      "application/javascript": [
       "(function(root) {\n",
       "  function embed_document(root) {\n",
       "  const docs_json = {\"e38863f7-b6d4-47c3-8f82-4e7fc2ed0cc3\":{\"defs\":[],\"roots\":{\"references\":[{\"attributes\":{\"below\":[{\"id\":\"17793\"}],\"center\":[{\"id\":\"17796\"},{\"id\":\"17800\"}],\"left\":[{\"id\":\"17797\"}],\"renderers\":[{\"id\":\"17819\"}],\"title\":{\"id\":\"17821\"},\"toolbar\":{\"id\":\"17808\"},\"x_range\":{\"id\":\"17785\"},\"x_scale\":{\"id\":\"17789\"},\"y_range\":{\"id\":\"17787\"},\"y_scale\":{\"id\":\"17791\"}},\"id\":\"17784\",\"subtype\":\"Figure\",\"type\":\"Plot\"},{\"attributes\":{},\"id\":\"17802\",\"type\":\"WheelZoomTool\"},{\"attributes\":{\"fill_alpha\":{\"value\":0.1},\"fill_color\":{\"value\":\"#1f77b4\"},\"hatch_alpha\":{\"value\":0.1},\"line_alpha\":{\"value\":0.1},\"line_color\":{\"value\":\"#1f77b4\"},\"x\":{\"field\":\"x\"},\"y\":{\"field\":\"y\"}},\"id\":\"17817\",\"type\":\"Circle\"},{\"attributes\":{\"axis\":{\"id\":\"17793\"},\"coordinates\":null,\"group\":null,\"ticker\":null},\"id\":\"17796\",\"type\":\"Grid\"},{\"attributes\":{\"axis_label\":\"Length (Amino Acids)\",\"coordinates\":null,\"formatter\":{\"id\":\"18342\"},\"group\":null,\"major_label_policy\":{\"id\":\"18343\"},\"ticker\":{\"id\":\"17798\"}},\"id\":\"17797\",\"type\":\"LinearAxis\"},{\"attributes\":{\"fill_alpha\":{\"value\":0.2},\"fill_color\":{\"value\":\"#1f77b4\"},\"hatch_alpha\":{\"value\":0.2},\"line_alpha\":{\"value\":0.2},\"line_color\":{\"value\":\"#1f77b4\"},\"x\":{\"field\":\"x\"},\"y\":{\"field\":\"y\"}},\"id\":\"17818\",\"type\":\"Circle\"},{\"attributes\":{\"axis\":{\"id\":\"17797\"},\"coordinates\":null,\"dimension\":1,\"group\":null,\"ticker\":null},\"id\":\"17800\",\"type\":\"Grid\"},{\"attributes\":{},\"id\":\"18346\",\"type\":\"AllLabels\"},{\"attributes\":{},\"id\":\"17794\",\"type\":\"BasicTicker\"},{\"attributes\":{},\"id\":\"18345\",\"type\":\"BasicTickFormatter\"},{\"attributes\":{\"tools\":[{\"id\":\"17801\"},{\"id\":\"17802\"},{\"id\":\"17803\"},{\"id\":\"17804\"},{\"id\":\"17805\"},{\"id\":\"17806\"}]},\"id\":\"17808\",\"type\":\"Toolbar\"},{\"attributes\":{\"data\":{\"x\":[1496.08,1309.88,1558.69,1613.38,1281.48,1478.22,1157.5,1541.0,1589.23,1509.7,1353.94,1771.4,1501.58,1803.66,1606.49,1570.47,1592.07,1776.88,1586.58,1688.07,1775.59,1553.44,1346.26,412.617,496.585,1436.65,1224.87,1615.12,1458.29,1773.0,1694.82,1604.13,1433.95,1512.42,1364.01,1355.76,1898.81,1418.97,1536.06,1513.07,1575.23,1525.17,1517.94,1610.5,1418.93,1507.44,3156.32,1228.92,1363.05,1271.45,1459.13,1495.55,1263.18,1521.65,1339.97,1972.97,513.363,1423.16,1481.87,1620.45,1409.33,1185.18,1480.93,1802.69,1308.63,1809.18,1588.73,1741.75,1371.28,1568.86,1315.75,1232.84,1572.6,1495.53,2188.23,1341.39,1545.61],\"y\":[1239,1174,1271,1363,1149,1269,1227,1185,1369,1256,1161,1272,1253,1255,1264,1423,1260,1364,1253,1343,1253,1251,1142,609,604,1277,1184,1219,1163,1128,1413,1371,1178,1181,1188,1371,1194,1160,1233,1376,1176,1242,1104,1237,1116,1160,1343,1191,1113,1214,1222,1185,1202,1187,1179,1170,1179,1177,1168,1393,1198,1358,1098,1375,1176,1375,1343,1343,1184,1204,1198,1288,1194,1140,1120,1109,1342]},\"selected\":{\"id\":\"18348\"},\"selection_policy\":{\"id\":\"18347\"}},\"id\":\"17815\",\"type\":\"ColumnDataSource\"},{\"attributes\":{\"coordinates\":null,\"group\":null,\"text\":\"RpoB Length\"},\"id\":\"17821\",\"type\":\"Title\"},{\"attributes\":{},\"id\":\"17787\",\"type\":\"DataRange1d\"},{\"attributes\":{},\"id\":\"17789\",\"type\":\"LinearScale\"},{\"attributes\":{\"coordinates\":null,\"data_source\":{\"id\":\"17815\"},\"glyph\":{\"id\":\"17816\"},\"group\":null,\"hover_glyph\":null,\"muted_glyph\":{\"id\":\"17818\"},\"nonselection_glyph\":{\"id\":\"17817\"},\"view\":{\"id\":\"17820\"}},\"id\":\"17819\",\"type\":\"GlyphRenderer\"},{\"attributes\":{},\"id\":\"17785\",\"type\":\"DataRange1d\"},{\"attributes\":{},\"id\":\"18342\",\"type\":\"BasicTickFormatter\"},{\"attributes\":{},\"id\":\"18348\",\"type\":\"Selection\"},{\"attributes\":{\"axis_label\":\"Cavity Volume (Cubic Angstroms)\",\"coordinates\":null,\"formatter\":{\"id\":\"18345\"},\"group\":null,\"major_label_policy\":{\"id\":\"18346\"},\"ticker\":{\"id\":\"17794\"}},\"id\":\"17793\",\"type\":\"LinearAxis\"},{\"attributes\":{},\"id\":\"17791\",\"type\":\"LinearScale\"},{\"attributes\":{},\"id\":\"18347\",\"type\":\"UnionRenderers\"},{\"attributes\":{\"source\":{\"id\":\"17815\"}},\"id\":\"17820\",\"type\":\"CDSView\"},{\"attributes\":{\"bottom_units\":\"screen\",\"coordinates\":null,\"fill_alpha\":0.5,\"fill_color\":\"lightgrey\",\"group\":null,\"left_units\":\"screen\",\"level\":\"overlay\",\"line_alpha\":1.0,\"line_color\":\"black\",\"line_dash\":[4,4],\"line_width\":2,\"right_units\":\"screen\",\"syncable\":false,\"top_units\":\"screen\"},\"id\":\"17807\",\"type\":\"BoxAnnotation\"},{\"attributes\":{},\"id\":\"18343\",\"type\":\"AllLabels\"},{\"attributes\":{\"fill_color\":{\"value\":\"#1f77b4\"},\"line_color\":{\"value\":\"#1f77b4\"},\"x\":{\"field\":\"x\"},\"y\":{\"field\":\"y\"}},\"id\":\"17816\",\"type\":\"Circle\"},{\"attributes\":{},\"id\":\"17805\",\"type\":\"ResetTool\"},{\"attributes\":{},\"id\":\"17804\",\"type\":\"SaveTool\"},{\"attributes\":{\"overlay\":{\"id\":\"17807\"}},\"id\":\"17803\",\"type\":\"BoxZoomTool\"},{\"attributes\":{},\"id\":\"17801\",\"type\":\"PanTool\"},{\"attributes\":{},\"id\":\"17806\",\"type\":\"HelpTool\"},{\"attributes\":{},\"id\":\"17798\",\"type\":\"BasicTicker\"}],\"root_ids\":[\"17784\"]},\"title\":\"Bokeh Application\",\"version\":\"2.4.3\"}};\n",
       "  const render_items = [{\"docid\":\"e38863f7-b6d4-47c3-8f82-4e7fc2ed0cc3\",\"root_ids\":[\"17784\"],\"roots\":{\"17784\":\"d816b6d0-6b4f-4114-94c4-0ed098f92cb1\"}}];\n",
       "  root.Bokeh.embed.embed_items_notebook(docs_json, render_items);\n",
       "  }\n",
       "  if (root.Bokeh !== undefined) {\n",
       "    embed_document(root);\n",
       "  } else {\n",
       "    let attempts = 0;\n",
       "    const timer = setInterval(function(root) {\n",
       "      if (root.Bokeh !== undefined) {\n",
       "        clearInterval(timer);\n",
       "        embed_document(root);\n",
       "      } else {\n",
       "        attempts++;\n",
       "        if (attempts > 100) {\n",
       "          clearInterval(timer);\n",
       "          console.log(\"Bokeh: ERROR: Unable to run BokehJS code because BokehJS library is missing\");\n",
       "        }\n",
       "      }\n",
       "    }, 10, root)\n",
       "  }\n",
       "})(window);"
      ],
      "application/vnd.bokehjs_exec.v0+json": ""
     },
     "metadata": {
      "application/vnd.bokehjs_exec.v0+json": {
       "id": "17784"
      }
     },
     "output_type": "display_data"
    },
    {
     "data": {
      "text/html": [
       "\n",
       "  <div class=\"bk-root\" id=\"f76b56d4-5553-4a73-8a21-a659665e0b04\" data-root-id=\"18405\"></div>\n"
      ]
     },
     "metadata": {},
     "output_type": "display_data"
    },
    {
     "data": {
      "application/javascript": [
       "(function(root) {\n",
       "  function embed_document(root) {\n",
       "  const docs_json = {\"ff20acfe-5f91-4742-ba7d-70079fe61023\":{\"defs\":[],\"roots\":{\"references\":[{\"attributes\":{\"below\":[{\"id\":\"18414\"}],\"center\":[{\"id\":\"18417\"},{\"id\":\"18421\"}],\"left\":[{\"id\":\"18418\"}],\"renderers\":[{\"id\":\"18440\"}],\"title\":{\"id\":\"18442\"},\"toolbar\":{\"id\":\"18429\"},\"x_range\":{\"id\":\"18406\"},\"x_scale\":{\"id\":\"18410\"},\"y_range\":{\"id\":\"18408\"},\"y_scale\":{\"id\":\"18412\"}},\"id\":\"18405\",\"subtype\":\"Figure\",\"type\":\"Plot\"},{\"attributes\":{\"axis\":{\"id\":\"18418\"},\"coordinates\":null,\"dimension\":1,\"group\":null,\"ticker\":null},\"id\":\"18421\",\"type\":\"Grid\"},{\"attributes\":{},\"id\":\"18415\",\"type\":\"BasicTicker\"},{\"attributes\":{\"source\":{\"id\":\"18436\"}},\"id\":\"18441\",\"type\":\"CDSView\"},{\"attributes\":{},\"id\":\"18412\",\"type\":\"LinearScale\"},{\"attributes\":{},\"id\":\"18423\",\"type\":\"WheelZoomTool\"},{\"attributes\":{\"coordinates\":null,\"group\":null,\"text\":\"RpoB Cavity Volume\"},\"id\":\"18442\",\"type\":\"Title\"},{\"attributes\":{\"axis\":{\"id\":\"18414\"},\"coordinates\":null,\"group\":null,\"ticker\":null},\"id\":\"18417\",\"type\":\"Grid\"},{\"attributes\":{},\"id\":\"18979\",\"type\":\"UnionRenderers\"},{\"attributes\":{},\"id\":\"18410\",\"type\":\"LinearScale\"},{\"attributes\":{},\"id\":\"18408\",\"type\":\"DataRange1d\"},{\"attributes\":{},\"id\":\"18980\",\"type\":\"Selection\"},{\"attributes\":{\"axis_label\":\"Cavity Volume (Cubic Angstroms)\",\"coordinates\":null,\"formatter\":{\"id\":\"18977\"},\"group\":null,\"major_label_policy\":{\"id\":\"18978\"},\"ticker\":{\"id\":\"18415\"}},\"id\":\"18414\",\"type\":\"LinearAxis\"},{\"attributes\":{\"fill_color\":{\"value\":\"#1f77b4\"},\"line_color\":{\"value\":\"#1f77b4\"},\"x\":{\"field\":\"x\"},\"y\":{\"field\":\"y\"}},\"id\":\"18437\",\"type\":\"Circle\"},{\"attributes\":{\"fill_alpha\":{\"value\":0.2},\"fill_color\":{\"value\":\"#1f77b4\"},\"hatch_alpha\":{\"value\":0.2},\"line_alpha\":{\"value\":0.2},\"line_color\":{\"value\":\"#1f77b4\"},\"x\":{\"field\":\"x\"},\"y\":{\"field\":\"y\"}},\"id\":\"18439\",\"type\":\"Circle\"},{\"attributes\":{\"fill_alpha\":{\"value\":0.1},\"fill_color\":{\"value\":\"#1f77b4\"},\"hatch_alpha\":{\"value\":0.1},\"line_alpha\":{\"value\":0.1},\"line_color\":{\"value\":\"#1f77b4\"},\"x\":{\"field\":\"x\"},\"y\":{\"field\":\"y\"}},\"id\":\"18438\",\"type\":\"Circle\"},{\"attributes\":{\"bottom_units\":\"screen\",\"coordinates\":null,\"fill_alpha\":0.5,\"fill_color\":\"lightgrey\",\"group\":null,\"left_units\":\"screen\",\"level\":\"overlay\",\"line_alpha\":1.0,\"line_color\":\"black\",\"line_dash\":[4,4],\"line_width\":2,\"right_units\":\"screen\",\"syncable\":false,\"top_units\":\"screen\"},\"id\":\"18428\",\"type\":\"BoxAnnotation\"},{\"attributes\":{},\"id\":\"18974\",\"type\":\"BasicTickFormatter\"},{\"attributes\":{},\"id\":\"18426\",\"type\":\"ResetTool\"},{\"attributes\":{},\"id\":\"18425\",\"type\":\"SaveTool\"},{\"attributes\":{\"overlay\":{\"id\":\"18428\"}},\"id\":\"18424\",\"type\":\"BoxZoomTool\"},{\"attributes\":{},\"id\":\"18975\",\"type\":\"AllLabels\"},{\"attributes\":{},\"id\":\"18422\",\"type\":\"PanTool\"},{\"attributes\":{\"data\":{\"x\":[1496.08,1309.88,1558.69,1613.38,1281.48,1478.22,1157.5,1541.0,1589.23,1509.7,1353.94,1771.4,1501.58,1803.66,1606.49,1570.47,1592.07,1776.88,1586.58,1688.07,1775.59,1553.44,1346.26,412.617,496.585,1436.65,1224.87,1615.12,1458.29,1773.0,1694.82,1604.13,1433.95,1512.42,1364.01,1355.76,1898.81,1418.97,1536.06,1513.07,1575.23,1525.17,1517.94,1610.5,1418.93,1507.44,3156.32,1228.92,1363.05,1271.45,1459.13,1495.55,1263.18,1521.65,1339.97,1972.97,513.363,1423.16,1481.87,1620.45,1409.33,1185.18,1480.93,1802.69,1308.63,1809.18,1588.73,1741.75,1371.28,1568.86,1315.75,1232.84,1572.6,1495.53,2188.23,1341.39,1545.61],\"y\":[0.2851670477800451,0.2702402661513399,0.432061685620977,0.3898724445572241,0.29458573520012254,0.6104893769690102,0.35044160109251976,0.26988138782758875,0.6826167962077495,0.4616378165944257,0.7189011157425981,0.7321885437632035,0.3393312429608442,0.4160072288010653,0.409548278484123,0.7471648802454562,0.653411396022395,0.2968308145349908,0.41307256750236687,0.5223887952113582,0.39022929006636004,0.35283906464335824,0.7136233373179821,0.6677882621956012,0.27633708893783704,0.4636155070752707,0.359293808020336,0.4258873394006253,0.6428471649689257,0.5512825664578923,0.5077429418821842,0.6660342703163326,0.35351896795175924,0.4475331625878192,0.6011982416335792,0.6663096444805614,0.43383706334642963,0.6001074107563085,0.2833592666222529,0.4243578946783289,0.5426800525833473,0.36257306571544373,0.30467776311034744,0.2874929757995978,0.4735989345501921,0.6701036532738713,0.504582461506877,0.5208619670185084,0.6199785834743322,0.3471458095066113,0.49686340673501883,0.3856621411083908,0.44466886499391073,0.5918431121075589,0.5789368104312939,0.6738960441220606,0.6549272184628114,0.6547269109380166,0.6779312262346798,0.5176625673713895,0.3788888283571569,0.6655573299550923,0.30799160429194383,0.2883630109992476,0.5627132556849695,0.28919402319036686,0.5121280191724322,0.5215669617511618,0.33777020500615523,0.3938264258377672,0.38538018924380346,0.6621672870523109,0.3908115201296295,0.5845034040310082,0.6809667419034046,0.5391792993985405,0.4769483062149186]},\"selected\":{\"id\":\"18980\"},\"selection_policy\":{\"id\":\"18979\"}},\"id\":\"18436\",\"type\":\"ColumnDataSource\"},{\"attributes\":{},\"id\":\"18427\",\"type\":\"HelpTool\"},{\"attributes\":{},\"id\":\"18406\",\"type\":\"DataRange1d\"},{\"attributes\":{},\"id\":\"18977\",\"type\":\"BasicTickFormatter\"},{\"attributes\":{\"coordinates\":null,\"data_source\":{\"id\":\"18436\"},\"glyph\":{\"id\":\"18437\"},\"group\":null,\"hover_glyph\":null,\"muted_glyph\":{\"id\":\"18439\"},\"nonselection_glyph\":{\"id\":\"18438\"},\"view\":{\"id\":\"18441\"}},\"id\":\"18440\",\"type\":\"GlyphRenderer\"},{\"attributes\":{},\"id\":\"18419\",\"type\":\"BasicTicker\"},{\"attributes\":{},\"id\":\"18978\",\"type\":\"AllLabels\"},{\"attributes\":{\"tools\":[{\"id\":\"18422\"},{\"id\":\"18423\"},{\"id\":\"18424\"},{\"id\":\"18425\"},{\"id\":\"18426\"},{\"id\":\"18427\"}]},\"id\":\"18429\",\"type\":\"Toolbar\"},{\"attributes\":{\"axis_label\":\"GC Content\",\"coordinates\":null,\"formatter\":{\"id\":\"18974\"},\"group\":null,\"major_label_policy\":{\"id\":\"18975\"},\"ticker\":{\"id\":\"18419\"}},\"id\":\"18418\",\"type\":\"LinearAxis\"}],\"root_ids\":[\"18405\"]},\"title\":\"Bokeh Application\",\"version\":\"2.4.3\"}};\n",
       "  const render_items = [{\"docid\":\"ff20acfe-5f91-4742-ba7d-70079fe61023\",\"root_ids\":[\"18405\"],\"roots\":{\"18405\":\"f76b56d4-5553-4a73-8a21-a659665e0b04\"}}];\n",
       "  root.Bokeh.embed.embed_items_notebook(docs_json, render_items);\n",
       "  }\n",
       "  if (root.Bokeh !== undefined) {\n",
       "    embed_document(root);\n",
       "  } else {\n",
       "    let attempts = 0;\n",
       "    const timer = setInterval(function(root) {\n",
       "      if (root.Bokeh !== undefined) {\n",
       "        clearInterval(timer);\n",
       "        embed_document(root);\n",
       "      } else {\n",
       "        attempts++;\n",
       "        if (attempts > 100) {\n",
       "          clearInterval(timer);\n",
       "          console.log(\"Bokeh: ERROR: Unable to run BokehJS code because BokehJS library is missing\");\n",
       "        }\n",
       "      }\n",
       "    }, 10, root)\n",
       "  }\n",
       "})(window);"
      ],
      "application/vnd.bokehjs_exec.v0+json": ""
     },
     "metadata": {
      "application/vnd.bokehjs_exec.v0+json": {
       "id": "18405"
      }
     },
     "output_type": "display_data"
    },
    {
     "data": {
      "text/html": [
       "\n",
       "  <div class=\"bk-root\" id=\"92aa79c8-61f0-46bd-a449-894b7ab9d036\" data-root-id=\"19037\"></div>\n"
      ]
     },
     "metadata": {},
     "output_type": "display_data"
    },
    {
     "data": {
      "application/javascript": [
       "(function(root) {\n",
       "  function embed_document(root) {\n",
       "  const docs_json = {\"e434e06f-57c7-4919-852f-13f69b09bfb5\":{\"defs\":[],\"roots\":{\"references\":[{\"attributes\":{\"below\":[{\"id\":\"19046\"}],\"center\":[{\"id\":\"19049\"},{\"id\":\"19053\"}],\"left\":[{\"id\":\"19050\"}],\"renderers\":[{\"id\":\"19072\"}],\"title\":{\"id\":\"19074\"},\"toolbar\":{\"id\":\"19061\"},\"x_range\":{\"id\":\"19038\"},\"x_scale\":{\"id\":\"19042\"},\"y_range\":{\"id\":\"19040\"},\"y_scale\":{\"id\":\"19044\"}},\"id\":\"19037\",\"subtype\":\"Figure\",\"type\":\"Plot\"},{\"attributes\":{\"coordinates\":null,\"group\":null,\"text\":\"M\"},\"id\":\"19074\",\"type\":\"Title\"},{\"attributes\":{\"fill_alpha\":{\"value\":0.1},\"fill_color\":{\"value\":\"#1f77b4\"},\"hatch_alpha\":{\"value\":0.1},\"line_alpha\":{\"value\":0.1},\"line_color\":{\"value\":\"#1f77b4\"},\"x\":{\"field\":\"x\"},\"y\":{\"field\":\"y\"}},\"id\":\"19070\",\"type\":\"Circle\"},{\"attributes\":{\"source\":{\"id\":\"19068\"}},\"id\":\"19073\",\"type\":\"CDSView\"},{\"attributes\":{\"axis_label\":\"M Frequency\",\"coordinates\":null,\"formatter\":{\"id\":\"19620\"},\"group\":null,\"major_label_policy\":{\"id\":\"19621\"},\"ticker\":{\"id\":\"19047\"}},\"id\":\"19046\",\"type\":\"LinearAxis\"},{\"attributes\":{\"fill_alpha\":{\"value\":0.2},\"fill_color\":{\"value\":\"#1f77b4\"},\"hatch_alpha\":{\"value\":0.2},\"line_alpha\":{\"value\":0.2},\"line_color\":{\"value\":\"#1f77b4\"},\"x\":{\"field\":\"x\"},\"y\":{\"field\":\"y\"}},\"id\":\"19071\",\"type\":\"Circle\"},{\"attributes\":{},\"id\":\"19617\",\"type\":\"BasicTickFormatter\"},{\"attributes\":{\"tools\":[{\"id\":\"19054\"},{\"id\":\"19055\"},{\"id\":\"19056\"},{\"id\":\"19057\"},{\"id\":\"19058\"},{\"id\":\"19059\"}]},\"id\":\"19061\",\"type\":\"Toolbar\"},{\"attributes\":{},\"id\":\"19044\",\"type\":\"LinearScale\"},{\"attributes\":{},\"id\":\"19040\",\"type\":\"DataRange1d\"},{\"attributes\":{},\"id\":\"19618\",\"type\":\"AllLabels\"},{\"attributes\":{},\"id\":\"19042\",\"type\":\"LinearScale\"},{\"attributes\":{\"axis\":{\"id\":\"19046\"},\"coordinates\":null,\"group\":null,\"ticker\":null},\"id\":\"19049\",\"type\":\"Grid\"},{\"attributes\":{\"axis\":{\"id\":\"19050\"},\"coordinates\":null,\"dimension\":1,\"group\":null,\"ticker\":null},\"id\":\"19053\",\"type\":\"Grid\"},{\"attributes\":{},\"id\":\"19620\",\"type\":\"BasicTickFormatter\"},{\"attributes\":{},\"id\":\"19047\",\"type\":\"BasicTicker\"},{\"attributes\":{\"axis_label\":\"GC Content\",\"coordinates\":null,\"formatter\":{\"id\":\"19617\"},\"group\":null,\"major_label_policy\":{\"id\":\"19618\"},\"ticker\":{\"id\":\"19051\"}},\"id\":\"19050\",\"type\":\"LinearAxis\"},{\"attributes\":{\"data\":{\"x\":[0.020984665052461663,0.024701873935264053,0.020456333595594022,0.024944974321349962,0.02175805047867711,0.019700551615445233,0.027709861450692746,0.027848101265822784,0.02702702702702703,0.022292993630573247,0.02756244616709733,0.02830188679245283,0.0223463687150838,0.030278884462151396,0.027689873417721517,0.019676739283204497,0.01904761904761905,0.020527859237536656,0.025538707102952914,0.02680565897244974,0.026336791699920193,0.02158273381294964,0.021891418563922942,0.03776683087027915,0.03145695364238411,0.01957713390759593,0.028716216216216218,0.026251025430680888,0.021496130696474634,0.0274822695035461,0.019815994338287332,0.029175784099197667,0.02801358234295416,0.027095681625740897,0.025252525252525252,0.029175784099197667,0.025963149078726967,0.02586206896551724,0.017842660178426603,0.020348837209302327,0.027210884353741496,0.020933977455716585,0.017210144927536232,0.021018593371059015,0.024193548387096774,0.028448275862068967,0.027550260610573342,0.02434928631402183,0.020664869721473494,0.027182866556836903,0.018821603927986905,0.030379746835443037,0.030782029950083195,0.02611625947767481,0.026293469041560644,0.026495726495726495,0.026293469041560644,0.026338147833474938,0.0273972602739726,0.024407753050969132,0.027545909849749584,0.026509572901325478,0.022768670309653915,0.01890909090909091,0.021258503401360544,0.01890909090909091,0.027550260610573342,0.02680565897244974,0.02956081081081081,0.029069767441860465,0.027545909849749584,0.023291925465838508,0.02763819095477387,0.018421052631578946,0.019642857142857142,0.02164111812443643,0.02459016393442623],\"y\":[0.2851670477800451,0.2702402661513399,0.432061685620977,0.3898724445572241,0.29458573520012254,0.6104893769690102,0.35044160109251976,0.26988138782758875,0.6826167962077495,0.4616378165944257,0.7189011157425981,0.7321885437632035,0.3393312429608442,0.4160072288010653,0.409548278484123,0.7471648802454562,0.653411396022395,0.2968308145349908,0.41307256750236687,0.5223887952113582,0.39022929006636004,0.35283906464335824,0.7136233373179821,0.6677882621956012,0.27633708893783704,0.4636155070752707,0.359293808020336,0.4258873394006253,0.6428471649689257,0.5512825664578923,0.5077429418821842,0.6660342703163326,0.35351896795175924,0.4475331625878192,0.6011982416335792,0.6663096444805614,0.43383706334642963,0.6001074107563085,0.2833592666222529,0.4243578946783289,0.5426800525833473,0.36257306571544373,0.30467776311034744,0.2874929757995978,0.4735989345501921,0.6701036532738713,0.504582461506877,0.5208619670185084,0.6199785834743322,0.3471458095066113,0.49686340673501883,0.3856621411083908,0.44466886499391073,0.5918431121075589,0.5789368104312939,0.6738960441220606,0.6549272184628114,0.6547269109380166,0.6779312262346798,0.5176625673713895,0.3788888283571569,0.6655573299550923,0.30799160429194383,0.2883630109992476,0.5627132556849695,0.28919402319036686,0.5121280191724322,0.5215669617511618,0.33777020500615523,0.3938264258377672,0.38538018924380346,0.6621672870523109,0.3908115201296295,0.5845034040310082,0.6809667419034046,0.5391792993985405,0.4769483062149186]},\"selected\":{\"id\":\"19623\"},\"selection_policy\":{\"id\":\"19622\"}},\"id\":\"19068\",\"type\":\"ColumnDataSource\"},{\"attributes\":{},\"id\":\"19621\",\"type\":\"AllLabels\"},{\"attributes\":{},\"id\":\"19055\",\"type\":\"WheelZoomTool\"},{\"attributes\":{},\"id\":\"19051\",\"type\":\"BasicTicker\"},{\"attributes\":{},\"id\":\"19038\",\"type\":\"DataRange1d\"},{\"attributes\":{},\"id\":\"19059\",\"type\":\"HelpTool\"},{\"attributes\":{},\"id\":\"19054\",\"type\":\"PanTool\"},{\"attributes\":{\"coordinates\":null,\"data_source\":{\"id\":\"19068\"},\"glyph\":{\"id\":\"19069\"},\"group\":null,\"hover_glyph\":null,\"muted_glyph\":{\"id\":\"19071\"},\"nonselection_glyph\":{\"id\":\"19070\"},\"view\":{\"id\":\"19073\"}},\"id\":\"19072\",\"type\":\"GlyphRenderer\"},{\"attributes\":{\"overlay\":{\"id\":\"19060\"}},\"id\":\"19056\",\"type\":\"BoxZoomTool\"},{\"attributes\":{\"fill_color\":{\"value\":\"#1f77b4\"},\"line_color\":{\"value\":\"#1f77b4\"},\"x\":{\"field\":\"x\"},\"y\":{\"field\":\"y\"}},\"id\":\"19069\",\"type\":\"Circle\"},{\"attributes\":{},\"id\":\"19057\",\"type\":\"SaveTool\"},{\"attributes\":{},\"id\":\"19058\",\"type\":\"ResetTool\"},{\"attributes\":{},\"id\":\"19622\",\"type\":\"UnionRenderers\"},{\"attributes\":{\"bottom_units\":\"screen\",\"coordinates\":null,\"fill_alpha\":0.5,\"fill_color\":\"lightgrey\",\"group\":null,\"left_units\":\"screen\",\"level\":\"overlay\",\"line_alpha\":1.0,\"line_color\":\"black\",\"line_dash\":[4,4],\"line_width\":2,\"right_units\":\"screen\",\"syncable\":false,\"top_units\":\"screen\"},\"id\":\"19060\",\"type\":\"BoxAnnotation\"},{\"attributes\":{},\"id\":\"19623\",\"type\":\"Selection\"}],\"root_ids\":[\"19037\"]},\"title\":\"Bokeh Application\",\"version\":\"2.4.3\"}};\n",
       "  const render_items = [{\"docid\":\"e434e06f-57c7-4919-852f-13f69b09bfb5\",\"root_ids\":[\"19037\"],\"roots\":{\"19037\":\"92aa79c8-61f0-46bd-a449-894b7ab9d036\"}}];\n",
       "  root.Bokeh.embed.embed_items_notebook(docs_json, render_items);\n",
       "  }\n",
       "  if (root.Bokeh !== undefined) {\n",
       "    embed_document(root);\n",
       "  } else {\n",
       "    let attempts = 0;\n",
       "    const timer = setInterval(function(root) {\n",
       "      if (root.Bokeh !== undefined) {\n",
       "        clearInterval(timer);\n",
       "        embed_document(root);\n",
       "      } else {\n",
       "        attempts++;\n",
       "        if (attempts > 100) {\n",
       "          clearInterval(timer);\n",
       "          console.log(\"Bokeh: ERROR: Unable to run BokehJS code because BokehJS library is missing\");\n",
       "        }\n",
       "      }\n",
       "    }, 10, root)\n",
       "  }\n",
       "})(window);"
      ],
      "application/vnd.bokehjs_exec.v0+json": ""
     },
     "metadata": {
      "application/vnd.bokehjs_exec.v0+json": {
       "id": "19037"
      }
     },
     "output_type": "display_data"
    },
    {
     "data": {
      "text/html": [
       "\n",
       "  <div class=\"bk-root\" id=\"17abad2c-bbe6-4bbd-838b-10d9c2206ef5\" data-root-id=\"19680\"></div>\n"
      ]
     },
     "metadata": {},
     "output_type": "display_data"
    },
    {
     "data": {
      "application/javascript": [
       "(function(root) {\n",
       "  function embed_document(root) {\n",
       "  const docs_json = {\"08e14281-6674-4fd8-b099-4bb8bfef74ef\":{\"defs\":[],\"roots\":{\"references\":[{\"attributes\":{\"below\":[{\"id\":\"19689\"}],\"center\":[{\"id\":\"19692\"},{\"id\":\"19696\"}],\"left\":[{\"id\":\"19693\"}],\"renderers\":[{\"id\":\"19715\"}],\"title\":{\"id\":\"19717\"},\"toolbar\":{\"id\":\"19704\"},\"x_range\":{\"id\":\"19681\"},\"x_scale\":{\"id\":\"19685\"},\"y_range\":{\"id\":\"19683\"},\"y_scale\":{\"id\":\"19687\"}},\"id\":\"19680\",\"subtype\":\"Figure\",\"type\":\"Plot\"},{\"attributes\":{},\"id\":\"19685\",\"type\":\"LinearScale\"},{\"attributes\":{\"axis_label\":\"A Frequency\",\"coordinates\":null,\"formatter\":{\"id\":\"20274\"},\"group\":null,\"major_label_policy\":{\"id\":\"20275\"},\"ticker\":{\"id\":\"19690\"}},\"id\":\"19689\",\"type\":\"LinearAxis\"},{\"attributes\":{},\"id\":\"20271\",\"type\":\"BasicTickFormatter\"},{\"attributes\":{},\"id\":\"19683\",\"type\":\"DataRange1d\"},{\"attributes\":{},\"id\":\"20272\",\"type\":\"AllLabels\"},{\"attributes\":{\"axis\":{\"id\":\"19689\"},\"coordinates\":null,\"group\":null,\"ticker\":null},\"id\":\"19692\",\"type\":\"Grid\"},{\"attributes\":{},\"id\":\"19690\",\"type\":\"BasicTicker\"},{\"attributes\":{},\"id\":\"20274\",\"type\":\"BasicTickFormatter\"},{\"attributes\":{},\"id\":\"19687\",\"type\":\"LinearScale\"},{\"attributes\":{\"fill_color\":{\"value\":\"#1f77b4\"},\"line_color\":{\"value\":\"#1f77b4\"},\"x\":{\"field\":\"x\"},\"y\":{\"field\":\"y\"}},\"id\":\"19712\",\"type\":\"Circle\"},{\"attributes\":{\"axis_label\":\"GC Content\",\"coordinates\":null,\"formatter\":{\"id\":\"20271\"},\"group\":null,\"major_label_policy\":{\"id\":\"20272\"},\"ticker\":{\"id\":\"19694\"}},\"id\":\"19693\",\"type\":\"LinearAxis\"},{\"attributes\":{\"axis\":{\"id\":\"19693\"},\"coordinates\":null,\"dimension\":1,\"group\":null,\"ticker\":null},\"id\":\"19696\",\"type\":\"Grid\"},{\"attributes\":{},\"id\":\"20275\",\"type\":\"AllLabels\"},{\"attributes\":{},\"id\":\"19698\",\"type\":\"WheelZoomTool\"},{\"attributes\":{},\"id\":\"19694\",\"type\":\"BasicTicker\"},{\"attributes\":{},\"id\":\"19702\",\"type\":\"HelpTool\"},{\"attributes\":{\"coordinates\":null,\"group\":null,\"text\":\"A\"},\"id\":\"19717\",\"type\":\"Title\"},{\"attributes\":{\"data\":{\"x\":[0.05811138014527845,0.054514480408858604,0.06294256490952006,0.06896551724137931,0.05134899912967798,0.061465721040189124,0.05215973920130399,0.049789029535864976,0.07158509861212564,0.06130573248407643,0.0714900947459087,0.07311320754716981,0.05905826017557861,0.06454183266932272,0.0625,0.07027406886858749,0.06587301587301587,0.0469208211143695,0.06943335993615324,0.0573343261355175,0.0670391061452514,0.05515587529976019,0.06654991243432574,0.06403940886699508,0.061258278145695365,0.05794831636648395,0.057432432432432436,0.07136997538966366,0.06964746345657781,0.06471631205673758,0.06935598018400566,0.07950401167031364,0.05602716468590832,0.056731583403895,0.06986531986531987,0.08023340627279359,0.05443886097152429,0.07155172413793104,0.05596107055961071,0.06831395348837209,0.0663265306122449,0.06038647342995169,0.051630434782608696,0.05335489086499596,0.06362007168458782,0.06206896551724138,0.058823529411764705,0.06297229219143577,0.06199460916442048,0.0642504118616145,0.07119476268412439,0.059915611814345994,0.06655574043261231,0.07160909856781802,0.06870229007633588,0.07094017094017094,0.07039864291772689,0.07306711979609176,0.07191780821917808,0.07609475951184494,0.05843071786310518,0.07658321060382917,0.056466302367941715,0.04654545454545454,0.07568027210884354,0.04727272727272727,0.058823529411764705,0.0573343261355175,0.05827702702702703,0.06976744186046512,0.06260434056761269,0.06133540372670807,0.06700167504187604,0.06491228070175438,0.07321428571428572,0.059513074842200184,0.06780923994038748],\"y\":[0.2851670477800451,0.2702402661513399,0.432061685620977,0.3898724445572241,0.29458573520012254,0.6104893769690102,0.35044160109251976,0.26988138782758875,0.6826167962077495,0.4616378165944257,0.7189011157425981,0.7321885437632035,0.3393312429608442,0.4160072288010653,0.409548278484123,0.7471648802454562,0.653411396022395,0.2968308145349908,0.41307256750236687,0.5223887952113582,0.39022929006636004,0.35283906464335824,0.7136233373179821,0.6677882621956012,0.27633708893783704,0.4636155070752707,0.359293808020336,0.4258873394006253,0.6428471649689257,0.5512825664578923,0.5077429418821842,0.6660342703163326,0.35351896795175924,0.4475331625878192,0.6011982416335792,0.6663096444805614,0.43383706334642963,0.6001074107563085,0.2833592666222529,0.4243578946783289,0.5426800525833473,0.36257306571544373,0.30467776311034744,0.2874929757995978,0.4735989345501921,0.6701036532738713,0.504582461506877,0.5208619670185084,0.6199785834743322,0.3471458095066113,0.49686340673501883,0.3856621411083908,0.44466886499391073,0.5918431121075589,0.5789368104312939,0.6738960441220606,0.6549272184628114,0.6547269109380166,0.6779312262346798,0.5176625673713895,0.3788888283571569,0.6655573299550923,0.30799160429194383,0.2883630109992476,0.5627132556849695,0.28919402319036686,0.5121280191724322,0.5215669617511618,0.33777020500615523,0.3938264258377672,0.38538018924380346,0.6621672870523109,0.3908115201296295,0.5845034040310082,0.6809667419034046,0.5391792993985405,0.4769483062149186]},\"selected\":{\"id\":\"20277\"},\"selection_policy\":{\"id\":\"20276\"}},\"id\":\"19711\",\"type\":\"ColumnDataSource\"},{\"attributes\":{},\"id\":\"19697\",\"type\":\"PanTool\"},{\"attributes\":{\"coordinates\":null,\"data_source\":{\"id\":\"19711\"},\"glyph\":{\"id\":\"19712\"},\"group\":null,\"hover_glyph\":null,\"muted_glyph\":{\"id\":\"19714\"},\"nonselection_glyph\":{\"id\":\"19713\"},\"view\":{\"id\":\"19716\"}},\"id\":\"19715\",\"type\":\"GlyphRenderer\"},{\"attributes\":{\"overlay\":{\"id\":\"19703\"}},\"id\":\"19699\",\"type\":\"BoxZoomTool\"},{\"attributes\":{},\"id\":\"19700\",\"type\":\"SaveTool\"},{\"attributes\":{\"fill_alpha\":{\"value\":0.1},\"fill_color\":{\"value\":\"#1f77b4\"},\"hatch_alpha\":{\"value\":0.1},\"line_alpha\":{\"value\":0.1},\"line_color\":{\"value\":\"#1f77b4\"},\"x\":{\"field\":\"x\"},\"y\":{\"field\":\"y\"}},\"id\":\"19713\",\"type\":\"Circle\"},{\"attributes\":{},\"id\":\"19681\",\"type\":\"DataRange1d\"},{\"attributes\":{},\"id\":\"19701\",\"type\":\"ResetTool\"},{\"attributes\":{},\"id\":\"20276\",\"type\":\"UnionRenderers\"},{\"attributes\":{\"bottom_units\":\"screen\",\"coordinates\":null,\"fill_alpha\":0.5,\"fill_color\":\"lightgrey\",\"group\":null,\"left_units\":\"screen\",\"level\":\"overlay\",\"line_alpha\":1.0,\"line_color\":\"black\",\"line_dash\":[4,4],\"line_width\":2,\"right_units\":\"screen\",\"syncable\":false,\"top_units\":\"screen\"},\"id\":\"19703\",\"type\":\"BoxAnnotation\"},{\"attributes\":{},\"id\":\"20277\",\"type\":\"Selection\"},{\"attributes\":{\"source\":{\"id\":\"19711\"}},\"id\":\"19716\",\"type\":\"CDSView\"},{\"attributes\":{\"tools\":[{\"id\":\"19697\"},{\"id\":\"19698\"},{\"id\":\"19699\"},{\"id\":\"19700\"},{\"id\":\"19701\"},{\"id\":\"19702\"}]},\"id\":\"19704\",\"type\":\"Toolbar\"},{\"attributes\":{\"fill_alpha\":{\"value\":0.2},\"fill_color\":{\"value\":\"#1f77b4\"},\"hatch_alpha\":{\"value\":0.2},\"line_alpha\":{\"value\":0.2},\"line_color\":{\"value\":\"#1f77b4\"},\"x\":{\"field\":\"x\"},\"y\":{\"field\":\"y\"}},\"id\":\"19714\",\"type\":\"Circle\"}],\"root_ids\":[\"19680\"]},\"title\":\"Bokeh Application\",\"version\":\"2.4.3\"}};\n",
       "  const render_items = [{\"docid\":\"08e14281-6674-4fd8-b099-4bb8bfef74ef\",\"root_ids\":[\"19680\"],\"roots\":{\"19680\":\"17abad2c-bbe6-4bbd-838b-10d9c2206ef5\"}}];\n",
       "  root.Bokeh.embed.embed_items_notebook(docs_json, render_items);\n",
       "  }\n",
       "  if (root.Bokeh !== undefined) {\n",
       "    embed_document(root);\n",
       "  } else {\n",
       "    let attempts = 0;\n",
       "    const timer = setInterval(function(root) {\n",
       "      if (root.Bokeh !== undefined) {\n",
       "        clearInterval(timer);\n",
       "        embed_document(root);\n",
       "      } else {\n",
       "        attempts++;\n",
       "        if (attempts > 100) {\n",
       "          clearInterval(timer);\n",
       "          console.log(\"Bokeh: ERROR: Unable to run BokehJS code because BokehJS library is missing\");\n",
       "        }\n",
       "      }\n",
       "    }, 10, root)\n",
       "  }\n",
       "})(window);"
      ],
      "application/vnd.bokehjs_exec.v0+json": ""
     },
     "metadata": {
      "application/vnd.bokehjs_exec.v0+json": {
       "id": "19680"
      }
     },
     "output_type": "display_data"
    },
    {
     "data": {
      "text/html": [
       "\n",
       "  <div class=\"bk-root\" id=\"411a8c9c-20c5-4408-ab9c-67c29d86be7d\" data-root-id=\"20334\"></div>\n"
      ]
     },
     "metadata": {},
     "output_type": "display_data"
    },
    {
     "data": {
      "application/javascript": [
       "(function(root) {\n",
       "  function embed_document(root) {\n",
       "  const docs_json = {\"d3e62e4d-0c75-4023-95d1-31627c371315\":{\"defs\":[],\"roots\":{\"references\":[{\"attributes\":{\"below\":[{\"id\":\"20343\"}],\"center\":[{\"id\":\"20346\"},{\"id\":\"20350\"}],\"left\":[{\"id\":\"20347\"}],\"renderers\":[{\"id\":\"20369\"}],\"title\":{\"id\":\"20371\"},\"toolbar\":{\"id\":\"20358\"},\"x_range\":{\"id\":\"20335\"},\"x_scale\":{\"id\":\"20339\"},\"y_range\":{\"id\":\"20337\"},\"y_scale\":{\"id\":\"20341\"}},\"id\":\"20334\",\"subtype\":\"Figure\",\"type\":\"Plot\"},{\"attributes\":{\"fill_alpha\":{\"value\":0.2},\"fill_color\":{\"value\":\"#1f77b4\"},\"hatch_alpha\":{\"value\":0.2},\"line_alpha\":{\"value\":0.2},\"line_color\":{\"value\":\"#1f77b4\"},\"x\":{\"field\":\"x\"},\"y\":{\"field\":\"y\"}},\"id\":\"20368\",\"type\":\"Circle\"},{\"attributes\":{},\"id\":\"20352\",\"type\":\"WheelZoomTool\"},{\"attributes\":{},\"id\":\"20939\",\"type\":\"BasicTickFormatter\"},{\"attributes\":{},\"id\":\"20940\",\"type\":\"AllLabels\"},{\"attributes\":{\"axis_label\":\"GC Content\",\"coordinates\":null,\"formatter\":{\"id\":\"20936\"},\"group\":null,\"major_label_policy\":{\"id\":\"20937\"},\"ticker\":{\"id\":\"20348\"}},\"id\":\"20347\",\"type\":\"LinearAxis\"},{\"attributes\":{\"axis\":{\"id\":\"20347\"},\"coordinates\":null,\"dimension\":1,\"group\":null,\"ticker\":null},\"id\":\"20350\",\"type\":\"Grid\"},{\"attributes\":{},\"id\":\"20936\",\"type\":\"BasicTickFormatter\"},{\"attributes\":{},\"id\":\"20348\",\"type\":\"BasicTicker\"},{\"attributes\":{\"fill_color\":{\"value\":\"#1f77b4\"},\"line_color\":{\"value\":\"#1f77b4\"},\"x\":{\"field\":\"x\"},\"y\":{\"field\":\"y\"}},\"id\":\"20366\",\"type\":\"Circle\"},{\"attributes\":{},\"id\":\"20356\",\"type\":\"HelpTool\"},{\"attributes\":{},\"id\":\"20351\",\"type\":\"PanTool\"},{\"attributes\":{\"overlay\":{\"id\":\"20357\"}},\"id\":\"20353\",\"type\":\"BoxZoomTool\"},{\"attributes\":{},\"id\":\"20354\",\"type\":\"SaveTool\"},{\"attributes\":{},\"id\":\"20341\",\"type\":\"LinearScale\"},{\"attributes\":{},\"id\":\"20355\",\"type\":\"ResetTool\"},{\"attributes\":{},\"id\":\"20941\",\"type\":\"UnionRenderers\"},{\"attributes\":{\"axis\":{\"id\":\"20343\"},\"coordinates\":null,\"group\":null,\"ticker\":null},\"id\":\"20346\",\"type\":\"Grid\"},{\"attributes\":{\"bottom_units\":\"screen\",\"coordinates\":null,\"fill_alpha\":0.5,\"fill_color\":\"lightgrey\",\"group\":null,\"left_units\":\"screen\",\"level\":\"overlay\",\"line_alpha\":1.0,\"line_color\":\"black\",\"line_dash\":[4,4],\"line_width\":2,\"right_units\":\"screen\",\"syncable\":false,\"top_units\":\"screen\"},\"id\":\"20357\",\"type\":\"BoxAnnotation\"},{\"attributes\":{},\"id\":\"20942\",\"type\":\"Selection\"},{\"attributes\":{\"source\":{\"id\":\"20365\"}},\"id\":\"20370\",\"type\":\"CDSView\"},{\"attributes\":{\"axis_label\":\"C Frequency\",\"coordinates\":null,\"formatter\":{\"id\":\"20939\"},\"group\":null,\"major_label_policy\":{\"id\":\"20940\"},\"ticker\":{\"id\":\"20344\"}},\"id\":\"20343\",\"type\":\"LinearAxis\"},{\"attributes\":{\"coordinates\":null,\"data_source\":{\"id\":\"20365\"},\"glyph\":{\"id\":\"20366\"},\"group\":null,\"hover_glyph\":null,\"muted_glyph\":{\"id\":\"20368\"},\"nonselection_glyph\":{\"id\":\"20367\"},\"view\":{\"id\":\"20370\"}},\"id\":\"20369\",\"type\":\"GlyphRenderer\"},{\"attributes\":{\"fill_alpha\":{\"value\":0.1},\"fill_color\":{\"value\":\"#1f77b4\"},\"hatch_alpha\":{\"value\":0.1},\"line_alpha\":{\"value\":0.1},\"line_color\":{\"value\":\"#1f77b4\"},\"x\":{\"field\":\"x\"},\"y\":{\"field\":\"y\"}},\"id\":\"20367\",\"type\":\"Circle\"},{\"attributes\":{\"tools\":[{\"id\":\"20351\"},{\"id\":\"20352\"},{\"id\":\"20353\"},{\"id\":\"20354\"},{\"id\":\"20355\"},{\"id\":\"20356\"}]},\"id\":\"20358\",\"type\":\"Toolbar\"},{\"attributes\":{},\"id\":\"20339\",\"type\":\"LinearScale\"},{\"attributes\":{},\"id\":\"20937\",\"type\":\"AllLabels\"},{\"attributes\":{\"data\":{\"x\":[0.008071025020177562,0.005110732538330494,0.0055074744295830055,0.003668378576669112,0.004351610095735422,0.003940110323089046,0.004889975550122249,0.005063291139240506,0.003652300949598247,0.007961783439490446,0.00516795865633075,0.0047169811320754715,0.0031923383878691143,0.006374501992031873,0.00870253164556962,0.0035137034434293743,0.004761904761904762,0.007331378299120235,0.007182761372705506,0.0052122114668652275,0.007182761372705506,0.003996802557953637,0.006129597197898424,0.006568144499178982,0.016556291390728478,0.00548159749412686,0.005067567567567568,0.0016406890894175555,0.005159071367153913,0.005319148936170213,0.003538570417551309,0.0036469730123997084,0.004244482173174873,0.002540220152413209,0.003367003367003367,0.0036469730123997084,0.0033500837520938024,0.006896551724137931,0.006488240064882401,0.005087209302325582,0.003401360544217687,0.004830917874396135,0.009963768115942028,0.0064672594987873885,0.0035842293906810036,0.002586206896551724,0.0052122114668652275,0.0033585222502099076,0.0026954177897574125,0.002471169686985173,0.004091653027823241,0.002531645569620253,0.0024958402662229617,0.003369839932603201,0.006785411365564037,0.005982905982905983,0.008481764206955046,0.005097706032285472,0.0059931506849315065,0.002871500358937545,0.0,0.007363770250368188,0.00546448087431694,0.005818181818181818,0.002551020408163265,0.006545454545454545,0.0052122114668652275,0.0052122114668652275,0.005067567567567568,0.0016611295681063123,0.001669449081803005,0.005434782608695652,0.0016750418760469012,0.0043859649122807015,0.0017857142857142857,0.004508566275924256,0.004470938897168405],\"y\":[0.2851670477800451,0.2702402661513399,0.432061685620977,0.3898724445572241,0.29458573520012254,0.6104893769690102,0.35044160109251976,0.26988138782758875,0.6826167962077495,0.4616378165944257,0.7189011157425981,0.7321885437632035,0.3393312429608442,0.4160072288010653,0.409548278484123,0.7471648802454562,0.653411396022395,0.2968308145349908,0.41307256750236687,0.5223887952113582,0.39022929006636004,0.35283906464335824,0.7136233373179821,0.6677882621956012,0.27633708893783704,0.4636155070752707,0.359293808020336,0.4258873394006253,0.6428471649689257,0.5512825664578923,0.5077429418821842,0.6660342703163326,0.35351896795175924,0.4475331625878192,0.6011982416335792,0.6663096444805614,0.43383706334642963,0.6001074107563085,0.2833592666222529,0.4243578946783289,0.5426800525833473,0.36257306571544373,0.30467776311034744,0.2874929757995978,0.4735989345501921,0.6701036532738713,0.504582461506877,0.5208619670185084,0.6199785834743322,0.3471458095066113,0.49686340673501883,0.3856621411083908,0.44466886499391073,0.5918431121075589,0.5789368104312939,0.6738960441220606,0.6549272184628114,0.6547269109380166,0.6779312262346798,0.5176625673713895,0.3788888283571569,0.6655573299550923,0.30799160429194383,0.2883630109992476,0.5627132556849695,0.28919402319036686,0.5121280191724322,0.5215669617511618,0.33777020500615523,0.3938264258377672,0.38538018924380346,0.6621672870523109,0.3908115201296295,0.5845034040310082,0.6809667419034046,0.5391792993985405,0.4769483062149186]},\"selected\":{\"id\":\"20942\"},\"selection_policy\":{\"id\":\"20941\"}},\"id\":\"20365\",\"type\":\"ColumnDataSource\"},{\"attributes\":{},\"id\":\"20344\",\"type\":\"BasicTicker\"},{\"attributes\":{},\"id\":\"20335\",\"type\":\"DataRange1d\"},{\"attributes\":{\"coordinates\":null,\"group\":null,\"text\":\"C\"},\"id\":\"20371\",\"type\":\"Title\"},{\"attributes\":{},\"id\":\"20337\",\"type\":\"DataRange1d\"}],\"root_ids\":[\"20334\"]},\"title\":\"Bokeh Application\",\"version\":\"2.4.3\"}};\n",
       "  const render_items = [{\"docid\":\"d3e62e4d-0c75-4023-95d1-31627c371315\",\"root_ids\":[\"20334\"],\"roots\":{\"20334\":\"411a8c9c-20c5-4408-ab9c-67c29d86be7d\"}}];\n",
       "  root.Bokeh.embed.embed_items_notebook(docs_json, render_items);\n",
       "  }\n",
       "  if (root.Bokeh !== undefined) {\n",
       "    embed_document(root);\n",
       "  } else {\n",
       "    let attempts = 0;\n",
       "    const timer = setInterval(function(root) {\n",
       "      if (root.Bokeh !== undefined) {\n",
       "        clearInterval(timer);\n",
       "        embed_document(root);\n",
       "      } else {\n",
       "        attempts++;\n",
       "        if (attempts > 100) {\n",
       "          clearInterval(timer);\n",
       "          console.log(\"Bokeh: ERROR: Unable to run BokehJS code because BokehJS library is missing\");\n",
       "        }\n",
       "      }\n",
       "    }, 10, root)\n",
       "  }\n",
       "})(window);"
      ],
      "application/vnd.bokehjs_exec.v0+json": ""
     },
     "metadata": {
      "application/vnd.bokehjs_exec.v0+json": {
       "id": "20334"
      }
     },
     "output_type": "display_data"
    },
    {
     "data": {
      "text/html": [
       "\n",
       "  <div class=\"bk-root\" id=\"cc9aaf65-6ef7-4b51-a87f-f78d0b344330\" data-root-id=\"20999\"></div>\n"
      ]
     },
     "metadata": {},
     "output_type": "display_data"
    },
    {
     "data": {
      "application/javascript": [
       "(function(root) {\n",
       "  function embed_document(root) {\n",
       "  const docs_json = {\"fcd84feb-bf56-4a0f-99cc-8f1e2ee83152\":{\"defs\":[],\"roots\":{\"references\":[{\"attributes\":{\"below\":[{\"id\":\"21008\"}],\"center\":[{\"id\":\"21011\"},{\"id\":\"21015\"}],\"left\":[{\"id\":\"21012\"}],\"renderers\":[{\"id\":\"21034\"}],\"title\":{\"id\":\"21036\"},\"toolbar\":{\"id\":\"21023\"},\"x_range\":{\"id\":\"21000\"},\"x_scale\":{\"id\":\"21004\"},\"y_range\":{\"id\":\"21002\"},\"y_scale\":{\"id\":\"21006\"}},\"id\":\"20999\",\"subtype\":\"Figure\",\"type\":\"Plot\"},{\"attributes\":{},\"id\":\"21000\",\"type\":\"DataRange1d\"},{\"attributes\":{},\"id\":\"21617\",\"type\":\"UnionRenderers\"},{\"attributes\":{\"bottom_units\":\"screen\",\"coordinates\":null,\"fill_alpha\":0.5,\"fill_color\":\"lightgrey\",\"group\":null,\"left_units\":\"screen\",\"level\":\"overlay\",\"line_alpha\":1.0,\"line_color\":\"black\",\"line_dash\":[4,4],\"line_width\":2,\"right_units\":\"screen\",\"syncable\":false,\"top_units\":\"screen\"},\"id\":\"21022\",\"type\":\"BoxAnnotation\"},{\"attributes\":{},\"id\":\"21618\",\"type\":\"Selection\"},{\"attributes\":{\"coordinates\":null,\"data_source\":{\"id\":\"21030\"},\"glyph\":{\"id\":\"21031\"},\"group\":null,\"hover_glyph\":null,\"muted_glyph\":{\"id\":\"21033\"},\"nonselection_glyph\":{\"id\":\"21032\"},\"view\":{\"id\":\"21035\"}},\"id\":\"21034\",\"type\":\"GlyphRenderer\"},{\"attributes\":{\"fill_color\":{\"value\":\"#1f77b4\"},\"line_color\":{\"value\":\"#1f77b4\"},\"x\":{\"field\":\"x\"},\"y\":{\"field\":\"y\"}},\"id\":\"21031\",\"type\":\"Circle\"},{\"attributes\":{\"overlay\":{\"id\":\"21022\"}},\"id\":\"21018\",\"type\":\"BoxZoomTool\"},{\"attributes\":{},\"id\":\"21613\",\"type\":\"AllLabels\"},{\"attributes\":{\"tools\":[{\"id\":\"21016\"},{\"id\":\"21017\"},{\"id\":\"21018\"},{\"id\":\"21019\"},{\"id\":\"21020\"},{\"id\":\"21021\"}]},\"id\":\"21023\",\"type\":\"Toolbar\"},{\"attributes\":{\"axis_label\":\"D Frequency\",\"coordinates\":null,\"formatter\":{\"id\":\"21615\"},\"group\":null,\"major_label_policy\":{\"id\":\"21616\"},\"ticker\":{\"id\":\"21009\"}},\"id\":\"21008\",\"type\":\"LinearAxis\"},{\"attributes\":{\"fill_alpha\":{\"value\":0.2},\"fill_color\":{\"value\":\"#1f77b4\"},\"hatch_alpha\":{\"value\":0.2},\"line_alpha\":{\"value\":0.2},\"line_color\":{\"value\":\"#1f77b4\"},\"x\":{\"field\":\"x\"},\"y\":{\"field\":\"y\"}},\"id\":\"21033\",\"type\":\"Circle\"},{\"attributes\":{\"source\":{\"id\":\"21030\"}},\"id\":\"21035\",\"type\":\"CDSView\"},{\"attributes\":{\"fill_alpha\":{\"value\":0.1},\"fill_color\":{\"value\":\"#1f77b4\"},\"hatch_alpha\":{\"value\":0.1},\"line_alpha\":{\"value\":0.1},\"line_color\":{\"value\":\"#1f77b4\"},\"x\":{\"field\":\"x\"},\"y\":{\"field\":\"y\"}},\"id\":\"21032\",\"type\":\"Circle\"},{\"attributes\":{},\"id\":\"21006\",\"type\":\"LinearScale\"},{\"attributes\":{},\"id\":\"21002\",\"type\":\"DataRange1d\"},{\"attributes\":{},\"id\":\"21004\",\"type\":\"LinearScale\"},{\"attributes\":{},\"id\":\"21612\",\"type\":\"BasicTickFormatter\"},{\"attributes\":{},\"id\":\"21009\",\"type\":\"BasicTicker\"},{\"attributes\":{\"axis\":{\"id\":\"21008\"},\"coordinates\":null,\"group\":null,\"ticker\":null},\"id\":\"21011\",\"type\":\"Grid\"},{\"attributes\":{\"coordinates\":null,\"group\":null,\"text\":\"D\"},\"id\":\"21036\",\"type\":\"Title\"},{\"attributes\":{\"axis_label\":\"GC Content\",\"coordinates\":null,\"formatter\":{\"id\":\"21612\"},\"group\":null,\"major_label_policy\":{\"id\":\"21613\"},\"ticker\":{\"id\":\"21013\"}},\"id\":\"21012\",\"type\":\"LinearAxis\"},{\"attributes\":{\"axis\":{\"id\":\"21012\"},\"coordinates\":null,\"dimension\":1,\"group\":null,\"ticker\":null},\"id\":\"21015\",\"type\":\"Grid\"},{\"attributes\":{},\"id\":\"21013\",\"type\":\"BasicTicker\"},{\"attributes\":{},\"id\":\"21017\",\"type\":\"WheelZoomTool\"},{\"attributes\":{},\"id\":\"21021\",\"type\":\"HelpTool\"},{\"attributes\":{},\"id\":\"21615\",\"type\":\"BasicTickFormatter\"},{\"attributes\":{},\"id\":\"21020\",\"type\":\"ResetTool\"},{\"attributes\":{},\"id\":\"21016\",\"type\":\"PanTool\"},{\"attributes\":{},\"id\":\"21616\",\"type\":\"AllLabels\"},{\"attributes\":{\"data\":{\"x\":[0.08151735270379339,0.062180579216354344,0.07789142407553108,0.07043286867204696,0.07658833768494343,0.06304176516942474,0.05704971475142624,0.070042194092827,0.0723155588020453,0.07722929936305732,0.07493540051679587,0.07232704402515723,0.06304868316041501,0.06613545816733067,0.07753164556962025,0.0646521433591005,0.06031746031746032,0.07258064516129033,0.06464485235434957,0.07073715562174236,0.06384676775738228,0.07673860911270983,0.07530647985989491,0.07881773399014778,0.052980132450331126,0.07439310884886452,0.07516891891891891,0.07793273174733388,0.0644883920894239,0.0549645390070922,0.07147912243453644,0.0736688548504741,0.06960950764006792,0.07197290431837426,0.08080808080808081,0.0736688548504741,0.0745393634840871,0.07672413793103448,0.0786699107866991,0.06976744186046512,0.07653061224489796,0.07971014492753623,0.057065217391304345,0.08326596604688763,0.07526881720430108,0.07931034482758621,0.06850335070737155,0.07304785894206549,0.06019766397124888,0.08649093904448106,0.0867430441898527,0.0751054852320675,0.08735440931780367,0.08003369839932603,0.06615776081424936,0.07179487179487179,0.07124681933842239,0.06796941376380629,0.07106164383561644,0.07106963388370424,0.08180300500834725,0.06701030927835051,0.06375227686703097,0.06618181818181817,0.07653061224489796,0.0669090909090909,0.06850335070737155,0.07073715562174236,0.07432432432432433,0.07724252491694353,0.07929883138564274,0.08850931677018634,0.0812395309882747,0.06491228070175438,0.0625,0.0721370604147881,0.06482861400894188],\"y\":[0.2851670477800451,0.2702402661513399,0.432061685620977,0.3898724445572241,0.29458573520012254,0.6104893769690102,0.35044160109251976,0.26988138782758875,0.6826167962077495,0.4616378165944257,0.7189011157425981,0.7321885437632035,0.3393312429608442,0.4160072288010653,0.409548278484123,0.7471648802454562,0.653411396022395,0.2968308145349908,0.41307256750236687,0.5223887952113582,0.39022929006636004,0.35283906464335824,0.7136233373179821,0.6677882621956012,0.27633708893783704,0.4636155070752707,0.359293808020336,0.4258873394006253,0.6428471649689257,0.5512825664578923,0.5077429418821842,0.6660342703163326,0.35351896795175924,0.4475331625878192,0.6011982416335792,0.6663096444805614,0.43383706334642963,0.6001074107563085,0.2833592666222529,0.4243578946783289,0.5426800525833473,0.36257306571544373,0.30467776311034744,0.2874929757995978,0.4735989345501921,0.6701036532738713,0.504582461506877,0.5208619670185084,0.6199785834743322,0.3471458095066113,0.49686340673501883,0.3856621411083908,0.44466886499391073,0.5918431121075589,0.5789368104312939,0.6738960441220606,0.6549272184628114,0.6547269109380166,0.6779312262346798,0.5176625673713895,0.3788888283571569,0.6655573299550923,0.30799160429194383,0.2883630109992476,0.5627132556849695,0.28919402319036686,0.5121280191724322,0.5215669617511618,0.33777020500615523,0.3938264258377672,0.38538018924380346,0.6621672870523109,0.3908115201296295,0.5845034040310082,0.6809667419034046,0.5391792993985405,0.4769483062149186]},\"selected\":{\"id\":\"21618\"},\"selection_policy\":{\"id\":\"21617\"}},\"id\":\"21030\",\"type\":\"ColumnDataSource\"},{\"attributes\":{},\"id\":\"21019\",\"type\":\"SaveTool\"}],\"root_ids\":[\"20999\"]},\"title\":\"Bokeh Application\",\"version\":\"2.4.3\"}};\n",
       "  const render_items = [{\"docid\":\"fcd84feb-bf56-4a0f-99cc-8f1e2ee83152\",\"root_ids\":[\"20999\"],\"roots\":{\"20999\":\"cc9aaf65-6ef7-4b51-a87f-f78d0b344330\"}}];\n",
       "  root.Bokeh.embed.embed_items_notebook(docs_json, render_items);\n",
       "  }\n",
       "  if (root.Bokeh !== undefined) {\n",
       "    embed_document(root);\n",
       "  } else {\n",
       "    let attempts = 0;\n",
       "    const timer = setInterval(function(root) {\n",
       "      if (root.Bokeh !== undefined) {\n",
       "        clearInterval(timer);\n",
       "        embed_document(root);\n",
       "      } else {\n",
       "        attempts++;\n",
       "        if (attempts > 100) {\n",
       "          clearInterval(timer);\n",
       "          console.log(\"Bokeh: ERROR: Unable to run BokehJS code because BokehJS library is missing\");\n",
       "        }\n",
       "      }\n",
       "    }, 10, root)\n",
       "  }\n",
       "})(window);"
      ],
      "application/vnd.bokehjs_exec.v0+json": ""
     },
     "metadata": {
      "application/vnd.bokehjs_exec.v0+json": {
       "id": "20999"
      }
     },
     "output_type": "display_data"
    },
    {
     "data": {
      "text/html": [
       "\n",
       "  <div class=\"bk-root\" id=\"6dc96744-9199-4add-9f77-da7188d5dc55\" data-root-id=\"21675\"></div>\n"
      ]
     },
     "metadata": {},
     "output_type": "display_data"
    },
    {
     "data": {
      "application/javascript": [
       "(function(root) {\n",
       "  function embed_document(root) {\n",
       "  const docs_json = {\"bc1c29b8-6801-4b67-ba54-6581322ca471\":{\"defs\":[],\"roots\":{\"references\":[{\"attributes\":{\"below\":[{\"id\":\"21684\"}],\"center\":[{\"id\":\"21687\"},{\"id\":\"21691\"}],\"left\":[{\"id\":\"21688\"}],\"renderers\":[{\"id\":\"21710\"}],\"title\":{\"id\":\"21712\"},\"toolbar\":{\"id\":\"21699\"},\"x_range\":{\"id\":\"21676\"},\"x_scale\":{\"id\":\"21680\"},\"y_range\":{\"id\":\"21678\"},\"y_scale\":{\"id\":\"21682\"}},\"id\":\"21675\",\"subtype\":\"Figure\",\"type\":\"Plot\"},{\"attributes\":{},\"id\":\"21680\",\"type\":\"LinearScale\"},{\"attributes\":{},\"id\":\"22302\",\"type\":\"BasicTickFormatter\"},{\"attributes\":{\"fill_alpha\":{\"value\":0.2},\"fill_color\":{\"value\":\"#1f77b4\"},\"hatch_alpha\":{\"value\":0.2},\"line_alpha\":{\"value\":0.2},\"line_color\":{\"value\":\"#1f77b4\"},\"x\":{\"field\":\"x\"},\"y\":{\"field\":\"y\"}},\"id\":\"21709\",\"type\":\"Circle\"},{\"attributes\":{},\"id\":\"22303\",\"type\":\"AllLabels\"},{\"attributes\":{\"bottom_units\":\"screen\",\"coordinates\":null,\"fill_alpha\":0.5,\"fill_color\":\"lightgrey\",\"group\":null,\"left_units\":\"screen\",\"level\":\"overlay\",\"line_alpha\":1.0,\"line_color\":\"black\",\"line_dash\":[4,4],\"line_width\":2,\"right_units\":\"screen\",\"syncable\":false,\"top_units\":\"screen\"},\"id\":\"21698\",\"type\":\"BoxAnnotation\"},{\"attributes\":{},\"id\":\"21676\",\"type\":\"DataRange1d\"},{\"attributes\":{\"axis_label\":\"E Frequency\",\"coordinates\":null,\"formatter\":{\"id\":\"22302\"},\"group\":null,\"major_label_policy\":{\"id\":\"22303\"},\"ticker\":{\"id\":\"21685\"}},\"id\":\"21684\",\"type\":\"LinearAxis\"},{\"attributes\":{},\"id\":\"21678\",\"type\":\"DataRange1d\"},{\"attributes\":{},\"id\":\"22304\",\"type\":\"UnionRenderers\"},{\"attributes\":{\"source\":{\"id\":\"21706\"}},\"id\":\"21711\",\"type\":\"CDSView\"},{\"attributes\":{},\"id\":\"21685\",\"type\":\"BasicTicker\"},{\"attributes\":{\"axis\":{\"id\":\"21684\"},\"coordinates\":null,\"group\":null,\"ticker\":null},\"id\":\"21687\",\"type\":\"Grid\"},{\"attributes\":{},\"id\":\"21682\",\"type\":\"LinearScale\"},{\"attributes\":{},\"id\":\"22300\",\"type\":\"AllLabels\"},{\"attributes\":{},\"id\":\"21693\",\"type\":\"WheelZoomTool\"},{\"attributes\":{\"fill_color\":{\"value\":\"#1f77b4\"},\"line_color\":{\"value\":\"#1f77b4\"},\"x\":{\"field\":\"x\"},\"y\":{\"field\":\"y\"}},\"id\":\"21707\",\"type\":\"Circle\"},{\"attributes\":{\"tools\":[{\"id\":\"21692\"},{\"id\":\"21693\"},{\"id\":\"21694\"},{\"id\":\"21695\"},{\"id\":\"21696\"},{\"id\":\"21697\"}]},\"id\":\"21699\",\"type\":\"Toolbar\"},{\"attributes\":{\"axis_label\":\"GC Content\",\"coordinates\":null,\"formatter\":{\"id\":\"22299\"},\"group\":null,\"major_label_policy\":{\"id\":\"22300\"},\"ticker\":{\"id\":\"21689\"}},\"id\":\"21688\",\"type\":\"LinearAxis\"},{\"attributes\":{\"axis\":{\"id\":\"21688\"},\"coordinates\":null,\"dimension\":1,\"group\":null,\"ticker\":null},\"id\":\"21691\",\"type\":\"Grid\"},{\"attributes\":{\"coordinates\":null,\"data_source\":{\"id\":\"21706\"},\"glyph\":{\"id\":\"21707\"},\"group\":null,\"hover_glyph\":null,\"muted_glyph\":{\"id\":\"21709\"},\"nonselection_glyph\":{\"id\":\"21708\"},\"view\":{\"id\":\"21711\"}},\"id\":\"21710\",\"type\":\"GlyphRenderer\"},{\"attributes\":{},\"id\":\"21689\",\"type\":\"BasicTicker\"},{\"attributes\":{\"fill_alpha\":{\"value\":0.1},\"fill_color\":{\"value\":\"#1f77b4\"},\"hatch_alpha\":{\"value\":0.1},\"line_alpha\":{\"value\":0.1},\"line_color\":{\"value\":\"#1f77b4\"},\"x\":{\"field\":\"x\"},\"y\":{\"field\":\"y\"}},\"id\":\"21708\",\"type\":\"Circle\"},{\"attributes\":{\"coordinates\":null,\"group\":null,\"text\":\"E\"},\"id\":\"21712\",\"type\":\"Title\"},{\"attributes\":{},\"id\":\"21697\",\"type\":\"HelpTool\"},{\"attributes\":{},\"id\":\"22299\",\"type\":\"BasicTickFormatter\"},{\"attributes\":{},\"id\":\"21692\",\"type\":\"PanTool\"},{\"attributes\":{\"overlay\":{\"id\":\"21698\"}},\"id\":\"21694\",\"type\":\"BoxZoomTool\"},{\"attributes\":{\"data\":{\"x\":[0.10411622276029056,0.08603066439522998,0.07631785995279308,0.08730741012472487,0.08877284595300261,0.08589440504334121,0.09209453952730236,0.10042194092827005,0.08035062089116143,0.09235668789808917,0.08957795004306632,0.09355345911949685,0.08858739026336791,0.09482071713147411,0.07120253164556962,0.09697821503865074,0.08412698412698413,0.0813782991202346,0.08699122106943336,0.08860759493670886,0.0853950518754988,0.10631494804156674,0.08844133099824869,0.11330049261083744,0.10430463576158941,0.07830853563038372,0.08952702702702703,0.08613617719442165,0.09200343938091143,0.08421985815602837,0.08209483368719038,0.07658643326039387,0.09252971137521222,0.09314140558848434,0.08249158249158249,0.07658643326039387,0.09212730318257957,0.08189655172413793,0.09975669099756691,0.08430232558139535,0.08333333333333333,0.0966183574879227,0.0806159420289855,0.09377526273241714,0.0985663082437276,0.07844827586206897,0.09084139985107967,0.09235936188077246,0.0862533692722372,0.07248764415156507,0.08265139116202946,0.08860759493670886,0.07903494176372712,0.08087615838247683,0.0916030534351145,0.08717948717948718,0.089058524173028,0.0875106202209006,0.0898972602739726,0.08399138549892318,0.08347245409015025,0.0817378497790869,0.08105646630236794,0.07636363636363637,0.0824829931972789,0.07490909090909091,0.09084139985107967,0.08860759493670886,0.09543918918918919,0.08803986710963455,0.08597662771285476,0.1203416149068323,0.08542713567839195,0.08771929824561403,0.09107142857142857,0.07484220018034266,0.09090909090909091],\"y\":[0.2851670477800451,0.2702402661513399,0.432061685620977,0.3898724445572241,0.29458573520012254,0.6104893769690102,0.35044160109251976,0.26988138782758875,0.6826167962077495,0.4616378165944257,0.7189011157425981,0.7321885437632035,0.3393312429608442,0.4160072288010653,0.409548278484123,0.7471648802454562,0.653411396022395,0.2968308145349908,0.41307256750236687,0.5223887952113582,0.39022929006636004,0.35283906464335824,0.7136233373179821,0.6677882621956012,0.27633708893783704,0.4636155070752707,0.359293808020336,0.4258873394006253,0.6428471649689257,0.5512825664578923,0.5077429418821842,0.6660342703163326,0.35351896795175924,0.4475331625878192,0.6011982416335792,0.6663096444805614,0.43383706334642963,0.6001074107563085,0.2833592666222529,0.4243578946783289,0.5426800525833473,0.36257306571544373,0.30467776311034744,0.2874929757995978,0.4735989345501921,0.6701036532738713,0.504582461506877,0.5208619670185084,0.6199785834743322,0.3471458095066113,0.49686340673501883,0.3856621411083908,0.44466886499391073,0.5918431121075589,0.5789368104312939,0.6738960441220606,0.6549272184628114,0.6547269109380166,0.6779312262346798,0.5176625673713895,0.3788888283571569,0.6655573299550923,0.30799160429194383,0.2883630109992476,0.5627132556849695,0.28919402319036686,0.5121280191724322,0.5215669617511618,0.33777020500615523,0.3938264258377672,0.38538018924380346,0.6621672870523109,0.3908115201296295,0.5845034040310082,0.6809667419034046,0.5391792993985405,0.4769483062149186]},\"selected\":{\"id\":\"22305\"},\"selection_policy\":{\"id\":\"22304\"}},\"id\":\"21706\",\"type\":\"ColumnDataSource\"},{\"attributes\":{},\"id\":\"21695\",\"type\":\"SaveTool\"},{\"attributes\":{},\"id\":\"21696\",\"type\":\"ResetTool\"},{\"attributes\":{},\"id\":\"22305\",\"type\":\"Selection\"}],\"root_ids\":[\"21675\"]},\"title\":\"Bokeh Application\",\"version\":\"2.4.3\"}};\n",
       "  const render_items = [{\"docid\":\"bc1c29b8-6801-4b67-ba54-6581322ca471\",\"root_ids\":[\"21675\"],\"roots\":{\"21675\":\"6dc96744-9199-4add-9f77-da7188d5dc55\"}}];\n",
       "  root.Bokeh.embed.embed_items_notebook(docs_json, render_items);\n",
       "  }\n",
       "  if (root.Bokeh !== undefined) {\n",
       "    embed_document(root);\n",
       "  } else {\n",
       "    let attempts = 0;\n",
       "    const timer = setInterval(function(root) {\n",
       "      if (root.Bokeh !== undefined) {\n",
       "        clearInterval(timer);\n",
       "        embed_document(root);\n",
       "      } else {\n",
       "        attempts++;\n",
       "        if (attempts > 100) {\n",
       "          clearInterval(timer);\n",
       "          console.log(\"Bokeh: ERROR: Unable to run BokehJS code because BokehJS library is missing\");\n",
       "        }\n",
       "      }\n",
       "    }, 10, root)\n",
       "  }\n",
       "})(window);"
      ],
      "application/vnd.bokehjs_exec.v0+json": ""
     },
     "metadata": {
      "application/vnd.bokehjs_exec.v0+json": {
       "id": "21675"
      }
     },
     "output_type": "display_data"
    },
    {
     "data": {
      "text/html": [
       "\n",
       "  <div class=\"bk-root\" id=\"688dcd53-f4e7-492a-9596-29d87a4508d5\" data-root-id=\"22362\"></div>\n"
      ]
     },
     "metadata": {},
     "output_type": "display_data"
    },
    {
     "data": {
      "application/javascript": [
       "(function(root) {\n",
       "  function embed_document(root) {\n",
       "  const docs_json = {\"0db0be33-899d-46f8-9d21-0cf33b19c89a\":{\"defs\":[],\"roots\":{\"references\":[{\"attributes\":{\"below\":[{\"id\":\"22371\"}],\"center\":[{\"id\":\"22374\"},{\"id\":\"22378\"}],\"left\":[{\"id\":\"22375\"}],\"renderers\":[{\"id\":\"22397\"}],\"title\":{\"id\":\"22399\"},\"toolbar\":{\"id\":\"22386\"},\"x_range\":{\"id\":\"22363\"},\"x_scale\":{\"id\":\"22367\"},\"y_range\":{\"id\":\"22365\"},\"y_scale\":{\"id\":\"22369\"}},\"id\":\"22362\",\"subtype\":\"Figure\",\"type\":\"Plot\"},{\"attributes\":{},\"id\":\"22997\",\"type\":\"BasicTickFormatter\"},{\"attributes\":{},\"id\":\"22369\",\"type\":\"LinearScale\"},{\"attributes\":{},\"id\":\"22365\",\"type\":\"DataRange1d\"},{\"attributes\":{},\"id\":\"22367\",\"type\":\"LinearScale\"},{\"attributes\":{},\"id\":\"22998\",\"type\":\"AllLabels\"},{\"attributes\":{\"axis\":{\"id\":\"22371\"},\"coordinates\":null,\"group\":null,\"ticker\":null},\"id\":\"22374\",\"type\":\"Grid\"},{\"attributes\":{},\"id\":\"23000\",\"type\":\"BasicTickFormatter\"},{\"attributes\":{},\"id\":\"22372\",\"type\":\"BasicTicker\"},{\"attributes\":{\"axis_label\":\"GC Content\",\"coordinates\":null,\"formatter\":{\"id\":\"22997\"},\"group\":null,\"major_label_policy\":{\"id\":\"22998\"},\"ticker\":{\"id\":\"22376\"}},\"id\":\"22375\",\"type\":\"LinearAxis\"},{\"attributes\":{},\"id\":\"22380\",\"type\":\"WheelZoomTool\"},{\"attributes\":{},\"id\":\"23001\",\"type\":\"AllLabels\"},{\"attributes\":{\"axis\":{\"id\":\"22375\"},\"coordinates\":null,\"dimension\":1,\"group\":null,\"ticker\":null},\"id\":\"22378\",\"type\":\"Grid\"},{\"attributes\":{},\"id\":\"22376\",\"type\":\"BasicTicker\"},{\"attributes\":{},\"id\":\"22363\",\"type\":\"DataRange1d\"},{\"attributes\":{\"coordinates\":null,\"data_source\":{\"id\":\"22393\"},\"glyph\":{\"id\":\"22394\"},\"group\":null,\"hover_glyph\":null,\"muted_glyph\":{\"id\":\"22396\"},\"nonselection_glyph\":{\"id\":\"22395\"},\"view\":{\"id\":\"22398\"}},\"id\":\"22397\",\"type\":\"GlyphRenderer\"},{\"attributes\":{\"fill_alpha\":{\"value\":0.2},\"fill_color\":{\"value\":\"#1f77b4\"},\"hatch_alpha\":{\"value\":0.2},\"line_alpha\":{\"value\":0.2},\"line_color\":{\"value\":\"#1f77b4\"},\"x\":{\"field\":\"x\"},\"y\":{\"field\":\"y\"}},\"id\":\"22396\",\"type\":\"Circle\"},{\"attributes\":{\"fill_color\":{\"value\":\"#1f77b4\"},\"line_color\":{\"value\":\"#1f77b4\"},\"x\":{\"field\":\"x\"},\"y\":{\"field\":\"y\"}},\"id\":\"22394\",\"type\":\"Circle\"},{\"attributes\":{\"source\":{\"id\":\"22393\"}},\"id\":\"22398\",\"type\":\"CDSView\"},{\"attributes\":{},\"id\":\"22384\",\"type\":\"HelpTool\"},{\"attributes\":{\"fill_alpha\":{\"value\":0.1},\"fill_color\":{\"value\":\"#1f77b4\"},\"hatch_alpha\":{\"value\":0.1},\"line_alpha\":{\"value\":0.1},\"line_color\":{\"value\":\"#1f77b4\"},\"x\":{\"field\":\"x\"},\"y\":{\"field\":\"y\"}},\"id\":\"22395\",\"type\":\"Circle\"},{\"attributes\":{},\"id\":\"22379\",\"type\":\"PanTool\"},{\"attributes\":{\"overlay\":{\"id\":\"22385\"}},\"id\":\"22381\",\"type\":\"BoxZoomTool\"},{\"attributes\":{},\"id\":\"22382\",\"type\":\"SaveTool\"},{\"attributes\":{\"data\":{\"x\":[0.033091202582728005,0.036626916524701875,0.03933910306845004,0.03154805575935436,0.04003481288076589,0.036249014972419225,0.04319478402607987,0.03375527426160337,0.036523009495982466,0.027070063694267517,0.03359173126614987,0.03380503144654088,0.04229848363926576,0.03266932270916335,0.03401898734177215,0.03232607167955025,0.030952380952380953,0.0373900293255132,0.035115722266560255,0.03350707371556218,0.034317637669592976,0.029576338928856916,0.03502626970227671,0.026272577996715927,0.033112582781456956,0.04463586530931871,0.02787162162162162,0.034454470877768664,0.03267411865864144,0.018617021276595744,0.035385704175513094,0.03355215171407731,0.029711375212224108,0.029635901778154106,0.03282828282828283,0.03355215171407731,0.03015075376884422,0.03362068965517241,0.030819140308191405,0.029069767441860465,0.02891156462585034,0.0322061191626409,0.03985507246376811,0.029911075181891674,0.033154121863799284,0.03793103448275862,0.03276247207743857,0.030226700251889168,0.03234501347708895,0.023887973640856673,0.02618657937806874,0.03459915611814346,0.029118136439267885,0.03369839932603201,0.029686174724342665,0.029914529914529916,0.02883799830364716,0.029736618521665252,0.030821917808219176,0.03445800430725054,0.03005008347245409,0.035346097201767304,0.026411657559198543,0.03927272727272727,0.03316326530612245,0.03854545454545454,0.03276247207743857,0.03350707371556218,0.028716216216216218,0.03156146179401993,0.03672787979966611,0.03881987577639751,0.03433835845896147,0.02894736842105263,0.039285714285714285,0.029756537421100092,0.03576751117734724],\"y\":[0.2851670477800451,0.2702402661513399,0.432061685620977,0.3898724445572241,0.29458573520012254,0.6104893769690102,0.35044160109251976,0.26988138782758875,0.6826167962077495,0.4616378165944257,0.7189011157425981,0.7321885437632035,0.3393312429608442,0.4160072288010653,0.409548278484123,0.7471648802454562,0.653411396022395,0.2968308145349908,0.41307256750236687,0.5223887952113582,0.39022929006636004,0.35283906464335824,0.7136233373179821,0.6677882621956012,0.27633708893783704,0.4636155070752707,0.359293808020336,0.4258873394006253,0.6428471649689257,0.5512825664578923,0.5077429418821842,0.6660342703163326,0.35351896795175924,0.4475331625878192,0.6011982416335792,0.6663096444805614,0.43383706334642963,0.6001074107563085,0.2833592666222529,0.4243578946783289,0.5426800525833473,0.36257306571544373,0.30467776311034744,0.2874929757995978,0.4735989345501921,0.6701036532738713,0.504582461506877,0.5208619670185084,0.6199785834743322,0.3471458095066113,0.49686340673501883,0.3856621411083908,0.44466886499391073,0.5918431121075589,0.5789368104312939,0.6738960441220606,0.6549272184628114,0.6547269109380166,0.6779312262346798,0.5176625673713895,0.3788888283571569,0.6655573299550923,0.30799160429194383,0.2883630109992476,0.5627132556849695,0.28919402319036686,0.5121280191724322,0.5215669617511618,0.33777020500615523,0.3938264258377672,0.38538018924380346,0.6621672870523109,0.3908115201296295,0.5845034040310082,0.6809667419034046,0.5391792993985405,0.4769483062149186]},\"selected\":{\"id\":\"23003\"},\"selection_policy\":{\"id\":\"23002\"}},\"id\":\"22393\",\"type\":\"ColumnDataSource\"},{\"attributes\":{},\"id\":\"22383\",\"type\":\"ResetTool\"},{\"attributes\":{},\"id\":\"23002\",\"type\":\"UnionRenderers\"},{\"attributes\":{\"bottom_units\":\"screen\",\"coordinates\":null,\"fill_alpha\":0.5,\"fill_color\":\"lightgrey\",\"group\":null,\"left_units\":\"screen\",\"level\":\"overlay\",\"line_alpha\":1.0,\"line_color\":\"black\",\"line_dash\":[4,4],\"line_width\":2,\"right_units\":\"screen\",\"syncable\":false,\"top_units\":\"screen\"},\"id\":\"22385\",\"type\":\"BoxAnnotation\"},{\"attributes\":{},\"id\":\"23003\",\"type\":\"Selection\"},{\"attributes\":{\"tools\":[{\"id\":\"22379\"},{\"id\":\"22380\"},{\"id\":\"22381\"},{\"id\":\"22382\"},{\"id\":\"22383\"},{\"id\":\"22384\"}]},\"id\":\"22386\",\"type\":\"Toolbar\"},{\"attributes\":{\"coordinates\":null,\"group\":null,\"text\":\"F\"},\"id\":\"22399\",\"type\":\"Title\"},{\"attributes\":{\"axis_label\":\"F Frequency\",\"coordinates\":null,\"formatter\":{\"id\":\"23000\"},\"group\":null,\"major_label_policy\":{\"id\":\"23001\"},\"ticker\":{\"id\":\"22372\"}},\"id\":\"22371\",\"type\":\"LinearAxis\"}],\"root_ids\":[\"22362\"]},\"title\":\"Bokeh Application\",\"version\":\"2.4.3\"}};\n",
       "  const render_items = [{\"docid\":\"0db0be33-899d-46f8-9d21-0cf33b19c89a\",\"root_ids\":[\"22362\"],\"roots\":{\"22362\":\"688dcd53-f4e7-492a-9596-29d87a4508d5\"}}];\n",
       "  root.Bokeh.embed.embed_items_notebook(docs_json, render_items);\n",
       "  }\n",
       "  if (root.Bokeh !== undefined) {\n",
       "    embed_document(root);\n",
       "  } else {\n",
       "    let attempts = 0;\n",
       "    const timer = setInterval(function(root) {\n",
       "      if (root.Bokeh !== undefined) {\n",
       "        clearInterval(timer);\n",
       "        embed_document(root);\n",
       "      } else {\n",
       "        attempts++;\n",
       "        if (attempts > 100) {\n",
       "          clearInterval(timer);\n",
       "          console.log(\"Bokeh: ERROR: Unable to run BokehJS code because BokehJS library is missing\");\n",
       "        }\n",
       "      }\n",
       "    }, 10, root)\n",
       "  }\n",
       "})(window);"
      ],
      "application/vnd.bokehjs_exec.v0+json": ""
     },
     "metadata": {
      "application/vnd.bokehjs_exec.v0+json": {
       "id": "22362"
      }
     },
     "output_type": "display_data"
    },
    {
     "data": {
      "text/html": [
       "\n",
       "  <div class=\"bk-root\" id=\"d9062a80-8735-4496-83e1-9c4dde5cc1ac\" data-root-id=\"23060\"></div>\n"
      ]
     },
     "metadata": {},
     "output_type": "display_data"
    },
    {
     "data": {
      "application/javascript": [
       "(function(root) {\n",
       "  function embed_document(root) {\n",
       "  const docs_json = {\"019e4c4a-383f-4dcc-8b9b-73e1de6f8a16\":{\"defs\":[],\"roots\":{\"references\":[{\"attributes\":{\"below\":[{\"id\":\"23069\"}],\"center\":[{\"id\":\"23072\"},{\"id\":\"23076\"}],\"left\":[{\"id\":\"23073\"}],\"renderers\":[{\"id\":\"23095\"}],\"title\":{\"id\":\"23097\"},\"toolbar\":{\"id\":\"23084\"},\"x_range\":{\"id\":\"23061\"},\"x_scale\":{\"id\":\"23065\"},\"y_range\":{\"id\":\"23063\"},\"y_scale\":{\"id\":\"23067\"}},\"id\":\"23060\",\"subtype\":\"Figure\",\"type\":\"Plot\"},{\"attributes\":{},\"id\":\"23078\",\"type\":\"WheelZoomTool\"},{\"attributes\":{},\"id\":\"23082\",\"type\":\"HelpTool\"},{\"attributes\":{},\"id\":\"23077\",\"type\":\"PanTool\"},{\"attributes\":{},\"id\":\"23061\",\"type\":\"DataRange1d\"},{\"attributes\":{\"overlay\":{\"id\":\"23083\"}},\"id\":\"23079\",\"type\":\"BoxZoomTool\"},{\"attributes\":{},\"id\":\"23080\",\"type\":\"SaveTool\"},{\"attributes\":{\"source\":{\"id\":\"23091\"}},\"id\":\"23096\",\"type\":\"CDSView\"},{\"attributes\":{},\"id\":\"23081\",\"type\":\"ResetTool\"},{\"attributes\":{},\"id\":\"23711\",\"type\":\"UnionRenderers\"},{\"attributes\":{\"bottom_units\":\"screen\",\"coordinates\":null,\"fill_alpha\":0.5,\"fill_color\":\"lightgrey\",\"group\":null,\"left_units\":\"screen\",\"level\":\"overlay\",\"line_alpha\":1.0,\"line_color\":\"black\",\"line_dash\":[4,4],\"line_width\":2,\"right_units\":\"screen\",\"syncable\":false,\"top_units\":\"screen\"},\"id\":\"23083\",\"type\":\"BoxAnnotation\"},{\"attributes\":{},\"id\":\"23712\",\"type\":\"Selection\"},{\"attributes\":{\"coordinates\":null,\"data_source\":{\"id\":\"23091\"},\"glyph\":{\"id\":\"23092\"},\"group\":null,\"hover_glyph\":null,\"muted_glyph\":{\"id\":\"23094\"},\"nonselection_glyph\":{\"id\":\"23093\"},\"view\":{\"id\":\"23096\"}},\"id\":\"23095\",\"type\":\"GlyphRenderer\"},{\"attributes\":{\"fill_alpha\":{\"value\":0.2},\"fill_color\":{\"value\":\"#1f77b4\"},\"hatch_alpha\":{\"value\":0.2},\"line_alpha\":{\"value\":0.2},\"line_color\":{\"value\":\"#1f77b4\"},\"x\":{\"field\":\"x\"},\"y\":{\"field\":\"y\"}},\"id\":\"23094\",\"type\":\"Circle\"},{\"attributes\":{\"fill_alpha\":{\"value\":0.1},\"fill_color\":{\"value\":\"#1f77b4\"},\"hatch_alpha\":{\"value\":0.1},\"line_alpha\":{\"value\":0.1},\"line_color\":{\"value\":\"#1f77b4\"},\"x\":{\"field\":\"x\"},\"y\":{\"field\":\"y\"}},\"id\":\"23093\",\"type\":\"Circle\"},{\"attributes\":{\"coordinates\":null,\"group\":null,\"text\":\"G\"},\"id\":\"23097\",\"type\":\"Title\"},{\"attributes\":{\"axis_label\":\"G Frequency\",\"coordinates\":null,\"formatter\":{\"id\":\"23709\"},\"group\":null,\"major_label_policy\":{\"id\":\"23710\"},\"ticker\":{\"id\":\"23070\"}},\"id\":\"23069\",\"type\":\"LinearAxis\"},{\"attributes\":{\"data\":{\"x\":[0.07183212267958031,0.06984667802385008,0.06845003933910307,0.08070432868672046,0.07745865970409051,0.08274231678486997,0.07905460472697637,0.07679324894514768,0.07523739956172389,0.07245222929936306,0.08527131782945736,0.07783018867924528,0.06943335993615324,0.07330677290836653,0.07120253164556962,0.07378777231201687,0.07777777777777778,0.06818181818181818,0.07262569832402235,0.0781831720029784,0.07342378292098962,0.07274180655475619,0.08143607705779335,0.09852216748768473,0.08112582781456953,0.0696945967110415,0.07094594594594594,0.07629204265791632,0.07910576096302666,0.08156028368794327,0.07501769285208776,0.07512764405543398,0.08404074702886248,0.07959356477561388,0.08164983164983165,0.07512764405543398,0.08542713567839195,0.08275862068965517,0.07137064071370641,0.07485465116279069,0.0858843537414966,0.07246376811594203,0.07336956521739131,0.0719482619240097,0.07974910394265233,0.08793103448275862,0.07892777364110201,0.07976490344248531,0.0853548966756514,0.07495881383855024,0.07610474631751228,0.08185654008438818,0.0740432612312812,0.08340353833192923,0.08566581849024597,0.08717948717948718,0.08227311280746395,0.08666100254885302,0.08818493150684932,0.07753050969131371,0.08430717863105175,0.08100147275405008,0.07923497267759563,0.07127272727272728,0.0858843537414966,0.07054545454545455,0.07892777364110201,0.07892777364110201,0.07347972972972973,0.07641196013289037,0.07929883138564274,0.07686335403726709,0.08040201005025126,0.07894736842105263,0.09017857142857143,0.0775473399458972,0.08047690014903129],\"y\":[0.2851670477800451,0.2702402661513399,0.432061685620977,0.3898724445572241,0.29458573520012254,0.6104893769690102,0.35044160109251976,0.26988138782758875,0.6826167962077495,0.4616378165944257,0.7189011157425981,0.7321885437632035,0.3393312429608442,0.4160072288010653,0.409548278484123,0.7471648802454562,0.653411396022395,0.2968308145349908,0.41307256750236687,0.5223887952113582,0.39022929006636004,0.35283906464335824,0.7136233373179821,0.6677882621956012,0.27633708893783704,0.4636155070752707,0.359293808020336,0.4258873394006253,0.6428471649689257,0.5512825664578923,0.5077429418821842,0.6660342703163326,0.35351896795175924,0.4475331625878192,0.6011982416335792,0.6663096444805614,0.43383706334642963,0.6001074107563085,0.2833592666222529,0.4243578946783289,0.5426800525833473,0.36257306571544373,0.30467776311034744,0.2874929757995978,0.4735989345501921,0.6701036532738713,0.504582461506877,0.5208619670185084,0.6199785834743322,0.3471458095066113,0.49686340673501883,0.3856621411083908,0.44466886499391073,0.5918431121075589,0.5789368104312939,0.6738960441220606,0.6549272184628114,0.6547269109380166,0.6779312262346798,0.5176625673713895,0.3788888283571569,0.6655573299550923,0.30799160429194383,0.2883630109992476,0.5627132556849695,0.28919402319036686,0.5121280191724322,0.5215669617511618,0.33777020500615523,0.3938264258377672,0.38538018924380346,0.6621672870523109,0.3908115201296295,0.5845034040310082,0.6809667419034046,0.5391792993985405,0.4769483062149186]},\"selected\":{\"id\":\"23712\"},\"selection_policy\":{\"id\":\"23711\"}},\"id\":\"23091\",\"type\":\"ColumnDataSource\"},{\"attributes\":{},\"id\":\"23706\",\"type\":\"BasicTickFormatter\"},{\"attributes\":{},\"id\":\"23067\",\"type\":\"LinearScale\"},{\"attributes\":{},\"id\":\"23063\",\"type\":\"DataRange1d\"},{\"attributes\":{},\"id\":\"23065\",\"type\":\"LinearScale\"},{\"attributes\":{},\"id\":\"23707\",\"type\":\"AllLabels\"},{\"attributes\":{\"tools\":[{\"id\":\"23077\"},{\"id\":\"23078\"},{\"id\":\"23079\"},{\"id\":\"23080\"},{\"id\":\"23081\"},{\"id\":\"23082\"}]},\"id\":\"23084\",\"type\":\"Toolbar\"},{\"attributes\":{\"fill_color\":{\"value\":\"#1f77b4\"},\"line_color\":{\"value\":\"#1f77b4\"},\"x\":{\"field\":\"x\"},\"y\":{\"field\":\"y\"}},\"id\":\"23092\",\"type\":\"Circle\"},{\"attributes\":{},\"id\":\"23070\",\"type\":\"BasicTicker\"},{\"attributes\":{\"axis\":{\"id\":\"23069\"},\"coordinates\":null,\"group\":null,\"ticker\":null},\"id\":\"23072\",\"type\":\"Grid\"},{\"attributes\":{},\"id\":\"23709\",\"type\":\"BasicTickFormatter\"},{\"attributes\":{},\"id\":\"23710\",\"type\":\"AllLabels\"},{\"attributes\":{\"axis_label\":\"GC Content\",\"coordinates\":null,\"formatter\":{\"id\":\"23706\"},\"group\":null,\"major_label_policy\":{\"id\":\"23707\"},\"ticker\":{\"id\":\"23074\"}},\"id\":\"23073\",\"type\":\"LinearAxis\"},{\"attributes\":{\"axis\":{\"id\":\"23073\"},\"coordinates\":null,\"dimension\":1,\"group\":null,\"ticker\":null},\"id\":\"23076\",\"type\":\"Grid\"},{\"attributes\":{},\"id\":\"23074\",\"type\":\"BasicTicker\"}],\"root_ids\":[\"23060\"]},\"title\":\"Bokeh Application\",\"version\":\"2.4.3\"}};\n",
       "  const render_items = [{\"docid\":\"019e4c4a-383f-4dcc-8b9b-73e1de6f8a16\",\"root_ids\":[\"23060\"],\"roots\":{\"23060\":\"d9062a80-8735-4496-83e1-9c4dde5cc1ac\"}}];\n",
       "  root.Bokeh.embed.embed_items_notebook(docs_json, render_items);\n",
       "  }\n",
       "  if (root.Bokeh !== undefined) {\n",
       "    embed_document(root);\n",
       "  } else {\n",
       "    let attempts = 0;\n",
       "    const timer = setInterval(function(root) {\n",
       "      if (root.Bokeh !== undefined) {\n",
       "        clearInterval(timer);\n",
       "        embed_document(root);\n",
       "      } else {\n",
       "        attempts++;\n",
       "        if (attempts > 100) {\n",
       "          clearInterval(timer);\n",
       "          console.log(\"Bokeh: ERROR: Unable to run BokehJS code because BokehJS library is missing\");\n",
       "        }\n",
       "      }\n",
       "    }, 10, root)\n",
       "  }\n",
       "})(window);"
      ],
      "application/vnd.bokehjs_exec.v0+json": ""
     },
     "metadata": {
      "application/vnd.bokehjs_exec.v0+json": {
       "id": "23060"
      }
     },
     "output_type": "display_data"
    },
    {
     "data": {
      "text/html": [
       "\n",
       "  <div class=\"bk-root\" id=\"73264802-4477-4911-a7ac-50ca0a30d837\" data-root-id=\"23769\"></div>\n"
      ]
     },
     "metadata": {},
     "output_type": "display_data"
    },
    {
     "data": {
      "application/javascript": [
       "(function(root) {\n",
       "  function embed_document(root) {\n",
       "  const docs_json = {\"da1de903-ebe9-471a-be83-5471bc5c68f3\":{\"defs\":[],\"roots\":{\"references\":[{\"attributes\":{\"below\":[{\"id\":\"23778\"}],\"center\":[{\"id\":\"23781\"},{\"id\":\"23785\"}],\"left\":[{\"id\":\"23782\"}],\"renderers\":[{\"id\":\"23804\"}],\"title\":{\"id\":\"23806\"},\"toolbar\":{\"id\":\"23793\"},\"x_range\":{\"id\":\"23770\"},\"x_scale\":{\"id\":\"23774\"},\"y_range\":{\"id\":\"23772\"},\"y_scale\":{\"id\":\"23776\"}},\"id\":\"23769\",\"subtype\":\"Figure\",\"type\":\"Plot\"},{\"attributes\":{\"coordinates\":null,\"group\":null,\"text\":\"H\"},\"id\":\"23806\",\"type\":\"Title\"},{\"attributes\":{\"fill_color\":{\"value\":\"#1f77b4\"},\"line_color\":{\"value\":\"#1f77b4\"},\"x\":{\"field\":\"x\"},\"y\":{\"field\":\"y\"}},\"id\":\"23801\",\"type\":\"Circle\"},{\"attributes\":{},\"id\":\"23772\",\"type\":\"DataRange1d\"},{\"attributes\":{},\"id\":\"24426\",\"type\":\"BasicTickFormatter\"},{\"attributes\":{\"fill_alpha\":{\"value\":0.1},\"fill_color\":{\"value\":\"#1f77b4\"},\"hatch_alpha\":{\"value\":0.1},\"line_alpha\":{\"value\":0.1},\"line_color\":{\"value\":\"#1f77b4\"},\"x\":{\"field\":\"x\"},\"y\":{\"field\":\"y\"}},\"id\":\"23802\",\"type\":\"Circle\"},{\"attributes\":{},\"id\":\"24427\",\"type\":\"AllLabels\"},{\"attributes\":{},\"id\":\"23787\",\"type\":\"WheelZoomTool\"},{\"attributes\":{},\"id\":\"23770\",\"type\":\"DataRange1d\"},{\"attributes\":{},\"id\":\"24429\",\"type\":\"BasicTickFormatter\"},{\"attributes\":{},\"id\":\"23774\",\"type\":\"LinearScale\"},{\"attributes\":{\"axis_label\":\"GC Content\",\"coordinates\":null,\"formatter\":{\"id\":\"24426\"},\"group\":null,\"major_label_policy\":{\"id\":\"24427\"},\"ticker\":{\"id\":\"23783\"}},\"id\":\"23782\",\"type\":\"LinearAxis\"},{\"attributes\":{},\"id\":\"24430\",\"type\":\"AllLabels\"},{\"attributes\":{\"source\":{\"id\":\"23800\"}},\"id\":\"23805\",\"type\":\"CDSView\"},{\"attributes\":{\"fill_alpha\":{\"value\":0.2},\"fill_color\":{\"value\":\"#1f77b4\"},\"hatch_alpha\":{\"value\":0.2},\"line_alpha\":{\"value\":0.2},\"line_color\":{\"value\":\"#1f77b4\"},\"x\":{\"field\":\"x\"},\"y\":{\"field\":\"y\"}},\"id\":\"23803\",\"type\":\"Circle\"},{\"attributes\":{\"axis\":{\"id\":\"23782\"},\"coordinates\":null,\"dimension\":1,\"group\":null,\"ticker\":null},\"id\":\"23785\",\"type\":\"Grid\"},{\"attributes\":{},\"id\":\"23783\",\"type\":\"BasicTicker\"},{\"attributes\":{},\"id\":\"23779\",\"type\":\"BasicTicker\"},{\"attributes\":{},\"id\":\"23786\",\"type\":\"PanTool\"},{\"attributes\":{\"axis\":{\"id\":\"23778\"},\"coordinates\":null,\"group\":null,\"ticker\":null},\"id\":\"23781\",\"type\":\"Grid\"},{\"attributes\":{\"overlay\":{\"id\":\"23792\"}},\"id\":\"23788\",\"type\":\"BoxZoomTool\"},{\"attributes\":{},\"id\":\"23791\",\"type\":\"HelpTool\"},{\"attributes\":{\"tools\":[{\"id\":\"23786\"},{\"id\":\"23787\"},{\"id\":\"23788\"},{\"id\":\"23789\"},{\"id\":\"23790\"},{\"id\":\"23791\"}]},\"id\":\"23793\",\"type\":\"Toolbar\"},{\"attributes\":{},\"id\":\"23790\",\"type\":\"ResetTool\"},{\"attributes\":{},\"id\":\"23789\",\"type\":\"SaveTool\"},{\"attributes\":{},\"id\":\"23776\",\"type\":\"LinearScale\"},{\"attributes\":{},\"id\":\"24431\",\"type\":\"UnionRenderers\"},{\"attributes\":{\"axis_label\":\"H Frequency\",\"coordinates\":null,\"formatter\":{\"id\":\"24429\"},\"group\":null,\"major_label_policy\":{\"id\":\"24430\"},\"ticker\":{\"id\":\"23779\"}},\"id\":\"23778\",\"type\":\"LinearAxis\"},{\"attributes\":{\"bottom_units\":\"screen\",\"coordinates\":null,\"fill_alpha\":0.5,\"fill_color\":\"lightgrey\",\"group\":null,\"left_units\":\"screen\",\"level\":\"overlay\",\"line_alpha\":1.0,\"line_color\":\"black\",\"line_dash\":[4,4],\"line_width\":2,\"right_units\":\"screen\",\"syncable\":false,\"top_units\":\"screen\"},\"id\":\"23792\",\"type\":\"BoxAnnotation\"},{\"attributes\":{\"data\":{\"x\":[0.016142050040355124,0.019591141396933562,0.013375295043273014,0.014673514306676448,0.019147084421235857,0.019700551615445233,0.017929910350448247,0.017721518987341773,0.017531044558071585,0.019904458598726114,0.014642549526270457,0.020440251572327043,0.014365522745411013,0.016733067729083666,0.013449367088607595,0.014054813773717497,0.018253968253968255,0.011730205278592375,0.017557861133280128,0.014892032762472078,0.017557861133280128,0.015187849720223821,0.01838879159369527,0.031198686371100164,0.03145695364238411,0.020360219263899765,0.016891891891891893,0.02132895816242822,0.018916595012897677,0.018617021276595744,0.017692852087756547,0.020423048869438368,0.015280135823429542,0.015241320914479255,0.021043771043771045,0.020423048869438368,0.01423785594639866,0.022413793103448276,0.015409570154095702,0.016715116279069766,0.016156462585034014,0.015297906602254429,0.020833333333333332,0.016168148746968473,0.021505376344086023,0.014655172413793103,0.014147431124348473,0.015113350125944584,0.014375561545372867,0.02471169686985173,0.0220949263502455,0.020253164556962026,0.020798668885191347,0.020219039595619208,0.019508057675996608,0.01623931623931624,0.018659881255301103,0.01954120645709431,0.01797945205479452,0.015793251974156496,0.021702838063439065,0.016200294550810016,0.01912568306010929,0.02327272727272727,0.016156462585034014,0.02327272727272727,0.014147431124348473,0.014892032762472078,0.016047297297297296,0.020764119601328904,0.020868113522537562,0.02096273291925466,0.019262981574539362,0.018421052631578946,0.01607142857142857,0.013525698827772768,0.013412816691505217],\"y\":[0.2851670477800451,0.2702402661513399,0.432061685620977,0.3898724445572241,0.29458573520012254,0.6104893769690102,0.35044160109251976,0.26988138782758875,0.6826167962077495,0.4616378165944257,0.7189011157425981,0.7321885437632035,0.3393312429608442,0.4160072288010653,0.409548278484123,0.7471648802454562,0.653411396022395,0.2968308145349908,0.41307256750236687,0.5223887952113582,0.39022929006636004,0.35283906464335824,0.7136233373179821,0.6677882621956012,0.27633708893783704,0.4636155070752707,0.359293808020336,0.4258873394006253,0.6428471649689257,0.5512825664578923,0.5077429418821842,0.6660342703163326,0.35351896795175924,0.4475331625878192,0.6011982416335792,0.6663096444805614,0.43383706334642963,0.6001074107563085,0.2833592666222529,0.4243578946783289,0.5426800525833473,0.36257306571544373,0.30467776311034744,0.2874929757995978,0.4735989345501921,0.6701036532738713,0.504582461506877,0.5208619670185084,0.6199785834743322,0.3471458095066113,0.49686340673501883,0.3856621411083908,0.44466886499391073,0.5918431121075589,0.5789368104312939,0.6738960441220606,0.6549272184628114,0.6547269109380166,0.6779312262346798,0.5176625673713895,0.3788888283571569,0.6655573299550923,0.30799160429194383,0.2883630109992476,0.5627132556849695,0.28919402319036686,0.5121280191724322,0.5215669617511618,0.33777020500615523,0.3938264258377672,0.38538018924380346,0.6621672870523109,0.3908115201296295,0.5845034040310082,0.6809667419034046,0.5391792993985405,0.4769483062149186]},\"selected\":{\"id\":\"24432\"},\"selection_policy\":{\"id\":\"24431\"}},\"id\":\"23800\",\"type\":\"ColumnDataSource\"},{\"attributes\":{},\"id\":\"24432\",\"type\":\"Selection\"},{\"attributes\":{\"coordinates\":null,\"data_source\":{\"id\":\"23800\"},\"glyph\":{\"id\":\"23801\"},\"group\":null,\"hover_glyph\":null,\"muted_glyph\":{\"id\":\"23803\"},\"nonselection_glyph\":{\"id\":\"23802\"},\"view\":{\"id\":\"23805\"}},\"id\":\"23804\",\"type\":\"GlyphRenderer\"}],\"root_ids\":[\"23769\"]},\"title\":\"Bokeh Application\",\"version\":\"2.4.3\"}};\n",
       "  const render_items = [{\"docid\":\"da1de903-ebe9-471a-be83-5471bc5c68f3\",\"root_ids\":[\"23769\"],\"roots\":{\"23769\":\"73264802-4477-4911-a7ac-50ca0a30d837\"}}];\n",
       "  root.Bokeh.embed.embed_items_notebook(docs_json, render_items);\n",
       "  }\n",
       "  if (root.Bokeh !== undefined) {\n",
       "    embed_document(root);\n",
       "  } else {\n",
       "    let attempts = 0;\n",
       "    const timer = setInterval(function(root) {\n",
       "      if (root.Bokeh !== undefined) {\n",
       "        clearInterval(timer);\n",
       "        embed_document(root);\n",
       "      } else {\n",
       "        attempts++;\n",
       "        if (attempts > 100) {\n",
       "          clearInterval(timer);\n",
       "          console.log(\"Bokeh: ERROR: Unable to run BokehJS code because BokehJS library is missing\");\n",
       "        }\n",
       "      }\n",
       "    }, 10, root)\n",
       "  }\n",
       "})(window);"
      ],
      "application/vnd.bokehjs_exec.v0+json": ""
     },
     "metadata": {
      "application/vnd.bokehjs_exec.v0+json": {
       "id": "23769"
      }
     },
     "output_type": "display_data"
    },
    {
     "data": {
      "text/html": [
       "\n",
       "  <div class=\"bk-root\" id=\"b9a3f1a6-db24-42f1-9a05-61dba7e8870b\" data-root-id=\"24489\"></div>\n"
      ]
     },
     "metadata": {},
     "output_type": "display_data"
    },
    {
     "data": {
      "application/javascript": [
       "(function(root) {\n",
       "  function embed_document(root) {\n",
       "  const docs_json = {\"7d8ed005-284b-4f43-8da2-05fe3f16cd17\":{\"defs\":[],\"roots\":{\"references\":[{\"attributes\":{\"below\":[{\"id\":\"24498\"}],\"center\":[{\"id\":\"24501\"},{\"id\":\"24505\"}],\"left\":[{\"id\":\"24502\"}],\"renderers\":[{\"id\":\"24524\"}],\"title\":{\"id\":\"24526\"},\"toolbar\":{\"id\":\"24513\"},\"x_range\":{\"id\":\"24490\"},\"x_scale\":{\"id\":\"24494\"},\"y_range\":{\"id\":\"24492\"},\"y_scale\":{\"id\":\"24496\"}},\"id\":\"24489\",\"subtype\":\"Figure\",\"type\":\"Plot\"},{\"attributes\":{},\"id\":\"24496\",\"type\":\"LinearScale\"},{\"attributes\":{},\"id\":\"25157\",\"type\":\"BasicTickFormatter\"},{\"attributes\":{\"axis_label\":\"I Frequency\",\"coordinates\":null,\"formatter\":{\"id\":\"25160\"},\"group\":null,\"major_label_policy\":{\"id\":\"25161\"},\"ticker\":{\"id\":\"24499\"}},\"id\":\"24498\",\"type\":\"LinearAxis\"},{\"attributes\":{},\"id\":\"25158\",\"type\":\"AllLabels\"},{\"attributes\":{\"axis\":{\"id\":\"24498\"},\"coordinates\":null,\"group\":null,\"ticker\":null},\"id\":\"24501\",\"type\":\"Grid\"},{\"attributes\":{},\"id\":\"25160\",\"type\":\"BasicTickFormatter\"},{\"attributes\":{},\"id\":\"24499\",\"type\":\"BasicTicker\"},{\"attributes\":{\"axis_label\":\"GC Content\",\"coordinates\":null,\"formatter\":{\"id\":\"25157\"},\"group\":null,\"major_label_policy\":{\"id\":\"25158\"},\"ticker\":{\"id\":\"24503\"}},\"id\":\"24502\",\"type\":\"LinearAxis\"},{\"attributes\":{},\"id\":\"24507\",\"type\":\"WheelZoomTool\"},{\"attributes\":{},\"id\":\"25161\",\"type\":\"AllLabels\"},{\"attributes\":{\"fill_color\":{\"value\":\"#1f77b4\"},\"line_color\":{\"value\":\"#1f77b4\"},\"x\":{\"field\":\"x\"},\"y\":{\"field\":\"y\"}},\"id\":\"24521\",\"type\":\"Circle\"},{\"attributes\":{\"axis\":{\"id\":\"24502\"},\"coordinates\":null,\"dimension\":1,\"group\":null,\"ticker\":null},\"id\":\"24505\",\"type\":\"Grid\"},{\"attributes\":{\"coordinates\":null,\"group\":null,\"text\":\"I\"},\"id\":\"24526\",\"type\":\"Title\"},{\"attributes\":{},\"id\":\"24503\",\"type\":\"BasicTicker\"},{\"attributes\":{},\"id\":\"24492\",\"type\":\"DataRange1d\"},{\"attributes\":{},\"id\":\"24490\",\"type\":\"DataRange1d\"},{\"attributes\":{},\"id\":\"24511\",\"type\":\"HelpTool\"},{\"attributes\":{},\"id\":\"24506\",\"type\":\"PanTool\"},{\"attributes\":{\"overlay\":{\"id\":\"24512\"}},\"id\":\"24508\",\"type\":\"BoxZoomTool\"},{\"attributes\":{},\"id\":\"24509\",\"type\":\"SaveTool\"},{\"attributes\":{\"data\":{\"x\":[0.08797417271993543,0.07921635434412266,0.07867820613690008,0.058694057226705794,0.07919930374238468,0.06461780929866036,0.07579462102689487,0.06582278481012659,0.0577063550036523,0.06289808917197452,0.056847545219638244,0.0589622641509434,0.06464485235434957,0.07250996015936255,0.07357594936708861,0.06113843991567112,0.07301587301587302,0.07771260997067449,0.06943335993615324,0.06254653760238273,0.07901037509976057,0.0759392486011191,0.05604203152364273,0.03776683087027915,0.061258278145695365,0.07282693813625685,0.05912162162162162,0.06398687448728466,0.06276870163370593,0.07180851063829788,0.07430997876857749,0.051787016776075855,0.06451612903225806,0.06435224386113463,0.05976430976430976,0.051787016776075855,0.0661641541038526,0.06206896551724138,0.08191403081914031,0.06468023255813954,0.06207482993197279,0.07648953301127215,0.09420289855072464,0.08003233629749394,0.06630824372759857,0.05344827586206897,0.06254653760238273,0.0688497061293031,0.05750224618149147,0.060955518945634266,0.05973813420621931,0.06329113924050633,0.06073211314475874,0.060657118786857624,0.05767599660729432,0.05555555555555555,0.05597964376590331,0.056074766355140186,0.05650684931506849,0.061019382627422826,0.07345575959933222,0.06111929307805596,0.052823315118397086,0.088,0.06547619047619048,0.08945454545454545,0.06254653760238273,0.06254653760238273,0.05827702702702703,0.061461794019933555,0.06093489148580968,0.04192546583850932,0.05862646566164154,0.05,0.05,0.060414788097385035,0.06110283159463487],\"y\":[0.2851670477800451,0.2702402661513399,0.432061685620977,0.3898724445572241,0.29458573520012254,0.6104893769690102,0.35044160109251976,0.26988138782758875,0.6826167962077495,0.4616378165944257,0.7189011157425981,0.7321885437632035,0.3393312429608442,0.4160072288010653,0.409548278484123,0.7471648802454562,0.653411396022395,0.2968308145349908,0.41307256750236687,0.5223887952113582,0.39022929006636004,0.35283906464335824,0.7136233373179821,0.6677882621956012,0.27633708893783704,0.4636155070752707,0.359293808020336,0.4258873394006253,0.6428471649689257,0.5512825664578923,0.5077429418821842,0.6660342703163326,0.35351896795175924,0.4475331625878192,0.6011982416335792,0.6663096444805614,0.43383706334642963,0.6001074107563085,0.2833592666222529,0.4243578946783289,0.5426800525833473,0.36257306571544373,0.30467776311034744,0.2874929757995978,0.4735989345501921,0.6701036532738713,0.504582461506877,0.5208619670185084,0.6199785834743322,0.3471458095066113,0.49686340673501883,0.3856621411083908,0.44466886499391073,0.5918431121075589,0.5789368104312939,0.6738960441220606,0.6549272184628114,0.6547269109380166,0.6779312262346798,0.5176625673713895,0.3788888283571569,0.6655573299550923,0.30799160429194383,0.2883630109992476,0.5627132556849695,0.28919402319036686,0.5121280191724322,0.5215669617511618,0.33777020500615523,0.3938264258377672,0.38538018924380346,0.6621672870523109,0.3908115201296295,0.5845034040310082,0.6809667419034046,0.5391792993985405,0.4769483062149186]},\"selected\":{\"id\":\"25163\"},\"selection_policy\":{\"id\":\"25162\"}},\"id\":\"24520\",\"type\":\"ColumnDataSource\"},{\"attributes\":{},\"id\":\"24510\",\"type\":\"ResetTool\"},{\"attributes\":{},\"id\":\"25162\",\"type\":\"UnionRenderers\"},{\"attributes\":{\"bottom_units\":\"screen\",\"coordinates\":null,\"fill_alpha\":0.5,\"fill_color\":\"lightgrey\",\"group\":null,\"left_units\":\"screen\",\"level\":\"overlay\",\"line_alpha\":1.0,\"line_color\":\"black\",\"line_dash\":[4,4],\"line_width\":2,\"right_units\":\"screen\",\"syncable\":false,\"top_units\":\"screen\"},\"id\":\"24512\",\"type\":\"BoxAnnotation\"},{\"attributes\":{},\"id\":\"25163\",\"type\":\"Selection\"},{\"attributes\":{\"fill_alpha\":{\"value\":0.2},\"fill_color\":{\"value\":\"#1f77b4\"},\"hatch_alpha\":{\"value\":0.2},\"line_alpha\":{\"value\":0.2},\"line_color\":{\"value\":\"#1f77b4\"},\"x\":{\"field\":\"x\"},\"y\":{\"field\":\"y\"}},\"id\":\"24523\",\"type\":\"Circle\"},{\"attributes\":{\"fill_alpha\":{\"value\":0.1},\"fill_color\":{\"value\":\"#1f77b4\"},\"hatch_alpha\":{\"value\":0.1},\"line_alpha\":{\"value\":0.1},\"line_color\":{\"value\":\"#1f77b4\"},\"x\":{\"field\":\"x\"},\"y\":{\"field\":\"y\"}},\"id\":\"24522\",\"type\":\"Circle\"},{\"attributes\":{\"coordinates\":null,\"data_source\":{\"id\":\"24520\"},\"glyph\":{\"id\":\"24521\"},\"group\":null,\"hover_glyph\":null,\"muted_glyph\":{\"id\":\"24523\"},\"nonselection_glyph\":{\"id\":\"24522\"},\"view\":{\"id\":\"24525\"}},\"id\":\"24524\",\"type\":\"GlyphRenderer\"},{\"attributes\":{},\"id\":\"24494\",\"type\":\"LinearScale\"},{\"attributes\":{\"tools\":[{\"id\":\"24506\"},{\"id\":\"24507\"},{\"id\":\"24508\"},{\"id\":\"24509\"},{\"id\":\"24510\"},{\"id\":\"24511\"}]},\"id\":\"24513\",\"type\":\"Toolbar\"},{\"attributes\":{\"source\":{\"id\":\"24520\"}},\"id\":\"24525\",\"type\":\"CDSView\"}],\"root_ids\":[\"24489\"]},\"title\":\"Bokeh Application\",\"version\":\"2.4.3\"}};\n",
       "  const render_items = [{\"docid\":\"7d8ed005-284b-4f43-8da2-05fe3f16cd17\",\"root_ids\":[\"24489\"],\"roots\":{\"24489\":\"b9a3f1a6-db24-42f1-9a05-61dba7e8870b\"}}];\n",
       "  root.Bokeh.embed.embed_items_notebook(docs_json, render_items);\n",
       "  }\n",
       "  if (root.Bokeh !== undefined) {\n",
       "    embed_document(root);\n",
       "  } else {\n",
       "    let attempts = 0;\n",
       "    const timer = setInterval(function(root) {\n",
       "      if (root.Bokeh !== undefined) {\n",
       "        clearInterval(timer);\n",
       "        embed_document(root);\n",
       "      } else {\n",
       "        attempts++;\n",
       "        if (attempts > 100) {\n",
       "          clearInterval(timer);\n",
       "          console.log(\"Bokeh: ERROR: Unable to run BokehJS code because BokehJS library is missing\");\n",
       "        }\n",
       "      }\n",
       "    }, 10, root)\n",
       "  }\n",
       "})(window);"
      ],
      "application/vnd.bokehjs_exec.v0+json": ""
     },
     "metadata": {
      "application/vnd.bokehjs_exec.v0+json": {
       "id": "24489"
      }
     },
     "output_type": "display_data"
    },
    {
     "data": {
      "text/html": [
       "\n",
       "  <div class=\"bk-root\" id=\"00b18cd5-9b88-4de0-b123-147a9e163f6d\" data-root-id=\"25220\"></div>\n"
      ]
     },
     "metadata": {},
     "output_type": "display_data"
    },
    {
     "data": {
      "application/javascript": [
       "(function(root) {\n",
       "  function embed_document(root) {\n",
       "  const docs_json = {\"90855ba1-a9b6-4e7a-bf50-2138afabdfdf\":{\"defs\":[],\"roots\":{\"references\":[{\"attributes\":{\"below\":[{\"id\":\"25229\"}],\"center\":[{\"id\":\"25232\"},{\"id\":\"25236\"}],\"left\":[{\"id\":\"25233\"}],\"renderers\":[{\"id\":\"25255\"}],\"title\":{\"id\":\"25257\"},\"toolbar\":{\"id\":\"25244\"},\"x_range\":{\"id\":\"25221\"},\"x_scale\":{\"id\":\"25225\"},\"y_range\":{\"id\":\"25223\"},\"y_scale\":{\"id\":\"25227\"}},\"id\":\"25220\",\"subtype\":\"Figure\",\"type\":\"Plot\"},{\"attributes\":{},\"id\":\"25237\",\"type\":\"PanTool\"},{\"attributes\":{},\"id\":\"25238\",\"type\":\"WheelZoomTool\"},{\"attributes\":{},\"id\":\"25242\",\"type\":\"HelpTool\"},{\"attributes\":{},\"id\":\"25221\",\"type\":\"DataRange1d\"},{\"attributes\":{\"overlay\":{\"id\":\"25243\"}},\"id\":\"25239\",\"type\":\"BoxZoomTool\"},{\"attributes\":{},\"id\":\"25902\",\"type\":\"BasicTickFormatter\"},{\"attributes\":{},\"id\":\"25240\",\"type\":\"SaveTool\"},{\"attributes\":{},\"id\":\"25241\",\"type\":\"ResetTool\"},{\"attributes\":{},\"id\":\"25904\",\"type\":\"UnionRenderers\"},{\"attributes\":{\"bottom_units\":\"screen\",\"coordinates\":null,\"fill_alpha\":0.5,\"fill_color\":\"lightgrey\",\"group\":null,\"left_units\":\"screen\",\"level\":\"overlay\",\"line_alpha\":1.0,\"line_color\":\"black\",\"line_dash\":[4,4],\"line_width\":2,\"right_units\":\"screen\",\"syncable\":false,\"top_units\":\"screen\"},\"id\":\"25243\",\"type\":\"BoxAnnotation\"},{\"attributes\":{\"data\":{\"x\":[0.06133979015334948,0.07240204429301533,0.07159716758457907,0.05796038151137197,0.07658833768494343,0.07880220646178093,0.07171964140179299,0.07679324894514768,0.05697589481373265,0.06289808917197452,0.04823428079242033,0.05267295597484277,0.07741420590582601,0.07091633466135458,0.06882911392405064,0.07730147575544624,0.07380952380952381,0.09017595307917889,0.07023144453312051,0.058823529411764705,0.07023144453312051,0.0671462829736211,0.0446584938704028,0.034482758620689655,0.054635761589403975,0.06891151135473766,0.04814189189189189,0.054963084495488104,0.03869303525365434,0.054078014184397165,0.06440198159943383,0.049598832968636035,0.0500848896434635,0.05249788314987299,0.047979797979797977,0.049598832968636035,0.05108877721943048,0.04482758620689655,0.06731549067315491,0.07049418604651163,0.04081632653061224,0.06521739130434782,0.06340579710144928,0.07033144704931285,0.05197132616487455,0.05344827586206897,0.05956813104988831,0.055415617128463476,0.047619047619047616,0.06260296540362438,0.04991816693944354,0.049789029535864976,0.056572379367720464,0.04717775905644482,0.04410517387616624,0.044444444444444446,0.041560644614079725,0.04248088360237893,0.04280821917808219,0.05671213208901651,0.06010016694490818,0.05817378497790869,0.056466302367941715,0.07418181818181818,0.047619047619047616,0.07345454545454545,0.05956813104988831,0.058823529411764705,0.048986486486486486,0.054817275747508304,0.05425709515859766,0.046583850931677016,0.05778894472361809,0.04298245614035088,0.05089285714285714,0.04869251577998197,0.05961251862891207],\"y\":[0.2851670477800451,0.2702402661513399,0.432061685620977,0.3898724445572241,0.29458573520012254,0.6104893769690102,0.35044160109251976,0.26988138782758875,0.6826167962077495,0.4616378165944257,0.7189011157425981,0.7321885437632035,0.3393312429608442,0.4160072288010653,0.409548278484123,0.7471648802454562,0.653411396022395,0.2968308145349908,0.41307256750236687,0.5223887952113582,0.39022929006636004,0.35283906464335824,0.7136233373179821,0.6677882621956012,0.27633708893783704,0.4636155070752707,0.359293808020336,0.4258873394006253,0.6428471649689257,0.5512825664578923,0.5077429418821842,0.6660342703163326,0.35351896795175924,0.4475331625878192,0.6011982416335792,0.6663096444805614,0.43383706334642963,0.6001074107563085,0.2833592666222529,0.4243578946783289,0.5426800525833473,0.36257306571544373,0.30467776311034744,0.2874929757995978,0.4735989345501921,0.6701036532738713,0.504582461506877,0.5208619670185084,0.6199785834743322,0.3471458095066113,0.49686340673501883,0.3856621411083908,0.44466886499391073,0.5918431121075589,0.5789368104312939,0.6738960441220606,0.6549272184628114,0.6547269109380166,0.6779312262346798,0.5176625673713895,0.3788888283571569,0.6655573299550923,0.30799160429194383,0.2883630109992476,0.5627132556849695,0.28919402319036686,0.5121280191724322,0.5215669617511618,0.33777020500615523,0.3938264258377672,0.38538018924380346,0.6621672870523109,0.3908115201296295,0.5845034040310082,0.6809667419034046,0.5391792993985405,0.4769483062149186]},\"selected\":{\"id\":\"25905\"},\"selection_policy\":{\"id\":\"25904\"}},\"id\":\"25251\",\"type\":\"ColumnDataSource\"},{\"attributes\":{},\"id\":\"25905\",\"type\":\"Selection\"},{\"attributes\":{\"coordinates\":null,\"data_source\":{\"id\":\"25251\"},\"glyph\":{\"id\":\"25252\"},\"group\":null,\"hover_glyph\":null,\"muted_glyph\":{\"id\":\"25254\"},\"nonselection_glyph\":{\"id\":\"25253\"},\"view\":{\"id\":\"25256\"}},\"id\":\"25255\",\"type\":\"GlyphRenderer\"},{\"attributes\":{\"tools\":[{\"id\":\"25237\"},{\"id\":\"25238\"},{\"id\":\"25239\"},{\"id\":\"25240\"},{\"id\":\"25241\"},{\"id\":\"25242\"}]},\"id\":\"25244\",\"type\":\"Toolbar\"},{\"attributes\":{},\"id\":\"25225\",\"type\":\"LinearScale\"},{\"attributes\":{\"fill_alpha\":{\"value\":0.2},\"fill_color\":{\"value\":\"#1f77b4\"},\"hatch_alpha\":{\"value\":0.2},\"line_alpha\":{\"value\":0.2},\"line_color\":{\"value\":\"#1f77b4\"},\"x\":{\"field\":\"x\"},\"y\":{\"field\":\"y\"}},\"id\":\"25254\",\"type\":\"Circle\"},{\"attributes\":{\"source\":{\"id\":\"25251\"}},\"id\":\"25256\",\"type\":\"CDSView\"},{\"attributes\":{\"axis_label\":\"K Frequency\",\"coordinates\":null,\"formatter\":{\"id\":\"25902\"},\"group\":null,\"major_label_policy\":{\"id\":\"25903\"},\"ticker\":{\"id\":\"25230\"}},\"id\":\"25229\",\"type\":\"LinearAxis\"},{\"attributes\":{\"fill_alpha\":{\"value\":0.1},\"fill_color\":{\"value\":\"#1f77b4\"},\"hatch_alpha\":{\"value\":0.1},\"line_alpha\":{\"value\":0.1},\"line_color\":{\"value\":\"#1f77b4\"},\"x\":{\"field\":\"x\"},\"y\":{\"field\":\"y\"}},\"id\":\"25253\",\"type\":\"Circle\"},{\"attributes\":{},\"id\":\"25223\",\"type\":\"DataRange1d\"},{\"attributes\":{},\"id\":\"25903\",\"type\":\"AllLabels\"},{\"attributes\":{},\"id\":\"25230\",\"type\":\"BasicTicker\"},{\"attributes\":{\"axis\":{\"id\":\"25229\"},\"coordinates\":null,\"group\":null,\"ticker\":null},\"id\":\"25232\",\"type\":\"Grid\"},{\"attributes\":{\"axis\":{\"id\":\"25233\"},\"coordinates\":null,\"dimension\":1,\"group\":null,\"ticker\":null},\"id\":\"25236\",\"type\":\"Grid\"},{\"attributes\":{},\"id\":\"25227\",\"type\":\"LinearScale\"},{\"attributes\":{},\"id\":\"25899\",\"type\":\"BasicTickFormatter\"},{\"attributes\":{\"axis_label\":\"GC Content\",\"coordinates\":null,\"formatter\":{\"id\":\"25899\"},\"group\":null,\"major_label_policy\":{\"id\":\"25900\"},\"ticker\":{\"id\":\"25234\"}},\"id\":\"25233\",\"type\":\"LinearAxis\"},{\"attributes\":{\"fill_color\":{\"value\":\"#1f77b4\"},\"line_color\":{\"value\":\"#1f77b4\"},\"x\":{\"field\":\"x\"},\"y\":{\"field\":\"y\"}},\"id\":\"25252\",\"type\":\"Circle\"},{\"attributes\":{},\"id\":\"25900\",\"type\":\"AllLabels\"},{\"attributes\":{},\"id\":\"25234\",\"type\":\"BasicTicker\"},{\"attributes\":{\"coordinates\":null,\"group\":null,\"text\":\"K\"},\"id\":\"25257\",\"type\":\"Title\"}],\"root_ids\":[\"25220\"]},\"title\":\"Bokeh Application\",\"version\":\"2.4.3\"}};\n",
       "  const render_items = [{\"docid\":\"90855ba1-a9b6-4e7a-bf50-2138afabdfdf\",\"root_ids\":[\"25220\"],\"roots\":{\"25220\":\"00b18cd5-9b88-4de0-b123-147a9e163f6d\"}}];\n",
       "  root.Bokeh.embed.embed_items_notebook(docs_json, render_items);\n",
       "  }\n",
       "  if (root.Bokeh !== undefined) {\n",
       "    embed_document(root);\n",
       "  } else {\n",
       "    let attempts = 0;\n",
       "    const timer = setInterval(function(root) {\n",
       "      if (root.Bokeh !== undefined) {\n",
       "        clearInterval(timer);\n",
       "        embed_document(root);\n",
       "      } else {\n",
       "        attempts++;\n",
       "        if (attempts > 100) {\n",
       "          clearInterval(timer);\n",
       "          console.log(\"Bokeh: ERROR: Unable to run BokehJS code because BokehJS library is missing\");\n",
       "        }\n",
       "      }\n",
       "    }, 10, root)\n",
       "  }\n",
       "})(window);"
      ],
      "application/vnd.bokehjs_exec.v0+json": ""
     },
     "metadata": {
      "application/vnd.bokehjs_exec.v0+json": {
       "id": "25220"
      }
     },
     "output_type": "display_data"
    },
    {
     "data": {
      "text/html": [
       "\n",
       "  <div class=\"bk-root\" id=\"081dc165-e43d-421e-a5a4-8fbb163b178d\" data-root-id=\"25962\"></div>\n"
      ]
     },
     "metadata": {},
     "output_type": "display_data"
    },
    {
     "data": {
      "application/javascript": [
       "(function(root) {\n",
       "  function embed_document(root) {\n",
       "  const docs_json = {\"d5912860-1069-4c30-93bd-48d1e9f69e49\":{\"defs\":[],\"roots\":{\"references\":[{\"attributes\":{\"below\":[{\"id\":\"25971\"}],\"center\":[{\"id\":\"25974\"},{\"id\":\"25978\"}],\"left\":[{\"id\":\"25975\"}],\"renderers\":[{\"id\":\"25997\"}],\"title\":{\"id\":\"25999\"},\"toolbar\":{\"id\":\"25986\"},\"x_range\":{\"id\":\"25963\"},\"x_scale\":{\"id\":\"25967\"},\"y_range\":{\"id\":\"25965\"},\"y_scale\":{\"id\":\"25969\"}},\"id\":\"25962\",\"subtype\":\"Figure\",\"type\":\"Plot\"},{\"attributes\":{\"data\":{\"x\":[0.07990314769975787,0.07921635434412266,0.0904799370574351,0.09391049156272928,0.09573542210617929,0.09141055949566587,0.08394458027709861,0.09789029535864979,0.09130752373995617,0.08359872611464968,0.082687338501292,0.09355345911949685,0.08699122106943336,0.08844621513944223,0.09098101265822785,0.09276177090653549,0.09285714285714286,0.0872434017595308,0.0965682362330407,0.09381980640357408,0.09577015163607343,0.08393285371702638,0.08318739054290718,0.07717569786535304,0.08278145695364239,0.08457321848081441,0.08868243243243243,0.08367514356029532,0.09114359415305245,0.10195035460992907,0.09554140127388536,0.08971553610503283,0.08573853989813243,0.09060118543607112,0.07828282828282829,0.08971553610503283,0.08458961474036851,0.08275862068965517,0.08759124087591241,0.09738372093023256,0.08333333333333333,0.08856682769726248,0.1068840579710145,0.0856911883589329,0.08781362007168458,0.08706896551724137,0.09456440804169769,0.08564231738035265,0.09523809523809523,0.08072487644151564,0.08346972176759411,0.08270042194092828,0.07986688851913477,0.07582139848357203,0.08481764206955046,0.0829059829059829,0.08312128922815945,0.08496176720475786,0.08476027397260275,0.09404163675520459,0.07846410684474124,0.093519882179676,0.09562841530054644,0.088,0.08928571428571429,0.08872727272727272,0.09456440804169769,0.09456440804169769,0.08614864864864864,0.07475083056478406,0.07595993322203673,0.09006211180124224,0.08040201005025126,0.09385964912280702,0.10714285714285714,0.09107303877366997,0.09239940387481371],\"y\":[0.2851670477800451,0.2702402661513399,0.432061685620977,0.3898724445572241,0.29458573520012254,0.6104893769690102,0.35044160109251976,0.26988138782758875,0.6826167962077495,0.4616378165944257,0.7189011157425981,0.7321885437632035,0.3393312429608442,0.4160072288010653,0.409548278484123,0.7471648802454562,0.653411396022395,0.2968308145349908,0.41307256750236687,0.5223887952113582,0.39022929006636004,0.35283906464335824,0.7136233373179821,0.6677882621956012,0.27633708893783704,0.4636155070752707,0.359293808020336,0.4258873394006253,0.6428471649689257,0.5512825664578923,0.5077429418821842,0.6660342703163326,0.35351896795175924,0.4475331625878192,0.6011982416335792,0.6663096444805614,0.43383706334642963,0.6001074107563085,0.2833592666222529,0.4243578946783289,0.5426800525833473,0.36257306571544373,0.30467776311034744,0.2874929757995978,0.4735989345501921,0.6701036532738713,0.504582461506877,0.5208619670185084,0.6199785834743322,0.3471458095066113,0.49686340673501883,0.3856621411083908,0.44466886499391073,0.5918431121075589,0.5789368104312939,0.6738960441220606,0.6549272184628114,0.6547269109380166,0.6779312262346798,0.5176625673713895,0.3788888283571569,0.6655573299550923,0.30799160429194383,0.2883630109992476,0.5627132556849695,0.28919402319036686,0.5121280191724322,0.5215669617511618,0.33777020500615523,0.3938264258377672,0.38538018924380346,0.6621672870523109,0.3908115201296295,0.5845034040310082,0.6809667419034046,0.5391792993985405,0.4769483062149186]},\"selected\":{\"id\":\"26658\"},\"selection_policy\":{\"id\":\"26657\"}},\"id\":\"25993\",\"type\":\"ColumnDataSource\"},{\"attributes\":{\"fill_color\":{\"value\":\"#1f77b4\"},\"line_color\":{\"value\":\"#1f77b4\"},\"x\":{\"field\":\"x\"},\"y\":{\"field\":\"y\"}},\"id\":\"25994\",\"type\":\"Circle\"},{\"attributes\":{\"axis_label\":\"L Frequency\",\"coordinates\":null,\"formatter\":{\"id\":\"26655\"},\"group\":null,\"major_label_policy\":{\"id\":\"26656\"},\"ticker\":{\"id\":\"25972\"}},\"id\":\"25971\",\"type\":\"LinearAxis\"},{\"attributes\":{},\"id\":\"26657\",\"type\":\"UnionRenderers\"},{\"attributes\":{\"coordinates\":null,\"data_source\":{\"id\":\"25993\"},\"glyph\":{\"id\":\"25994\"},\"group\":null,\"hover_glyph\":null,\"muted_glyph\":{\"id\":\"25996\"},\"nonselection_glyph\":{\"id\":\"25995\"},\"view\":{\"id\":\"25998\"}},\"id\":\"25997\",\"type\":\"GlyphRenderer\"},{\"attributes\":{\"fill_alpha\":{\"value\":0.2},\"fill_color\":{\"value\":\"#1f77b4\"},\"hatch_alpha\":{\"value\":0.2},\"line_alpha\":{\"value\":0.2},\"line_color\":{\"value\":\"#1f77b4\"},\"x\":{\"field\":\"x\"},\"y\":{\"field\":\"y\"}},\"id\":\"25996\",\"type\":\"Circle\"},{\"attributes\":{},\"id\":\"26656\",\"type\":\"AllLabels\"},{\"attributes\":{\"fill_alpha\":{\"value\":0.1},\"fill_color\":{\"value\":\"#1f77b4\"},\"hatch_alpha\":{\"value\":0.1},\"line_alpha\":{\"value\":0.1},\"line_color\":{\"value\":\"#1f77b4\"},\"x\":{\"field\":\"x\"},\"y\":{\"field\":\"y\"}},\"id\":\"25995\",\"type\":\"Circle\"},{\"attributes\":{},\"id\":\"25969\",\"type\":\"LinearScale\"},{\"attributes\":{},\"id\":\"25965\",\"type\":\"DataRange1d\"},{\"attributes\":{},\"id\":\"25967\",\"type\":\"LinearScale\"},{\"attributes\":{},\"id\":\"25972\",\"type\":\"BasicTicker\"},{\"attributes\":{},\"id\":\"26658\",\"type\":\"Selection\"},{\"attributes\":{\"axis\":{\"id\":\"25971\"},\"coordinates\":null,\"group\":null,\"ticker\":null},\"id\":\"25974\",\"type\":\"Grid\"},{\"attributes\":{\"source\":{\"id\":\"25993\"}},\"id\":\"25998\",\"type\":\"CDSView\"},{\"attributes\":{\"axis_label\":\"GC Content\",\"coordinates\":null,\"formatter\":{\"id\":\"26652\"},\"group\":null,\"major_label_policy\":{\"id\":\"26653\"},\"ticker\":{\"id\":\"25976\"}},\"id\":\"25975\",\"type\":\"LinearAxis\"},{\"attributes\":{\"axis\":{\"id\":\"25975\"},\"coordinates\":null,\"dimension\":1,\"group\":null,\"ticker\":null},\"id\":\"25978\",\"type\":\"Grid\"},{\"attributes\":{},\"id\":\"25976\",\"type\":\"BasicTicker\"},{\"attributes\":{},\"id\":\"26655\",\"type\":\"BasicTickFormatter\"},{\"attributes\":{},\"id\":\"25980\",\"type\":\"WheelZoomTool\"},{\"attributes\":{},\"id\":\"25984\",\"type\":\"HelpTool\"},{\"attributes\":{\"coordinates\":null,\"group\":null,\"text\":\"L\"},\"id\":\"25999\",\"type\":\"Title\"},{\"attributes\":{},\"id\":\"25979\",\"type\":\"PanTool\"},{\"attributes\":{\"overlay\":{\"id\":\"25985\"}},\"id\":\"25981\",\"type\":\"BoxZoomTool\"},{\"attributes\":{},\"id\":\"26653\",\"type\":\"AllLabels\"},{\"attributes\":{},\"id\":\"25982\",\"type\":\"SaveTool\"},{\"attributes\":{},\"id\":\"25983\",\"type\":\"ResetTool\"},{\"attributes\":{},\"id\":\"26652\",\"type\":\"BasicTickFormatter\"},{\"attributes\":{\"bottom_units\":\"screen\",\"coordinates\":null,\"fill_alpha\":0.5,\"fill_color\":\"lightgrey\",\"group\":null,\"left_units\":\"screen\",\"level\":\"overlay\",\"line_alpha\":1.0,\"line_color\":\"black\",\"line_dash\":[4,4],\"line_width\":2,\"right_units\":\"screen\",\"syncable\":false,\"top_units\":\"screen\"},\"id\":\"25985\",\"type\":\"BoxAnnotation\"},{\"attributes\":{},\"id\":\"25963\",\"type\":\"DataRange1d\"},{\"attributes\":{\"tools\":[{\"id\":\"25979\"},{\"id\":\"25980\"},{\"id\":\"25981\"},{\"id\":\"25982\"},{\"id\":\"25983\"},{\"id\":\"25984\"}]},\"id\":\"25986\",\"type\":\"Toolbar\"}],\"root_ids\":[\"25962\"]},\"title\":\"Bokeh Application\",\"version\":\"2.4.3\"}};\n",
       "  const render_items = [{\"docid\":\"d5912860-1069-4c30-93bd-48d1e9f69e49\",\"root_ids\":[\"25962\"],\"roots\":{\"25962\":\"081dc165-e43d-421e-a5a4-8fbb163b178d\"}}];\n",
       "  root.Bokeh.embed.embed_items_notebook(docs_json, render_items);\n",
       "  }\n",
       "  if (root.Bokeh !== undefined) {\n",
       "    embed_document(root);\n",
       "  } else {\n",
       "    let attempts = 0;\n",
       "    const timer = setInterval(function(root) {\n",
       "      if (root.Bokeh !== undefined) {\n",
       "        clearInterval(timer);\n",
       "        embed_document(root);\n",
       "      } else {\n",
       "        attempts++;\n",
       "        if (attempts > 100) {\n",
       "          clearInterval(timer);\n",
       "          console.log(\"Bokeh: ERROR: Unable to run BokehJS code because BokehJS library is missing\");\n",
       "        }\n",
       "      }\n",
       "    }, 10, root)\n",
       "  }\n",
       "})(window);"
      ],
      "application/vnd.bokehjs_exec.v0+json": ""
     },
     "metadata": {
      "application/vnd.bokehjs_exec.v0+json": {
       "id": "25962"
      }
     },
     "output_type": "display_data"
    },
    {
     "data": {
      "text/html": [
       "\n",
       "  <div class=\"bk-root\" id=\"2723f678-423a-4165-81dd-1edc983bf597\" data-root-id=\"26715\"></div>\n"
      ]
     },
     "metadata": {},
     "output_type": "display_data"
    },
    {
     "data": {
      "application/javascript": [
       "(function(root) {\n",
       "  function embed_document(root) {\n",
       "  const docs_json = {\"aaf70067-857b-4cf7-a274-defbd067740d\":{\"defs\":[],\"roots\":{\"references\":[{\"attributes\":{\"below\":[{\"id\":\"26724\"}],\"center\":[{\"id\":\"26727\"},{\"id\":\"26731\"}],\"left\":[{\"id\":\"26728\"}],\"renderers\":[{\"id\":\"26750\"}],\"title\":{\"id\":\"26752\"},\"toolbar\":{\"id\":\"26739\"},\"x_range\":{\"id\":\"26716\"},\"x_scale\":{\"id\":\"26720\"},\"y_range\":{\"id\":\"26718\"},\"y_scale\":{\"id\":\"26722\"}},\"id\":\"26715\",\"subtype\":\"Figure\",\"type\":\"Plot\"},{\"attributes\":{},\"id\":\"26720\",\"type\":\"LinearScale\"},{\"attributes\":{\"axis_label\":\"N Frequency\",\"coordinates\":null,\"formatter\":{\"id\":\"27419\"},\"group\":null,\"major_label_policy\":{\"id\":\"27420\"},\"ticker\":{\"id\":\"26725\"}},\"id\":\"26724\",\"type\":\"LinearAxis\"},{\"attributes\":{\"source\":{\"id\":\"26746\"}},\"id\":\"26751\",\"type\":\"CDSView\"},{\"attributes\":{},\"id\":\"27421\",\"type\":\"UnionRenderers\"},{\"attributes\":{\"fill_alpha\":{\"value\":0.2},\"fill_color\":{\"value\":\"#1f77b4\"},\"hatch_alpha\":{\"value\":0.2},\"line_alpha\":{\"value\":0.2},\"line_color\":{\"value\":\"#1f77b4\"},\"x\":{\"field\":\"x\"},\"y\":{\"field\":\"y\"}},\"id\":\"26749\",\"type\":\"Circle\"},{\"attributes\":{},\"id\":\"26718\",\"type\":\"DataRange1d\"},{\"attributes\":{},\"id\":\"26722\",\"type\":\"LinearScale\"},{\"attributes\":{\"axis\":{\"id\":\"26724\"},\"coordinates\":null,\"group\":null,\"ticker\":null},\"id\":\"26727\",\"type\":\"Grid\"},{\"attributes\":{\"bottom_units\":\"screen\",\"coordinates\":null,\"fill_alpha\":0.5,\"fill_color\":\"lightgrey\",\"group\":null,\"left_units\":\"screen\",\"level\":\"overlay\",\"line_alpha\":1.0,\"line_color\":\"black\",\"line_dash\":[4,4],\"line_width\":2,\"right_units\":\"screen\",\"syncable\":false,\"top_units\":\"screen\"},\"id\":\"26738\",\"type\":\"BoxAnnotation\"},{\"attributes\":{},\"id\":\"26725\",\"type\":\"BasicTicker\"},{\"attributes\":{\"tools\":[{\"id\":\"26732\"},{\"id\":\"26733\"},{\"id\":\"26734\"},{\"id\":\"26735\"},{\"id\":\"26736\"},{\"id\":\"26737\"}]},\"id\":\"26739\",\"type\":\"Toolbar\"},{\"attributes\":{\"axis_label\":\"GC Content\",\"coordinates\":null,\"formatter\":{\"id\":\"27416\"},\"group\":null,\"major_label_policy\":{\"id\":\"27417\"},\"ticker\":{\"id\":\"26729\"}},\"id\":\"26728\",\"type\":\"LinearAxis\"},{\"attributes\":{\"axis\":{\"id\":\"26728\"},\"coordinates\":null,\"dimension\":1,\"group\":null,\"ticker\":null},\"id\":\"26731\",\"type\":\"Grid\"},{\"attributes\":{},\"id\":\"26729\",\"type\":\"BasicTicker\"},{\"attributes\":{},\"id\":\"26733\",\"type\":\"WheelZoomTool\"},{\"attributes\":{\"coordinates\":null,\"data_source\":{\"id\":\"26746\"},\"glyph\":{\"id\":\"26747\"},\"group\":null,\"hover_glyph\":null,\"muted_glyph\":{\"id\":\"26749\"},\"nonselection_glyph\":{\"id\":\"26748\"},\"view\":{\"id\":\"26751\"}},\"id\":\"26750\",\"type\":\"GlyphRenderer\"},{\"attributes\":{\"fill_alpha\":{\"value\":0.1},\"fill_color\":{\"value\":\"#1f77b4\"},\"hatch_alpha\":{\"value\":0.1},\"line_alpha\":{\"value\":0.1},\"line_color\":{\"value\":\"#1f77b4\"},\"x\":{\"field\":\"x\"},\"y\":{\"field\":\"y\"}},\"id\":\"26748\",\"type\":\"Circle\"},{\"attributes\":{},\"id\":\"26737\",\"type\":\"HelpTool\"},{\"attributes\":{},\"id\":\"27419\",\"type\":\"BasicTickFormatter\"},{\"attributes\":{},\"id\":\"26716\",\"type\":\"DataRange1d\"},{\"attributes\":{\"coordinates\":null,\"group\":null,\"text\":\"N\"},\"id\":\"26752\",\"type\":\"Title\"},{\"attributes\":{\"fill_color\":{\"value\":\"#1f77b4\"},\"line_color\":{\"value\":\"#1f77b4\"},\"x\":{\"field\":\"x\"},\"y\":{\"field\":\"y\"}},\"id\":\"26747\",\"type\":\"Circle\"},{\"attributes\":{},\"id\":\"26732\",\"type\":\"PanTool\"},{\"attributes\":{\"overlay\":{\"id\":\"26738\"}},\"id\":\"26734\",\"type\":\"BoxZoomTool\"},{\"attributes\":{},\"id\":\"26735\",\"type\":\"SaveTool\"},{\"attributes\":{},\"id\":\"27417\",\"type\":\"AllLabels\"},{\"attributes\":{\"data\":{\"x\":[0.04600484261501211,0.051959114139693355,0.04956726986624705,0.04181951577402788,0.04351610095735422,0.029156816390858944,0.045639771801140996,0.04725738396624472,0.03506208911614317,0.03662420382165605,0.034453057708871665,0.031446540880503145,0.047086991221069435,0.028685258964143426,0.04588607594936709,0.036542515811665496,0.03492063492063492,0.05498533724340176,0.030327214684756583,0.0379746835443038,0.0335195530726257,0.04716227018385292,0.025394045534150613,0.029556650246305417,0.0380794701986755,0.042286609240407204,0.048986486486486486,0.045118949958982774,0.027515047291487533,0.02925531914893617,0.04104741684359519,0.03646973012399708,0.0432937181663837,0.04403048264182896,0.04208754208754209,0.03646973012399708,0.04271356783919598,0.03362068965517241,0.038929440389294405,0.036337209302325583,0.039965986394557826,0.04508856682769726,0.044384057971014496,0.04203718674211803,0.034050179211469536,0.028448275862068967,0.0379746835443038,0.041981528127623846,0.03863432165318958,0.039538714991762765,0.0425531914893617,0.04810126582278481,0.04159733777038269,0.03706823925863521,0.03307888040712468,0.03675213675213675,0.03307888040712468,0.034834324553950725,0.0351027397260274,0.043072505384063174,0.041736227045075125,0.0390279823269514,0.04553734061930783,0.05163636363636363,0.0391156462585034,0.05163636363636363,0.0379746835443038,0.0379746835443038,0.04814189189189189,0.04152823920265781,0.04340567612687813,0.02872670807453416,0.04187604690117253,0.035964912280701755,0.020535714285714286,0.03787195671776375,0.040238450074515646],\"y\":[0.2851670477800451,0.2702402661513399,0.432061685620977,0.3898724445572241,0.29458573520012254,0.6104893769690102,0.35044160109251976,0.26988138782758875,0.6826167962077495,0.4616378165944257,0.7189011157425981,0.7321885437632035,0.3393312429608442,0.4160072288010653,0.409548278484123,0.7471648802454562,0.653411396022395,0.2968308145349908,0.41307256750236687,0.5223887952113582,0.39022929006636004,0.35283906464335824,0.7136233373179821,0.6677882621956012,0.27633708893783704,0.4636155070752707,0.359293808020336,0.4258873394006253,0.6428471649689257,0.5512825664578923,0.5077429418821842,0.6660342703163326,0.35351896795175924,0.4475331625878192,0.6011982416335792,0.6663096444805614,0.43383706334642963,0.6001074107563085,0.2833592666222529,0.4243578946783289,0.5426800525833473,0.36257306571544373,0.30467776311034744,0.2874929757995978,0.4735989345501921,0.6701036532738713,0.504582461506877,0.5208619670185084,0.6199785834743322,0.3471458095066113,0.49686340673501883,0.3856621411083908,0.44466886499391073,0.5918431121075589,0.5789368104312939,0.6738960441220606,0.6549272184628114,0.6547269109380166,0.6779312262346798,0.5176625673713895,0.3788888283571569,0.6655573299550923,0.30799160429194383,0.2883630109992476,0.5627132556849695,0.28919402319036686,0.5121280191724322,0.5215669617511618,0.33777020500615523,0.3938264258377672,0.38538018924380346,0.6621672870523109,0.3908115201296295,0.5845034040310082,0.6809667419034046,0.5391792993985405,0.4769483062149186]},\"selected\":{\"id\":\"27422\"},\"selection_policy\":{\"id\":\"27421\"}},\"id\":\"26746\",\"type\":\"ColumnDataSource\"},{\"attributes\":{},\"id\":\"26736\",\"type\":\"ResetTool\"},{\"attributes\":{},\"id\":\"27422\",\"type\":\"Selection\"},{\"attributes\":{},\"id\":\"27416\",\"type\":\"BasicTickFormatter\"},{\"attributes\":{},\"id\":\"27420\",\"type\":\"AllLabels\"}],\"root_ids\":[\"26715\"]},\"title\":\"Bokeh Application\",\"version\":\"2.4.3\"}};\n",
       "  const render_items = [{\"docid\":\"aaf70067-857b-4cf7-a274-defbd067740d\",\"root_ids\":[\"26715\"],\"roots\":{\"26715\":\"2723f678-423a-4165-81dd-1edc983bf597\"}}];\n",
       "  root.Bokeh.embed.embed_items_notebook(docs_json, render_items);\n",
       "  }\n",
       "  if (root.Bokeh !== undefined) {\n",
       "    embed_document(root);\n",
       "  } else {\n",
       "    let attempts = 0;\n",
       "    const timer = setInterval(function(root) {\n",
       "      if (root.Bokeh !== undefined) {\n",
       "        clearInterval(timer);\n",
       "        embed_document(root);\n",
       "      } else {\n",
       "        attempts++;\n",
       "        if (attempts > 100) {\n",
       "          clearInterval(timer);\n",
       "          console.log(\"Bokeh: ERROR: Unable to run BokehJS code because BokehJS library is missing\");\n",
       "        }\n",
       "      }\n",
       "    }, 10, root)\n",
       "  }\n",
       "})(window);"
      ],
      "application/vnd.bokehjs_exec.v0+json": ""
     },
     "metadata": {
      "application/vnd.bokehjs_exec.v0+json": {
       "id": "26715"
      }
     },
     "output_type": "display_data"
    },
    {
     "data": {
      "text/html": [
       "\n",
       "  <div class=\"bk-root\" id=\"64cb5223-62a7-4552-90a9-4838037a28c2\" data-root-id=\"27479\"></div>\n"
      ]
     },
     "metadata": {},
     "output_type": "display_data"
    },
    {
     "data": {
      "application/javascript": [
       "(function(root) {\n",
       "  function embed_document(root) {\n",
       "  const docs_json = {\"e9e45222-4f37-44a4-8680-cb9d3306d6ef\":{\"defs\":[],\"roots\":{\"references\":[{\"attributes\":{\"below\":[{\"id\":\"27488\"}],\"center\":[{\"id\":\"27491\"},{\"id\":\"27495\"}],\"left\":[{\"id\":\"27492\"}],\"renderers\":[{\"id\":\"27514\"}],\"title\":{\"id\":\"27516\"},\"toolbar\":{\"id\":\"27503\"},\"x_range\":{\"id\":\"27480\"},\"x_scale\":{\"id\":\"27484\"},\"y_range\":{\"id\":\"27482\"},\"y_scale\":{\"id\":\"27486\"}},\"id\":\"27479\",\"subtype\":\"Figure\",\"type\":\"Plot\"},{\"attributes\":{},\"id\":\"27489\",\"type\":\"BasicTicker\"},{\"attributes\":{\"axis_label\":\"GC Content\",\"coordinates\":null,\"formatter\":{\"id\":\"28191\"},\"group\":null,\"major_label_policy\":{\"id\":\"28192\"},\"ticker\":{\"id\":\"27493\"}},\"id\":\"27492\",\"type\":\"LinearAxis\"},{\"attributes\":{},\"id\":\"27497\",\"type\":\"WheelZoomTool\"},{\"attributes\":{\"axis\":{\"id\":\"27492\"},\"coordinates\":null,\"dimension\":1,\"group\":null,\"ticker\":null},\"id\":\"27495\",\"type\":\"Grid\"},{\"attributes\":{},\"id\":\"28196\",\"type\":\"UnionRenderers\"},{\"attributes\":{},\"id\":\"27493\",\"type\":\"BasicTicker\"},{\"attributes\":{\"source\":{\"id\":\"27510\"}},\"id\":\"27515\",\"type\":\"CDSView\"},{\"attributes\":{},\"id\":\"27501\",\"type\":\"HelpTool\"},{\"attributes\":{},\"id\":\"27496\",\"type\":\"PanTool\"},{\"attributes\":{\"overlay\":{\"id\":\"27502\"}},\"id\":\"27498\",\"type\":\"BoxZoomTool\"},{\"attributes\":{},\"id\":\"27499\",\"type\":\"SaveTool\"},{\"attributes\":{},\"id\":\"27500\",\"type\":\"ResetTool\"},{\"attributes\":{},\"id\":\"28197\",\"type\":\"Selection\"},{\"attributes\":{},\"id\":\"28191\",\"type\":\"BasicTickFormatter\"},{\"attributes\":{\"bottom_units\":\"screen\",\"coordinates\":null,\"fill_alpha\":0.5,\"fill_color\":\"lightgrey\",\"group\":null,\"left_units\":\"screen\",\"level\":\"overlay\",\"line_alpha\":1.0,\"line_color\":\"black\",\"line_dash\":[4,4],\"line_width\":2,\"right_units\":\"screen\",\"syncable\":false,\"top_units\":\"screen\"},\"id\":\"27502\",\"type\":\"BoxAnnotation\"},{\"attributes\":{\"coordinates\":null,\"data_source\":{\"id\":\"27510\"},\"glyph\":{\"id\":\"27511\"},\"group\":null,\"hover_glyph\":null,\"muted_glyph\":{\"id\":\"27513\"},\"nonselection_glyph\":{\"id\":\"27512\"},\"view\":{\"id\":\"27515\"}},\"id\":\"27514\",\"type\":\"GlyphRenderer\"},{\"attributes\":{\"fill_alpha\":{\"value\":0.1},\"fill_color\":{\"value\":\"#1f77b4\"},\"hatch_alpha\":{\"value\":0.1},\"line_alpha\":{\"value\":0.1},\"line_color\":{\"value\":\"#1f77b4\"},\"x\":{\"field\":\"x\"},\"y\":{\"field\":\"y\"}},\"id\":\"27512\",\"type\":\"Circle\"},{\"attributes\":{\"fill_alpha\":{\"value\":0.2},\"fill_color\":{\"value\":\"#1f77b4\"},\"hatch_alpha\":{\"value\":0.2},\"line_alpha\":{\"value\":0.2},\"line_color\":{\"value\":\"#1f77b4\"},\"x\":{\"field\":\"x\"},\"y\":{\"field\":\"y\"}},\"id\":\"27513\",\"type\":\"Circle\"},{\"attributes\":{\"data\":{\"x\":[0.03954802259887006,0.04770017035775128,0.044846577498033044,0.03521643433602348,0.04264577893820714,0.04728132387706856,0.04319478402607987,0.04050632911392405,0.042366691015339665,0.04378980891719745,0.04909560723514212,0.046383647798742135,0.04389465283320032,0.04143426294820717,0.04113924050632911,0.04848910751932537,0.047619047619047616,0.03372434017595308,0.03750997605746209,0.04169769173492182,0.03990422984836393,0.04316546762589928,0.0542907180385289,0.047619047619047616,0.04470198675496689,0.039937353171495694,0.04560810810810811,0.044298605414273995,0.05073086844368014,0.05939716312056738,0.043170559094125975,0.040846097738876735,0.04499151103565365,0.04487722269263336,0.05218855218855219,0.04011670313639679,0.046063651591289785,0.04913793103448276,0.043795620437956206,0.03924418604651163,0.05187074829931973,0.04428341384863124,0.042572463768115944,0.043654001616814875,0.04838709677419355,0.05517241379310345,0.04169769173492182,0.047019311502938706,0.055705300988319856,0.047775947281713346,0.044189852700491,0.04388185654008439,0.04742096505823627,0.05475989890480202,0.0551314673452078,0.05042735042735043,0.0551314673452078,0.05352591333899745,0.05051369863013699,0.03589375448671931,0.05008347245409015,0.039764359351988215,0.05737704918032787,0.03490909090909091,0.04591836734693878,0.03490909090909091,0.04169769173492182,0.04095309009679821,0.04222972972972973,0.044850498338870434,0.04257095158597663,0.043478260869565216,0.04355108877721943,0.062280701754385964,0.06339285714285714,0.06402164111812443,0.040983606557377046],\"y\":[0.2851670477800451,0.2702402661513399,0.432061685620977,0.3898724445572241,0.29458573520012254,0.6104893769690102,0.35044160109251976,0.26988138782758875,0.6826167962077495,0.4616378165944257,0.7189011157425981,0.7321885437632035,0.3393312429608442,0.4160072288010653,0.409548278484123,0.7471648802454562,0.653411396022395,0.2968308145349908,0.41307256750236687,0.5223887952113582,0.39022929006636004,0.35283906464335824,0.7136233373179821,0.6677882621956012,0.27633708893783704,0.4636155070752707,0.359293808020336,0.4258873394006253,0.6428471649689257,0.5512825664578923,0.5077429418821842,0.6660342703163326,0.35351896795175924,0.4475331625878192,0.6011982416335792,0.6663096444805614,0.43383706334642963,0.6001074107563085,0.2833592666222529,0.4243578946783289,0.5426800525833473,0.36257306571544373,0.30467776311034744,0.2874929757995978,0.4735989345501921,0.6701036532738713,0.504582461506877,0.5208619670185084,0.6199785834743322,0.3471458095066113,0.49686340673501883,0.3856621411083908,0.44466886499391073,0.5918431121075589,0.5789368104312939,0.6738960441220606,0.6549272184628114,0.6547269109380166,0.6779312262346798,0.5176625673713895,0.3788888283571569,0.6655573299550923,0.30799160429194383,0.2883630109992476,0.5627132556849695,0.28919402319036686,0.5121280191724322,0.5215669617511618,0.33777020500615523,0.3938264258377672,0.38538018924380346,0.6621672870523109,0.3908115201296295,0.5845034040310082,0.6809667419034046,0.5391792993985405,0.4769483062149186]},\"selected\":{\"id\":\"28197\"},\"selection_policy\":{\"id\":\"28196\"}},\"id\":\"27510\",\"type\":\"ColumnDataSource\"},{\"attributes\":{\"tools\":[{\"id\":\"27496\"},{\"id\":\"27497\"},{\"id\":\"27498\"},{\"id\":\"27499\"},{\"id\":\"27500\"},{\"id\":\"27501\"}]},\"id\":\"27503\",\"type\":\"Toolbar\"},{\"attributes\":{},\"id\":\"28192\",\"type\":\"AllLabels\"},{\"attributes\":{},\"id\":\"28194\",\"type\":\"BasicTickFormatter\"},{\"attributes\":{},\"id\":\"28195\",\"type\":\"AllLabels\"},{\"attributes\":{\"axis_label\":\"P Frequency\",\"coordinates\":null,\"formatter\":{\"id\":\"28194\"},\"group\":null,\"major_label_policy\":{\"id\":\"28195\"},\"ticker\":{\"id\":\"27489\"}},\"id\":\"27488\",\"type\":\"LinearAxis\"},{\"attributes\":{},\"id\":\"27486\",\"type\":\"LinearScale\"},{\"attributes\":{},\"id\":\"27482\",\"type\":\"DataRange1d\"},{\"attributes\":{},\"id\":\"27484\",\"type\":\"LinearScale\"},{\"attributes\":{\"fill_color\":{\"value\":\"#1f77b4\"},\"line_color\":{\"value\":\"#1f77b4\"},\"x\":{\"field\":\"x\"},\"y\":{\"field\":\"y\"}},\"id\":\"27511\",\"type\":\"Circle\"},{\"attributes\":{\"coordinates\":null,\"group\":null,\"text\":\"P\"},\"id\":\"27516\",\"type\":\"Title\"},{\"attributes\":{},\"id\":\"27480\",\"type\":\"DataRange1d\"},{\"attributes\":{\"axis\":{\"id\":\"27488\"},\"coordinates\":null,\"group\":null,\"ticker\":null},\"id\":\"27491\",\"type\":\"Grid\"}],\"root_ids\":[\"27479\"]},\"title\":\"Bokeh Application\",\"version\":\"2.4.3\"}};\n",
       "  const render_items = [{\"docid\":\"e9e45222-4f37-44a4-8680-cb9d3306d6ef\",\"root_ids\":[\"27479\"],\"roots\":{\"27479\":\"64cb5223-62a7-4552-90a9-4838037a28c2\"}}];\n",
       "  root.Bokeh.embed.embed_items_notebook(docs_json, render_items);\n",
       "  }\n",
       "  if (root.Bokeh !== undefined) {\n",
       "    embed_document(root);\n",
       "  } else {\n",
       "    let attempts = 0;\n",
       "    const timer = setInterval(function(root) {\n",
       "      if (root.Bokeh !== undefined) {\n",
       "        clearInterval(timer);\n",
       "        embed_document(root);\n",
       "      } else {\n",
       "        attempts++;\n",
       "        if (attempts > 100) {\n",
       "          clearInterval(timer);\n",
       "          console.log(\"Bokeh: ERROR: Unable to run BokehJS code because BokehJS library is missing\");\n",
       "        }\n",
       "      }\n",
       "    }, 10, root)\n",
       "  }\n",
       "})(window);"
      ],
      "application/vnd.bokehjs_exec.v0+json": ""
     },
     "metadata": {
      "application/vnd.bokehjs_exec.v0+json": {
       "id": "27479"
      }
     },
     "output_type": "display_data"
    },
    {
     "data": {
      "text/html": [
       "\n",
       "  <div class=\"bk-root\" id=\"ed8978c5-d40b-4d94-a5b9-daab69b22552\" data-root-id=\"28254\"></div>\n"
      ]
     },
     "metadata": {},
     "output_type": "display_data"
    },
    {
     "data": {
      "application/javascript": [
       "(function(root) {\n",
       "  function embed_document(root) {\n",
       "  const docs_json = {\"4dfdd672-82c8-4f60-a525-4c77dc0d6086\":{\"defs\":[],\"roots\":{\"references\":[{\"attributes\":{\"below\":[{\"id\":\"28263\"}],\"center\":[{\"id\":\"28266\"},{\"id\":\"28270\"}],\"left\":[{\"id\":\"28267\"}],\"renderers\":[{\"id\":\"28289\"}],\"title\":{\"id\":\"28291\"},\"toolbar\":{\"id\":\"28278\"},\"x_range\":{\"id\":\"28255\"},\"x_scale\":{\"id\":\"28259\"},\"y_range\":{\"id\":\"28257\"},\"y_scale\":{\"id\":\"28261\"}},\"id\":\"28254\",\"subtype\":\"Figure\",\"type\":\"Plot\"},{\"attributes\":{},\"id\":\"28275\",\"type\":\"ResetTool\"},{\"attributes\":{},\"id\":\"28982\",\"type\":\"UnionRenderers\"},{\"attributes\":{\"bottom_units\":\"screen\",\"coordinates\":null,\"fill_alpha\":0.5,\"fill_color\":\"lightgrey\",\"group\":null,\"left_units\":\"screen\",\"level\":\"overlay\",\"line_alpha\":1.0,\"line_color\":\"black\",\"line_dash\":[4,4],\"line_width\":2,\"right_units\":\"screen\",\"syncable\":false,\"top_units\":\"screen\"},\"id\":\"28277\",\"type\":\"BoxAnnotation\"},{\"attributes\":{},\"id\":\"28983\",\"type\":\"Selection\"},{\"attributes\":{\"overlay\":{\"id\":\"28277\"}},\"id\":\"28273\",\"type\":\"BoxZoomTool\"},{\"attributes\":{\"fill_alpha\":{\"value\":0.2},\"fill_color\":{\"value\":\"#1f77b4\"},\"hatch_alpha\":{\"value\":0.2},\"line_alpha\":{\"value\":0.2},\"line_color\":{\"value\":\"#1f77b4\"},\"x\":{\"field\":\"x\"},\"y\":{\"field\":\"y\"}},\"id\":\"28288\",\"type\":\"Circle\"},{\"attributes\":{\"coordinates\":null,\"group\":null,\"text\":\"Q\"},\"id\":\"28291\",\"type\":\"Title\"},{\"attributes\":{\"tools\":[{\"id\":\"28271\"},{\"id\":\"28272\"},{\"id\":\"28273\"},{\"id\":\"28274\"},{\"id\":\"28275\"},{\"id\":\"28276\"}]},\"id\":\"28278\",\"type\":\"Toolbar\"},{\"attributes\":{},\"id\":\"28259\",\"type\":\"LinearScale\"},{\"attributes\":{\"fill_alpha\":{\"value\":0.1},\"fill_color\":{\"value\":\"#1f77b4\"},\"hatch_alpha\":{\"value\":0.1},\"line_alpha\":{\"value\":0.1},\"line_color\":{\"value\":\"#1f77b4\"},\"x\":{\"field\":\"x\"},\"y\":{\"field\":\"y\"}},\"id\":\"28287\",\"type\":\"Circle\"},{\"attributes\":{\"axis_label\":\"Q Frequency\",\"coordinates\":null,\"formatter\":{\"id\":\"28980\"},\"group\":null,\"major_label_policy\":{\"id\":\"28981\"},\"ticker\":{\"id\":\"28264\"}},\"id\":\"28263\",\"type\":\"LinearAxis\"},{\"attributes\":{},\"id\":\"28977\",\"type\":\"BasicTickFormatter\"},{\"attributes\":{\"data\":{\"x\":[0.021791767554479417,0.036626916524701875,0.029110936270653028,0.036683785766691124,0.028720626631853787,0.03152088258471237,0.032599837000814993,0.030379746835443037,0.03871439006574142,0.02945859872611465,0.034453057708871665,0.03773584905660377,0.040702314445331206,0.02948207171314741,0.030063291139240507,0.03232607167955025,0.03650793650793651,0.030791788856304986,0.028731045490822026,0.04318689501116903,0.027932960893854747,0.03117505995203837,0.03415061295971979,0.027914614121510674,0.026490066225165563,0.03915426781519186,0.032939189189189186,0.030352748154224774,0.029234737747205503,0.03368794326241135,0.03255484784147204,0.03792851932895697,0.030560271646859084,0.03302286198137172,0.03787878787878788,0.03792851932895697,0.03350083752093802,0.03793103448275862,0.031630170316301706,0.027616279069767442,0.03571428571428571,0.030595813204508857,0.04800724637681159,0.03152789005658852,0.03046594982078853,0.03706896551724138,0.04318689501116903,0.02938706968933669,0.04132973944294699,0.032948929159802305,0.028641571194762683,0.02869198312236287,0.03577371048252912,0.039595619208087615,0.02883799830364716,0.03162393162393162,0.02883799830364716,0.033984706881903144,0.03339041095890411,0.035175879396984924,0.034223706176961605,0.03460972017673049,0.04371584699453552,0.03345454545454545,0.02976190476190476,0.03490909090909091,0.04318689501116903,0.04318689501116903,0.03125,0.03156146179401993,0.030884808013355594,0.02872670807453416,0.02931323283082077,0.035964912280701755,0.033035714285714286,0.04508566275924256,0.041728763040238454],\"y\":[0.2851670477800451,0.2702402661513399,0.432061685620977,0.3898724445572241,0.29458573520012254,0.6104893769690102,0.35044160109251976,0.26988138782758875,0.6826167962077495,0.4616378165944257,0.7189011157425981,0.7321885437632035,0.3393312429608442,0.4160072288010653,0.409548278484123,0.7471648802454562,0.653411396022395,0.2968308145349908,0.41307256750236687,0.5223887952113582,0.39022929006636004,0.35283906464335824,0.7136233373179821,0.6677882621956012,0.27633708893783704,0.4636155070752707,0.359293808020336,0.4258873394006253,0.6428471649689257,0.5512825664578923,0.5077429418821842,0.6660342703163326,0.35351896795175924,0.4475331625878192,0.6011982416335792,0.6663096444805614,0.43383706334642963,0.6001074107563085,0.2833592666222529,0.4243578946783289,0.5426800525833473,0.36257306571544373,0.30467776311034744,0.2874929757995978,0.4735989345501921,0.6701036532738713,0.504582461506877,0.5208619670185084,0.6199785834743322,0.3471458095066113,0.49686340673501883,0.3856621411083908,0.44466886499391073,0.5918431121075589,0.5789368104312939,0.6738960441220606,0.6549272184628114,0.6547269109380166,0.6779312262346798,0.5176625673713895,0.3788888283571569,0.6655573299550923,0.30799160429194383,0.2883630109992476,0.5627132556849695,0.28919402319036686,0.5121280191724322,0.5215669617511618,0.33777020500615523,0.3938264258377672,0.38538018924380346,0.6621672870523109,0.3908115201296295,0.5845034040310082,0.6809667419034046,0.5391792993985405,0.4769483062149186]},\"selected\":{\"id\":\"28983\"},\"selection_policy\":{\"id\":\"28982\"}},\"id\":\"28285\",\"type\":\"ColumnDataSource\"},{\"attributes\":{\"source\":{\"id\":\"28285\"}},\"id\":\"28290\",\"type\":\"CDSView\"},{\"attributes\":{},\"id\":\"28257\",\"type\":\"DataRange1d\"},{\"attributes\":{},\"id\":\"28978\",\"type\":\"AllLabels\"},{\"attributes\":{},\"id\":\"28264\",\"type\":\"BasicTicker\"},{\"attributes\":{\"fill_color\":{\"value\":\"#1f77b4\"},\"line_color\":{\"value\":\"#1f77b4\"},\"x\":{\"field\":\"x\"},\"y\":{\"field\":\"y\"}},\"id\":\"28286\",\"type\":\"Circle\"},{\"attributes\":{\"axis\":{\"id\":\"28263\"},\"coordinates\":null,\"group\":null,\"ticker\":null},\"id\":\"28266\",\"type\":\"Grid\"},{\"attributes\":{},\"id\":\"28980\",\"type\":\"BasicTickFormatter\"},{\"attributes\":{},\"id\":\"28261\",\"type\":\"LinearScale\"},{\"attributes\":{\"axis\":{\"id\":\"28267\"},\"coordinates\":null,\"dimension\":1,\"group\":null,\"ticker\":null},\"id\":\"28270\",\"type\":\"Grid\"},{\"attributes\":{\"axis_label\":\"GC Content\",\"coordinates\":null,\"formatter\":{\"id\":\"28977\"},\"group\":null,\"major_label_policy\":{\"id\":\"28978\"},\"ticker\":{\"id\":\"28268\"}},\"id\":\"28267\",\"type\":\"LinearAxis\"},{\"attributes\":{},\"id\":\"28981\",\"type\":\"AllLabels\"},{\"attributes\":{},\"id\":\"28268\",\"type\":\"BasicTicker\"},{\"attributes\":{},\"id\":\"28272\",\"type\":\"WheelZoomTool\"},{\"attributes\":{},\"id\":\"28276\",\"type\":\"HelpTool\"},{\"attributes\":{\"coordinates\":null,\"data_source\":{\"id\":\"28285\"},\"glyph\":{\"id\":\"28286\"},\"group\":null,\"hover_glyph\":null,\"muted_glyph\":{\"id\":\"28288\"},\"nonselection_glyph\":{\"id\":\"28287\"},\"view\":{\"id\":\"28290\"}},\"id\":\"28289\",\"type\":\"GlyphRenderer\"},{\"attributes\":{},\"id\":\"28271\",\"type\":\"PanTool\"},{\"attributes\":{},\"id\":\"28255\",\"type\":\"DataRange1d\"},{\"attributes\":{},\"id\":\"28274\",\"type\":\"SaveTool\"}],\"root_ids\":[\"28254\"]},\"title\":\"Bokeh Application\",\"version\":\"2.4.3\"}};\n",
       "  const render_items = [{\"docid\":\"4dfdd672-82c8-4f60-a525-4c77dc0d6086\",\"root_ids\":[\"28254\"],\"roots\":{\"28254\":\"ed8978c5-d40b-4d94-a5b9-daab69b22552\"}}];\n",
       "  root.Bokeh.embed.embed_items_notebook(docs_json, render_items);\n",
       "  }\n",
       "  if (root.Bokeh !== undefined) {\n",
       "    embed_document(root);\n",
       "  } else {\n",
       "    let attempts = 0;\n",
       "    const timer = setInterval(function(root) {\n",
       "      if (root.Bokeh !== undefined) {\n",
       "        clearInterval(timer);\n",
       "        embed_document(root);\n",
       "      } else {\n",
       "        attempts++;\n",
       "        if (attempts > 100) {\n",
       "          clearInterval(timer);\n",
       "          console.log(\"Bokeh: ERROR: Unable to run BokehJS code because BokehJS library is missing\");\n",
       "        }\n",
       "      }\n",
       "    }, 10, root)\n",
       "  }\n",
       "})(window);"
      ],
      "application/vnd.bokehjs_exec.v0+json": ""
     },
     "metadata": {
      "application/vnd.bokehjs_exec.v0+json": {
       "id": "28254"
      }
     },
     "output_type": "display_data"
    },
    {
     "data": {
      "text/html": [
       "\n",
       "  <div class=\"bk-root\" id=\"d077b6e2-f49e-49b8-8053-52089fcc0f11\" data-root-id=\"29040\"></div>\n"
      ]
     },
     "metadata": {},
     "output_type": "display_data"
    },
    {
     "data": {
      "application/javascript": [
       "(function(root) {\n",
       "  function embed_document(root) {\n",
       "  const docs_json = {\"aecf2a44-fb1a-40db-91fb-af0cd6ce5b92\":{\"defs\":[],\"roots\":{\"references\":[{\"attributes\":{\"below\":[{\"id\":\"29049\"}],\"center\":[{\"id\":\"29052\"},{\"id\":\"29056\"}],\"left\":[{\"id\":\"29053\"}],\"renderers\":[{\"id\":\"29075\"}],\"title\":{\"id\":\"29077\"},\"toolbar\":{\"id\":\"29064\"},\"x_range\":{\"id\":\"29041\"},\"x_scale\":{\"id\":\"29045\"},\"y_range\":{\"id\":\"29043\"},\"y_scale\":{\"id\":\"29047\"}},\"id\":\"29040\",\"subtype\":\"Figure\",\"type\":\"Plot\"},{\"attributes\":{\"data\":{\"x\":[0.06133979015334948,0.06132879045996593,0.058221872541306056,0.07043286867204696,0.05221932114882506,0.05988967691095351,0.05704971475142624,0.048945147679324896,0.0723155588020453,0.06369426751592357,0.06804478897502153,0.07232704402515723,0.05826017557861133,0.06294820717131475,0.061708860759493674,0.06394940267041462,0.06904761904761905,0.04472140762463343,0.061452513966480445,0.06701414743112435,0.05985634477254589,0.053557154276578735,0.07355516637478109,0.0722495894909688,0.0695364238410596,0.060297572435395456,0.07179054054054054,0.06480721903199343,0.0937231298366294,0.07535460992907801,0.0629865534324133,0.07658643326039387,0.07045840407470289,0.07281964436917866,0.06228956228956229,0.07658643326039387,0.07035175879396985,0.06637931034482758,0.059205190592051905,0.06976744186046512,0.06887755102040816,0.05475040257648953,0.059782608695652176,0.05254648342764753,0.06720430107526881,0.075,0.06701414743112435,0.07136859781696053,0.07637017070979335,0.06260296540362438,0.06710310965630115,0.07088607594936709,0.0632279534109817,0.06402695871946082,0.06700593723494487,0.06666666666666667,0.07039864291772689,0.06881903143585387,0.06678082191780822,0.07250538406317301,0.055926544240400666,0.07216494845360824,0.0692167577413479,0.05163636363636363,0.06547619047619048,0.05236363636363636,0.06701414743112435,0.06701414743112435,0.07094594594594594,0.06478405315614617,0.0667779632721202,0.06599378881987578,0.06532663316582915,0.07982456140350877,0.08660714285714285,0.0757439134355275,0.06408345752608048],\"y\":[0.2851670477800451,0.2702402661513399,0.432061685620977,0.3898724445572241,0.29458573520012254,0.6104893769690102,0.35044160109251976,0.26988138782758875,0.6826167962077495,0.4616378165944257,0.7189011157425981,0.7321885437632035,0.3393312429608442,0.4160072288010653,0.409548278484123,0.7471648802454562,0.653411396022395,0.2968308145349908,0.41307256750236687,0.5223887952113582,0.39022929006636004,0.35283906464335824,0.7136233373179821,0.6677882621956012,0.27633708893783704,0.4636155070752707,0.359293808020336,0.4258873394006253,0.6428471649689257,0.5512825664578923,0.5077429418821842,0.6660342703163326,0.35351896795175924,0.4475331625878192,0.6011982416335792,0.6663096444805614,0.43383706334642963,0.6001074107563085,0.2833592666222529,0.4243578946783289,0.5426800525833473,0.36257306571544373,0.30467776311034744,0.2874929757995978,0.4735989345501921,0.6701036532738713,0.504582461506877,0.5208619670185084,0.6199785834743322,0.3471458095066113,0.49686340673501883,0.3856621411083908,0.44466886499391073,0.5918431121075589,0.5789368104312939,0.6738960441220606,0.6549272184628114,0.6547269109380166,0.6779312262346798,0.5176625673713895,0.3788888283571569,0.6655573299550923,0.30799160429194383,0.2883630109992476,0.5627132556849695,0.28919402319036686,0.5121280191724322,0.5215669617511618,0.33777020500615523,0.3938264258377672,0.38538018924380346,0.6621672870523109,0.3908115201296295,0.5845034040310082,0.6809667419034046,0.5391792993985405,0.4769483062149186]},\"selected\":{\"id\":\"29780\"},\"selection_policy\":{\"id\":\"29779\"}},\"id\":\"29071\",\"type\":\"ColumnDataSource\"},{\"attributes\":{\"axis_label\":\"R Frequency\",\"coordinates\":null,\"formatter\":{\"id\":\"29777\"},\"group\":null,\"major_label_policy\":{\"id\":\"29778\"},\"ticker\":{\"id\":\"29050\"}},\"id\":\"29049\",\"type\":\"LinearAxis\"},{\"attributes\":{},\"id\":\"29045\",\"type\":\"LinearScale\"},{\"attributes\":{},\"id\":\"29043\",\"type\":\"DataRange1d\"},{\"attributes\":{},\"id\":\"29774\",\"type\":\"BasicTickFormatter\"},{\"attributes\":{},\"id\":\"29041\",\"type\":\"DataRange1d\"},{\"attributes\":{},\"id\":\"29047\",\"type\":\"LinearScale\"},{\"attributes\":{\"coordinates\":null,\"group\":null,\"text\":\"R\"},\"id\":\"29077\",\"type\":\"Title\"},{\"attributes\":{\"axis\":{\"id\":\"29049\"},\"coordinates\":null,\"group\":null,\"ticker\":null},\"id\":\"29052\",\"type\":\"Grid\"},{\"attributes\":{\"fill_alpha\":{\"value\":0.1},\"fill_color\":{\"value\":\"#1f77b4\"},\"hatch_alpha\":{\"value\":0.1},\"line_alpha\":{\"value\":0.1},\"line_color\":{\"value\":\"#1f77b4\"},\"x\":{\"field\":\"x\"},\"y\":{\"field\":\"y\"}},\"id\":\"29073\",\"type\":\"Circle\"},{\"attributes\":{},\"id\":\"29775\",\"type\":\"AllLabels\"},{\"attributes\":{\"fill_color\":{\"value\":\"#1f77b4\"},\"line_color\":{\"value\":\"#1f77b4\"},\"x\":{\"field\":\"x\"},\"y\":{\"field\":\"y\"}},\"id\":\"29072\",\"type\":\"Circle\"},{\"attributes\":{},\"id\":\"29058\",\"type\":\"WheelZoomTool\"},{\"attributes\":{},\"id\":\"29777\",\"type\":\"BasicTickFormatter\"},{\"attributes\":{},\"id\":\"29050\",\"type\":\"BasicTicker\"},{\"attributes\":{\"axis\":{\"id\":\"29053\"},\"coordinates\":null,\"dimension\":1,\"group\":null,\"ticker\":null},\"id\":\"29056\",\"type\":\"Grid\"},{\"attributes\":{\"axis_label\":\"GC Content\",\"coordinates\":null,\"formatter\":{\"id\":\"29774\"},\"group\":null,\"major_label_policy\":{\"id\":\"29775\"},\"ticker\":{\"id\":\"29054\"}},\"id\":\"29053\",\"type\":\"LinearAxis\"},{\"attributes\":{},\"id\":\"29778\",\"type\":\"AllLabels\"},{\"attributes\":{\"fill_alpha\":{\"value\":0.2},\"fill_color\":{\"value\":\"#1f77b4\"},\"hatch_alpha\":{\"value\":0.2},\"line_alpha\":{\"value\":0.2},\"line_color\":{\"value\":\"#1f77b4\"},\"x\":{\"field\":\"x\"},\"y\":{\"field\":\"y\"}},\"id\":\"29074\",\"type\":\"Circle\"},{\"attributes\":{},\"id\":\"29054\",\"type\":\"BasicTicker\"},{\"attributes\":{},\"id\":\"29062\",\"type\":\"HelpTool\"},{\"attributes\":{},\"id\":\"29057\",\"type\":\"PanTool\"},{\"attributes\":{\"overlay\":{\"id\":\"29063\"}},\"id\":\"29059\",\"type\":\"BoxZoomTool\"},{\"attributes\":{\"tools\":[{\"id\":\"29057\"},{\"id\":\"29058\"},{\"id\":\"29059\"},{\"id\":\"29060\"},{\"id\":\"29061\"},{\"id\":\"29062\"}]},\"id\":\"29064\",\"type\":\"Toolbar\"},{\"attributes\":{},\"id\":\"29060\",\"type\":\"SaveTool\"},{\"attributes\":{},\"id\":\"29061\",\"type\":\"ResetTool\"},{\"attributes\":{},\"id\":\"29779\",\"type\":\"UnionRenderers\"},{\"attributes\":{\"bottom_units\":\"screen\",\"coordinates\":null,\"fill_alpha\":0.5,\"fill_color\":\"lightgrey\",\"group\":null,\"left_units\":\"screen\",\"level\":\"overlay\",\"line_alpha\":1.0,\"line_color\":\"black\",\"line_dash\":[4,4],\"line_width\":2,\"right_units\":\"screen\",\"syncable\":false,\"top_units\":\"screen\"},\"id\":\"29063\",\"type\":\"BoxAnnotation\"},{\"attributes\":{},\"id\":\"29780\",\"type\":\"Selection\"},{\"attributes\":{\"source\":{\"id\":\"29071\"}},\"id\":\"29076\",\"type\":\"CDSView\"},{\"attributes\":{\"coordinates\":null,\"data_source\":{\"id\":\"29071\"},\"glyph\":{\"id\":\"29072\"},\"group\":null,\"hover_glyph\":null,\"muted_glyph\":{\"id\":\"29074\"},\"nonselection_glyph\":{\"id\":\"29073\"},\"view\":{\"id\":\"29076\"}},\"id\":\"29075\",\"type\":\"GlyphRenderer\"}],\"root_ids\":[\"29040\"]},\"title\":\"Bokeh Application\",\"version\":\"2.4.3\"}};\n",
       "  const render_items = [{\"docid\":\"aecf2a44-fb1a-40db-91fb-af0cd6ce5b92\",\"root_ids\":[\"29040\"],\"roots\":{\"29040\":\"d077b6e2-f49e-49b8-8053-52089fcc0f11\"}}];\n",
       "  root.Bokeh.embed.embed_items_notebook(docs_json, render_items);\n",
       "  }\n",
       "  if (root.Bokeh !== undefined) {\n",
       "    embed_document(root);\n",
       "  } else {\n",
       "    let attempts = 0;\n",
       "    const timer = setInterval(function(root) {\n",
       "      if (root.Bokeh !== undefined) {\n",
       "        clearInterval(timer);\n",
       "        embed_document(root);\n",
       "      } else {\n",
       "        attempts++;\n",
       "        if (attempts > 100) {\n",
       "          clearInterval(timer);\n",
       "          console.log(\"Bokeh: ERROR: Unable to run BokehJS code because BokehJS library is missing\");\n",
       "        }\n",
       "      }\n",
       "    }, 10, root)\n",
       "  }\n",
       "})(window);"
      ],
      "application/vnd.bokehjs_exec.v0+json": ""
     },
     "metadata": {
      "application/vnd.bokehjs_exec.v0+json": {
       "id": "29040"
      }
     },
     "output_type": "display_data"
    },
    {
     "data": {
      "text/html": [
       "\n",
       "  <div class=\"bk-root\" id=\"7cbd7082-aad2-4f84-8c44-fb8919098efc\" data-root-id=\"29837\"></div>\n"
      ]
     },
     "metadata": {},
     "output_type": "display_data"
    },
    {
     "data": {
      "application/javascript": [
       "(function(root) {\n",
       "  function embed_document(root) {\n",
       "  const docs_json = {\"d085adc6-162c-4a76-a340-2d505d83405c\":{\"defs\":[],\"roots\":{\"references\":[{\"attributes\":{\"below\":[{\"id\":\"29846\"}],\"center\":[{\"id\":\"29849\"},{\"id\":\"29853\"}],\"left\":[{\"id\":\"29850\"}],\"renderers\":[{\"id\":\"29872\"}],\"title\":{\"id\":\"29874\"},\"toolbar\":{\"id\":\"29861\"},\"x_range\":{\"id\":\"29838\"},\"x_scale\":{\"id\":\"29842\"},\"y_range\":{\"id\":\"29840\"},\"y_scale\":{\"id\":\"29844\"}},\"id\":\"29837\",\"subtype\":\"Figure\",\"type\":\"Plot\"},{\"attributes\":{},\"id\":\"30582\",\"type\":\"BasicTickFormatter\"},{\"attributes\":{},\"id\":\"30583\",\"type\":\"AllLabels\"},{\"attributes\":{\"fill_color\":{\"value\":\"#1f77b4\"},\"line_color\":{\"value\":\"#1f77b4\"},\"x\":{\"field\":\"x\"},\"y\":{\"field\":\"y\"}},\"id\":\"29869\",\"type\":\"Circle\"},{\"attributes\":{},\"id\":\"29847\",\"type\":\"BasicTicker\"},{\"attributes\":{},\"id\":\"30585\",\"type\":\"BasicTickFormatter\"},{\"attributes\":{\"axis\":{\"id\":\"29850\"},\"coordinates\":null,\"dimension\":1,\"group\":null,\"ticker\":null},\"id\":\"29853\",\"type\":\"Grid\"},{\"attributes\":{\"axis\":{\"id\":\"29846\"},\"coordinates\":null,\"group\":null,\"ticker\":null},\"id\":\"29849\",\"type\":\"Grid\"},{\"attributes\":{},\"id\":\"30586\",\"type\":\"AllLabels\"},{\"attributes\":{},\"id\":\"29855\",\"type\":\"WheelZoomTool\"},{\"attributes\":{\"axis_label\":\"GC Content\",\"coordinates\":null,\"formatter\":{\"id\":\"30582\"},\"group\":null,\"major_label_policy\":{\"id\":\"30583\"},\"ticker\":{\"id\":\"29851\"}},\"id\":\"29850\",\"type\":\"LinearAxis\"},{\"attributes\":{},\"id\":\"29851\",\"type\":\"BasicTicker\"},{\"attributes\":{},\"id\":\"29859\",\"type\":\"HelpTool\"},{\"attributes\":{},\"id\":\"29854\",\"type\":\"PanTool\"},{\"attributes\":{\"overlay\":{\"id\":\"29860\"}},\"id\":\"29856\",\"type\":\"BoxZoomTool\"},{\"attributes\":{},\"id\":\"29857\",\"type\":\"SaveTool\"},{\"attributes\":{},\"id\":\"29858\",\"type\":\"ResetTool\"},{\"attributes\":{},\"id\":\"30587\",\"type\":\"UnionRenderers\"},{\"attributes\":{\"bottom_units\":\"screen\",\"coordinates\":null,\"fill_alpha\":0.5,\"fill_color\":\"lightgrey\",\"group\":null,\"left_units\":\"screen\",\"level\":\"overlay\",\"line_alpha\":1.0,\"line_color\":\"black\",\"line_dash\":[4,4],\"line_width\":2,\"right_units\":\"screen\",\"syncable\":false,\"top_units\":\"screen\"},\"id\":\"29860\",\"type\":\"BoxAnnotation\"},{\"attributes\":{},\"id\":\"30588\",\"type\":\"Selection\"},{\"attributes\":{},\"id\":\"29840\",\"type\":\"DataRange1d\"},{\"attributes\":{\"fill_alpha\":{\"value\":0.2},\"fill_color\":{\"value\":\"#1f77b4\"},\"hatch_alpha\":{\"value\":0.2},\"line_alpha\":{\"value\":0.2},\"line_color\":{\"value\":\"#1f77b4\"},\"x\":{\"field\":\"x\"},\"y\":{\"field\":\"y\"}},\"id\":\"29871\",\"type\":\"Circle\"},{\"attributes\":{\"fill_alpha\":{\"value\":0.1},\"fill_color\":{\"value\":\"#1f77b4\"},\"hatch_alpha\":{\"value\":0.1},\"line_alpha\":{\"value\":0.1},\"line_color\":{\"value\":\"#1f77b4\"},\"x\":{\"field\":\"x\"},\"y\":{\"field\":\"y\"}},\"id\":\"29870\",\"type\":\"Circle\"},{\"attributes\":{\"coordinates\":null,\"group\":null,\"text\":\"S\"},\"id\":\"29874\",\"type\":\"Title\"},{\"attributes\":{},\"id\":\"29842\",\"type\":\"LinearScale\"},{\"attributes\":{},\"id\":\"29844\",\"type\":\"LinearScale\"},{\"attributes\":{},\"id\":\"29838\",\"type\":\"DataRange1d\"},{\"attributes\":{\"source\":{\"id\":\"29868\"}},\"id\":\"29873\",\"type\":\"CDSView\"},{\"attributes\":{\"data\":{\"x\":[0.048426150121065374,0.049403747870528106,0.05350118017309206,0.05282465150403522,0.05134899912967798,0.0512214342001576,0.059494702526487364,0.04810126582278481,0.05186267348429511,0.06050955414012739,0.04995693367786391,0.0479559748427673,0.04389465283320032,0.05816733067729084,0.06487341772151899,0.04427266338721012,0.046031746031746035,0.07038123167155426,0.05826017557861133,0.0573343261355175,0.05746209098164405,0.047961630695443645,0.05691768826619965,0.052545155993431854,0.04966887417218543,0.052466718872357085,0.05574324324324324,0.051681706316652996,0.043852106620808254,0.040780141843971635,0.05732484076433121,0.049598832968636035,0.0500848896434635,0.05165114309906858,0.054713804713804715,0.05032822757111598,0.051926298157453935,0.05172413793103448,0.050283860502838604,0.050872093023255814,0.05357142857142857,0.05314009661835749,0.044384057971014496,0.05254648342764753,0.04032258064516129,0.05172413793103448,0.055100521221146684,0.04450041981528128,0.050314465408805034,0.054365733113673806,0.05237315875613748,0.05232067510548523,0.04908485856905158,0.04970513900589722,0.061068702290076333,0.05641025641025641,0.06022052586938083,0.05862361937128292,0.053082191780821915,0.05384063173007897,0.05008347245409015,0.045655375552282766,0.05373406193078324,0.06545454545454546,0.06037414965986394,0.06472727272727273,0.055100521221146684,0.05658972449739389,0.05152027027027027,0.04983388704318937,0.052587646076794656,0.04736024844720497,0.04690117252931323,0.04824561403508772,0.0375,0.047790802524797116,0.05365126676602087],\"y\":[0.2851670477800451,0.2702402661513399,0.432061685620977,0.3898724445572241,0.29458573520012254,0.6104893769690102,0.35044160109251976,0.26988138782758875,0.6826167962077495,0.4616378165944257,0.7189011157425981,0.7321885437632035,0.3393312429608442,0.4160072288010653,0.409548278484123,0.7471648802454562,0.653411396022395,0.2968308145349908,0.41307256750236687,0.5223887952113582,0.39022929006636004,0.35283906464335824,0.7136233373179821,0.6677882621956012,0.27633708893783704,0.4636155070752707,0.359293808020336,0.4258873394006253,0.6428471649689257,0.5512825664578923,0.5077429418821842,0.6660342703163326,0.35351896795175924,0.4475331625878192,0.6011982416335792,0.6663096444805614,0.43383706334642963,0.6001074107563085,0.2833592666222529,0.4243578946783289,0.5426800525833473,0.36257306571544373,0.30467776311034744,0.2874929757995978,0.4735989345501921,0.6701036532738713,0.504582461506877,0.5208619670185084,0.6199785834743322,0.3471458095066113,0.49686340673501883,0.3856621411083908,0.44466886499391073,0.5918431121075589,0.5789368104312939,0.6738960441220606,0.6549272184628114,0.6547269109380166,0.6779312262346798,0.5176625673713895,0.3788888283571569,0.6655573299550923,0.30799160429194383,0.2883630109992476,0.5627132556849695,0.28919402319036686,0.5121280191724322,0.5215669617511618,0.33777020500615523,0.3938264258377672,0.38538018924380346,0.6621672870523109,0.3908115201296295,0.5845034040310082,0.6809667419034046,0.5391792993985405,0.4769483062149186]},\"selected\":{\"id\":\"30588\"},\"selection_policy\":{\"id\":\"30587\"}},\"id\":\"29868\",\"type\":\"ColumnDataSource\"},{\"attributes\":{\"axis_label\":\"S Frequency\",\"coordinates\":null,\"formatter\":{\"id\":\"30585\"},\"group\":null,\"major_label_policy\":{\"id\":\"30586\"},\"ticker\":{\"id\":\"29847\"}},\"id\":\"29846\",\"type\":\"LinearAxis\"},{\"attributes\":{\"tools\":[{\"id\":\"29854\"},{\"id\":\"29855\"},{\"id\":\"29856\"},{\"id\":\"29857\"},{\"id\":\"29858\"},{\"id\":\"29859\"}]},\"id\":\"29861\",\"type\":\"Toolbar\"},{\"attributes\":{\"coordinates\":null,\"data_source\":{\"id\":\"29868\"},\"glyph\":{\"id\":\"29869\"},\"group\":null,\"hover_glyph\":null,\"muted_glyph\":{\"id\":\"29871\"},\"nonselection_glyph\":{\"id\":\"29870\"},\"view\":{\"id\":\"29873\"}},\"id\":\"29872\",\"type\":\"GlyphRenderer\"}],\"root_ids\":[\"29837\"]},\"title\":\"Bokeh Application\",\"version\":\"2.4.3\"}};\n",
       "  const render_items = [{\"docid\":\"d085adc6-162c-4a76-a340-2d505d83405c\",\"root_ids\":[\"29837\"],\"roots\":{\"29837\":\"7cbd7082-aad2-4f84-8c44-fb8919098efc\"}}];\n",
       "  root.Bokeh.embed.embed_items_notebook(docs_json, render_items);\n",
       "  }\n",
       "  if (root.Bokeh !== undefined) {\n",
       "    embed_document(root);\n",
       "  } else {\n",
       "    let attempts = 0;\n",
       "    const timer = setInterval(function(root) {\n",
       "      if (root.Bokeh !== undefined) {\n",
       "        clearInterval(timer);\n",
       "        embed_document(root);\n",
       "      } else {\n",
       "        attempts++;\n",
       "        if (attempts > 100) {\n",
       "          clearInterval(timer);\n",
       "          console.log(\"Bokeh: ERROR: Unable to run BokehJS code because BokehJS library is missing\");\n",
       "        }\n",
       "      }\n",
       "    }, 10, root)\n",
       "  }\n",
       "})(window);"
      ],
      "application/vnd.bokehjs_exec.v0+json": ""
     },
     "metadata": {
      "application/vnd.bokehjs_exec.v0+json": {
       "id": "29837"
      }
     },
     "output_type": "display_data"
    },
    {
     "data": {
      "text/html": [
       "\n",
       "  <div class=\"bk-root\" id=\"6172e8e5-c8ca-4e20-bff7-d765bbcf6f94\" data-root-id=\"30645\"></div>\n"
      ]
     },
     "metadata": {},
     "output_type": "display_data"
    },
    {
     "data": {
      "application/javascript": [
       "(function(root) {\n",
       "  function embed_document(root) {\n",
       "  const docs_json = {\"4187419f-844e-4d17-9167-1b188c5fc214\":{\"defs\":[],\"roots\":{\"references\":[{\"attributes\":{\"below\":[{\"id\":\"30654\"}],\"center\":[{\"id\":\"30657\"},{\"id\":\"30661\"}],\"left\":[{\"id\":\"30658\"}],\"renderers\":[{\"id\":\"30680\"}],\"title\":{\"id\":\"30682\"},\"toolbar\":{\"id\":\"30669\"},\"x_range\":{\"id\":\"30646\"},\"x_scale\":{\"id\":\"30650\"},\"y_range\":{\"id\":\"30648\"},\"y_scale\":{\"id\":\"30652\"}},\"id\":\"30645\",\"subtype\":\"Figure\",\"type\":\"Plot\"},{\"attributes\":{},\"id\":\"30667\",\"type\":\"HelpTool\"},{\"attributes\":{\"overlay\":{\"id\":\"30668\"}},\"id\":\"30664\",\"type\":\"BoxZoomTool\"},{\"attributes\":{},\"id\":\"30665\",\"type\":\"SaveTool\"},{\"attributes\":{},\"id\":\"30666\",\"type\":\"ResetTool\"},{\"attributes\":{},\"id\":\"31406\",\"type\":\"UnionRenderers\"},{\"attributes\":{},\"id\":\"31405\",\"type\":\"AllLabels\"},{\"attributes\":{\"bottom_units\":\"screen\",\"coordinates\":null,\"fill_alpha\":0.5,\"fill_color\":\"lightgrey\",\"group\":null,\"left_units\":\"screen\",\"level\":\"overlay\",\"line_alpha\":1.0,\"line_color\":\"black\",\"line_dash\":[4,4],\"line_width\":2,\"right_units\":\"screen\",\"syncable\":false,\"top_units\":\"screen\"},\"id\":\"30668\",\"type\":\"BoxAnnotation\"},{\"attributes\":{},\"id\":\"31407\",\"type\":\"Selection\"},{\"attributes\":{\"coordinates\":null,\"data_source\":{\"id\":\"30676\"},\"glyph\":{\"id\":\"30677\"},\"group\":null,\"hover_glyph\":null,\"muted_glyph\":{\"id\":\"30679\"},\"nonselection_glyph\":{\"id\":\"30678\"},\"view\":{\"id\":\"30681\"}},\"id\":\"30680\",\"type\":\"GlyphRenderer\"},{\"attributes\":{},\"id\":\"31401\",\"type\":\"BasicTickFormatter\"},{\"attributes\":{},\"id\":\"30648\",\"type\":\"DataRange1d\"},{\"attributes\":{\"coordinates\":null,\"group\":null,\"text\":\"T\"},\"id\":\"30682\",\"type\":\"Title\"},{\"attributes\":{},\"id\":\"30650\",\"type\":\"LinearScale\"},{\"attributes\":{\"tools\":[{\"id\":\"30662\"},{\"id\":\"30663\"},{\"id\":\"30664\"},{\"id\":\"30665\"},{\"id\":\"30666\"},{\"id\":\"30667\"}]},\"id\":\"30669\",\"type\":\"Toolbar\"},{\"attributes\":{\"axis_label\":\"T Frequency\",\"coordinates\":null,\"formatter\":{\"id\":\"31404\"},\"group\":null,\"major_label_policy\":{\"id\":\"31405\"},\"ticker\":{\"id\":\"30655\"}},\"id\":\"30654\",\"type\":\"LinearAxis\"},{\"attributes\":{\"data\":{\"x\":[0.047619047619047616,0.049403747870528106,0.05035405192761605,0.04842259721203228,0.047867711053089644,0.055161544523246654,0.05134474327628362,0.05232067510548523,0.04674945215485756,0.046974522292993634,0.059431524547803614,0.04874213836477988,0.05905826017557861,0.05258964143426295,0.05379746835443038,0.04708362614195362,0.051587301587301584,0.05498533724340176,0.04628890662410216,0.045420699925539834,0.047086991221069435,0.04476418864908074,0.05516637478108581,0.04926108374384237,0.052980132450331126,0.05559906029757244,0.04814189189189189,0.05086136177194422,0.05674978503869303,0.04521276595744681,0.047416843595187545,0.05324580598103574,0.053480475382003394,0.04911092294665537,0.058922558922558925,0.0525164113785558,0.04773869346733668,0.059482758620689656,0.0454176804541768,0.06031976744186047,0.06207482993197279,0.04669887278582931,0.05615942028985507,0.046079223928860144,0.05465949820788531,0.05,0.044676098287416234,0.04953820319059614,0.04851752021563342,0.057660626029654036,0.05564648117839607,0.049789029535864976,0.05324459234608985,0.062342038753159225,0.05343511450381679,0.05726495726495726,0.05343511450381679,0.051826677994902294,0.05736301369863014,0.050969131371141424,0.05091819699499165,0.050073637702503684,0.04553734061930783,0.04363636363636364,0.05442176870748299,0.04290909090909091,0.044676098287416234,0.045420699925539834,0.05320945945945946,0.05398671096345515,0.052587646076794656,0.056677018633540376,0.052763819095477386,0.04824561403508772,0.04017857142857143,0.05410279531109107,0.04694485842026826],\"y\":[0.2851670477800451,0.2702402661513399,0.432061685620977,0.3898724445572241,0.29458573520012254,0.6104893769690102,0.35044160109251976,0.26988138782758875,0.6826167962077495,0.4616378165944257,0.7189011157425981,0.7321885437632035,0.3393312429608442,0.4160072288010653,0.409548278484123,0.7471648802454562,0.653411396022395,0.2968308145349908,0.41307256750236687,0.5223887952113582,0.39022929006636004,0.35283906464335824,0.7136233373179821,0.6677882621956012,0.27633708893783704,0.4636155070752707,0.359293808020336,0.4258873394006253,0.6428471649689257,0.5512825664578923,0.5077429418821842,0.6660342703163326,0.35351896795175924,0.4475331625878192,0.6011982416335792,0.6663096444805614,0.43383706334642963,0.6001074107563085,0.2833592666222529,0.4243578946783289,0.5426800525833473,0.36257306571544373,0.30467776311034744,0.2874929757995978,0.4735989345501921,0.6701036532738713,0.504582461506877,0.5208619670185084,0.6199785834743322,0.3471458095066113,0.49686340673501883,0.3856621411083908,0.44466886499391073,0.5918431121075589,0.5789368104312939,0.6738960441220606,0.6549272184628114,0.6547269109380166,0.6779312262346798,0.5176625673713895,0.3788888283571569,0.6655573299550923,0.30799160429194383,0.2883630109992476,0.5627132556849695,0.28919402319036686,0.5121280191724322,0.5215669617511618,0.33777020500615523,0.3938264258377672,0.38538018924380346,0.6621672870523109,0.3908115201296295,0.5845034040310082,0.6809667419034046,0.5391792993985405,0.4769483062149186]},\"selected\":{\"id\":\"31407\"},\"selection_policy\":{\"id\":\"31406\"}},\"id\":\"30676\",\"type\":\"ColumnDataSource\"},{\"attributes\":{\"fill_alpha\":{\"value\":0.2},\"fill_color\":{\"value\":\"#1f77b4\"},\"hatch_alpha\":{\"value\":0.2},\"line_alpha\":{\"value\":0.2},\"line_color\":{\"value\":\"#1f77b4\"},\"x\":{\"field\":\"x\"},\"y\":{\"field\":\"y\"}},\"id\":\"30679\",\"type\":\"Circle\"},{\"attributes\":{\"source\":{\"id\":\"30676\"}},\"id\":\"30681\",\"type\":\"CDSView\"},{\"attributes\":{\"fill_alpha\":{\"value\":0.1},\"fill_color\":{\"value\":\"#1f77b4\"},\"hatch_alpha\":{\"value\":0.1},\"line_alpha\":{\"value\":0.1},\"line_color\":{\"value\":\"#1f77b4\"},\"x\":{\"field\":\"x\"},\"y\":{\"field\":\"y\"}},\"id\":\"30678\",\"type\":\"Circle\"},{\"attributes\":{},\"id\":\"30652\",\"type\":\"LinearScale\"},{\"attributes\":{\"axis\":{\"id\":\"30654\"},\"coordinates\":null,\"group\":null,\"ticker\":null},\"id\":\"30657\",\"type\":\"Grid\"},{\"attributes\":{},\"id\":\"30646\",\"type\":\"DataRange1d\"},{\"attributes\":{},\"id\":\"30655\",\"type\":\"BasicTicker\"},{\"attributes\":{\"axis\":{\"id\":\"30658\"},\"coordinates\":null,\"dimension\":1,\"group\":null,\"ticker\":null},\"id\":\"30661\",\"type\":\"Grid\"},{\"attributes\":{},\"id\":\"31402\",\"type\":\"AllLabels\"},{\"attributes\":{\"axis_label\":\"GC Content\",\"coordinates\":null,\"formatter\":{\"id\":\"31401\"},\"group\":null,\"major_label_policy\":{\"id\":\"31402\"},\"ticker\":{\"id\":\"30659\"}},\"id\":\"30658\",\"type\":\"LinearAxis\"},{\"attributes\":{},\"id\":\"30663\",\"type\":\"WheelZoomTool\"},{\"attributes\":{},\"id\":\"30659\",\"type\":\"BasicTicker\"},{\"attributes\":{\"fill_color\":{\"value\":\"#1f77b4\"},\"line_color\":{\"value\":\"#1f77b4\"},\"x\":{\"field\":\"x\"},\"y\":{\"field\":\"y\"}},\"id\":\"30677\",\"type\":\"Circle\"},{\"attributes\":{},\"id\":\"30662\",\"type\":\"PanTool\"},{\"attributes\":{},\"id\":\"31404\",\"type\":\"BasicTickFormatter\"}],\"root_ids\":[\"30645\"]},\"title\":\"Bokeh Application\",\"version\":\"2.4.3\"}};\n",
       "  const render_items = [{\"docid\":\"4187419f-844e-4d17-9167-1b188c5fc214\",\"root_ids\":[\"30645\"],\"roots\":{\"30645\":\"6172e8e5-c8ca-4e20-bff7-d765bbcf6f94\"}}];\n",
       "  root.Bokeh.embed.embed_items_notebook(docs_json, render_items);\n",
       "  }\n",
       "  if (root.Bokeh !== undefined) {\n",
       "    embed_document(root);\n",
       "  } else {\n",
       "    let attempts = 0;\n",
       "    const timer = setInterval(function(root) {\n",
       "      if (root.Bokeh !== undefined) {\n",
       "        clearInterval(timer);\n",
       "        embed_document(root);\n",
       "      } else {\n",
       "        attempts++;\n",
       "        if (attempts > 100) {\n",
       "          clearInterval(timer);\n",
       "          console.log(\"Bokeh: ERROR: Unable to run BokehJS code because BokehJS library is missing\");\n",
       "        }\n",
       "      }\n",
       "    }, 10, root)\n",
       "  }\n",
       "})(window);"
      ],
      "application/vnd.bokehjs_exec.v0+json": ""
     },
     "metadata": {
      "application/vnd.bokehjs_exec.v0+json": {
       "id": "30645"
      }
     },
     "output_type": "display_data"
    },
    {
     "data": {
      "text/html": [
       "\n",
       "  <div class=\"bk-root\" id=\"1e8ce359-9fcc-4eae-a809-36d1f484e93c\" data-root-id=\"31464\"></div>\n"
      ]
     },
     "metadata": {},
     "output_type": "display_data"
    },
    {
     "data": {
      "application/javascript": [
       "(function(root) {\n",
       "  function embed_document(root) {\n",
       "  const docs_json = {\"8acc50bc-e45f-48c3-b719-5fa1bfe5e9b1\":{\"defs\":[],\"roots\":{\"references\":[{\"attributes\":{\"below\":[{\"id\":\"31473\"}],\"center\":[{\"id\":\"31476\"},{\"id\":\"31480\"}],\"left\":[{\"id\":\"31477\"}],\"renderers\":[{\"id\":\"31499\"}],\"title\":{\"id\":\"31501\"},\"toolbar\":{\"id\":\"31488\"},\"x_range\":{\"id\":\"31465\"},\"x_scale\":{\"id\":\"31469\"},\"y_range\":{\"id\":\"31467\"},\"y_scale\":{\"id\":\"31471\"}},\"id\":\"31464\",\"subtype\":\"Figure\",\"type\":\"Plot\"},{\"attributes\":{},\"id\":\"32231\",\"type\":\"BasicTickFormatter\"},{\"attributes\":{},\"id\":\"31467\",\"type\":\"DataRange1d\"},{\"attributes\":{},\"id\":\"32237\",\"type\":\"Selection\"},{\"attributes\":{},\"id\":\"31469\",\"type\":\"LinearScale\"},{\"attributes\":{\"axis_label\":\"V Frequency\",\"coordinates\":null,\"formatter\":{\"id\":\"32234\"},\"group\":null,\"major_label_policy\":{\"id\":\"32235\"},\"ticker\":{\"id\":\"31474\"}},\"id\":\"31473\",\"type\":\"LinearAxis\"},{\"attributes\":{\"data\":{\"x\":[0.07667473769168684,0.0817717206132879,0.07395751376868608,0.08877476155539252,0.0731070496083551,0.08668242710795902,0.07171964140179299,0.0759493670886076,0.08911614317019723,0.09076433121019108,0.08440999138673558,0.07625786163522012,0.07980845969672785,0.07171314741035857,0.07199367088607594,0.08924806746310611,0.08412698412698413,0.07917888563049853,0.08459696727853153,0.08190618019359643,0.07501995211492418,0.08473221422861711,0.09281961471103327,0.08866995073891626,0.06622516556291391,0.07674236491777604,0.08783783783783784,0.07957342083675144,0.09200343938091143,0.08244680851063829,0.07855626326963906,0.087527352297593,0.0865874363327674,0.0846740050804403,0.07491582491582492,0.087527352297593,0.08542713567839195,0.08103448275862069,0.0770478507704785,0.0806686046511628,0.08418367346938775,0.07568438003220612,0.04800724637681159,0.08003233629749394,0.08154121863799284,0.0896551724137931,0.08116157855547282,0.08564231738035265,0.08355795148247978,0.07907742998352553,0.08756137479541735,0.08354430379746836,0.08319467554076539,0.07666385846672283,0.0916030534351145,0.09401709401709402,0.09414758269720101,0.09005947323704333,0.08904109589041095,0.07394113424264179,0.08263772954924875,0.0861561119293078,0.08561020036429873,0.08581818181818182,0.07993197278911565,0.08436363636363636,0.08116157855547282,0.08190618019359643,0.08699324324324324,0.09053156146179402,0.09265442404006678,0.08462732919254658,0.08961474036850921,0.09298245614035087,0.08660714285714285,0.08025247971145176,0.08494783904619971],\"y\":[0.2851670477800451,0.2702402661513399,0.432061685620977,0.3898724445572241,0.29458573520012254,0.6104893769690102,0.35044160109251976,0.26988138782758875,0.6826167962077495,0.4616378165944257,0.7189011157425981,0.7321885437632035,0.3393312429608442,0.4160072288010653,0.409548278484123,0.7471648802454562,0.653411396022395,0.2968308145349908,0.41307256750236687,0.5223887952113582,0.39022929006636004,0.35283906464335824,0.7136233373179821,0.6677882621956012,0.27633708893783704,0.4636155070752707,0.359293808020336,0.4258873394006253,0.6428471649689257,0.5512825664578923,0.5077429418821842,0.6660342703163326,0.35351896795175924,0.4475331625878192,0.6011982416335792,0.6663096444805614,0.43383706334642963,0.6001074107563085,0.2833592666222529,0.4243578946783289,0.5426800525833473,0.36257306571544373,0.30467776311034744,0.2874929757995978,0.4735989345501921,0.6701036532738713,0.504582461506877,0.5208619670185084,0.6199785834743322,0.3471458095066113,0.49686340673501883,0.3856621411083908,0.44466886499391073,0.5918431121075589,0.5789368104312939,0.6738960441220606,0.6549272184628114,0.6547269109380166,0.6779312262346798,0.5176625673713895,0.3788888283571569,0.6655573299550923,0.30799160429194383,0.2883630109992476,0.5627132556849695,0.28919402319036686,0.5121280191724322,0.5215669617511618,0.33777020500615523,0.3938264258377672,0.38538018924380346,0.6621672870523109,0.3908115201296295,0.5845034040310082,0.6809667419034046,0.5391792993985405,0.4769483062149186]},\"selected\":{\"id\":\"32237\"},\"selection_policy\":{\"id\":\"32236\"}},\"id\":\"31495\",\"type\":\"ColumnDataSource\"},{\"attributes\":{\"axis\":{\"id\":\"31473\"},\"coordinates\":null,\"group\":null,\"ticker\":null},\"id\":\"31476\",\"type\":\"Grid\"},{\"attributes\":{},\"id\":\"31471\",\"type\":\"LinearScale\"},{\"attributes\":{},\"id\":\"31474\",\"type\":\"BasicTicker\"},{\"attributes\":{\"coordinates\":null,\"data_source\":{\"id\":\"31495\"},\"glyph\":{\"id\":\"31496\"},\"group\":null,\"hover_glyph\":null,\"muted_glyph\":{\"id\":\"31498\"},\"nonselection_glyph\":{\"id\":\"31497\"},\"view\":{\"id\":\"31500\"}},\"id\":\"31499\",\"type\":\"GlyphRenderer\"},{\"attributes\":{\"fill_alpha\":{\"value\":0.1},\"fill_color\":{\"value\":\"#1f77b4\"},\"hatch_alpha\":{\"value\":0.1},\"line_alpha\":{\"value\":0.1},\"line_color\":{\"value\":\"#1f77b4\"},\"x\":{\"field\":\"x\"},\"y\":{\"field\":\"y\"}},\"id\":\"31497\",\"type\":\"Circle\"},{\"attributes\":{},\"id\":\"32236\",\"type\":\"UnionRenderers\"},{\"attributes\":{},\"id\":\"31482\",\"type\":\"WheelZoomTool\"},{\"attributes\":{\"fill_alpha\":{\"value\":0.2},\"fill_color\":{\"value\":\"#1f77b4\"},\"hatch_alpha\":{\"value\":0.2},\"line_alpha\":{\"value\":0.2},\"line_color\":{\"value\":\"#1f77b4\"},\"x\":{\"field\":\"x\"},\"y\":{\"field\":\"y\"}},\"id\":\"31498\",\"type\":\"Circle\"},{\"attributes\":{\"source\":{\"id\":\"31495\"}},\"id\":\"31500\",\"type\":\"CDSView\"},{\"attributes\":{\"axis_label\":\"GC Content\",\"coordinates\":null,\"formatter\":{\"id\":\"32231\"},\"group\":null,\"major_label_policy\":{\"id\":\"32232\"},\"ticker\":{\"id\":\"31478\"}},\"id\":\"31477\",\"type\":\"LinearAxis\"},{\"attributes\":{\"axis\":{\"id\":\"31477\"},\"coordinates\":null,\"dimension\":1,\"group\":null,\"ticker\":null},\"id\":\"31480\",\"type\":\"Grid\"},{\"attributes\":{},\"id\":\"31478\",\"type\":\"BasicTicker\"},{\"attributes\":{},\"id\":\"32235\",\"type\":\"AllLabels\"},{\"attributes\":{\"coordinates\":null,\"group\":null,\"text\":\"V\"},\"id\":\"31501\",\"type\":\"Title\"},{\"attributes\":{},\"id\":\"31486\",\"type\":\"HelpTool\"},{\"attributes\":{},\"id\":\"31481\",\"type\":\"PanTool\"},{\"attributes\":{\"overlay\":{\"id\":\"31487\"}},\"id\":\"31483\",\"type\":\"BoxZoomTool\"},{\"attributes\":{},\"id\":\"31484\",\"type\":\"SaveTool\"},{\"attributes\":{},\"id\":\"32234\",\"type\":\"BasicTickFormatter\"},{\"attributes\":{},\"id\":\"31485\",\"type\":\"ResetTool\"},{\"attributes\":{},\"id\":\"32232\",\"type\":\"AllLabels\"},{\"attributes\":{\"bottom_units\":\"screen\",\"coordinates\":null,\"fill_alpha\":0.5,\"fill_color\":\"lightgrey\",\"group\":null,\"left_units\":\"screen\",\"level\":\"overlay\",\"line_alpha\":1.0,\"line_color\":\"black\",\"line_dash\":[4,4],\"line_width\":2,\"right_units\":\"screen\",\"syncable\":false,\"top_units\":\"screen\"},\"id\":\"31487\",\"type\":\"BoxAnnotation\"},{\"attributes\":{},\"id\":\"31465\",\"type\":\"DataRange1d\"},{\"attributes\":{\"tools\":[{\"id\":\"31481\"},{\"id\":\"31482\"},{\"id\":\"31483\"},{\"id\":\"31484\"},{\"id\":\"31485\"},{\"id\":\"31486\"}]},\"id\":\"31488\",\"type\":\"Toolbar\"},{\"attributes\":{\"fill_color\":{\"value\":\"#1f77b4\"},\"line_color\":{\"value\":\"#1f77b4\"},\"x\":{\"field\":\"x\"},\"y\":{\"field\":\"y\"}},\"id\":\"31496\",\"type\":\"Circle\"}],\"root_ids\":[\"31464\"]},\"title\":\"Bokeh Application\",\"version\":\"2.4.3\"}};\n",
       "  const render_items = [{\"docid\":\"8acc50bc-e45f-48c3-b719-5fa1bfe5e9b1\",\"root_ids\":[\"31464\"],\"roots\":{\"31464\":\"1e8ce359-9fcc-4eae-a809-36d1f484e93c\"}}];\n",
       "  root.Bokeh.embed.embed_items_notebook(docs_json, render_items);\n",
       "  }\n",
       "  if (root.Bokeh !== undefined) {\n",
       "    embed_document(root);\n",
       "  } else {\n",
       "    let attempts = 0;\n",
       "    const timer = setInterval(function(root) {\n",
       "      if (root.Bokeh !== undefined) {\n",
       "        clearInterval(timer);\n",
       "        embed_document(root);\n",
       "      } else {\n",
       "        attempts++;\n",
       "        if (attempts > 100) {\n",
       "          clearInterval(timer);\n",
       "          console.log(\"Bokeh: ERROR: Unable to run BokehJS code because BokehJS library is missing\");\n",
       "        }\n",
       "      }\n",
       "    }, 10, root)\n",
       "  }\n",
       "})(window);"
      ],
      "application/vnd.bokehjs_exec.v0+json": ""
     },
     "metadata": {
      "application/vnd.bokehjs_exec.v0+json": {
       "id": "31464"
      }
     },
     "output_type": "display_data"
    },
    {
     "data": {
      "text/html": [
       "\n",
       "  <div class=\"bk-root\" id=\"25e11c9c-97b9-4802-aeb0-08e3085cd712\" data-root-id=\"32294\"></div>\n"
      ]
     },
     "metadata": {},
     "output_type": "display_data"
    },
    {
     "data": {
      "application/javascript": [
       "(function(root) {\n",
       "  function embed_document(root) {\n",
       "  const docs_json = {\"22863e07-b456-453a-b9a1-3f127f9b019f\":{\"defs\":[],\"roots\":{\"references\":[{\"attributes\":{\"below\":[{\"id\":\"32303\"}],\"center\":[{\"id\":\"32306\"},{\"id\":\"32310\"}],\"left\":[{\"id\":\"32307\"}],\"renderers\":[{\"id\":\"32329\"}],\"title\":{\"id\":\"32331\"},\"toolbar\":{\"id\":\"32318\"},\"x_range\":{\"id\":\"32295\"},\"x_scale\":{\"id\":\"32299\"},\"y_range\":{\"id\":\"32297\"},\"y_scale\":{\"id\":\"32301\"}},\"id\":\"32294\",\"subtype\":\"Figure\",\"type\":\"Plot\"},{\"attributes\":{\"axis\":{\"id\":\"32303\"},\"coordinates\":null,\"group\":null,\"ticker\":null},\"id\":\"32306\",\"type\":\"Grid\"},{\"attributes\":{},\"id\":\"32312\",\"type\":\"WheelZoomTool\"},{\"attributes\":{},\"id\":\"32301\",\"type\":\"LinearScale\"},{\"attributes\":{},\"id\":\"32304\",\"type\":\"BasicTicker\"},{\"attributes\":{\"axis\":{\"id\":\"32307\"},\"coordinates\":null,\"dimension\":1,\"group\":null,\"ticker\":null},\"id\":\"32310\",\"type\":\"Grid\"},{\"attributes\":{\"axis_label\":\"GC Content\",\"coordinates\":null,\"formatter\":{\"id\":\"33072\"},\"group\":null,\"major_label_policy\":{\"id\":\"33073\"},\"ticker\":{\"id\":\"32308\"}},\"id\":\"32307\",\"type\":\"LinearAxis\"},{\"attributes\":{},\"id\":\"33077\",\"type\":\"UnionRenderers\"},{\"attributes\":{},\"id\":\"32308\",\"type\":\"BasicTicker\"},{\"attributes\":{},\"id\":\"33078\",\"type\":\"Selection\"},{\"attributes\":{\"coordinates\":null,\"group\":null,\"text\":\"W\"},\"id\":\"32331\",\"type\":\"Title\"},{\"attributes\":{\"fill_alpha\":{\"value\":0.2},\"fill_color\":{\"value\":\"#1f77b4\"},\"hatch_alpha\":{\"value\":0.2},\"line_alpha\":{\"value\":0.2},\"line_color\":{\"value\":\"#1f77b4\"},\"x\":{\"field\":\"x\"},\"y\":{\"field\":\"y\"}},\"id\":\"32328\",\"type\":\"Circle\"},{\"attributes\":{},\"id\":\"32316\",\"type\":\"HelpTool\"},{\"attributes\":{\"fill_alpha\":{\"value\":0.1},\"fill_color\":{\"value\":\"#1f77b4\"},\"hatch_alpha\":{\"value\":0.1},\"line_alpha\":{\"value\":0.1},\"line_color\":{\"value\":\"#1f77b4\"},\"x\":{\"field\":\"x\"},\"y\":{\"field\":\"y\"}},\"id\":\"32327\",\"type\":\"Circle\"},{\"attributes\":{},\"id\":\"32311\",\"type\":\"PanTool\"},{\"attributes\":{\"overlay\":{\"id\":\"32317\"}},\"id\":\"32313\",\"type\":\"BoxZoomTool\"},{\"attributes\":{\"coordinates\":null,\"data_source\":{\"id\":\"32325\"},\"glyph\":{\"id\":\"32326\"},\"group\":null,\"hover_glyph\":null,\"muted_glyph\":{\"id\":\"32328\"},\"nonselection_glyph\":{\"id\":\"32327\"},\"view\":{\"id\":\"32330\"}},\"id\":\"32329\",\"type\":\"GlyphRenderer\"},{\"attributes\":{},\"id\":\"32314\",\"type\":\"SaveTool\"},{\"attributes\":{},\"id\":\"33075\",\"type\":\"BasicTickFormatter\"},{\"attributes\":{\"source\":{\"id\":\"32325\"}},\"id\":\"32330\",\"type\":\"CDSView\"},{\"attributes\":{},\"id\":\"32315\",\"type\":\"ResetTool\"},{\"attributes\":{\"bottom_units\":\"screen\",\"coordinates\":null,\"fill_alpha\":0.5,\"fill_color\":\"lightgrey\",\"group\":null,\"left_units\":\"screen\",\"level\":\"overlay\",\"line_alpha\":1.0,\"line_color\":\"black\",\"line_dash\":[4,4],\"line_width\":2,\"right_units\":\"screen\",\"syncable\":false,\"top_units\":\"screen\"},\"id\":\"32317\",\"type\":\"BoxAnnotation\"},{\"attributes\":{\"tools\":[{\"id\":\"32311\"},{\"id\":\"32312\"},{\"id\":\"32313\"},{\"id\":\"32314\"},{\"id\":\"32315\"},{\"id\":\"32316\"}]},\"id\":\"32318\",\"type\":\"Toolbar\"},{\"attributes\":{\"fill_color\":{\"value\":\"#1f77b4\"},\"line_color\":{\"value\":\"#1f77b4\"},\"x\":{\"field\":\"x\"},\"y\":{\"field\":\"y\"}},\"id\":\"32326\",\"type\":\"Circle\"},{\"attributes\":{},\"id\":\"33072\",\"type\":\"BasicTickFormatter\"},{\"attributes\":{},\"id\":\"33073\",\"type\":\"AllLabels\"},{\"attributes\":{},\"id\":\"32297\",\"type\":\"DataRange1d\"},{\"attributes\":{},\"id\":\"32299\",\"type\":\"LinearScale\"},{\"attributes\":{},\"id\":\"33076\",\"type\":\"AllLabels\"},{\"attributes\":{\"axis_label\":\"W Frequency\",\"coordinates\":null,\"formatter\":{\"id\":\"33075\"},\"group\":null,\"major_label_policy\":{\"id\":\"33076\"},\"ticker\":{\"id\":\"32304\"}},\"id\":\"32303\",\"type\":\"LinearAxis\"},{\"attributes\":{},\"id\":\"32295\",\"type\":\"DataRange1d\"},{\"attributes\":{\"data\":{\"x\":[0.004035512510088781,0.002555366269165247,0.004720692368214005,0.0022010271460014674,0.004351610095735422,0.0031520882584712374,0.0032599837000814994,0.0033755274261603376,0.004382761139517896,0.003980891719745223,0.007751937984496124,0.003930817610062893,0.004788507581803671,0.005577689243027889,0.0023734177215189874,0.005621925509486999,0.0031746031746031746,0.004398826979472141,0.0039904229848363925,0.0029784065524944155,0.0039904229848363925,0.003996802557953637,0.00788091068301226,0.0,0.0016556291390728477,0.00548159749412686,0.004222972972972973,0.004922067268252666,0.005159071367153913,0.005319148936170213,0.003538570417551309,0.005835156819839533,0.0050933786078098476,0.005080440304826418,0.007575757575757576,0.005835156819839533,0.005025125628140704,0.008620689655172414,0.0040551500405515,0.003633720930232558,0.006802721088435374,0.004025764895330112,0.007246376811594203,0.004042037186742118,0.005376344086021506,0.002586206896551724,0.0029784065524944155,0.005037783375314861,0.0071877807726864335,0.004942339373970346,0.004909983633387889,0.005063291139240506,0.004991680532445923,0.007582139848357203,0.007633587786259542,0.007692307692307693,0.007633587786259542,0.0076465590484282074,0.007705479452054794,0.004307250538406317,0.004173622704507512,0.0029455081001472753,0.006375227686703097,0.005818181818181818,0.007653061224489796,0.005818181818181818,0.0029784065524944155,0.0029784065524944155,0.004222972972972973,0.004152823920265781,0.004173622704507512,0.006211180124223602,0.0041876046901172526,0.007017543859649123,0.0017857142857142857,0.0063119927862939585,0.0029806259314456036],\"y\":[0.2851670477800451,0.2702402661513399,0.432061685620977,0.3898724445572241,0.29458573520012254,0.6104893769690102,0.35044160109251976,0.26988138782758875,0.6826167962077495,0.4616378165944257,0.7189011157425981,0.7321885437632035,0.3393312429608442,0.4160072288010653,0.409548278484123,0.7471648802454562,0.653411396022395,0.2968308145349908,0.41307256750236687,0.5223887952113582,0.39022929006636004,0.35283906464335824,0.7136233373179821,0.6677882621956012,0.27633708893783704,0.4636155070752707,0.359293808020336,0.4258873394006253,0.6428471649689257,0.5512825664578923,0.5077429418821842,0.6660342703163326,0.35351896795175924,0.4475331625878192,0.6011982416335792,0.6663096444805614,0.43383706334642963,0.6001074107563085,0.2833592666222529,0.4243578946783289,0.5426800525833473,0.36257306571544373,0.30467776311034744,0.2874929757995978,0.4735989345501921,0.6701036532738713,0.504582461506877,0.5208619670185084,0.6199785834743322,0.3471458095066113,0.49686340673501883,0.3856621411083908,0.44466886499391073,0.5918431121075589,0.5789368104312939,0.6738960441220606,0.6549272184628114,0.6547269109380166,0.6779312262346798,0.5176625673713895,0.3788888283571569,0.6655573299550923,0.30799160429194383,0.2883630109992476,0.5627132556849695,0.28919402319036686,0.5121280191724322,0.5215669617511618,0.33777020500615523,0.3938264258377672,0.38538018924380346,0.6621672870523109,0.3908115201296295,0.5845034040310082,0.6809667419034046,0.5391792993985405,0.4769483062149186]},\"selected\":{\"id\":\"33078\"},\"selection_policy\":{\"id\":\"33077\"}},\"id\":\"32325\",\"type\":\"ColumnDataSource\"}],\"root_ids\":[\"32294\"]},\"title\":\"Bokeh Application\",\"version\":\"2.4.3\"}};\n",
       "  const render_items = [{\"docid\":\"22863e07-b456-453a-b9a1-3f127f9b019f\",\"root_ids\":[\"32294\"],\"roots\":{\"32294\":\"25e11c9c-97b9-4802-aeb0-08e3085cd712\"}}];\n",
       "  root.Bokeh.embed.embed_items_notebook(docs_json, render_items);\n",
       "  }\n",
       "  if (root.Bokeh !== undefined) {\n",
       "    embed_document(root);\n",
       "  } else {\n",
       "    let attempts = 0;\n",
       "    const timer = setInterval(function(root) {\n",
       "      if (root.Bokeh !== undefined) {\n",
       "        clearInterval(timer);\n",
       "        embed_document(root);\n",
       "      } else {\n",
       "        attempts++;\n",
       "        if (attempts > 100) {\n",
       "          clearInterval(timer);\n",
       "          console.log(\"Bokeh: ERROR: Unable to run BokehJS code because BokehJS library is missing\");\n",
       "        }\n",
       "      }\n",
       "    }, 10, root)\n",
       "  }\n",
       "})(window);"
      ],
      "application/vnd.bokehjs_exec.v0+json": ""
     },
     "metadata": {
      "application/vnd.bokehjs_exec.v0+json": {
       "id": "32294"
      }
     },
     "output_type": "display_data"
    },
    {
     "data": {
      "text/html": [
       "\n",
       "  <div class=\"bk-root\" id=\"1b66f1ac-bf84-483e-ac56-ce67640f90dd\" data-root-id=\"33135\"></div>\n"
      ]
     },
     "metadata": {},
     "output_type": "display_data"
    },
    {
     "data": {
      "application/javascript": [
       "(function(root) {\n",
       "  function embed_document(root) {\n",
       "  const docs_json = {\"7e82d2be-2b83-4644-8931-17973e16ddf2\":{\"defs\":[],\"roots\":{\"references\":[{\"attributes\":{\"below\":[{\"id\":\"33144\"}],\"center\":[{\"id\":\"33147\"},{\"id\":\"33151\"}],\"left\":[{\"id\":\"33148\"}],\"renderers\":[{\"id\":\"33170\"}],\"title\":{\"id\":\"33172\"},\"toolbar\":{\"id\":\"33159\"},\"x_range\":{\"id\":\"33136\"},\"x_scale\":{\"id\":\"33140\"},\"y_range\":{\"id\":\"33138\"},\"y_scale\":{\"id\":\"33142\"}},\"id\":\"33135\",\"subtype\":\"Figure\",\"type\":\"Plot\"},{\"attributes\":{\"overlay\":{\"id\":\"33158\"}},\"id\":\"33154\",\"type\":\"BoxZoomTool\"},{\"attributes\":{},\"id\":\"33930\",\"type\":\"Selection\"},{\"attributes\":{},\"id\":\"33155\",\"type\":\"SaveTool\"},{\"attributes\":{},\"id\":\"33156\",\"type\":\"ResetTool\"},{\"attributes\":{\"bottom_units\":\"screen\",\"coordinates\":null,\"fill_alpha\":0.5,\"fill_color\":\"lightgrey\",\"group\":null,\"left_units\":\"screen\",\"level\":\"overlay\",\"line_alpha\":1.0,\"line_color\":\"black\",\"line_dash\":[4,4],\"line_width\":2,\"right_units\":\"screen\",\"syncable\":false,\"top_units\":\"screen\"},\"id\":\"33158\",\"type\":\"BoxAnnotation\"},{\"attributes\":{\"source\":{\"id\":\"33166\"}},\"id\":\"33171\",\"type\":\"CDSView\"},{\"attributes\":{\"coordinates\":null,\"group\":null,\"text\":\"Y\"},\"id\":\"33172\",\"type\":\"Title\"},{\"attributes\":{\"tools\":[{\"id\":\"33152\"},{\"id\":\"33153\"},{\"id\":\"33154\"},{\"id\":\"33155\"},{\"id\":\"33156\"},{\"id\":\"33157\"}]},\"id\":\"33159\",\"type\":\"Toolbar\"},{\"attributes\":{},\"id\":\"33136\",\"type\":\"DataRange1d\"},{\"attributes\":{},\"id\":\"33138\",\"type\":\"DataRange1d\"},{\"attributes\":{},\"id\":\"33924\",\"type\":\"BasicTickFormatter\"},{\"attributes\":{},\"id\":\"33140\",\"type\":\"LinearScale\"},{\"attributes\":{\"coordinates\":null,\"data_source\":{\"id\":\"33166\"},\"glyph\":{\"id\":\"33167\"},\"group\":null,\"hover_glyph\":null,\"muted_glyph\":{\"id\":\"33169\"},\"nonselection_glyph\":{\"id\":\"33168\"},\"view\":{\"id\":\"33171\"}},\"id\":\"33170\",\"type\":\"GlyphRenderer\"},{\"attributes\":{\"axis_label\":\"Y Frequency\",\"coordinates\":null,\"formatter\":{\"id\":\"33927\"},\"group\":null,\"major_label_policy\":{\"id\":\"33928\"},\"ticker\":{\"id\":\"33145\"}},\"id\":\"33144\",\"type\":\"LinearAxis\"},{\"attributes\":{\"data\":{\"x\":[0.03066989507667474,0.028960817717206135,0.02989771833202203,0.03008070432868672,0.024369016536118365,0.027580772261623327,0.029339853300733496,0.030379746835443037,0.028487947406866325,0.03343949044585987,0.02153316106804479,0.025157232704402517,0.030327214684756583,0.03187250996015936,0.027689873417721517,0.025298664792691498,0.025396825396825397,0.024926686217008796,0.03272146847565842,0.03127326880119136,0.034317637669592976,0.03437250199840128,0.021891418563922942,0.024630541871921183,0.0380794701986755,0.030540328895849646,0.036317567567567564,0.029532403609515995,0.02407566638005159,0.044326241134751775,0.024062278839348902,0.028446389496717725,0.03480475382003396,0.03048264182895851,0.025252525252525252,0.028446389496717725,0.03433835845896147,0.019827586206896553,0.035685320356853206,0.029796511627906978,0.022108843537414966,0.0322061191626409,0.03351449275362319,0.034761519805982216,0.03136200716845878,0.02413793103448276,0.03201787043931496,0.033585222502099076,0.03324348607367475,0.039538714991762765,0.03518821603927987,0.027848101265822784,0.033277870216306155,0.02443133951137321,0.020356234096692113,0.019658119658119658,0.020356234096692113,0.020390824129141887,0.018835616438356163,0.03158650394831299,0.03005008347245409,0.024300441826215022,0.03278688524590164,0.02909090909090909,0.02040816326530612,0.02909090909090909,0.03201787043931496,0.03127326880119136,0.036317567567567564,0.03239202657807309,0.028380634390651086,0.023291925465838508,0.031825795644891124,0.03508771929824561,0.027678571428571427,0.034265103697024346,0.028315946348733235],\"y\":[0.2851670477800451,0.2702402661513399,0.432061685620977,0.3898724445572241,0.29458573520012254,0.6104893769690102,0.35044160109251976,0.26988138782758875,0.6826167962077495,0.4616378165944257,0.7189011157425981,0.7321885437632035,0.3393312429608442,0.4160072288010653,0.409548278484123,0.7471648802454562,0.653411396022395,0.2968308145349908,0.41307256750236687,0.5223887952113582,0.39022929006636004,0.35283906464335824,0.7136233373179821,0.6677882621956012,0.27633708893783704,0.4636155070752707,0.359293808020336,0.4258873394006253,0.6428471649689257,0.5512825664578923,0.5077429418821842,0.6660342703163326,0.35351896795175924,0.4475331625878192,0.6011982416335792,0.6663096444805614,0.43383706334642963,0.6001074107563085,0.2833592666222529,0.4243578946783289,0.5426800525833473,0.36257306571544373,0.30467776311034744,0.2874929757995978,0.4735989345501921,0.6701036532738713,0.504582461506877,0.5208619670185084,0.6199785834743322,0.3471458095066113,0.49686340673501883,0.3856621411083908,0.44466886499391073,0.5918431121075589,0.5789368104312939,0.6738960441220606,0.6549272184628114,0.6547269109380166,0.6779312262346798,0.5176625673713895,0.3788888283571569,0.6655573299550923,0.30799160429194383,0.2883630109992476,0.5627132556849695,0.28919402319036686,0.5121280191724322,0.5215669617511618,0.33777020500615523,0.3938264258377672,0.38538018924380346,0.6621672870523109,0.3908115201296295,0.5845034040310082,0.6809667419034046,0.5391792993985405,0.4769483062149186]},\"selected\":{\"id\":\"33930\"},\"selection_policy\":{\"id\":\"33929\"}},\"id\":\"33166\",\"type\":\"ColumnDataSource\"},{\"attributes\":{\"fill_alpha\":{\"value\":0.2},\"fill_color\":{\"value\":\"#1f77b4\"},\"hatch_alpha\":{\"value\":0.2},\"line_alpha\":{\"value\":0.2},\"line_color\":{\"value\":\"#1f77b4\"},\"x\":{\"field\":\"x\"},\"y\":{\"field\":\"y\"}},\"id\":\"33169\",\"type\":\"Circle\"},{\"attributes\":{},\"id\":\"33925\",\"type\":\"AllLabels\"},{\"attributes\":{},\"id\":\"33927\",\"type\":\"BasicTickFormatter\"},{\"attributes\":{\"axis\":{\"id\":\"33144\"},\"coordinates\":null,\"group\":null,\"ticker\":null},\"id\":\"33147\",\"type\":\"Grid\"},{\"attributes\":{},\"id\":\"33928\",\"type\":\"AllLabels\"},{\"attributes\":{\"fill_alpha\":{\"value\":0.1},\"fill_color\":{\"value\":\"#1f77b4\"},\"hatch_alpha\":{\"value\":0.1},\"line_alpha\":{\"value\":0.1},\"line_color\":{\"value\":\"#1f77b4\"},\"x\":{\"field\":\"x\"},\"y\":{\"field\":\"y\"}},\"id\":\"33168\",\"type\":\"Circle\"},{\"attributes\":{},\"id\":\"33153\",\"type\":\"WheelZoomTool\"},{\"attributes\":{},\"id\":\"33142\",\"type\":\"LinearScale\"},{\"attributes\":{},\"id\":\"33145\",\"type\":\"BasicTicker\"},{\"attributes\":{\"axis\":{\"id\":\"33148\"},\"coordinates\":null,\"dimension\":1,\"group\":null,\"ticker\":null},\"id\":\"33151\",\"type\":\"Grid\"},{\"attributes\":{\"axis_label\":\"GC Content\",\"coordinates\":null,\"formatter\":{\"id\":\"33924\"},\"group\":null,\"major_label_policy\":{\"id\":\"33925\"},\"ticker\":{\"id\":\"33149\"}},\"id\":\"33148\",\"type\":\"LinearAxis\"},{\"attributes\":{\"fill_color\":{\"value\":\"#1f77b4\"},\"line_color\":{\"value\":\"#1f77b4\"},\"x\":{\"field\":\"x\"},\"y\":{\"field\":\"y\"}},\"id\":\"33167\",\"type\":\"Circle\"},{\"attributes\":{},\"id\":\"33149\",\"type\":\"BasicTicker\"},{\"attributes\":{},\"id\":\"33929\",\"type\":\"UnionRenderers\"},{\"attributes\":{},\"id\":\"33157\",\"type\":\"HelpTool\"},{\"attributes\":{},\"id\":\"33152\",\"type\":\"PanTool\"}],\"root_ids\":[\"33135\"]},\"title\":\"Bokeh Application\",\"version\":\"2.4.3\"}};\n",
       "  const render_items = [{\"docid\":\"7e82d2be-2b83-4644-8931-17973e16ddf2\",\"root_ids\":[\"33135\"],\"roots\":{\"33135\":\"1b66f1ac-bf84-483e-ac56-ce67640f90dd\"}}];\n",
       "  root.Bokeh.embed.embed_items_notebook(docs_json, render_items);\n",
       "  }\n",
       "  if (root.Bokeh !== undefined) {\n",
       "    embed_document(root);\n",
       "  } else {\n",
       "    let attempts = 0;\n",
       "    const timer = setInterval(function(root) {\n",
       "      if (root.Bokeh !== undefined) {\n",
       "        clearInterval(timer);\n",
       "        embed_document(root);\n",
       "      } else {\n",
       "        attempts++;\n",
       "        if (attempts > 100) {\n",
       "          clearInterval(timer);\n",
       "          console.log(\"Bokeh: ERROR: Unable to run BokehJS code because BokehJS library is missing\");\n",
       "        }\n",
       "      }\n",
       "    }, 10, root)\n",
       "  }\n",
       "})(window);"
      ],
      "application/vnd.bokehjs_exec.v0+json": ""
     },
     "metadata": {
      "application/vnd.bokehjs_exec.v0+json": {
       "id": "33135"
      }
     },
     "output_type": "display_data"
    }
   ],
   "source": [
    "import pandas as pd\n",
    "import bokeh.io\n",
    "from bokeh.io import output_notebook\n",
    "from bokeh.plotting import figure, output_file, gridplot, show\n",
    "from bokeh.models import ColumnDataSource, Label, LabelSet, Range1d \n",
    "output_notebook()\n",
    "\n",
    "rpoB_open = open('File_For_GC_Usage_RpoB.txt', 'r')\n",
    "rpoB_data = rpoB_open.read()\n",
    "rpoB_split = rpoB_data.splitlines()\n",
    "\n",
    "file_names = []\n",
    "GC_content = []\n",
    "rough_cav_vol = []\n",
    "                 \n",
    "for x in range(0, len(rpoB_split)):\n",
    "    one_line_split = rpoB_split[x].split(',')\n",
    "    file_names.append(one_line_split[1])\n",
    "    GC_content.append(float(one_line_split[2]))\n",
    "    rough_cav_vol.append(one_line_split[4])\n",
    "    \n",
    "rough_cav_vol_1 = []\n",
    "for x in range(0, len(rough_cav_vol)):\n",
    "    split_spaces = rough_cav_vol[x].split()\n",
    "    rough_cav_vol_1.append(split_spaces[1])\n",
    "clean_cav_vol = []\n",
    "for x in range(0, len(rough_cav_vol_1)):\n",
    "    split_bracket = rough_cav_vol_1[x].split(']')\n",
    "    clean_cav_vol.append(float(split_bracket[0]))\n",
    "print(clean_cav_vol)\n",
    "    \n",
    "\n",
    "# count codons frequencies in each homolog\n",
    "len_list = []\n",
    "m_list = []\n",
    "a_list = []\n",
    "c_list = []\n",
    "d_list = []\n",
    "e_list = []\n",
    "f_list = []\n",
    "g_list = []\n",
    "h_list = []\n",
    "i_list = []\n",
    "k_list = []\n",
    "l_list = []\n",
    "n_list = []\n",
    "p_list = []\n",
    "q_list = []\n",
    "r_list = []\n",
    "s_list = []\n",
    "t_list = []\n",
    "v_list = []\n",
    "w_list = []\n",
    "y_list = []\n",
    "\n",
    "for y in range(0, len(file_names)):\n",
    "    first_entry_open = open(file_names[y], 'r')\n",
    "    first_entry = first_entry_open.read()\n",
    "    first_list_1 = first_entry.split('0')\n",
    "    first_list_2 = first_list_1[len(first_list_1) - 1].split('}')\n",
    "    \n",
    "    len_list.append(len(first_list_2[0]))\n",
    "    m_list.append(first_list_2[0].count('M')/len(first_list_2[0]))\n",
    "    a_list.append(first_list_2[0].count('A')/len(first_list_2[0]))\n",
    "    c_list.append(first_list_2[0].count('C')/len(first_list_2[0]))\n",
    "    d_list.append(first_list_2[0].count('D')/len(first_list_2[0]))\n",
    "    e_list.append(first_list_2[0].count('E')/len(first_list_2[0]))\n",
    "    f_list.append(first_list_2[0].count('F')/len(first_list_2[0]))\n",
    "    g_list.append(first_list_2[0].count('G')/len(first_list_2[0]))\n",
    "    h_list.append(first_list_2[0].count('H')/len(first_list_2[0]))\n",
    "    i_list.append(first_list_2[0].count('I')/len(first_list_2[0]))\n",
    "    k_list.append(first_list_2[0].count('K')/len(first_list_2[0]))\n",
    "    l_list.append(first_list_2[0].count('L')/len(first_list_2[0]))\n",
    "    n_list.append(first_list_2[0].count('N')/len(first_list_2[0]))\n",
    "    p_list.append(first_list_2[0].count('P')/len(first_list_2[0]))\n",
    "    q_list.append(first_list_2[0].count('Q')/len(first_list_2[0]))\n",
    "    r_list.append(first_list_2[0].count('R')/len(first_list_2[0]))\n",
    "    s_list.append(first_list_2[0].count('S')/len(first_list_2[0]))\n",
    "    t_list.append(first_list_2[0].count('T')/len(first_list_2[0]))\n",
    "    v_list.append(first_list_2[0].count('V')/len(first_list_2[0]))\n",
    "    w_list.append(first_list_2[0].count('W')/len(first_list_2[0]))\n",
    "    y_list.append(first_list_2[0].count('Y')/len(first_list_2[0]))\n",
    "\n",
    "len_plot = bokeh.plotting.figure(\n",
    "    width=600,\n",
    "    height=600,\n",
    "    x_axis_label = \"Length\",\n",
    "    y_axis_label = \"GC Content\"\n",
    "    )\n",
    "    \n",
    "len_plot.circle(\n",
    "    x=len_list,\n",
    "    y=GC_content\n",
    "    )\n",
    "    \n",
    "len_plot.title.text = 'RpoB Length'\n",
    "show(len_plot)\n",
    "\n",
    "cav_vol_plot = bokeh.plotting.figure(\n",
    "    width=600,\n",
    "    height=600,\n",
    "    x_axis_label = \"Cavity Volume (Cubic Angstroms)\",\n",
    "    y_axis_label = \"Length (Amino Acids)\"\n",
    "    )\n",
    "    \n",
    "cav_vol_plot.circle(\n",
    "    x=clean_cav_vol,\n",
    "    y=len_list\n",
    "    )\n",
    "    \n",
    "cav_vol_plot.title.text = 'RpoB Length'\n",
    "show(cav_vol_plot)\n",
    "\n",
    "\n",
    "cav_vol_plot_1 = bokeh.plotting.figure(\n",
    "    width=600,\n",
    "    height=600,\n",
    "    x_axis_label = \"Cavity Volume (Cubic Angstroms)\",\n",
    "    y_axis_label = \"GC Content\"\n",
    "    )\n",
    "    \n",
    "cav_vol_plot_1.circle(\n",
    "    x=clean_cav_vol,\n",
    "    y=GC_content\n",
    "    )\n",
    "    \n",
    "cav_vol_plot_1.title.text = 'RpoB Cavity Volume'\n",
    "show(cav_vol_plot_1)\n",
    "\n",
    "\n",
    "    \n",
    "    \n",
    "m_plot = bokeh.plotting.figure(\n",
    "    width=600,\n",
    "    height=600,\n",
    "    x_axis_label = \"M Frequency\",\n",
    "    y_axis_label = \"GC Content\"\n",
    "    )\n",
    "    \n",
    "m_plot.circle(\n",
    "    x=m_list,\n",
    "    y=GC_content\n",
    "    )\n",
    "    \n",
    "m_plot.title.text = 'M'\n",
    "show(m_plot)\n",
    "\n",
    "a_plot = bokeh.plotting.figure(\n",
    "    width=600,\n",
    "    height=600,\n",
    "    x_axis_label = \"A Frequency\",\n",
    "    y_axis_label = \"GC Content\"\n",
    "    )\n",
    "    \n",
    "a_plot.circle(\n",
    "    x=a_list,\n",
    "    y=GC_content\n",
    "    )\n",
    "    \n",
    "a_plot.title.text = 'A'\n",
    "show(a_plot)\n",
    "\n",
    "c_plot = bokeh.plotting.figure(\n",
    "    width=600,\n",
    "    height=600,\n",
    "    x_axis_label = \"C Frequency\",\n",
    "    y_axis_label = \"GC Content\"\n",
    "    )\n",
    "    \n",
    "c_plot.circle(\n",
    "    x=c_list,\n",
    "    y=GC_content\n",
    "    )\n",
    "    \n",
    "c_plot.title.text = 'C'\n",
    "show(c_plot)\n",
    "\n",
    "d_plot = bokeh.plotting.figure(\n",
    "    width=600,\n",
    "    height=600,\n",
    "    x_axis_label = \"D Frequency\",\n",
    "    y_axis_label = \"GC Content\"\n",
    "    )\n",
    "    \n",
    "d_plot.circle(\n",
    "    x=d_list,\n",
    "    y=GC_content\n",
    "    )\n",
    "    \n",
    "d_plot.title.text = 'D'\n",
    "show(d_plot)\n",
    "\n",
    "e_plot = bokeh.plotting.figure(\n",
    "    width=600,\n",
    "    height=600,\n",
    "    x_axis_label = \"E Frequency\",\n",
    "    y_axis_label = \"GC Content\"\n",
    "    )\n",
    "    \n",
    "e_plot.circle(\n",
    "    x=e_list,\n",
    "    y=GC_content\n",
    "    )\n",
    "    \n",
    "e_plot.title.text = 'E'\n",
    "show(e_plot)\n",
    "\n",
    "f_plot = bokeh.plotting.figure(\n",
    "    width=600,\n",
    "    height=600,\n",
    "    x_axis_label = \"F Frequency\",\n",
    "    y_axis_label = \"GC Content\"\n",
    "    )\n",
    "    \n",
    "f_plot.circle(\n",
    "    x=f_list,\n",
    "    y=GC_content\n",
    "    )\n",
    "    \n",
    "f_plot.title.text = 'F'\n",
    "show(f_plot)\n",
    "\n",
    "g_plot = bokeh.plotting.figure(\n",
    "    width=600,\n",
    "    height=600,\n",
    "    x_axis_label = \"G Frequency\",\n",
    "    y_axis_label = \"GC Content\"\n",
    "    )\n",
    "    \n",
    "g_plot.circle(\n",
    "    x=g_list,\n",
    "    y=GC_content\n",
    "    )\n",
    "    \n",
    "g_plot.title.text = 'G'\n",
    "show(g_plot)\n",
    "\n",
    "h_plot = bokeh.plotting.figure(\n",
    "    width=600,\n",
    "    height=600,\n",
    "    x_axis_label = \"H Frequency\",\n",
    "    y_axis_label = \"GC Content\"\n",
    "    )\n",
    "    \n",
    "h_plot.circle(\n",
    "    x=h_list,\n",
    "    y=GC_content\n",
    "    )\n",
    "    \n",
    "h_plot.title.text = 'H'\n",
    "show(h_plot)\n",
    "\n",
    "i_plot = bokeh.plotting.figure(\n",
    "    width=600,\n",
    "    height=600,\n",
    "    x_axis_label = \"I Frequency\",\n",
    "    y_axis_label = \"GC Content\"\n",
    "    )\n",
    "    \n",
    "i_plot.circle(\n",
    "    x=i_list,\n",
    "    y=GC_content\n",
    "    )\n",
    "    \n",
    "i_plot.title.text = 'I'\n",
    "show(i_plot)\n",
    "\n",
    "k_plot = bokeh.plotting.figure(\n",
    "    width=600,\n",
    "    height=600,\n",
    "    x_axis_label = \"K Frequency\",\n",
    "    y_axis_label = \"GC Content\"\n",
    "    )\n",
    "    \n",
    "k_plot.circle(\n",
    "    x=k_list,\n",
    "    y=GC_content\n",
    "    )\n",
    "    \n",
    "k_plot.title.text = 'K'\n",
    "show(k_plot)\n",
    "\n",
    "l_plot = bokeh.plotting.figure(\n",
    "    width=600,\n",
    "    height=600,\n",
    "    x_axis_label = \"L Frequency\",\n",
    "    y_axis_label = \"GC Content\"\n",
    "    )\n",
    "    \n",
    "l_plot.circle(\n",
    "    x=l_list,\n",
    "    y=GC_content\n",
    "    )\n",
    "    \n",
    "l_plot.title.text = 'L'\n",
    "show(l_plot)\n",
    "\n",
    "n_plot = bokeh.plotting.figure(\n",
    "    width=600,\n",
    "    height=600,\n",
    "    x_axis_label = \"N Frequency\",\n",
    "    y_axis_label = \"GC Content\"\n",
    "    )\n",
    "    \n",
    "n_plot.circle(\n",
    "    x=n_list,\n",
    "    y=GC_content\n",
    "    )\n",
    "    \n",
    "n_plot.title.text = 'N'\n",
    "show(n_plot)\n",
    "\n",
    "p_plot = bokeh.plotting.figure(\n",
    "    width=600,\n",
    "    height=600,\n",
    "    x_axis_label = \"P Frequency\",\n",
    "    y_axis_label = \"GC Content\"\n",
    "    )\n",
    "    \n",
    "p_plot.circle(\n",
    "    x=p_list,\n",
    "    y=GC_content\n",
    "    )\n",
    "    \n",
    "p_plot.title.text = 'P'\n",
    "show(p_plot)\n",
    "\n",
    "q_plot = bokeh.plotting.figure(\n",
    "    width=600,\n",
    "    height=600,\n",
    "    x_axis_label = \"Q Frequency\",\n",
    "    y_axis_label = \"GC Content\"\n",
    "    )\n",
    "    \n",
    "q_plot.circle(\n",
    "    x=q_list,\n",
    "    y=GC_content\n",
    "    )\n",
    "    \n",
    "q_plot.title.text = 'Q'\n",
    "show(q_plot)\n",
    "\n",
    "r_plot = bokeh.plotting.figure(\n",
    "    width=600,\n",
    "    height=600,\n",
    "    x_axis_label = \"R Frequency\",\n",
    "    y_axis_label = \"GC Content\"\n",
    "    )\n",
    "    \n",
    "r_plot.circle(\n",
    "    x=r_list,\n",
    "    y=GC_content\n",
    "    )\n",
    "    \n",
    "r_plot.title.text = 'R'\n",
    "show(r_plot)\n",
    "\n",
    "s_plot = bokeh.plotting.figure(\n",
    "    width=600,\n",
    "    height=600,\n",
    "    x_axis_label = \"S Frequency\",\n",
    "    y_axis_label = \"GC Content\"\n",
    "    )\n",
    "    \n",
    "s_plot.circle(\n",
    "    x=s_list,\n",
    "    y=GC_content\n",
    "    )\n",
    "    \n",
    "s_plot.title.text = 'S'\n",
    "show(s_plot)\n",
    "\n",
    "t_plot = bokeh.plotting.figure(\n",
    "    width=600,\n",
    "    height=600,\n",
    "    x_axis_label = \"T Frequency\",\n",
    "    y_axis_label = \"GC Content\"\n",
    "    )\n",
    "    \n",
    "t_plot.circle(\n",
    "    x=t_list,\n",
    "    y=GC_content\n",
    "    )\n",
    "    \n",
    "t_plot.title.text = 'T'\n",
    "show(t_plot)\n",
    "\n",
    "v_plot = bokeh.plotting.figure(\n",
    "    width=600,\n",
    "    height=600,\n",
    "    x_axis_label = \"V Frequency\",\n",
    "    y_axis_label = \"GC Content\"\n",
    "    )\n",
    "    \n",
    "v_plot.circle(\n",
    "    x=v_list,\n",
    "    y=GC_content\n",
    "    )\n",
    "    \n",
    "v_plot.title.text = 'V'\n",
    "show(v_plot)\n",
    "\n",
    "w_plot = bokeh.plotting.figure(\n",
    "    width=600,\n",
    "    height=600,\n",
    "    x_axis_label = \"W Frequency\",\n",
    "    y_axis_label = \"GC Content\"\n",
    "    )\n",
    "    \n",
    "w_plot.circle(\n",
    "    x=w_list,\n",
    "    y=GC_content\n",
    "    )\n",
    "    \n",
    "w_plot.title.text = 'W'\n",
    "show(w_plot)\n",
    "\n",
    "y_plot = bokeh.plotting.figure(\n",
    "    width=600,\n",
    "    height=600,\n",
    "    x_axis_label = \"Y Frequency\",\n",
    "    y_axis_label = \"GC Content\"\n",
    "    )\n",
    "    \n",
    "y_plot.circle(\n",
    "    x=y_list,\n",
    "    y=GC_content\n",
    "    )\n",
    "    \n",
    "y_plot.title.text = 'Y'\n",
    "show(y_plot)\n",
    "   "
   ]
  },
  {
   "cell_type": "code",
   "execution_count": null,
   "id": "67702ab5-1aca-4f52-a8ed-e2f6e1d2b8a9",
   "metadata": {},
   "outputs": [],
   "source": []
  }
 ],
 "metadata": {
  "kernelspec": {
   "display_name": "Python 3 (ipykernel)",
   "language": "python",
   "name": "python3"
  },
  "language_info": {
   "codemirror_mode": {
    "name": "ipython",
    "version": 3
   },
   "file_extension": ".py",
   "mimetype": "text/x-python",
   "name": "python",
   "nbconvert_exporter": "python",
   "pygments_lexer": "ipython3",
   "version": "3.9.7"
  }
 },
 "nbformat": 4,
 "nbformat_minor": 5
}
